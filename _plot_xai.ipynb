{
 "cells": [
  {
   "cell_type": "markdown",
   "metadata": {},
   "source": [
    "# Plot XAI results\n",
    "##### author: Elizabeth A. Barnes, Randal J. Barnes and Mark DeMaria\n",
    "##### version: v0.3.0"
   ]
  },
  {
   "cell_type": "code",
   "execution_count": 1,
   "metadata": {
    "tags": []
   },
   "outputs": [],
   "source": [
    "import datetime\n",
    "import os\n",
    "import pickle\n",
    "import pprint\n",
    "import time\n",
    "\n",
    "import experiment_settings\n",
    "import matplotlib as mpl\n",
    "import matplotlib.pyplot as plt\n",
    "import numpy as np\n",
    "import tensorflow as tf\n",
    "import shash_tfp\n",
    "from build_data import build_hurricane_data\n",
    "import build_model\n",
    "import model_diagnostics\n",
    "from silence_tensorflow import silence_tensorflow\n",
    "import prediction\n",
    "from sklearn.neighbors import KernelDensity\n",
    "import pandas as pd\n",
    "from tqdm import tqdm\n",
    "import imp\n",
    "\n",
    "import warnings\n",
    "warnings.filterwarnings(\"ignore\")\n",
    "\n",
    "silence_tensorflow()\n",
    "dpiFig = 400\n",
    "\n",
    "mpl.rcParams[\"figure.facecolor\"] = \"white\"\n",
    "mpl.rcParams[\"figure.dpi\"] = 150\n",
    "np.warnings.filterwarnings(\"ignore\", category=np.VisibleDeprecationWarning)"
   ]
  },
  {
   "cell_type": "code",
   "execution_count": 2,
   "metadata": {},
   "outputs": [],
   "source": [
    "__author__  = \"Randal J Barnes and Elizabeth A. Barnes\"\n",
    "__version__ = \"07 July 2022\"\n",
    "\n",
    "EXP_NAME_LIST = (\n",
    "                 # \"intensity302_EPCP48\",\n",
    "                 \"intensity202_AL48\",\n",
    "                 )\n",
    "\n",
    "PLOT_SEED_VECTOR = {\"intensity301_EPCP24\": None,\n",
    "                    \"intensity302_EPCP48\": 739,\n",
    "                    \"intensity201_AL24\": None,                    \n",
    "                    \"intensity202_AL48\": 416,\n",
    "                   }\n",
    "TESTING_YEAR_VECTOR = {\"intensity301_EPCP24\": 2020,\n",
    "                       \"intensity302_EPCP48\": 2020,\n",
    "                       \"intensity201_AL24\": 2018,                       \n",
    "                       \"intensity202_AL48\": 2018,\n",
    "                      }\n",
    "feature_names = [\n",
    "            \"NCI\",\"VMAX0\",\n",
    "            \"DSDV\", \"LGDV\", \"HWDV\", \"AVDV\",\n",
    "            \"VMXC\", \"DV12\", \"SLAT\", \"SSTN\", \"SHDC\", \"DTL\",\n",
    "        ]\n",
    "SHASH_INCS = np.arange(-160,161,1)\n",
    "OVERWRITE_METRICS = False\n",
    "DATA_PATH = \"data/\"\n",
    "MODEL_PATH = \"saved_models/\"\n",
    "METRIC_PATH = \"saved_metrics/\"\n",
    "FIGURE_PATH = \"figures/paper_figures/\""
   ]
  },
  {
   "cell_type": "markdown",
   "metadata": {},
   "source": [
    "## Functions"
   ]
  },
  {
   "cell_type": "code",
   "execution_count": 3,
   "metadata": {},
   "outputs": [],
   "source": [
    "def get_storm_details(df, isample):\n",
    "    storm = df.iloc[isample]\n",
    "    storm_name = storm['Name']\n",
    "    storm_ftime = storm['ftime(hr)']\n",
    "    storm_month = str(storm['time'])[:-4]\n",
    "    storm_day = str(storm['time'])[-4:-2]\n",
    "    storm_hour = str(storm['time'])[-2:]\n",
    "    storm_year = storm['year']\n",
    "\n",
    "    details = storm_name + ' ' + str(storm_year) + '-' + str(storm_month) + '-' + str(storm_day) + ' ' + str(storm_hour) + '00 @' + str(storm_ftime) + 'hr'\n",
    "    \n",
    "    return details"
   ]
  },
  {
   "cell_type": "code",
   "execution_count": 4,
   "metadata": {},
   "outputs": [],
   "source": [
    "FS = 16\n",
    "colors = ('#284E60','#E1A730','#D95980','#C3B1E1','#351F27','#A9C961')\n",
    "\n",
    "### for white background...\n",
    "plt.rc('text',usetex=True)\n",
    "plt.rc('font',**{'family':'sans-serif','sans-serif':['Avant Garde']}) \n",
    "plt.rc('savefig',facecolor='white')\n",
    "plt.rc('axes',facecolor='white')\n",
    "plt.rc('axes',labelcolor='dimgrey')\n",
    "plt.rc('axes',labelcolor='dimgrey')\n",
    "plt.rc('xtick',color='dimgrey')\n",
    "plt.rc('ytick',color='dimgrey')\n",
    "################################  \n",
    "################################  \n",
    "def adjust_spines(ax, spines):\n",
    "    for loc, spine in ax.spines.items():\n",
    "        if loc in spines:\n",
    "            spine.set_position(('outward', 5))\n",
    "        else:\n",
    "            spine.set_color('none')  \n",
    "    if 'left' in spines:\n",
    "        ax.yaxis.set_ticks_position('left')\n",
    "    else:\n",
    "        ax.yaxis.set_ticks([])\n",
    "    if 'bottom' in spines:\n",
    "        ax.xaxis.set_ticks_position('bottom')\n",
    "    else:\n",
    "        ax.xaxis.set_ticks([]) \n",
    "\n",
    "def format_spines(ax):\n",
    "    adjust_spines(ax, ['left', 'bottom'])\n",
    "    ax.spines['top'].set_color('none')\n",
    "    ax.spines['right'].set_color('none')\n",
    "    ax.spines['left'].set_color('dimgrey')\n",
    "    ax.spines['bottom'].set_color('dimgrey')\n",
    "    ax.spines['left'].set_linewidth(2)\n",
    "    ax.spines['bottom'].set_linewidth(2)\n",
    "    ax.tick_params('both',length=4,width=2,which='major',color='dimgrey')\n",
    "#     ax.yaxis.grid(zorder=1,color='dimgrey',alpha=0.35)    \n",
    "    "
   ]
  },
  {
   "cell_type": "code",
   "execution_count": 5,
   "metadata": {},
   "outputs": [],
   "source": [
    "def get_predictions(model, x_eval):\n",
    "    runs = 5_000\n",
    "    shash_cpd = np.zeros((np.shape(x_eval)[0],len(SHASH_INCS)))\n",
    "    shash_med = np.zeros((np.shape(x_eval)[0],))\n",
    "    mc_cpd = np.zeros((np.shape(x_eval)[0],runs))\n",
    "    tf.random.set_seed(network_seed)\n",
    "\n",
    "    if settings[\"uncertainty_type\"] == \"bnn\":               \n",
    "        for i in tqdm(range(0,runs)):\n",
    "            mc_cpd[:,i] = np.reshape(model.predict(x_eval),np.shape(mc_cpd)[0])\n",
    "        return mc_cpd, np.median(mc_cpd,axis=1)\n",
    "    \n",
    "    elif settings[\"uncertainty_type\"] == \"mcdrop\":  \n",
    "        # loop through runs for mcdrop calculation  \n",
    "        for i in tqdm(range(0,runs)):\n",
    "            mc_cpd[:,i] = np.reshape(model(x_eval,training=True),np.shape(mc_cpd)[0])    \n",
    "        return mc_cpd, np.median(mc_cpd,axis=1)\n",
    "    \n",
    "    elif settings[\"uncertainty_type\"][:5] == \"shash\": \n",
    "        # loop through samples for shash calculation and get PDF for each sample\n",
    "        for j in tqdm(range(0,np.shape(shash_cpd)[0])):\n",
    "            mu_pred, sigma_pred, gamma_pred, tau_pred = prediction.params( x_eval[np.newaxis,j], model )\n",
    "            dist = shash_tfp.Shash(mu_pred, sigma_pred, gamma_pred, tau_pred)\n",
    "            shash_cpd[j,:] = dist.prob(SHASH_INCS)    \n",
    "            shash_med[j]   = dist.median()\n",
    "        return shash_cpd, shash_med\n",
    "    \n",
    "    else:\n",
    "        raise NotImplementedError('no such uncertainty type')\n"
   ]
  },
  {
   "cell_type": "markdown",
   "metadata": {
    "tags": []
   },
   "source": [
    "## Compute Metrics"
   ]
  },
  {
   "cell_type": "code",
   "execution_count": 6,
   "metadata": {
    "tags": []
   },
   "outputs": [
    {
     "name": "stderr",
     "output_type": "stream",
     "text": [
      "100%|██████████| 243/243 [00:04<00:00, 49.00it/s]\n"
     ]
    }
   ],
   "source": [
    "for exp_name in EXP_NAME_LIST:\n",
    "    settings = experiment_settings.get_settings(exp_name)\n",
    "\n",
    "    TESTING_YEARS = TESTING_YEAR_VECTOR[exp_name]\n",
    "    settings[\"years_test\"] = (TESTING_YEARS,)\n",
    "    \n",
    "    RNG_SEED = PLOT_SEED_VECTOR[exp_name]\n",
    "    settings['rng_seed'] = RNG_SEED\n",
    "    seed_dict = {}\n",
    "    \n",
    "    NETWORK_SEED_LIST = [settings[\"rng_seed\"]]\n",
    "    network_seed = NETWORK_SEED_LIST[0]\n",
    "    tf.random.set_seed(network_seed)  # This sets the global random seed.  \n",
    "\n",
    "    #----------------------------------------------------------------------------------------------------\n",
    "    # get the data\n",
    "    (\n",
    "        data_summary,        \n",
    "        x_train,\n",
    "        onehot_train,\n",
    "        x_val,\n",
    "        onehot_val,\n",
    "        x_test,\n",
    "        onehot_test,        \n",
    "        x_valtest,\n",
    "        onehot_valtest,\n",
    "        df_train,\n",
    "        df_val,\n",
    "        df_test,\n",
    "        df_valtest,\n",
    "    ) = build_hurricane_data(DATA_PATH, settings, verbose=0)\n",
    "\n",
    "    #----------------------------------------------------------------------------------------------------\n",
    "    # get the model\n",
    "    # Make, compile, and train the model\n",
    "    tf.keras.backend.clear_session()            \n",
    "    model = build_model.make_model(\n",
    "        settings,\n",
    "        x_train,\n",
    "        onehot_train,\n",
    "        model_compile=False,\n",
    "    )   \n",
    "    model_name = (\n",
    "        exp_name + \"_\" + \n",
    "        str(TESTING_YEARS) + '_' +\n",
    "        settings[\"uncertainty_type\"] + '_' + \n",
    "        f\"network_seed_{network_seed}_rng_seed_{settings['rng_seed']}\"\n",
    "    )\n",
    "\n",
    "    try:\n",
    "        model.load_weights(MODEL_PATH + model_name + \"_weights.h5\")\n",
    "    except:\n",
    "        print(model_name + ': model does not exist. skipping...')\n",
    "        continue\n",
    "\n",
    "    pred_cpd_test = get_predictions(model, x_test)\n",
    "        \n",
    "    "
   ]
  },
  {
   "cell_type": "code",
   "execution_count": 7,
   "metadata": {},
   "outputs": [],
   "source": [
    "def quick_plot(pred_cpd_test, sample):\n",
    "    plt.figure(figsize=(2,2))\n",
    "    plt.plot(SHASH_INCS, pred_cpd_test[0][sample,:])\n",
    "    plt.axvline(x=pred_cpd_test[1][sample],linestyle='--',color='red')\n",
    "    plt.xlim(-45,45)\n",
    "    plt.show()"
   ]
  },
  {
   "cell_type": "markdown",
   "metadata": {},
   "source": [
    "## Importance"
   ]
  },
  {
   "cell_type": "code",
   "execution_count": 8,
   "metadata": {},
   "outputs": [],
   "source": [
    "norm_mean = model.layers[1].get_weights()[0]\n",
    "norm_var = model.layers[1].get_weights()[1]\n",
    "norm_std = np.sqrt(norm_var)"
   ]
  },
  {
   "cell_type": "markdown",
   "metadata": {
    "tags": []
   },
   "source": [
    "### Feature Importance (setting to the mean)"
   ]
  },
  {
   "cell_type": "code",
   "execution_count": 9,
   "metadata": {},
   "outputs": [
    {
     "data": {
      "text/plain": "(12, 3)"
     },
     "execution_count": 9,
     "metadata": {},
     "output_type": "execute_result"
    }
   ],
   "source": [
    "feature_importance = np.empty((x_test.shape[0],12,3))\n",
    "mu_pred, sigma_pred, gamma_pred, tau_pred = prediction.params( x_test, model )    \n",
    "\n",
    "for ifeature in range(x_test.shape[1]):\n",
    "    x_input = np.copy(x_test)\n",
    "    x_input[:,ifeature] = norm_mean[ifeature]\n",
    "\n",
    "    (mu_pred_perturb, \n",
    "     sigma_pred_perturb, \n",
    "     gamma_pred_perturb, \n",
    "     tau_pred_perturb) = prediction.params( x_input, model )\n",
    "    feature_importance[:,ifeature,0] = mu_pred_perturb-mu_pred\n",
    "    feature_importance[:,ifeature,1] = sigma_pred_perturb-sigma_pred\n",
    "    feature_importance[:,ifeature,2] = gamma_pred_perturb-gamma_pred\n",
    "    \n",
    "mean_feature_importance=np.mean(np.abs(feature_importance),axis=0)\n",
    "mean_feature_importance.shape        "
   ]
  },
  {
   "cell_type": "code",
   "execution_count": 10,
   "metadata": {},
   "outputs": [
    {
     "data": {
      "text/plain": "<Figure size 648x504 with 3 Axes>",
      "image/png": "[encoded data removed]"
     },
     "metadata": {
      "needs_background": "light"
     },
     "output_type": "display_data"
    }
   ],
   "source": [
    "colors = ('#284E60','#C3B1E1','#D95980','#C3B1E1',)\n",
    "param_names = ('MU','SIGMA','GAMMA')\n",
    "fig, axs = plt.subplots(1,3,figsize=(9,7))\n",
    "for iparam in range(len(param_names)):\n",
    "    ax = axs[iparam]\n",
    "    ax.barh(range(mean_feature_importance.shape[0]),\n",
    "            mean_feature_importance[:,iparam]/mean_feature_importance[:,iparam].max(),\n",
    "            color=colors[iparam],\n",
    "           )\n",
    "    format_spines(ax)    \n",
    "    ax.set_yticks(range(mean_feature_importance.shape[0]),\n",
    "                  feature_names,\n",
    "                  fontsize=14,\n",
    "                 )\n",
    "    ax.set_title(param_names[iparam],fontsize=22)\n",
    "    xvals = ax.get_xticks()\n",
    "    ax.set_xticks(xvals,xvals.round(1))\n",
    "    ax.set_xlim(0,1)\n",
    "    ax.grid(False)\n",
    "\n",
    "plt.suptitle('Feature Importance',fontsize=30)\n",
    "plt.tight_layout()\n",
    "plt.savefig(FIGURE_PATH + 'featureImportance_' + model_name + '.png', dpi=dpiFig)    \n",
    "plt.show()"
   ]
  },
  {
   "cell_type": "markdown",
   "metadata": {
    "tags": []
   },
   "source": [
    "### Permutation Importance"
   ]
  },
  {
   "cell_type": "code",
   "execution_count": 11,
   "metadata": {},
   "outputs": [
    {
     "data": {
      "text/plain": "(12, 3)"
     },
     "execution_count": 11,
     "metadata": {},
     "output_type": "execute_result"
    }
   ],
   "source": [
    "rng = np.random.default_rng(7888)\n",
    "perm_importance = np.empty((5, x_test.shape[0],12,3))\n",
    "\n",
    "mu_pred, sigma_pred, gamma_pred, tau_pred = prediction.params( x_test, model )    \n",
    "for loop in range(5):\n",
    "    for ifeature in range(x_input.shape[1]):\n",
    "        x_input = np.copy(x_test)\n",
    "        x_input[:,ifeature] = rng.choice(x_input[:,ifeature],x_input.shape[0],replace=False)\n",
    "\n",
    "        (mu_pred_perturb, \n",
    "         sigma_pred_perturb, \n",
    "         gamma_pred_perturb, \n",
    "         tau_pred_perturb) = prediction.params( x_input, model )\n",
    "        perm_importance[loop,:,ifeature,0] = mu_pred_perturb-mu_pred\n",
    "        perm_importance[loop,:,ifeature,1] = sigma_pred_perturb-sigma_pred\n",
    "        perm_importance[loop,:,ifeature,2] = gamma_pred_perturb-gamma_pred\n",
    "        \n",
    "mean_perm_importance=np.mean(np.mean(np.abs(perm_importance),axis=1),axis=0)\n",
    "mean_perm_importance.shape        "
   ]
  },
  {
   "cell_type": "code",
   "execution_count": 12,
   "metadata": {},
   "outputs": [
    {
     "data": {
      "text/plain": "<Figure size 648x504 with 3 Axes>",
      "image/png": "[encoded data removed]"
     },
     "metadata": {
      "needs_background": "light"
     },
     "output_type": "display_data"
    }
   ],
   "source": [
    "colors = ('#284E60','#C3B1E1','#D95980','#C3B1E1',)\n",
    "param_names = ('MU','SIGMA','GAMMA')\n",
    "fig, axs = plt.subplots(1,3,figsize=(9,7))\n",
    "for iparam in range(len(param_names)):\n",
    "    ax = axs[iparam]\n",
    "    ax.barh(range(mean_perm_importance.shape[0]),\n",
    "            mean_perm_importance[:,iparam]/mean_perm_importance[:,iparam].max(),\n",
    "            color=colors[iparam],\n",
    "           )\n",
    "    format_spines(ax)    \n",
    "    ax.set_yticks(range(mean_perm_importance.shape[0]),\n",
    "                  feature_names,\n",
    "                  fontsize=14,\n",
    "                 )\n",
    "    ax.set_title(param_names[iparam],fontsize=22)\n",
    "    xvals = ax.get_xticks()\n",
    "    ax.set_xticks(xvals,xvals.round(1))\n",
    "    ax.set_xlim(0,1)\n",
    "    ax.grid(False)\n",
    "\n",
    "plt.suptitle('Permutation Importance',fontsize=30)\n",
    "plt.tight_layout()\n",
    "plt.savefig(FIGURE_PATH + 'permutationImportance_' + model_name + '.png', dpi=dpiFig)    \n",
    "plt.show()"
   ]
  },
  {
   "cell_type": "markdown",
   "metadata": {},
   "source": [
    "## Gradient for XAI"
   ]
  },
  {
   "cell_type": "code",
   "execution_count": 13,
   "metadata": {
    "tags": []
   },
   "outputs": [],
   "source": [
    "def get_gradients(model, inputs, top_pred_idx=None):\n",
    "    \"\"\"Computes the gradients of outputs w.r.t input image.\n",
    "\n",
    "    Args:\n",
    "        inputs: 2D/3D/4D matrix of samples\n",
    "        top_pred_idx: (optional) Predicted label for the x_data\n",
    "                      if classification problem. If regression,\n",
    "                      do not include.\n",
    "\n",
    "    Returns:\n",
    "        Gradients of the predictions w.r.t img_input\n",
    "    \"\"\"\n",
    "    inputs = tf.cast(inputs, tf.float32)\n",
    "\n",
    "    with tf.GradientTape() as tape:\n",
    "        tape.watch(inputs)\n",
    "        \n",
    "        # Run the forward pass of the layer and record operations\n",
    "        # on GradientTape.\n",
    "        preds = model(inputs, training=False)  \n",
    "        \n",
    "        # For classification, grab the top class\n",
    "        if top_pred_idx is not None:\n",
    "            preds = preds[:, top_pred_idx]\n",
    "        \n",
    "    # Use the gradient tape to automatically retrieve\n",
    "    # the gradients of the trainable variables with respect to the loss.        \n",
    "    grads = tape.gradient(preds, inputs)\n",
    "    return grads\n"
   ]
  },
  {
   "cell_type": "code",
   "execution_count": 14,
   "metadata": {},
   "outputs": [
    {
     "data": {
      "text/plain": "(243, 12, 3)"
     },
     "execution_count": 14,
     "metadata": {},
     "output_type": "execute_result"
    }
   ],
   "source": [
    "NORM = False\n",
    "\n",
    "if NORM:\n",
    "    raise Warning(\"something is wrong here, might need to re-compile the model?\")\n",
    "    model_nonorm = tf.keras.models.clone_model(model)\n",
    "    w = model_nonorm.layers[1].get_weights()\n",
    "    model_nonorm.layers[1].set_weights([np.zeros(np.shape(norm_mean)).astype('float32'),\n",
    "                                        np.ones(np.shape(norm_mean)).astype('float32'),\n",
    "                                        w[-1]]\n",
    "                                      )\n",
    "\n",
    "    grads = np.zeros((np.shape(x_test)[0],np.shape(x_test)[1],3))\n",
    "    grads[:,:,0] = get_gradients(model_nonorm,(x_test-norm_mean)/norm_std,0).numpy()\n",
    "    grads[:,:,1] = get_gradients(model_nonorm,(x_test-norm_mean)/norm_std,1).numpy()\n",
    "    grads[:,:,2] = get_gradients(model_nonorm,(x_test-norm_mean)/norm_std,2).numpy()\n",
    "    \n",
    "else:    \n",
    "    grads = np.zeros((np.shape(x_test)[0],np.shape(x_test)[1],3))\n",
    "    grads[:,:,0] = get_gradients(model,x_test,0).numpy()\n",
    "    grads[:,:,1] = get_gradients(model,x_test,1).numpy()\n",
    "    grads[:,:,2] = get_gradients(model,x_test,2).numpy()\n",
    "    \n",
    "mean_grads = np.mean(np.abs(grads),axis=0)*norm_std[:,np.newaxis]\n",
    "np.shape(grads)"
   ]
  },
  {
   "cell_type": "code",
   "execution_count": 15,
   "metadata": {},
   "outputs": [
    {
     "data": {
      "text/plain": "<Figure size 648x504 with 3 Axes>",
      "image/png": "[encoded data removed]"
     },
     "metadata": {
      "needs_background": "light"
     },
     "output_type": "display_data"
    }
   ],
   "source": [
    "# dpred/dfeature = dpred/(1 SST K) = dpred * 1/(1K) * (19K / 1_sigma) \n",
    "\n",
    "colors = ('#284E60','#C3B1E1','#D95980','#C3B1E1',)\n",
    "param_names = ('MU','SIGMA','GAMMA')\n",
    "fig, axs = plt.subplots(1,3,figsize=(9,7))\n",
    "for iparam in range(len(param_names)):\n",
    "    ax = axs[iparam]\n",
    "    ax.barh(range(mean_grads.shape[0]),\n",
    "            mean_grads[:,iparam]/mean_grads[:,iparam].max(),            \n",
    "            color=colors[iparam],\n",
    "           )\n",
    "    format_spines(ax)    \n",
    "    ax.set_yticks(range(mean_grads.shape[0]),\n",
    "                  feature_names,\n",
    "                  fontsize=14,\n",
    "                 )\n",
    "    ax.set_title(param_names[iparam],fontsize=22)\n",
    "    xvals = ax.get_xticks()\n",
    "    ax.set_xticks(xvals,xvals.round(1))\n",
    "    ax.set_xlim(0,1)\n",
    "    ax.grid(False)\n",
    "\n",
    "plt.suptitle('Gradient',fontsize=30)\n",
    "plt.tight_layout()\n",
    "plt.savefig(FIGURE_PATH + 'gradient_' + model_name + '.png', dpi=dpiFig)    \n",
    "plt.show()"
   ]
  },
  {
   "cell_type": "markdown",
   "metadata": {},
   "source": [
    "## Case Studies"
   ]
  },
  {
   "cell_type": "code",
   "execution_count": 16,
   "outputs": [
    {
     "data": {
      "text/plain": "0       ERNESTO\n1        LESLIE\n2         ISAAC\n3        HELENE\n4        LESLIE\n         ...   \n238    FLORENCE\n239       ISAAC\n240      HELENE\n241       CHRIS\n242      LESLIE\nName: Name, Length: 243, dtype: object"
     },
     "execution_count": 16,
     "metadata": {},
     "output_type": "execute_result"
    }
   ],
   "source": [
    "df_test['Name']"
   ],
   "metadata": {
    "collapsed": false
   }
  },
  {
   "cell_type": "code",
   "execution_count": 17,
   "metadata": {},
   "outputs": [],
   "source": [
    "if exp_name == \"intensity302_EPCP48\":\n",
    "    sample = 83\n",
    "    panel_letter = '(b)'\n",
    "    df_test[df_test['Name']=='MARIE']\n",
    "\n",
    "elif exp_name == \"intensity202_AL48\":\n",
    "    sample = 175\n",
    "    panel_letter = '(a)'\n",
    "    df_test[df_test['Name']=='MICHAEL']\n",
    "else:\n",
    "    raise NotImplementedError('no such details for specific storm in the current experiment')\n",
    "\n"
   ]
  },
  {
   "cell_type": "code",
   "execution_count": 18,
   "metadata": {},
   "outputs": [
    {
     "name": "stdout",
     "output_type": "stream",
     "text": [
      "(243, 12, 3)\n",
      "(12, 3)\n"
     ]
    }
   ],
   "source": [
    "details = get_storm_details(df_test,sample)\n",
    "print(grads.shape)\n",
    "sample_grad = grads[sample,:,:]*norm_std[:,np.newaxis]\n",
    "# sample_grad = grads[sample,:,:]*x_test[sample,:][:,np.newaxis]\n",
    "print(sample_grad.shape)"
   ]
  },
  {
   "cell_type": "code",
   "execution_count": 19,
   "metadata": {},
   "outputs": [
    {
     "data": {
      "text/plain": "['NCI',\n 'VMAX0',\n 'DSDV',\n 'LGDV',\n 'HWDV',\n 'AVDV',\n 'VMXC',\n 'DV12',\n 'SLAT',\n 'SSTN',\n 'SHDC',\n 'DTL']"
     },
     "execution_count": 19,
     "metadata": {},
     "output_type": "execute_result"
    }
   ],
   "source": [
    "feature_names"
   ]
  },
  {
   "cell_type": "code",
   "execution_count": 20,
   "metadata": {},
   "outputs": [
    {
     "data": {
      "text/plain": "['NCI',\n 'VMAX0',\n 'DSHP',\n 'LGEM',\n 'HWFI',\n 'GFSI',\n 'VMXC',\n 'DV12',\n 'SLAT',\n 'SSTN',\n 'SHDC',\n 'DTL']"
     },
     "metadata": {},
     "output_type": "display_data"
    }
   ],
   "source": [
    "import copy\n",
    "feature_names_plot = copy.deepcopy(feature_names)\n",
    "feature_names_plot = [s.replace('LGDV', 'LGEM') for s in feature_names_plot]\n",
    "feature_names_plot = [s.replace('HWDV', 'HWFI') for s in feature_names_plot]\n",
    "feature_names_plot = [s.replace('DSDV', 'DSHP') for s in feature_names_plot]\n",
    "feature_names_plot = [s.replace('AVDV', 'GFSI') for s in feature_names_plot]\n",
    "\n",
    "display(feature_names_plot)"
   ]
  },
  {
   "cell_type": "code",
   "execution_count": 21,
   "metadata": {},
   "outputs": [
    {
     "data": {
      "text/plain": "<Figure size 648x504 with 3 Axes>",
      "image/png": "[encoded data removed]"
     },
     "metadata": {
      "needs_background": "light"
     },
     "output_type": "display_data"
    }
   ],
   "source": [
    "# dpred/dfeature = dpred/(1 SST K) = dpred * 1/(1K) * (19K / 1_sigma) \n",
    "\n",
    "colors = ('#284E60','#C3B1E1','#D95980','#C3B1E1',)\n",
    "param_names = ('MU','SIGMA','GAMMA')\n",
    "fig, axs = plt.subplots(1,3,figsize=(9,7))\n",
    "for iparam in range(len(param_names)):\n",
    "    ax = axs[iparam]\n",
    "    ax.barh(range(sample_grad.shape[0]),\n",
    "            sample_grad[:,iparam],\n",
    "            color=colors[iparam],\n",
    "           )\n",
    "    ax.axvline(x=0,\n",
    "                linewidth=.5,\n",
    "                color='gray',\n",
    "               )\n",
    "    format_spines(ax)    \n",
    "    ax.set_yticks(range(sample_grad.shape[0]),\n",
    "                  feature_names_plot,\n",
    "                  fontsize=14,\n",
    "                 )\n",
    "    ax.set_title(param_names[iparam],fontsize=22)\n",
    "    xvals = ax.get_xticks()\n",
    "    ax.set_xticks(xvals,xvals.round(1))\n",
    "    # ax.set_xlim(0,1)\n",
    "    ax.grid(False)\n",
    "\n",
    "    ax.set_xticks([])\n",
    "    ax.set_xlabel('gradient')\n",
    "\n",
    "plt.suptitle(panel_letter + ' ' + details,fontsize=26)\n",
    "# plt.suptitle('Gradient for sample \\#' + str(sample),fontsize=30)\n",
    "plt.tight_layout()\n",
    "plt.savefig(FIGURE_PATH + 'gradient_' + model_name + '_sample' + str(sample) + '.png', dpi=dpiFig)    \n",
    "plt.show()"
   ]
  },
  {
   "cell_type": "code",
   "execution_count": 21,
   "metadata": {},
   "outputs": [],
   "source": []
  },
  {
   "cell_type": "code",
   "execution_count": 21,
   "outputs": [],
   "source": [],
   "metadata": {
    "collapsed": false
   }
  }
 ],
 "metadata": {
  "kernelspec": {
   "display_name": "Python 3 (ipykernel)",
   "language": "python",
   "name": "python3"
  },
  "language_info": {
   "codemirror_mode": {
    "name": "ipython",
    "version": 3
   },
   "file_extension": ".py",
   "mimetype": "text/x-python",
   "name": "python",
   "nbconvert_exporter": "python",
   "pygments_lexer": "ipython3",
   "version": "3.9.7"
  }
 },
 "nbformat": 4,
 "nbformat_minor": 4
}
