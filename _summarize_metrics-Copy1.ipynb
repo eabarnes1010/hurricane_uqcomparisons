{
 "cells": [
  {
   "cell_type": "markdown",
   "metadata": {},
   "source": [
    "# Compute metrics for different runs and plot them\n",
    "##### author: Elizabeth A. Barnes, Randal J. Barnes and Mark DeMaria\n",
    "##### version: v0.1.0\n",
    "##### date: 14 December 2021\n",
    "\n",
    "```\n",
    "conda create --name env-hurr-tfp python=3.9\n",
    "conda activate env-hurr-tfp\n",
    "pip install tensorflow==2.7.0\n",
    "pip install tensorflow-probability==0.15.0\n",
    "pip install --upgrade numpy scipy pandas statsmodels matplotlib seaborn \n",
    "pip install --upgrade palettable progressbar2 tabulate icecream flake8\n",
    "pip install --upgrade keras-tuner sklearn\n",
    "pip install --upgrade jupyterlab black isort jupyterlab_code_formatter\n",
    "pip install silence-tensorflow\n",
    "pip install tqdm\n",
    "```\n",
    "\n",
    "Use the command\n",
    "```python -m pip freeze > requirements.txt```\n",
    "to make a pip installation list."
   ]
  },
  {
   "cell_type": "code",
   "execution_count": 1,
   "metadata": {
    "tags": []
   },
   "outputs": [],
   "source": [
    "import datetime\n",
    "import os\n",
    "import pickle\n",
    "import pprint\n",
    "import time\n",
    "\n",
    "import experiment_settings\n",
    "import matplotlib as mpl\n",
    "import matplotlib.pyplot as plt\n",
    "import numpy as np\n",
    "import tensorflow as tf\n",
    "import shash\n",
    "from build_data import build_hurricane_data\n",
    "from build_model import build_shash_model, build_bnn_model\n",
    "import model_diagnostics\n",
    "from silence_tensorflow import silence_tensorflow\n",
    "import prediction\n",
    "from sklearn.neighbors import KernelDensity\n",
    "import pandas as pd\n",
    "from tqdm import tqdm\n",
    "\n",
    "import warnings\n",
    "warnings.filterwarnings(\"ignore\")\n",
    "\n",
    "silence_tensorflow()\n",
    "dpiFig = 400"
   ]
  },
  {
   "cell_type": "code",
   "execution_count": 2,
   "metadata": {},
   "outputs": [],
   "source": [
    "__author__ = \"Randal J Barnes and Elizabeth A. Barnes\"\n",
    "__version__ = \"17 January 2022\"\n",
    "\n",
    "EXP_NAME_LIST = (\n",
    "                 \"intensity8_AL96\",\n",
    "                 \"intensity9_AL96\",\n",
    "                 \"intensity10_EPCP96\",\n",
    "                 \"intensity11_EPCP96\",\n",
    "                 \"intensity0_AL72\",\n",
    "                 \"intensity1_AL72\",\n",
    "                 \"intensity4_EPCP72\",\n",
    "                 \"intensity5_EPCP72\",\n",
    "                 \"intensity12_AL48\",\n",
    "                 \"intensity13_AL48\",    \n",
    "                 \"intensity2_EPCP48\",\n",
    "                 \"intensity3_EPCP48\",\n",
    "                )\n",
    "APPEND_NAME = ''\n",
    "\n",
    "# EXP_NAME_LIST = (\n",
    "                 # \"intensity204_AL72\",\n",
    "                 # \"intensity205_AL72\",\n",
    "                 # \"intensity202_EPCP72\",\n",
    "                 # \"intensity203_EPCP72\",            \n",
    "                 # \"intensity206_AL48\",\n",
    "                 # \"intensity207_AL48\",\n",
    "                 # \"intensity200_EPCP48\",\n",
    "                 # \"intensity201_EPCP48\",    \n",
    "                # )\n",
    "# APPEND_NAME = '_clusterExtrapolation'\n",
    "\n",
    "\n",
    "\n",
    "OVERWRITE_METRICS = True\n",
    "DATA_PATH = \"data/\"\n",
    "MODEL_PATH = \"saved_models/\"\n",
    "METRIC_PATH = \"model_metrics/\"\n",
    "FIGURE_PATH = \"figures/summary_plots/\""
   ]
  },
  {
   "cell_type": "code",
   "execution_count": 3,
   "metadata": {},
   "outputs": [],
   "source": [
    "mpl.rcParams[\"figure.facecolor\"] = \"white\"\n",
    "mpl.rcParams[\"figure.dpi\"] = 150\n",
    "np.warnings.filterwarnings(\"ignore\", category=np.VisibleDeprecationWarning)"
   ]
  },
  {
   "cell_type": "markdown",
   "metadata": {},
   "source": [
    "## Define get_metrics()"
   ]
  },
  {
   "cell_type": "code",
   "execution_count": 4,
   "metadata": {
    "tags": []
   },
   "outputs": [],
   "source": [
    "def get_metrics():\n",
    "    tf.random.set_seed(network_seed)\n",
    "    shash_incs = np.arange(-160,161,1)\n",
    "\n",
    "    if settings[\"uncertainty_type\"] == \"bnn\":       \n",
    "        # loop through runs for bnn calculation    \n",
    "        runs = 5_000\n",
    "        bins_plot = np.linspace(np.min(shash_incs), np.max(shash_incs), 1000)\n",
    "        bnn_cpd = np.zeros((np.shape(x_eval)[0],runs))\n",
    "        bnn_mode = np.zeros((np.shape(x_eval)[0],))\n",
    "\n",
    "        for i in tqdm(range(0,runs)):\n",
    "            bnn_cpd[:,i] = np.reshape(model_bnn.predict(x_eval),np.shape(bnn_cpd)[0])\n",
    "        bnn_mean = np.mean(bnn_cpd,axis=1)\n",
    "        bnn_median = np.median(bnn_cpd,axis=1)\n",
    "\n",
    "        for j in tqdm(range(0,np.shape(bnn_mode)[0])):\n",
    "            kde = KernelDensity(kernel=\"gaussian\", bandwidth=4.).fit(bnn_cpd[j,:].reshape(-1,1))\n",
    "            log_dens = kde.score_samples(bins_plot.reshape(-1,1))\n",
    "            i = np.argmax(log_dens)\n",
    "            bnn_mode[j] = bins_plot[i]\n",
    "\n",
    "        mean_error, median_error, mode_error = model_diagnostics.compute_errors(onehot_eval, bnn_mean, bnn_median, bnn_mode)         \n",
    "        bins, hist_bnn, pit_D, EDp_bnn = model_diagnostics.compute_pit('bnn',onehot_eval, bnn_cpd)\n",
    "        iqr_capture = model_diagnostics.compute_interquartile_capture('bnn',onehot_eval, bnn_cpd)\n",
    "        iqr_error_spearman, iqr_error_pearson = model_diagnostics.compute_iqr_error_corr('bnn',\n",
    "                                                                                          onehot_val=onehot_eval, \n",
    "                                                                                          bnn_cpd=bnn_cpd, \n",
    "                                                                                          pred_median=bnn_median,\n",
    "                                                                                         )\n",
    "        \n",
    "    else:        \n",
    "        shash_cpd = np.zeros((np.shape(x_eval)[0],len(shash_incs)))\n",
    "        shash_mean = np.zeros((np.shape(x_eval)[0],))\n",
    "        shash_med = np.zeros((np.shape(x_eval)[0],))\n",
    "        shash_mode = np.zeros((np.shape(x_eval)[0],))\n",
    "\n",
    "        # loop through samples for shash calculation and get PDF for each sample\n",
    "        for j in tqdm(range(0,np.shape(shash_cpd)[0])):\n",
    "            mu_pred, sigma_pred, gamma_pred, tau_pred = prediction.params( x_eval[np.newaxis,j], model_shash )\n",
    "            shash_cpd[j,:] = shash.prob(shash_incs, mu_pred, sigma_pred, gamma_pred, tau_pred)    \n",
    "            shash_mean[j]  = shash.mean(mu_pred,sigma_pred,gamma_pred,tau_pred)#np.sum(shash_cpd[j,:]*shash_incs)\n",
    "            shash_med[j]   = shash.median(mu_pred,sigma_pred,gamma_pred,tau_pred)\n",
    "\n",
    "            i = np.argmax(shash_cpd[j,:])\n",
    "            shash_mode[j]  = shash_incs[i]\n",
    "\n",
    "        mean_error, median_error, mode_error = model_diagnostics.compute_errors(onehot_eval, shash_mean, shash_med, shash_mode)    \n",
    "        bins, hist_shash, pit_D, EDp_shash = model_diagnostics.compute_pit('shash',onehot_eval, x_val=x_eval,model_shash=model_shash)\n",
    "        iqr_capture = model_diagnostics.compute_interquartile_capture('shash',onehot_eval, x_val=x_eval,model_shash=model_shash)\n",
    "        iqr_error_spearman, iqr_error_pearson = model_diagnostics.compute_iqr_error_corr('shash',\n",
    "                                                                                                onehot_val=onehot_eval,\n",
    "                                                                                                pred_median=shash_med,\n",
    "                                                                                                x_val=x_eval,\n",
    "                                                                                                model_shash=model_shash,\n",
    "                                                                                               )\n",
    "\n",
    "    # by definition Consensus is a correction of zero\n",
    "    cons_error = np.mean(np.abs(0.0 - onehot_eval[:,0]))\n",
    "        \n",
    "    return mean_error,median_error,mode_error,pit_D,iqr_capture,cons_error,iqr_error_spearman,iqr_error_pearson\n"
   ]
  },
  {
   "cell_type": "markdown",
   "metadata": {},
   "source": [
    "## Evaluate the models"
   ]
  },
  {
   "cell_type": "code",
   "execution_count": 5,
   "metadata": {},
   "outputs": [],
   "source": [
    "# raise ValueError('do not compute metrics yet')"
   ]
  },
  {
   "cell_type": "code",
   "execution_count": 6,
   "metadata": {
    "tags": []
   },
   "outputs": [
    {
     "name": "stdout",
     "output_type": "stream",
     "text": [
      "'intensity8_AL96_shash3_network_seed_605_rng_seed_605'\n"
     ]
    },
    {
     "name": "stderr",
     "output_type": "stream",
     "text": [
      "100%|█████████████████████████████████████████████████████████████████████████████████████████████████████████████████| 300/300 [00:03<00:00, 76.05it/s]\n"
     ]
    },
    {
     "name": "stdout",
     "output_type": "stream",
     "text": [
      "{'cons_error': 13.256,\n",
      " 'exp_name': 'intensity8_AL96',\n",
      " 'iqr_capture': 0.56,\n",
      " 'iqr_error_pearson': 0.07677067460018999,\n",
      " 'iqr_error_pearson_p': 0.18480199042844817,\n",
      " 'iqr_error_spearman': -0.0037178203261661615,\n",
      " 'iqr_error_spearman_p': 0.9488699535645244,\n",
      " 'mean_error': 13.912250697463751,\n",
      " 'median_error': 13.431230440785487,\n",
      " 'mode_error': 13.608666662524143,\n",
      " 'network_seed': 605,\n",
      " 'pit_d': 0.025819870350582474,\n",
      " 'rng_seed': 605,\n",
      " 'uncertainty_type': 'shash3'}\n",
      "'intensity8_AL96_shash3_network_seed_122_rng_seed_122'\n"
     ]
    },
    {
     "name": "stderr",
     "output_type": "stream",
     "text": [
      "100%|█████████████████████████████████████████████████████████████████████████████████████████████████████████████████| 300/300 [00:03<00:00, 78.39it/s]\n"
     ]
    },
    {
     "name": "stdout",
     "output_type": "stream",
     "text": [
      "{'cons_error': 13.905667,\n",
      " 'exp_name': 'intensity8_AL96',\n",
      " 'iqr_capture': 0.4266666666666667,\n",
      " 'iqr_error_pearson': 0.44987226593775764,\n",
      " 'iqr_error_pearson_p': 2.3607345387098984e-16,\n",
      " 'iqr_error_spearman': 0.45222500560072587,\n",
      " 'iqr_error_spearman_p': 1.5791867161828154e-16,\n",
      " 'mean_error': 14.377890497843424,\n",
      " 'median_error': 13.974807382424672,\n",
      " 'mode_error': 14.21166668454806,\n",
      " 'network_seed': 122,\n",
      " 'pit_d': 0.017448326213974033,\n",
      " 'rng_seed': 122,\n",
      " 'uncertainty_type': 'shash3'}\n",
      "'intensity8_AL96_shash3_network_seed_786_rng_seed_786'\n"
     ]
    },
    {
     "name": "stderr",
     "output_type": "stream",
     "text": [
      "100%|█████████████████████████████████████████████████████████████████████████████████████████████████████████████████| 300/300 [00:03<00:00, 76.84it/s]\n"
     ]
    },
    {
     "name": "stdout",
     "output_type": "stream",
     "text": [
      "{'cons_error': 13.56,\n",
      " 'exp_name': 'intensity8_AL96',\n",
      " 'iqr_capture': 0.5266666666666666,\n",
      " 'iqr_error_pearson': 0.40870309826301887,\n",
      " 'iqr_error_pearson_p': 1.6567334413448126e-13,\n",
      " 'iqr_error_spearman': 0.41899043322703583,\n",
      " 'iqr_error_spearman_p': 3.499134207169837e-14,\n",
      " 'mean_error': 13.15499611919125,\n",
      " 'median_error': 13.225536779711645,\n",
      " 'mode_error': 14.391999988208214,\n",
      " 'network_seed': 786,\n",
      " 'pit_d': 0.02534207323691734,\n",
      " 'rng_seed': 786,\n",
      " 'uncertainty_type': 'shash3'}\n",
      "'intensity8_AL96_shash3_network_seed_311_rng_seed_311'\n"
     ]
    },
    {
     "name": "stderr",
     "output_type": "stream",
     "text": [
      "100%|█████████████████████████████████████████████████████████████████████████████████████████████████████████████████| 300/300 [00:03<00:00, 76.12it/s]\n"
     ]
    },
    {
     "name": "stdout",
     "output_type": "stream",
     "text": [
      "{'cons_error': 13.39,\n",
      " 'exp_name': 'intensity8_AL96',\n",
      " 'iqr_capture': 0.5533333333333333,\n",
      " 'iqr_error_pearson': 0.19133334477436992,\n",
      " 'iqr_error_pearson_p': 0.0008654017289273044,\n",
      " 'iqr_error_spearman': 0.18917436619837713,\n",
      " 'iqr_error_spearman_p': 0.0009923094796052893,\n",
      " 'mean_error': 14.331332456717888,\n",
      " 'median_error': 13.66633595670263,\n",
      " 'mode_error': 13.602000034203131,\n",
      " 'network_seed': 311,\n",
      " 'pit_d': 0.030695620170443597,\n",
      " 'rng_seed': 311,\n",
      " 'uncertainty_type': 'shash3'}\n",
      "'intensity8_AL96_shash3_network_seed_888_rng_seed_888'\n"
     ]
    },
    {
     "name": "stderr",
     "output_type": "stream",
     "text": [
      "100%|█████████████████████████████████████████████████████████████████████████████████████████████████████████████████| 300/300 [00:03<00:00, 75.23it/s]\n"
     ]
    },
    {
     "name": "stdout",
     "output_type": "stream",
     "text": [
      "{'cons_error': 13.512334,\n",
      " 'exp_name': 'intensity8_AL96',\n",
      " 'iqr_capture': 0.5733333333333334,\n",
      " 'iqr_error_pearson': 0.15350562309894392,\n",
      " 'iqr_error_pearson_p': 0.007733239579393387,\n",
      " 'iqr_error_spearman': 0.08283338322278967,\n",
      " 'iqr_error_spearman_p': 0.15237651444365463,\n",
      " 'mean_error': 13.999340750624736,\n",
      " 'median_error': 13.609597319215537,\n",
      " 'mode_error': 13.918999997526408,\n",
      " 'network_seed': 888,\n",
      " 'pit_d': 0.027325178549421833,\n",
      " 'rng_seed': 888,\n",
      " 'uncertainty_type': 'shash3'}\n",
      "'intensity8_AL96_shash3_network_seed_999_rng_seed_999'\n"
     ]
    },
    {
     "name": "stderr",
     "output_type": "stream",
     "text": [
      "100%|█████████████████████████████████████████████████████████████████████████████████████████████████████████████████| 300/300 [00:03<00:00, 80.52it/s]\n"
     ]
    },
    {
     "name": "stdout",
     "output_type": "stream",
     "text": [
      "{'cons_error': 14.479668,\n",
      " 'exp_name': 'intensity8_AL96',\n",
      " 'iqr_capture': 0.49,\n",
      " 'iqr_error_pearson': 0.3751987798457965,\n",
      " 'iqr_error_pearson_p': 1.8355751825012144e-11,\n",
      " 'iqr_error_spearman': 0.40171024122490245,\n",
      " 'iqr_error_spearman_p': 4.626288976205572e-13,\n",
      " 'mean_error': 13.962956425944965,\n",
      " 'median_error': 14.007683770755927,\n",
      " 'mode_error': 15.348333356579145,\n",
      " 'network_seed': 999,\n",
      " 'pit_d': 0.012995719034865785,\n",
      " 'rng_seed': 999,\n",
      " 'uncertainty_type': 'shash3'}\n",
      "'intensity8_AL96_shash3_network_seed_578_rng_seed_578'\n"
     ]
    },
    {
     "name": "stderr",
     "output_type": "stream",
     "text": [
      "100%|█████████████████████████████████████████████████████████████████████████████████████████████████████████████████| 300/300 [00:03<00:00, 77.99it/s]\n"
     ]
    },
    {
     "name": "stdout",
     "output_type": "stream",
     "text": [
      "{'cons_error': 13.825667,\n",
      " 'exp_name': 'intensity8_AL96',\n",
      " 'iqr_capture': 0.4533333333333333,\n",
      " 'iqr_error_pearson': 0.4927842495820454,\n",
      " 'iqr_error_pearson_p': 9.261565060735204e-20,\n",
      " 'iqr_error_spearman': 0.5334543717152412,\n",
      " 'iqr_error_spearman_p': 1.836478985178733e-23,\n",
      " 'mean_error': 13.980026419808468,\n",
      " 'median_error': 13.659054157286882,\n",
      " 'mode_error': 14.22366664543748,\n",
      " 'network_seed': 578,\n",
      " 'pit_d': 0.015846478346278264,\n",
      " 'rng_seed': 578,\n",
      " 'uncertainty_type': 'shash3'}\n",
      "'intensity8_AL96_shash3_network_seed_331_rng_seed_331'\n"
     ]
    },
    {
     "name": "stderr",
     "output_type": "stream",
     "text": [
      "100%|█████████████████████████████████████████████████████████████████████████████████████████████████████████████████| 300/300 [00:03<00:00, 80.53it/s]\n"
     ]
    },
    {
     "name": "stdout",
     "output_type": "stream",
     "text": [
      "{'cons_error': 13.386333,\n",
      " 'exp_name': 'intensity8_AL96',\n",
      " 'iqr_capture': 0.46,\n",
      " 'iqr_error_pearson': 0.4210245145536715,\n",
      " 'iqr_error_pearson_p': 2.556710201890758e-14,\n",
      " 'iqr_error_spearman': 0.41114501272236353,\n",
      " 'iqr_error_spearman_p': 1.1509201180513685e-13,\n",
      " 'mean_error': 13.49400702059269,\n",
      " 'median_error': 13.243888855576515,\n",
      " 'mode_error': 14.139000015060107,\n",
      " 'network_seed': 331,\n",
      " 'pit_d': 0.013416398638823804,\n",
      " 'rng_seed': 331,\n",
      " 'uncertainty_type': 'shash3'}\n",
      "'intensity8_AL96_shash3_network_seed_908_rng_seed_908'\n"
     ]
    },
    {
     "name": "stderr",
     "output_type": "stream",
     "text": [
      "100%|█████████████████████████████████████████████████████████████████████████████████████████████████████████████████| 300/300 [00:03<00:00, 78.94it/s]\n"
     ]
    },
    {
     "name": "stdout",
     "output_type": "stream",
     "text": [
      "{'cons_error': 13.739333,\n",
      " 'exp_name': 'intensity8_AL96',\n",
      " 'iqr_capture': 0.49333333333333335,\n",
      " 'iqr_error_pearson': 0.363956197971258,\n",
      " 'iqr_error_pearson_p': 7.929269900787939e-11,\n",
      " 'iqr_error_spearman': 0.3948626095845509,\n",
      " 'iqr_error_spearman_p': 1.2357639310403935e-12,\n",
      " 'mean_error': 13.073631918976703,\n",
      " 'median_error': 13.033702428887288,\n",
      " 'mode_error': 14.385333329588175,\n",
      " 'network_seed': 908,\n",
      " 'pit_d': 0.017511876091302364,\n",
      " 'rng_seed': 908,\n",
      " 'uncertainty_type': 'shash3'}\n",
      "'intensity8_AL96_shash3_network_seed_444_rng_seed_444'\n"
     ]
    },
    {
     "name": "stderr",
     "output_type": "stream",
     "text": [
      "100%|█████████████████████████████████████████████████████████████████████████████████████████████████████████████████| 300/300 [00:03<00:00, 79.55it/s]\n"
     ]
    },
    {
     "name": "stdout",
     "output_type": "stream",
     "text": [
      "{'cons_error': 14.219001,\n",
      " 'exp_name': 'intensity8_AL96',\n",
      " 'iqr_capture': 0.45,\n",
      " 'iqr_error_pearson': 0.4877216764882391,\n",
      " 'iqr_error_pearson_p': 2.4768354989699907e-19,\n",
      " 'iqr_error_spearman': 0.47717552417249076,\n",
      " 'iqr_error_spearman_p': 1.8256772047758756e-18,\n",
      " 'mean_error': 13.239633376399675,\n",
      " 'median_error': 13.453955948551496,\n",
      " 'mode_error': 14.910999996364117,\n",
      " 'network_seed': 444,\n",
      " 'pit_d': 0.01693121862639178,\n",
      " 'rng_seed': 444,\n",
      " 'uncertainty_type': 'shash3'}\n",
      "'intensity9_AL96_bnn_network_seed_605_rng_seed_605'\n"
     ]
    },
    {
     "name": "stderr",
     "output_type": "stream",
     "text": [
      "100%|███████████████████████████████████████████████████████████████████████████████████████████████████████████████| 5000/5000 [01:22<00:00, 60.34it/s]\n",
      "100%|█████████████████████████████████████████████████████████████████████████████████████████████████████████████████| 300/300 [00:22<00:00, 13.38it/s]\n"
     ]
    },
    {
     "name": "stdout",
     "output_type": "stream",
     "text": [
      "{'cons_error': 13.256,\n",
      " 'exp_name': 'intensity9_AL96',\n",
      " 'iqr_capture': 0.5466666666666666,\n",
      " 'iqr_error_pearson': 0.41611254798013353,\n",
      " 'iqr_error_pearson_p': 5.43510174677799e-14,\n",
      " 'iqr_error_spearman': 0.35184613162368467,\n",
      " 'iqr_error_spearman_p': 3.602553438320668e-10,\n",
      " 'mean_error': 13.586893791993433,\n",
      " 'median_error': 13.590168412122875,\n",
      " 'mode_error': 13.741215216695396,\n",
      " 'network_seed': 605,\n",
      " 'pit_d': 0.03238655413730929,\n",
      " 'rng_seed': 605,\n",
      " 'uncertainty_type': 'bnn'}\n",
      "'intensity9_AL96_bnn_network_seed_122_rng_seed_122'\n"
     ]
    },
    {
     "name": "stderr",
     "output_type": "stream",
     "text": [
      "100%|███████████████████████████████████████████████████████████████████████████████████████████████████████████████| 5000/5000 [01:22<00:00, 60.86it/s]\n",
      "100%|█████████████████████████████████████████████████████████████████████████████████████████████████████████████████| 300/300 [00:22<00:00, 13.51it/s]\n"
     ]
    },
    {
     "name": "stdout",
     "output_type": "stream",
     "text": [
      "{'cons_error': 13.905667,\n",
      " 'exp_name': 'intensity9_AL96',\n",
      " 'iqr_capture': 0.5,\n",
      " 'iqr_error_pearson': 0.36589142531476104,\n",
      " 'iqr_error_pearson_p': 6.188646329035796e-11,\n",
      " 'iqr_error_spearman': 0.3580213113479039,\n",
      " 'iqr_error_spearman_p': 1.6782839853680457e-10,\n",
      " 'mean_error': 14.383846832495335,\n",
      " 'median_error': 14.325050900702676,\n",
      " 'mode_error': 14.179039394084239,\n",
      " 'network_seed': 122,\n",
      " 'pit_d': 0.03076794869123766,\n",
      " 'rng_seed': 122,\n",
      " 'uncertainty_type': 'bnn'}\n",
      "'intensity9_AL96_bnn_network_seed_786_rng_seed_786'\n"
     ]
    },
    {
     "name": "stderr",
     "output_type": "stream",
     "text": [
      "100%|███████████████████████████████████████████████████████████████████████████████████████████████████████████████| 5000/5000 [01:21<00:00, 61.35it/s]\n",
      "100%|█████████████████████████████████████████████████████████████████████████████████████████████████████████████████| 300/300 [00:22<00:00, 13.40it/s]\n"
     ]
    },
    {
     "name": "stdout",
     "output_type": "stream",
     "text": [
      "{'cons_error': 13.56,\n",
      " 'exp_name': 'intensity9_AL96',\n",
      " 'iqr_capture': 0.5866666666666667,\n",
      " 'iqr_error_pearson': 0.41138035181218674,\n",
      " 'iqr_error_pearson_p': 1.1110402711856824e-13,\n",
      " 'iqr_error_spearman': 0.3737232635918177,\n",
      " 'iqr_error_spearman_p': 2.2314077238489958e-11,\n",
      " 'mean_error': 13.25620022215654,\n",
      " 'median_error': 13.26061473141114,\n",
      " 'mode_error': 13.20128194045938,\n",
      " 'network_seed': 786,\n",
      " 'pit_d': 0.02932575659723011,\n",
      " 'rng_seed': 786,\n",
      " 'uncertainty_type': 'bnn'}\n",
      "'intensity9_AL96_bnn_network_seed_311_rng_seed_311'\n"
     ]
    },
    {
     "name": "stderr",
     "output_type": "stream",
     "text": [
      "100%|███████████████████████████████████████████████████████████████████████████████████████████████████████████████| 5000/5000 [01:21<00:00, 61.49it/s]\n",
      "100%|█████████████████████████████████████████████████████████████████████████████████████████████████████████████████| 300/300 [00:22<00:00, 13.30it/s]\n"
     ]
    },
    {
     "name": "stdout",
     "output_type": "stream",
     "text": [
      "{'cons_error': 13.39,\n",
      " 'exp_name': 'intensity9_AL96',\n",
      " 'iqr_capture': 0.5,\n",
      " 'iqr_error_pearson': 0.4499347742413762,\n",
      " 'iqr_error_pearson_p': 2.335744721601819e-16,\n",
      " 'iqr_error_spearman': 0.39061678463094035,\n",
      " 'iqr_error_spearman_p': 2.2470439215004217e-12,\n",
      " 'mean_error': 14.450042355650952,\n",
      " 'median_error': 14.365921692972382,\n",
      " 'mode_error': 14.158140174879712,\n",
      " 'network_seed': 311,\n",
      " 'pit_d': 0.03218004902972536,\n",
      " 'rng_seed': 311,\n",
      " 'uncertainty_type': 'bnn'}\n",
      "'intensity9_AL96_bnn_network_seed_888_rng_seed_888'\n"
     ]
    },
    {
     "name": "stderr",
     "output_type": "stream",
     "text": [
      "100%|███████████████████████████████████████████████████████████████████████████████████████████████████████████████| 5000/5000 [01:22<00:00, 60.43it/s]\n",
      "100%|█████████████████████████████████████████████████████████████████████████████████████████████████████████████████| 300/300 [00:22<00:00, 13.30it/s]\n"
     ]
    },
    {
     "name": "stdout",
     "output_type": "stream",
     "text": [
      "{'cons_error': 13.512334,\n",
      " 'exp_name': 'intensity9_AL96',\n",
      " 'iqr_capture': 0.54,\n",
      " 'iqr_error_pearson': 0.39517530704205217,\n",
      " 'iqr_error_pearson_p': 1.1821251590724454e-12,\n",
      " 'iqr_error_spearman': 0.36185735397059965,\n",
      " 'iqr_error_spearman_p': 1.0355210167658872e-10,\n",
      " 'mean_error': 13.718581924080263,\n",
      " 'median_error': 13.678448478020728,\n",
      " 'mode_error': 13.587189525031759,\n",
      " 'network_seed': 888,\n",
      " 'pit_d': 0.02740640638812549,\n",
      " 'rng_seed': 888,\n",
      " 'uncertainty_type': 'bnn'}\n",
      "'intensity9_AL96_bnn_network_seed_999_rng_seed_999'\n"
     ]
    },
    {
     "name": "stderr",
     "output_type": "stream",
     "text": [
      "100%|███████████████████████████████████████████████████████████████████████████████████████████████████████████████| 5000/5000 [01:22<00:00, 60.58it/s]\n",
      "100%|█████████████████████████████████████████████████████████████████████████████████████████████████████████████████| 300/300 [00:21<00:00, 13.82it/s]\n"
     ]
    },
    {
     "name": "stdout",
     "output_type": "stream",
     "text": [
      "{'cons_error': 14.479668,\n",
      " 'exp_name': 'intensity9_AL96',\n",
      " 'iqr_capture': 0.48,\n",
      " 'iqr_error_pearson': 0.29050325106765695,\n",
      " 'iqr_error_pearson_p': 3.030657007147197e-07,\n",
      " 'iqr_error_spearman': 0.33068367426304734,\n",
      " 'iqr_error_spearman_p': 4.3671699954468546e-09,\n",
      " 'mean_error': 14.097984643571126,\n",
      " 'median_error': 14.095436838107805,\n",
      " 'mode_error': 14.134713069526185,\n",
      " 'network_seed': 999,\n",
      " 'pit_d': 0.02824496021908607,\n",
      " 'rng_seed': 999,\n",
      " 'uncertainty_type': 'bnn'}\n",
      "'intensity9_AL96_bnn_network_seed_578_rng_seed_578'\n"
     ]
    },
    {
     "name": "stderr",
     "output_type": "stream",
     "text": [
      "100%|███████████████████████████████████████████████████████████████████████████████████████████████████████████████| 5000/5000 [01:21<00:00, 61.39it/s]\n",
      "100%|█████████████████████████████████████████████████████████████████████████████████████████████████████████████████| 300/300 [00:21<00:00, 13.83it/s]\n"
     ]
    },
    {
     "name": "stdout",
     "output_type": "stream",
     "text": [
      "{'cons_error': 13.825667,\n",
      " 'exp_name': 'intensity9_AL96',\n",
      " 'iqr_capture': 0.5233333333333333,\n",
      " 'iqr_error_pearson': 0.373544903748527,\n",
      " 'iqr_error_pearson_p': 2.2845534346680598e-11,\n",
      " 'iqr_error_spearman': 0.4140081556461739,\n",
      " 'iqr_error_spearman_p': 7.479969341915436e-14,\n",
      " 'mean_error': 14.040819530120352,\n",
      " 'median_error': 14.033572081501285,\n",
      " 'mode_error': 14.089593907899019,\n",
      " 'network_seed': 578,\n",
      " 'pit_d': 0.034512477614785646,\n",
      " 'rng_seed': 578,\n",
      " 'uncertainty_type': 'bnn'}\n",
      "'intensity9_AL96_bnn_network_seed_331_rng_seed_331'\n"
     ]
    },
    {
     "name": "stderr",
     "output_type": "stream",
     "text": [
      "100%|███████████████████████████████████████████████████████████████████████████████████████████████████████████████| 5000/5000 [01:21<00:00, 61.29it/s]\n",
      "100%|█████████████████████████████████████████████████████████████████████████████████████████████████████████████████| 300/300 [00:22<00:00, 13.52it/s]\n"
     ]
    },
    {
     "name": "stdout",
     "output_type": "stream",
     "text": [
      "{'cons_error': 13.386333,\n",
      " 'exp_name': 'intensity9_AL96',\n",
      " 'iqr_capture': 0.5233333333333333,\n",
      " 'iqr_error_pearson': 0.36755556178581567,\n",
      " 'iqr_error_pearson_p': 4.99412015259142e-11,\n",
      " 'iqr_error_spearman': 0.35521639129323657,\n",
      " 'iqr_error_spearman_p': 2.3792495263347327e-10,\n",
      " 'mean_error': 13.500118500198736,\n",
      " 'median_error': 13.49799576635162,\n",
      " 'mode_error': 13.590401422024609,\n",
      " 'network_seed': 331,\n",
      " 'pit_d': 0.02703906638756388,\n",
      " 'rng_seed': 331,\n",
      " 'uncertainty_type': 'bnn'}\n",
      "'intensity9_AL96_bnn_network_seed_908_rng_seed_908'\n"
     ]
    },
    {
     "name": "stderr",
     "output_type": "stream",
     "text": [
      "100%|███████████████████████████████████████████████████████████████████████████████████████████████████████████████| 5000/5000 [01:22<00:00, 60.61it/s]\n",
      "100%|█████████████████████████████████████████████████████████████████████████████████████████████████████████████████| 300/300 [00:21<00:00, 13.76it/s]\n"
     ]
    },
    {
     "name": "stdout",
     "output_type": "stream",
     "text": [
      "{'cons_error': 13.739333,\n",
      " 'exp_name': 'intensity9_AL96',\n",
      " 'iqr_capture': 0.5266666666666666,\n",
      " 'iqr_error_pearson': 0.3348004230112691,\n",
      " 'iqr_error_pearson_p': 2.7274707559067025e-09,\n",
      " 'iqr_error_spearman': 0.3300872231913688,\n",
      " 'iqr_error_spearman_p': 4.6727213147008825e-09,\n",
      " 'mean_error': 13.383798072848219,\n",
      " 'median_error': 13.386442062507074,\n",
      " 'mode_error': 13.46686085558585,\n",
      " 'network_seed': 908,\n",
      " 'pit_d': 0.031055505863605275,\n",
      " 'rng_seed': 908,\n",
      " 'uncertainty_type': 'bnn'}\n",
      "'intensity9_AL96_bnn_network_seed_444_rng_seed_444'\n"
     ]
    },
    {
     "name": "stderr",
     "output_type": "stream",
     "text": [
      "100%|███████████████████████████████████████████████████████████████████████████████████████████████████████████████| 5000/5000 [01:21<00:00, 61.00it/s]\n",
      "100%|█████████████████████████████████████████████████████████████████████████████████████████████████████████████████| 300/300 [00:21<00:00, 13.67it/s]\n"
     ]
    },
    {
     "name": "stdout",
     "output_type": "stream",
     "text": [
      "{'cons_error': 14.219001,\n",
      " 'exp_name': 'intensity9_AL96',\n",
      " 'iqr_capture': 0.5033333333333333,\n",
      " 'iqr_error_pearson': 0.2906354461724013,\n",
      " 'iqr_error_pearson_p': 2.991733360361132e-07,\n",
      " 'iqr_error_spearman': 0.3002566695185502,\n",
      " 'iqr_error_spearman_p': 1.147180996795031e-07,\n",
      " 'mean_error': 13.979148588619367,\n",
      " 'median_error': 13.986769613673289,\n",
      " 'mode_error': 14.143609271313313,\n",
      " 'network_seed': 444,\n",
      " 'pit_d': 0.025210227201585,\n",
      " 'rng_seed': 444,\n",
      " 'uncertainty_type': 'bnn'}\n",
      "'intensity10_EPCP96_shash3_network_seed_605_rng_seed_605'\n"
     ]
    },
    {
     "name": "stderr",
     "output_type": "stream",
     "text": [
      "100%|█████████████████████████████████████████████████████████████████████████████████████████████████████████████████| 512/512 [00:07<00:00, 71.35it/s]\n"
     ]
    },
    {
     "name": "stdout",
     "output_type": "stream",
     "text": [
      "{'cons_error': 15.307226,\n",
      " 'exp_name': 'intensity10_EPCP96',\n",
      " 'iqr_capture': 0.505859375,\n",
      " 'iqr_error_pearson': 0.16100249188398938,\n",
      " 'iqr_error_pearson_p': 0.0002541337192137412,\n",
      " 'iqr_error_spearman': 0.20957046225724127,\n",
      " 'iqr_error_spearman_p': 1.7212299035409448e-06,\n",
      " 'mean_error': 13.497122191503877,\n",
      " 'median_error': 13.534436706424458,\n",
      " 'mode_error': 14.008789087907644,\n",
      " 'network_seed': 605,\n",
      " 'pit_d': 0.013355719616289174,\n",
      " 'rng_seed': 605,\n",
      " 'uncertainty_type': 'shash3'}\n",
      "'intensity10_EPCP96_shash3_network_seed_122_rng_seed_122'\n"
     ]
    },
    {
     "name": "stderr",
     "output_type": "stream",
     "text": [
      "100%|█████████████████████████████████████████████████████████████████████████████████████████████████████████████████| 512/512 [00:07<00:00, 70.76it/s]\n"
     ]
    },
    {
     "name": "stdout",
     "output_type": "stream",
     "text": [
      "{'cons_error': 16.384375,\n",
      " 'exp_name': 'intensity10_EPCP96',\n",
      " 'iqr_capture': 0.447265625,\n",
      " 'iqr_error_pearson': 0.34209344324422264,\n",
      " 'iqr_error_pearson_p': 1.6753051994281412e-15,\n",
      " 'iqr_error_spearman': 0.3784091900699237,\n",
      " 'iqr_error_spearman_p': 7.081816947888203e-19,\n",
      " 'mean_error': 14.739138793345774,\n",
      " 'median_error': 14.722829474048922,\n",
      " 'mode_error': 16.04414061587886,\n",
      " 'network_seed': 122,\n",
      " 'pit_d': 0.02221416625493506,\n",
      " 'rng_seed': 122,\n",
      " 'uncertainty_type': 'shash3'}\n",
      "'intensity10_EPCP96_shash3_network_seed_786_rng_seed_786'\n"
     ]
    },
    {
     "name": "stderr",
     "output_type": "stream",
     "text": [
      "100%|█████████████████████████████████████████████████████████████████████████████████████████████████████████████████| 512/512 [00:07<00:00, 71.71it/s]\n"
     ]
    },
    {
     "name": "stdout",
     "output_type": "stream",
     "text": [
      "{'cons_error': 15.986718,\n",
      " 'exp_name': 'intensity10_EPCP96',\n",
      " 'iqr_capture': 0.4921875,\n",
      " 'iqr_error_pearson': 0.28740234171860013,\n",
      " 'iqr_error_pearson_p': 3.411593059479299e-11,\n",
      " 'iqr_error_spearman': 0.27301281528593174,\n",
      " 'iqr_error_spearman_p': 3.337938305802827e-10,\n",
      " 'mean_error': 14.076858486485435,\n",
      " 'median_error': 14.144501023896737,\n",
      " 'mode_error': 14.672265647008317,\n",
      " 'network_seed': 786,\n",
      " 'pit_d': 0.010618966138878552,\n",
      " 'rng_seed': 786,\n",
      " 'uncertainty_type': 'shash3'}\n",
      "'intensity10_EPCP96_shash3_network_seed_311_rng_seed_311'\n"
     ]
    },
    {
     "name": "stderr",
     "output_type": "stream",
     "text": [
      "100%|█████████████████████████████████████████████████████████████████████████████████████████████████████████████████| 512/512 [00:07<00:00, 70.48it/s]\n"
     ]
    },
    {
     "name": "stdout",
     "output_type": "stream",
     "text": [
      "{'cons_error': 15.764452,\n",
      " 'exp_name': 'intensity10_EPCP96',\n",
      " 'iqr_capture': 0.458984375,\n",
      " 'iqr_error_pearson': 0.3639344684502147,\n",
      " 'iqr_error_pearson_p': 1.7654199573900806e-17,\n",
      " 'iqr_error_spearman': 0.3786014157826072,\n",
      " 'iqr_error_spearman_p': 6.778282850819303e-19,\n",
      " 'mean_error': 13.515475184540264,\n",
      " 'median_error': 13.550589513382874,\n",
      " 'mode_error': 14.589843741094228,\n",
      " 'network_seed': 311,\n",
      " 'pit_d': 0.012560886497099808,\n",
      " 'rng_seed': 311,\n",
      " 'uncertainty_type': 'shash3'}\n",
      "'intensity10_EPCP96_shash3_network_seed_888_rng_seed_888'\n"
     ]
    },
    {
     "name": "stderr",
     "output_type": "stream",
     "text": [
      "100%|█████████████████████████████████████████████████████████████████████████████████████████████████████████████████| 512/512 [00:07<00:00, 69.75it/s]\n"
     ]
    },
    {
     "name": "stdout",
     "output_type": "stream",
     "text": [
      "{'cons_error': 15.543945,\n",
      " 'exp_name': 'intensity10_EPCP96',\n",
      " 'iqr_capture': 0.509765625,\n",
      " 'iqr_error_pearson': 0.33920789602223256,\n",
      " 'iqr_error_pearson_p': 2.9782131143157868e-15,\n",
      " 'iqr_error_spearman': 0.381310188999897,\n",
      " 'iqr_error_spearman_p': 3.644842093177099e-19,\n",
      " 'mean_error': 12.801123594719684,\n",
      " 'median_error': 13.081882080150535,\n",
      " 'mode_error': 14.76933592322166,\n",
      " 'network_seed': 888,\n",
      " 'pit_d': 0.01868886430589978,\n",
      " 'rng_seed': 888,\n",
      " 'uncertainty_type': 'shash3'}\n",
      "'intensity10_EPCP96_shash3_network_seed_999_rng_seed_999'\n"
     ]
    },
    {
     "name": "stderr",
     "output_type": "stream",
     "text": [
      "100%|█████████████████████████████████████████████████████████████████████████████████████████████████████████████████| 512/512 [00:07<00:00, 68.84it/s]\n"
     ]
    },
    {
     "name": "stdout",
     "output_type": "stream",
     "text": [
      "{'cons_error': 16.213085,\n",
      " 'exp_name': 'intensity10_EPCP96',\n",
      " 'iqr_capture': 0.453125,\n",
      " 'iqr_error_pearson': 0.2824954420331723,\n",
      " 'iqr_error_pearson_p': 7.53653587531954e-11,\n",
      " 'iqr_error_spearman': 0.2552433809981575,\n",
      " 'iqr_error_spearman_p': 4.665051653980537e-09,\n",
      " 'mean_error': 14.195492694154382,\n",
      " 'median_error': 14.210241156630218,\n",
      " 'mode_error': 14.597070330695715,\n",
      " 'network_seed': 999,\n",
      " 'pit_d': 0.017552063749276016,\n",
      " 'rng_seed': 999,\n",
      " 'uncertainty_type': 'shash3'}\n",
      "'intensity10_EPCP96_shash3_network_seed_578_rng_seed_578'\n"
     ]
    },
    {
     "name": "stderr",
     "output_type": "stream",
     "text": [
      "100%|█████████████████████████████████████████████████████████████████████████████████████████████████████████████████| 512/512 [00:06<00:00, 73.15it/s]\n"
     ]
    },
    {
     "name": "stdout",
     "output_type": "stream",
     "text": [
      "{'cons_error': 16.057226,\n",
      " 'exp_name': 'intensity10_EPCP96',\n",
      " 'iqr_capture': 0.416015625,\n",
      " 'iqr_error_pearson': 0.30227780325425024,\n",
      " 'iqr_error_pearson_p': 2.8051078713023422e-12,\n",
      " 'iqr_error_spearman': 0.3239422578993145,\n",
      " 'iqr_error_spearman_p': 5.662268664737624e-14,\n",
      " 'mean_error': 13.961016738903709,\n",
      " 'median_error': 13.825309140898753,\n",
      " 'mode_error': 13.88457033893792,\n",
      " 'network_seed': 578,\n",
      " 'pit_d': 0.025567293836545827,\n",
      " 'rng_seed': 578,\n",
      " 'uncertainty_type': 'shash3'}\n",
      "'intensity10_EPCP96_shash3_network_seed_331_rng_seed_331'\n"
     ]
    },
    {
     "name": "stderr",
     "output_type": "stream",
     "text": [
      "100%|█████████████████████████████████████████████████████████████████████████████████████████████████████████████████| 512/512 [00:07<00:00, 71.70it/s]\n"
     ]
    },
    {
     "name": "stdout",
     "output_type": "stream",
     "text": [
      "{'cons_error': 16.411913,\n",
      " 'exp_name': 'intensity10_EPCP96',\n",
      " 'iqr_capture': 0.4453125,\n",
      " 'iqr_error_pearson': 0.274361993588369,\n",
      " 'iqr_error_pearson_p': 2.7103751065856217e-10,\n",
      " 'iqr_error_spearman': 0.3367263406804683,\n",
      " 'iqr_error_spearman_p': 4.861358536067015e-15,\n",
      " 'mean_error': 14.335454767890042,\n",
      " 'median_error': 14.497834750654874,\n",
      " 'mode_error': 15.696679701242829,\n",
      " 'network_seed': 331,\n",
      " 'pit_d': 0.019350728003889782,\n",
      " 'rng_seed': 331,\n",
      " 'uncertainty_type': 'shash3'}\n",
      "'intensity10_EPCP96_shash3_network_seed_908_rng_seed_908'\n"
     ]
    },
    {
     "name": "stderr",
     "output_type": "stream",
     "text": [
      "100%|█████████████████████████████████████████████████████████████████████████████████████████████████████████████████| 512/512 [00:07<00:00, 71.97it/s]\n"
     ]
    },
    {
     "name": "stdout",
     "output_type": "stream",
     "text": [
      "{'cons_error': 15.7875,\n",
      " 'exp_name': 'intensity10_EPCP96',\n",
      " 'iqr_capture': 0.435546875,\n",
      " 'iqr_error_pearson': 0.333517602928477,\n",
      " 'iqr_error_pearson_p': 9.100960195483689e-15,\n",
      " 'iqr_error_spearman': 0.3756309473741431,\n",
      " 'iqr_error_spearman_p': 1.3295509205332257e-18,\n",
      " 'mean_error': 13.977106444275705,\n",
      " 'median_error': 13.876066014607204,\n",
      " 'mode_error': 14.326953115611104,\n",
      " 'network_seed': 908,\n",
      " 'pit_d': 0.016312978634718256,\n",
      " 'rng_seed': 908,\n",
      " 'uncertainty_type': 'shash3'}\n",
      "'intensity10_EPCP96_shash3_network_seed_444_rng_seed_444'\n"
     ]
    },
    {
     "name": "stderr",
     "output_type": "stream",
     "text": [
      "100%|█████████████████████████████████████████████████████████████████████████████████████████████████████████████████| 512/512 [00:07<00:00, 70.77it/s]\n"
     ]
    },
    {
     "name": "stdout",
     "output_type": "stream",
     "text": [
      "{'cons_error': 16.004883,\n",
      " 'exp_name': 'intensity10_EPCP96',\n",
      " 'iqr_capture': 0.513671875,\n",
      " 'iqr_error_pearson': 0.28084601775233753,\n",
      " 'iqr_error_pearson_p': 9.803312581067525e-11,\n",
      " 'iqr_error_spearman': 0.27722416772524916,\n",
      " 'iqr_error_spearman_p': 1.7357989418965456e-10,\n",
      " 'mean_error': 13.7509230368305,\n",
      " 'median_error': 13.907999014249071,\n",
      " 'mode_error': 15.25136718939757,\n",
      " 'network_seed': 444,\n",
      " 'pit_d': 0.015448218396445406,\n",
      " 'rng_seed': 444,\n",
      " 'uncertainty_type': 'shash3'}\n",
      "'intensity11_EPCP96_bnn_network_seed_605_rng_seed_605'\n"
     ]
    },
    {
     "name": "stderr",
     "output_type": "stream",
     "text": [
      "100%|███████████████████████████████████████████████████████████████████████████████████████████████████████████████| 5000/5000 [01:20<00:00, 62.00it/s]\n",
      "100%|█████████████████████████████████████████████████████████████████████████████████████████████████████████████████| 512/512 [00:38<00:00, 13.45it/s]\n"
     ]
    },
    {
     "name": "stdout",
     "output_type": "stream",
     "text": [
      "{'cons_error': 15.307226,\n",
      " 'exp_name': 'intensity11_EPCP96',\n",
      " 'iqr_capture': 0.517578125,\n",
      " 'iqr_error_pearson': 0.25020007313843834,\n",
      " 'iqr_error_pearson_p': 9.519624123623351e-09,\n",
      " 'iqr_error_spearman': 0.27482733660635605,\n",
      " 'iqr_error_spearman_p': 2.521839270044861e-10,\n",
      " 'mean_error': 13.97333307803449,\n",
      " 'median_error': 13.943508289172314,\n",
      " 'mode_error': 13.859135532521616,\n",
      " 'network_seed': 605,\n",
      " 'pit_d': 0.012222256130595324,\n",
      " 'rng_seed': 605,\n",
      " 'uncertainty_type': 'bnn'}\n",
      "'intensity11_EPCP96_bnn_network_seed_122_rng_seed_122'\n"
     ]
    },
    {
     "name": "stderr",
     "output_type": "stream",
     "text": [
      "100%|███████████████████████████████████████████████████████████████████████████████████████████████████████████████| 5000/5000 [01:20<00:00, 62.13it/s]\n",
      "100%|█████████████████████████████████████████████████████████████████████████████████████████████████████████████████| 512/512 [00:37<00:00, 13.57it/s]\n"
     ]
    },
    {
     "name": "stdout",
     "output_type": "stream",
     "text": [
      "{'cons_error': 16.384375,\n",
      " 'exp_name': 'intensity11_EPCP96',\n",
      " 'iqr_capture': 0.484375,\n",
      " 'iqr_error_pearson': 0.24699225918302214,\n",
      " 'iqr_error_pearson_p': 1.4865362960263335e-08,\n",
      " 'iqr_error_spearman': 0.28219065428983414,\n",
      " 'iqr_error_spearman_p': 7.912817879779744e-11,\n",
      " 'mean_error': 15.384338981425442,\n",
      " 'median_error': 15.360548880882561,\n",
      " 'mode_error': 15.451700125757455,\n",
      " 'network_seed': 122,\n",
      " 'pit_d': 0.014400241086849033,\n",
      " 'rng_seed': 122,\n",
      " 'uncertainty_type': 'bnn'}\n",
      "'intensity11_EPCP96_bnn_network_seed_786_rng_seed_786'\n"
     ]
    },
    {
     "name": "stderr",
     "output_type": "stream",
     "text": [
      "100%|███████████████████████████████████████████████████████████████████████████████████████████████████████████████| 5000/5000 [01:20<00:00, 61.93it/s]\n",
      "100%|█████████████████████████████████████████████████████████████████████████████████████████████████████████████████| 512/512 [00:37<00:00, 13.74it/s]\n"
     ]
    },
    {
     "name": "stdout",
     "output_type": "stream",
     "text": [
      "{'cons_error': 15.986718,\n",
      " 'exp_name': 'intensity11_EPCP96',\n",
      " 'iqr_capture': 0.48046875,\n",
      " 'iqr_error_pearson': 0.2872580529736065,\n",
      " 'iqr_error_pearson_p': 3.492809836937647e-11,\n",
      " 'iqr_error_spearman': 0.31995156269669606,\n",
      " 'iqr_error_spearman_p': 1.190317572723376e-13,\n",
      " 'mean_error': 14.344390283378784,\n",
      " 'median_error': 14.354310872739006,\n",
      " 'mode_error': 14.416986149819447,\n",
      " 'network_seed': 786,\n",
      " 'pit_d': 0.01785374200316631,\n",
      " 'rng_seed': 786,\n",
      " 'uncertainty_type': 'bnn'}\n",
      "'intensity11_EPCP96_bnn_network_seed_311_rng_seed_311'\n"
     ]
    },
    {
     "name": "stderr",
     "output_type": "stream",
     "text": [
      "100%|███████████████████████████████████████████████████████████████████████████████████████████████████████████████| 5000/5000 [01:20<00:00, 62.22it/s]\n",
      "100%|█████████████████████████████████████████████████████████████████████████████████████████████████████████████████| 512/512 [00:37<00:00, 13.52it/s]\n"
     ]
    },
    {
     "name": "stdout",
     "output_type": "stream",
     "text": [
      "{'cons_error': 15.764452,\n",
      " 'exp_name': 'intensity11_EPCP96',\n",
      " 'iqr_capture': 0.494140625,\n",
      " 'iqr_error_pearson': 0.278589417278227,\n",
      " 'iqr_error_pearson_p': 1.400855781083502e-10,\n",
      " 'iqr_error_spearman': 0.27824922251404766,\n",
      " 'iqr_error_spearman_p': 1.4778886618098928e-10,\n",
      " 'mean_error': 14.324469523701786,\n",
      " 'median_error': 14.334576354522142,\n",
      " 'mode_error': 14.45032337385412,\n",
      " 'network_seed': 311,\n",
      " 'pit_d': 0.016614195561044327,\n",
      " 'rng_seed': 311,\n",
      " 'uncertainty_type': 'bnn'}\n",
      "'intensity11_EPCP96_bnn_network_seed_888_rng_seed_888'\n"
     ]
    },
    {
     "name": "stderr",
     "output_type": "stream",
     "text": [
      "100%|███████████████████████████████████████████████████████████████████████████████████████████████████████████████| 5000/5000 [01:20<00:00, 62.20it/s]\n",
      "100%|█████████████████████████████████████████████████████████████████████████████████████████████████████████████████| 512/512 [00:37<00:00, 13.82it/s]\n"
     ]
    },
    {
     "name": "stdout",
     "output_type": "stream",
     "text": [
      "{'cons_error': 15.543945,\n",
      " 'exp_name': 'intensity11_EPCP96',\n",
      " 'iqr_capture': 0.53515625,\n",
      " 'iqr_error_pearson': 0.31197524188035053,\n",
      " 'iqr_error_pearson_p': 5.085769867360404e-13,\n",
      " 'iqr_error_spearman': 0.31521270713885174,\n",
      " 'iqr_error_spearman_p': 2.8355860916559276e-13,\n",
      " 'mean_error': 13.843706923169856,\n",
      " 'median_error': 13.841642170198611,\n",
      " 'mode_error': 13.936064767465187,\n",
      " 'network_seed': 888,\n",
      " 'pit_d': 0.019012646130684308,\n",
      " 'rng_seed': 888,\n",
      " 'uncertainty_type': 'bnn'}\n",
      "'intensity11_EPCP96_bnn_network_seed_999_rng_seed_999'\n"
     ]
    },
    {
     "name": "stderr",
     "output_type": "stream",
     "text": [
      "100%|███████████████████████████████████████████████████████████████████████████████████████████████████████████████| 5000/5000 [01:13<00:00, 67.93it/s]\n",
      "100%|█████████████████████████████████████████████████████████████████████████████████████████████████████████████████| 512/512 [00:36<00:00, 13.85it/s]\n"
     ]
    },
    {
     "name": "stdout",
     "output_type": "stream",
     "text": [
      "{'cons_error': 16.213085,\n",
      " 'exp_name': 'intensity11_EPCP96',\n",
      " 'iqr_capture': 0.4765625,\n",
      " 'iqr_error_pearson': 0.3748346998968317,\n",
      " 'iqr_error_pearson_p': 1.590828496621793e-18,\n",
      " 'iqr_error_spearman': 0.370007674723338,\n",
      " 'iqr_error_spearman_p': 4.6708358657167825e-18,\n",
      " 'mean_error': 15.011534010126667,\n",
      " 'median_error': 15.018821917212335,\n",
      " 'mode_error': 15.016330994970005,\n",
      " 'network_seed': 999,\n",
      " 'pit_d': 0.014843750000000001,\n",
      " 'rng_seed': 999,\n",
      " 'uncertainty_type': 'bnn'}\n",
      "'intensity11_EPCP96_bnn_network_seed_578_rng_seed_578'\n"
     ]
    },
    {
     "name": "stderr",
     "output_type": "stream",
     "text": [
      "100%|███████████████████████████████████████████████████████████████████████████████████████████████████████████████| 5000/5000 [01:13<00:00, 68.05it/s]\n",
      "100%|█████████████████████████████████████████████████████████████████████████████████████████████████████████████████| 512/512 [00:36<00:00, 13.85it/s]\n"
     ]
    },
    {
     "name": "stdout",
     "output_type": "stream",
     "text": [
      "{'cons_error': 16.057226,\n",
      " 'exp_name': 'intensity11_EPCP96',\n",
      " 'iqr_capture': 0.47265625,\n",
      " 'iqr_error_pearson': 0.2363913433729119,\n",
      " 'iqr_error_pearson_p': 6.206323400919598e-08,\n",
      " 'iqr_error_spearman': 0.2463508407148007,\n",
      " 'iqr_error_spearman_p': 1.6238873004371795e-08,\n",
      " 'mean_error': 14.937184520718983,\n",
      " 'median_error': 14.932479906943627,\n",
      " 'mode_error': 14.966236369000995,\n",
      " 'network_seed': 578,\n",
      " 'pit_d': 0.02095949753952549,\n",
      " 'rng_seed': 578,\n",
      " 'uncertainty_type': 'bnn'}\n",
      "'intensity11_EPCP96_bnn_network_seed_331_rng_seed_331'\n"
     ]
    },
    {
     "name": "stderr",
     "output_type": "stream",
     "text": [
      "100%|███████████████████████████████████████████████████████████████████████████████████████████████████████████████| 5000/5000 [01:13<00:00, 68.08it/s]\n",
      "100%|█████████████████████████████████████████████████████████████████████████████████████████████████████████████████| 512/512 [00:36<00:00, 13.99it/s]\n"
     ]
    },
    {
     "name": "stdout",
     "output_type": "stream",
     "text": [
      "{'cons_error': 16.411913,\n",
      " 'exp_name': 'intensity11_EPCP96',\n",
      " 'iqr_capture': 0.451171875,\n",
      " 'iqr_error_pearson': 0.22428241207988886,\n",
      " 'iqr_error_pearson_p': 2.928382094110775e-07,\n",
      " 'iqr_error_spearman': 0.2543180153580298,\n",
      " 'iqr_error_spearman_p': 5.3234696205130674e-09,\n",
      " 'mean_error': 14.912278889673622,\n",
      " 'median_error': 14.90276814182289,\n",
      " 'mode_error': 14.837453286805047,\n",
      " 'network_seed': 331,\n",
      " 'pit_d': 0.019092733452890528,\n",
      " 'rng_seed': 331,\n",
      " 'uncertainty_type': 'bnn'}\n",
      "'intensity11_EPCP96_bnn_network_seed_908_rng_seed_908'\n"
     ]
    },
    {
     "name": "stderr",
     "output_type": "stream",
     "text": [
      "100%|███████████████████████████████████████████████████████████████████████████████████████████████████████████████| 5000/5000 [01:13<00:00, 68.25it/s]\n",
      "100%|█████████████████████████████████████████████████████████████████████████████████████████████████████████████████| 512/512 [00:37<00:00, 13.80it/s]\n"
     ]
    },
    {
     "name": "stdout",
     "output_type": "stream",
     "text": [
      "{'cons_error': 15.7875,\n",
      " 'exp_name': 'intensity11_EPCP96',\n",
      " 'iqr_capture': 0.45703125,\n",
      " 'iqr_error_pearson': 0.25208083362136424,\n",
      " 'iqr_error_pearson_p': 7.309444901237634e-09,\n",
      " 'iqr_error_spearman': 0.28047170938190225,\n",
      " 'iqr_error_spearman_p': 1.0403605742134449e-10,\n",
      " 'mean_error': 14.835452201994325,\n",
      " 'median_error': 14.847726397078077,\n",
      " 'mode_error': 14.90227297040257,\n",
      " 'network_seed': 908,\n",
      " 'pit_d': 0.018586526958391126,\n",
      " 'rng_seed': 908,\n",
      " 'uncertainty_type': 'bnn'}\n",
      "'intensity11_EPCP96_bnn_network_seed_444_rng_seed_444'\n"
     ]
    },
    {
     "name": "stderr",
     "output_type": "stream",
     "text": [
      "100%|███████████████████████████████████████████████████████████████████████████████████████████████████████████████| 5000/5000 [01:13<00:00, 68.06it/s]\n",
      "100%|█████████████████████████████████████████████████████████████████████████████████████████████████████████████████| 512/512 [00:37<00:00, 13.74it/s]\n"
     ]
    },
    {
     "name": "stdout",
     "output_type": "stream",
     "text": [
      "{'cons_error': 16.004883,\n",
      " 'exp_name': 'intensity11_EPCP96',\n",
      " 'iqr_capture': 0.525390625,\n",
      " 'iqr_error_pearson': 0.32757476245334466,\n",
      " 'iqr_error_pearson_p': 2.851695275845649e-14,\n",
      " 'iqr_error_spearman': 0.3213746588217118,\n",
      " 'iqr_error_spearman_p': 9.144194721539849e-14,\n",
      " 'mean_error': 14.404350973295644,\n",
      " 'median_error': 14.391610104372376,\n",
      " 'mode_error': 14.44645524622766,\n",
      " 'network_seed': 444,\n",
      " 'pit_d': 0.016029909788033744,\n",
      " 'rng_seed': 444,\n",
      " 'uncertainty_type': 'bnn'}\n",
      "'intensity0_AL72_shash3_network_seed_605_rng_seed_605'\n"
     ]
    },
    {
     "name": "stderr",
     "output_type": "stream",
     "text": [
      "100%|█████████████████████████████████████████████████████████████████████████████████████████████████████████████████| 300/300 [00:03<00:00, 78.65it/s]\n"
     ]
    },
    {
     "name": "stdout",
     "output_type": "stream",
     "text": [
      "{'cons_error': 12.312666,\n",
      " 'exp_name': 'intensity0_AL72',\n",
      " 'iqr_capture': 0.5166666666666667,\n",
      " 'iqr_error_pearson': 0.35424444396821575,\n",
      " 'iqr_error_pearson_p': 2.682980352386583e-10,\n",
      " 'iqr_error_spearman': 0.32141601573350814,\n",
      " 'iqr_error_spearman_p': 1.2287478570291489e-08,\n",
      " 'mean_error': 11.110542189230522,\n",
      " 'median_error': 11.228001543730498,\n",
      " 'mode_error': 12.044000011434157,\n",
      " 'network_seed': 605,\n",
      " 'pit_d': 0.009189353138139494,\n",
      " 'rng_seed': 605,\n",
      " 'uncertainty_type': 'shash3'}\n",
      "'intensity0_AL72_shash3_network_seed_122_rng_seed_122'\n"
     ]
    },
    {
     "name": "stderr",
     "output_type": "stream",
     "text": [
      "100%|█████████████████████████████████████████████████████████████████████████████████████████████████████████████████| 300/300 [00:03<00:00, 78.91it/s]\n"
     ]
    },
    {
     "name": "stdout",
     "output_type": "stream",
     "text": [
      "{'cons_error': 11.986333,\n",
      " 'exp_name': 'intensity0_AL72',\n",
      " 'iqr_capture': 0.49,\n",
      " 'iqr_error_pearson': 0.3846121752266731,\n",
      " 'iqr_error_pearson_p': 5.1588161489241375e-12,\n",
      " 'iqr_error_spearman': 0.33854012056755867,\n",
      " 'iqr_error_spearman_p': 1.76771447156925e-09,\n",
      " 'mean_error': 11.631576279948154,\n",
      " 'median_error': 11.71552268361052,\n",
      " 'mode_error': 13.290333358595769,\n",
      " 'network_seed': 122,\n",
      " 'pit_d': 0.014298398081369042,\n",
      " 'rng_seed': 122,\n",
      " 'uncertainty_type': 'shash3'}\n",
      "'intensity0_AL72_shash3_network_seed_786_rng_seed_786'\n"
     ]
    },
    {
     "name": "stderr",
     "output_type": "stream",
     "text": [
      "100%|█████████████████████████████████████████████████████████████████████████████████████████████████████████████████| 300/300 [00:03<00:00, 78.63it/s]\n"
     ]
    },
    {
     "name": "stdout",
     "output_type": "stream",
     "text": [
      "{'cons_error': 11.999333,\n",
      " 'exp_name': 'intensity0_AL72',\n",
      " 'iqr_capture': 0.5133333333333333,\n",
      " 'iqr_error_pearson': 0.4253500973091575,\n",
      " 'iqr_error_pearson_p': 1.3025799719680582e-14,\n",
      " 'iqr_error_spearman': 0.47014255713952374,\n",
      " 'iqr_error_spearman_p': 6.6608836398676856e-18,\n",
      " 'mean_error': 11.60596853107214,\n",
      " 'median_error': 11.48020816852649,\n",
      " 'mode_error': 12.108666646679243,\n",
      " 'network_seed': 786,\n",
      " 'pit_d': 0.015055438977842997,\n",
      " 'rng_seed': 786,\n",
      " 'uncertainty_type': 'shash3'}\n",
      "'intensity0_AL72_shash3_network_seed_311_rng_seed_311'\n"
     ]
    },
    {
     "name": "stderr",
     "output_type": "stream",
     "text": [
      "100%|█████████████████████████████████████████████████████████████████████████████████████████████████████████████████| 300/300 [00:03<00:00, 79.83it/s]\n"
     ]
    },
    {
     "name": "stdout",
     "output_type": "stream",
     "text": [
      "{'cons_error': 11.382333,\n",
      " 'exp_name': 'intensity0_AL72',\n",
      " 'iqr_capture': 0.5466666666666666,\n",
      " 'iqr_error_pearson': 0.3454834546171835,\n",
      " 'iqr_error_pearson_p': 7.780253880102219e-10,\n",
      " 'iqr_error_spearman': 0.31791731019233543,\n",
      " 'iqr_error_spearman_p': 1.7995511750535805e-08,\n",
      " 'mean_error': 11.068231685211261,\n",
      " 'median_error': 10.872624620944261,\n",
      " 'mode_error': 11.609000029017528,\n",
      " 'network_seed': 311,\n",
      " 'pit_d': 0.023944373594673194,\n",
      " 'rng_seed': 311,\n",
      " 'uncertainty_type': 'shash3'}\n",
      "'intensity0_AL72_shash3_network_seed_888_rng_seed_888'\n"
     ]
    },
    {
     "name": "stderr",
     "output_type": "stream",
     "text": [
      "100%|█████████████████████████████████████████████████████████████████████████████████████████████████████████████████| 300/300 [00:03<00:00, 78.74it/s]\n"
     ]
    },
    {
     "name": "stdout",
     "output_type": "stream",
     "text": [
      "{'cons_error': 12.403,\n",
      " 'exp_name': 'intensity0_AL72',\n",
      " 'iqr_capture': 0.43,\n",
      " 'iqr_error_pearson': 0.5191438654667545,\n",
      " 'iqr_error_pearson_p': 4.2056788334439385e-22,\n",
      " 'iqr_error_spearman': 0.4282198691096567,\n",
      " 'iqr_error_spearman_p': 8.282683327865817e-15,\n",
      " 'mean_error': 11.180922005375226,\n",
      " 'median_error': 11.377889102101326,\n",
      " 'mode_error': 12.712333331306775,\n",
      " 'network_seed': 888,\n",
      " 'pit_d': 0.02494436533259028,\n",
      " 'rng_seed': 888,\n",
      " 'uncertainty_type': 'shash3'}\n",
      "'intensity0_AL72_shash3_network_seed_999_rng_seed_999'\n"
     ]
    },
    {
     "name": "stderr",
     "output_type": "stream",
     "text": [
      "100%|█████████████████████████████████████████████████████████████████████████████████████████████████████████████████| 300/300 [00:03<00:00, 79.46it/s]\n"
     ]
    },
    {
     "name": "stdout",
     "output_type": "stream",
     "text": [
      "{'cons_error': 11.493,\n",
      " 'exp_name': 'intensity0_AL72',\n",
      " 'iqr_capture': 0.54,\n",
      " 'iqr_error_pearson': 0.36584498749198063,\n",
      " 'iqr_error_pearson_p': 6.225682685188698e-11,\n",
      " 'iqr_error_spearman': 0.36442938254869495,\n",
      " 'iqr_error_spearman_p': 7.464163245119573e-11,\n",
      " 'mean_error': 11.402846956501405,\n",
      " 'median_error': 11.148156986484924,\n",
      " 'mode_error': 11.430333352138598,\n",
      " 'network_seed': 999,\n",
      " 'pit_d': 0.01770121209742869,\n",
      " 'rng_seed': 999,\n",
      " 'uncertainty_type': 'shash3'}\n",
      "'intensity0_AL72_shash3_network_seed_578_rng_seed_578'\n"
     ]
    },
    {
     "name": "stderr",
     "output_type": "stream",
     "text": [
      "100%|█████████████████████████████████████████████████████████████████████████████████████████████████████████████████| 300/300 [00:03<00:00, 78.88it/s]\n"
     ]
    },
    {
     "name": "stdout",
     "output_type": "stream",
     "text": [
      "{'cons_error': 12.792334,\n",
      " 'exp_name': 'intensity0_AL72',\n",
      " 'iqr_capture': 0.47333333333333333,\n",
      " 'iqr_error_pearson': 0.4557039741845489,\n",
      " 'iqr_error_pearson_p': 8.664671713845634e-17,\n",
      " 'iqr_error_spearman': 0.41936465960732894,\n",
      " 'iqr_error_spearman_p': 3.3033699604211945e-14,\n",
      " 'mean_error': 11.791926630735396,\n",
      " 'median_error': 11.765272307495277,\n",
      " 'mode_error': 12.65433335651954,\n",
      " 'network_seed': 578,\n",
      " 'pit_d': 0.02756809098008001,\n",
      " 'rng_seed': 578,\n",
      " 'uncertainty_type': 'shash3'}\n",
      "'intensity0_AL72_shash3_network_seed_331_rng_seed_331'\n"
     ]
    },
    {
     "name": "stderr",
     "output_type": "stream",
     "text": [
      "100%|█████████████████████████████████████████████████████████████████████████████████████████████████████████████████| 300/300 [00:03<00:00, 79.86it/s]\n"
     ]
    },
    {
     "name": "stdout",
     "output_type": "stream",
     "text": [
      "{'cons_error': 11.191999,\n",
      " 'exp_name': 'intensity0_AL72',\n",
      " 'iqr_capture': 0.5233333333333333,\n",
      " 'iqr_error_pearson': 0.35290696529333826,\n",
      " 'iqr_error_pearson_p': 3.163213798674701e-10,\n",
      " 'iqr_error_spearman': 0.36501650018333537,\n",
      " 'iqr_error_spearman_p': 6.923860409981112e-11,\n",
      " 'mean_error': 10.539049974332253,\n",
      " 'median_error': 10.42247194841504,\n",
      " 'mode_error': 11.562000002115965,\n",
      " 'network_seed': 331,\n",
      " 'pit_d': 0.01646545023836268,\n",
      " 'rng_seed': 331,\n",
      " 'uncertainty_type': 'shash3'}\n",
      "'intensity0_AL72_shash3_network_seed_908_rng_seed_908'\n"
     ]
    },
    {
     "name": "stderr",
     "output_type": "stream",
     "text": [
      "100%|█████████████████████████████████████████████████████████████████████████████████████████████████████████████████| 300/300 [00:03<00:00, 77.95it/s]\n"
     ]
    },
    {
     "name": "stdout",
     "output_type": "stream",
     "text": [
      "{'cons_error': 11.921667,\n",
      " 'exp_name': 'intensity0_AL72',\n",
      " 'iqr_capture': 0.51,\n",
      " 'iqr_error_pearson': 0.3436586272617913,\n",
      " 'iqr_error_pearson_p': 9.672052358044457e-10,\n",
      " 'iqr_error_spearman': 0.39266436293736595,\n",
      " 'iqr_error_spearman_p': 1.6859525322912535e-12,\n",
      " 'mean_error': 10.511910059352715,\n",
      " 'median_error': 10.473816603720188,\n",
      " 'mode_error': 11.28633332679669,\n",
      " 'network_seed': 908,\n",
      " 'pit_d': 0.01282358428249504,\n",
      " 'rng_seed': 908,\n",
      " 'uncertainty_type': 'shash3'}\n",
      "'intensity0_AL72_shash3_network_seed_444_rng_seed_444'\n"
     ]
    },
    {
     "name": "stderr",
     "output_type": "stream",
     "text": [
      "100%|█████████████████████████████████████████████████████████████████████████████████████████████████████████████████| 300/300 [00:03<00:00, 80.30it/s]\n"
     ]
    },
    {
     "name": "stdout",
     "output_type": "stream",
     "text": [
      "{'cons_error': 12.562334,\n",
      " 'exp_name': 'intensity0_AL72',\n",
      " 'iqr_capture': 0.5366666666666666,\n",
      " 'iqr_error_pearson': 0.23792560361081116,\n",
      " 'iqr_error_pearson_p': 3.13084004354239e-05,\n",
      " 'iqr_error_spearman': 0.2232944810497894,\n",
      " 'iqr_error_spearman_p': 9.587842112741603e-05,\n",
      " 'mean_error': 12.496201464335124,\n",
      " 'median_error': 12.331340547800064,\n",
      " 'mode_error': 13.125000020166238,\n",
      " 'network_seed': 444,\n",
      " 'pit_d': 0.024540199588030644,\n",
      " 'rng_seed': 444,\n",
      " 'uncertainty_type': 'shash3'}\n",
      "'intensity1_AL72_bnn_network_seed_605_rng_seed_605'\n"
     ]
    },
    {
     "name": "stderr",
     "output_type": "stream",
     "text": [
      "100%|███████████████████████████████████████████████████████████████████████████████████████████████████████████████| 5000/5000 [01:14<00:00, 67.26it/s]\n",
      "100%|█████████████████████████████████████████████████████████████████████████████████████████████████████████████████| 300/300 [00:20<00:00, 14.55it/s]\n"
     ]
    },
    {
     "name": "stdout",
     "output_type": "stream",
     "text": [
      "{'cons_error': 12.312666,\n",
      " 'exp_name': 'intensity1_AL72',\n",
      " 'iqr_capture': 0.54,\n",
      " 'iqr_error_pearson': 0.34820929995860483,\n",
      " 'iqr_error_pearson_p': 5.60604824833317e-10,\n",
      " 'iqr_error_spearman': 0.36964321825798063,\n",
      " 'iqr_error_spearman_p': 3.809437508570341e-11,\n",
      " 'mean_error': 11.767587003791148,\n",
      " 'median_error': 11.773073034634193,\n",
      " 'mode_error': 11.764825502977068,\n",
      " 'network_seed': 605,\n",
      " 'pit_d': 0.020602049520482987,\n",
      " 'rng_seed': 605,\n",
      " 'uncertainty_type': 'bnn'}\n",
      "'intensity1_AL72_bnn_network_seed_122_rng_seed_122'\n"
     ]
    },
    {
     "name": "stderr",
     "output_type": "stream",
     "text": [
      "100%|███████████████████████████████████████████████████████████████████████████████████████████████████████████████| 5000/5000 [01:14<00:00, 67.26it/s]\n",
      "100%|█████████████████████████████████████████████████████████████████████████████████████████████████████████████████| 300/300 [00:20<00:00, 14.44it/s]\n"
     ]
    },
    {
     "name": "stdout",
     "output_type": "stream",
     "text": [
      "{'cons_error': 11.986333,\n",
      " 'exp_name': 'intensity1_AL72',\n",
      " 'iqr_capture': 0.5533333333333333,\n",
      " 'iqr_error_pearson': 0.3251746595484005,\n",
      " 'iqr_error_pearson_p': 8.111035308146998e-09,\n",
      " 'iqr_error_spearman': 0.2932663696263291,\n",
      " 'iqr_error_spearman_p': 2.3099449211540638e-07,\n",
      " 'mean_error': 11.637721350863208,\n",
      " 'median_error': 11.61856839130322,\n",
      " 'mode_error': 11.462394084817603,\n",
      " 'network_seed': 122,\n",
      " 'pit_d': 0.023897931105246482,\n",
      " 'rng_seed': 122,\n",
      " 'uncertainty_type': 'bnn'}\n",
      "'intensity1_AL72_bnn_network_seed_786_rng_seed_786'\n"
     ]
    },
    {
     "name": "stderr",
     "output_type": "stream",
     "text": [
      "100%|███████████████████████████████████████████████████████████████████████████████████████████████████████████████| 5000/5000 [01:14<00:00, 66.69it/s]\n",
      "100%|█████████████████████████████████████████████████████████████████████████████████████████████████████████████████| 300/300 [00:20<00:00, 14.50it/s]\n"
     ]
    },
    {
     "name": "stdout",
     "output_type": "stream",
     "text": [
      "{'cons_error': 11.999333,\n",
      " 'exp_name': 'intensity1_AL72',\n",
      " 'iqr_capture': 0.5333333333333333,\n",
      " 'iqr_error_pearson': 0.3442794343966762,\n",
      " 'iqr_error_pearson_p': 8.983171991337153e-10,\n",
      " 'iqr_error_spearman': 0.38623140257113964,\n",
      " 'iqr_error_spearman_p': 4.129903782277926e-12,\n",
      " 'mean_error': 12.067099066748954,\n",
      " 'median_error': 12.051663539931178,\n",
      " 'mode_error': 12.021200512667814,\n",
      " 'network_seed': 786,\n",
      " 'pit_d': 0.030983866769658905,\n",
      " 'rng_seed': 786,\n",
      " 'uncertainty_type': 'bnn'}\n",
      "'intensity1_AL72_bnn_network_seed_311_rng_seed_311'\n"
     ]
    },
    {
     "name": "stderr",
     "output_type": "stream",
     "text": [
      "100%|███████████████████████████████████████████████████████████████████████████████████████████████████████████████| 5000/5000 [01:14<00:00, 67.12it/s]\n",
      "100%|█████████████████████████████████████████████████████████████████████████████████████████████████████████████████| 300/300 [00:20<00:00, 14.31it/s]\n"
     ]
    },
    {
     "name": "stdout",
     "output_type": "stream",
     "text": [
      "{'cons_error': 11.382333,\n",
      " 'exp_name': 'intensity1_AL72',\n",
      " 'iqr_capture': 0.58,\n",
      " 'iqr_error_pearson': 0.2652384632040695,\n",
      " 'iqr_error_pearson_p': 3.1837966585847897e-06,\n",
      " 'iqr_error_spearman': 0.2778026422515806,\n",
      " 'iqr_error_spearman_p': 1.0178911060358883e-06,\n",
      " 'mean_error': 11.20038309658991,\n",
      " 'median_error': 11.177113153263926,\n",
      " 'mode_error': 11.11384753769488,\n",
      " 'network_seed': 311,\n",
      " 'pit_d': 0.03245509718570134,\n",
      " 'rng_seed': 311,\n",
      " 'uncertainty_type': 'bnn'}\n",
      "'intensity1_AL72_bnn_network_seed_888_rng_seed_888'\n"
     ]
    },
    {
     "name": "stderr",
     "output_type": "stream",
     "text": [
      "100%|███████████████████████████████████████████████████████████████████████████████████████████████████████████████| 5000/5000 [01:14<00:00, 67.22it/s]\n",
      "100%|█████████████████████████████████████████████████████████████████████████████████████████████████████████████████| 300/300 [00:20<00:00, 14.51it/s]\n"
     ]
    },
    {
     "name": "stdout",
     "output_type": "stream",
     "text": [
      "{'cons_error': 12.403,\n",
      " 'exp_name': 'intensity1_AL72',\n",
      " 'iqr_capture': 0.5766666666666667,\n",
      " 'iqr_error_pearson': 0.37983036795253056,\n",
      " 'iqr_error_pearson_p': 9.880291580167976e-12,\n",
      " 'iqr_error_spearman': 0.35937332637029296,\n",
      " 'iqr_error_spearman_p': 1.4166848021211634e-10,\n",
      " 'mean_error': 11.917274563458644,\n",
      " 'median_error': 11.91975051711003,\n",
      " 'mode_error': 11.934497499861815,\n",
      " 'network_seed': 888,\n",
      " 'pit_d': 0.03555902760825217,\n",
      " 'rng_seed': 888,\n",
      " 'uncertainty_type': 'bnn'}\n",
      "'intensity1_AL72_bnn_network_seed_999_rng_seed_999'\n"
     ]
    },
    {
     "name": "stderr",
     "output_type": "stream",
     "text": [
      "100%|███████████████████████████████████████████████████████████████████████████████████████████████████████████████| 5000/5000 [01:14<00:00, 66.95it/s]\n",
      "100%|█████████████████████████████████████████████████████████████████████████████████████████████████████████████████| 300/300 [00:20<00:00, 14.43it/s]\n"
     ]
    },
    {
     "name": "stdout",
     "output_type": "stream",
     "text": [
      "{'cons_error': 11.493,\n",
      " 'exp_name': 'intensity1_AL72',\n",
      " 'iqr_capture': 0.5833333333333334,\n",
      " 'iqr_error_pearson': 0.3304111087289638,\n",
      " 'iqr_error_pearson_p': 4.504320681251391e-09,\n",
      " 'iqr_error_spearman': 0.3355788397648862,\n",
      " 'iqr_error_spearman_p': 2.4932328083427304e-09,\n",
      " 'mean_error': 11.41368208628403,\n",
      " 'median_error': 11.400981565018496,\n",
      " 'mode_error': 11.391150833309185,\n",
      " 'network_seed': 999,\n",
      " 'pit_d': 0.032214558475598676,\n",
      " 'rng_seed': 999,\n",
      " 'uncertainty_type': 'bnn'}\n",
      "'intensity1_AL72_bnn_network_seed_578_rng_seed_578'\n"
     ]
    },
    {
     "name": "stderr",
     "output_type": "stream",
     "text": [
      "100%|███████████████████████████████████████████████████████████████████████████████████████████████████████████████| 5000/5000 [01:14<00:00, 67.21it/s]\n",
      "100%|█████████████████████████████████████████████████████████████████████████████████████████████████████████████████| 300/300 [00:20<00:00, 14.36it/s]\n"
     ]
    },
    {
     "name": "stdout",
     "output_type": "stream",
     "text": [
      "{'cons_error': 12.792334,\n",
      " 'exp_name': 'intensity1_AL72',\n",
      " 'iqr_capture': 0.5033333333333333,\n",
      " 'iqr_error_pearson': 0.39907369682121596,\n",
      " 'iqr_error_pearson_p': 6.771569972151219e-13,\n",
      " 'iqr_error_spearman': 0.37390282114245715,\n",
      " 'iqr_error_spearman_p': 2.1791221916605516e-11,\n",
      " 'mean_error': 12.640695833739906,\n",
      " 'median_error': 12.646198193902771,\n",
      " 'mode_error': 12.652362719195702,\n",
      " 'network_seed': 578,\n",
      " 'pit_d': 0.02195955878933363,\n",
      " 'rng_seed': 578,\n",
      " 'uncertainty_type': 'bnn'}\n",
      "'intensity1_AL72_bnn_network_seed_331_rng_seed_331'\n"
     ]
    },
    {
     "name": "stderr",
     "output_type": "stream",
     "text": [
      "100%|███████████████████████████████████████████████████████████████████████████████████████████████████████████████| 5000/5000 [01:14<00:00, 67.18it/s]\n",
      "100%|█████████████████████████████████████████████████████████████████████████████████████████████████████████████████| 300/300 [00:20<00:00, 14.44it/s]\n"
     ]
    },
    {
     "name": "stdout",
     "output_type": "stream",
     "text": [
      "{'cons_error': 11.191999,\n",
      " 'exp_name': 'intensity1_AL72',\n",
      " 'iqr_capture': 0.5633333333333334,\n",
      " 'iqr_error_pearson': 0.3211806463056527,\n",
      " 'iqr_error_pearson_p': 1.2608885844398508e-08,\n",
      " 'iqr_error_spearman': 0.34630918121312454,\n",
      " 'iqr_error_spearman_p': 7.047268777929027e-10,\n",
      " 'mean_error': 10.990284575494016,\n",
      " 'median_error': 10.971749147474766,\n",
      " 'mode_error': 10.911482813497075,\n",
      " 'network_seed': 331,\n",
      " 'pit_d': 0.026915505650914825,\n",
      " 'rng_seed': 331,\n",
      " 'uncertainty_type': 'bnn'}\n",
      "'intensity1_AL72_bnn_network_seed_908_rng_seed_908'\n"
     ]
    },
    {
     "name": "stderr",
     "output_type": "stream",
     "text": [
      "100%|███████████████████████████████████████████████████████████████████████████████████████████████████████████████| 5000/5000 [01:14<00:00, 67.28it/s]\n",
      "100%|█████████████████████████████████████████████████████████████████████████████████████████████████████████████████| 300/300 [00:21<00:00, 14.21it/s]\n"
     ]
    },
    {
     "name": "stdout",
     "output_type": "stream",
     "text": [
      "{'cons_error': 11.921667,\n",
      " 'exp_name': 'intensity1_AL72',\n",
      " 'iqr_capture': 0.5733333333333334,\n",
      " 'iqr_error_pearson': 0.2563153254060694,\n",
      " 'iqr_error_pearson_p': 6.914111273542421e-06,\n",
      " 'iqr_error_spearman': 0.2913961266236291,\n",
      " 'iqr_error_spearman_p': 2.7769224710524415e-07,\n",
      " 'mean_error': 11.609039104199189,\n",
      " 'median_error': 11.587525598754485,\n",
      " 'mode_error': 11.628748409200757,\n",
      " 'network_seed': 908,\n",
      " 'pit_d': 0.023851391759997478,\n",
      " 'rng_seed': 908,\n",
      " 'uncertainty_type': 'bnn'}\n",
      "'intensity1_AL72_bnn_network_seed_444_rng_seed_444'\n"
     ]
    },
    {
     "name": "stderr",
     "output_type": "stream",
     "text": [
      "100%|███████████████████████████████████████████████████████████████████████████████████████████████████████████████| 5000/5000 [01:14<00:00, 67.11it/s]\n",
      "100%|█████████████████████████████████████████████████████████████████████████████████████████████████████████████████| 300/300 [00:20<00:00, 14.31it/s]\n"
     ]
    },
    {
     "name": "stdout",
     "output_type": "stream",
     "text": [
      "{'cons_error': 12.562334,\n",
      " 'exp_name': 'intensity1_AL72',\n",
      " 'iqr_capture': 0.55,\n",
      " 'iqr_error_pearson': 0.3464714712176419,\n",
      " 'iqr_error_pearson_p': 6.911305672192767e-10,\n",
      " 'iqr_error_spearman': 0.4135930399226658,\n",
      " 'iqr_error_spearman_p': 7.96423350700132e-14,\n",
      " 'mean_error': 12.831737198747035,\n",
      " 'median_error': 12.79497393677632,\n",
      " 'mode_error': 12.740287309360873,\n",
      " 'network_seed': 444,\n",
      " 'pit_d': 0.027968235951203478,\n",
      " 'rng_seed': 444,\n",
      " 'uncertainty_type': 'bnn'}\n",
      "'intensity4_EPCP72_shash3_network_seed_605_rng_seed_605'\n"
     ]
    },
    {
     "name": "stderr",
     "output_type": "stream",
     "text": [
      "100%|█████████████████████████████████████████████████████████████████████████████████████████████████████████████████| 512/512 [00:06<00:00, 78.33it/s]\n"
     ]
    },
    {
     "name": "stdout",
     "output_type": "stream",
     "text": [
      "{'cons_error': 15.026367,\n",
      " 'exp_name': 'intensity4_EPCP72',\n",
      " 'iqr_capture': 0.466796875,\n",
      " 'iqr_error_pearson': 0.3718254046892915,\n",
      " 'iqr_error_pearson_p': 3.1200807702308046e-18,\n",
      " 'iqr_error_spearman': 0.38663296368775824,\n",
      " 'iqr_error_spearman_p': 1.0588677047010653e-19,\n",
      " 'mean_error': 13.359158888517413,\n",
      " 'median_error': 13.306616655609105,\n",
      " 'mode_error': 13.359570303407963,\n",
      " 'network_seed': 605,\n",
      " 'pit_d': 0.015047938186254575,\n",
      " 'rng_seed': 605,\n",
      " 'uncertainty_type': 'shash3'}\n",
      "'intensity4_EPCP72_shash3_network_seed_122_rng_seed_122'\n"
     ]
    },
    {
     "name": "stderr",
     "output_type": "stream",
     "text": [
      "100%|█████████████████████████████████████████████████████████████████████████████████████████████████████████████████| 512/512 [00:06<00:00, 75.21it/s]\n"
     ]
    },
    {
     "name": "stdout",
     "output_type": "stream",
     "text": [
      "{'cons_error': 14.800196,\n",
      " 'exp_name': 'intensity4_EPCP72',\n",
      " 'iqr_capture': 0.4765625,\n",
      " 'iqr_error_pearson': 0.35159339889262964,\n",
      " 'iqr_error_pearson_p': 2.415027660245568e-16,\n",
      " 'iqr_error_spearman': 0.35332328752818115,\n",
      " 'iqr_error_spearman_p': 1.68520084879486e-16,\n",
      " 'mean_error': 13.16522850774345,\n",
      " 'median_error': 13.36695592457545,\n",
      " 'mode_error': 14.829101572016953,\n",
      " 'network_seed': 122,\n",
      " 'pit_d': 0.01652209814203085,\n",
      " 'rng_seed': 122,\n",
      " 'uncertainty_type': 'shash3'}\n",
      "'intensity4_EPCP72_shash3_network_seed_786_rng_seed_786'\n"
     ]
    },
    {
     "name": "stderr",
     "output_type": "stream",
     "text": [
      "100%|█████████████████████████████████████████████████████████████████████████████████████████████████████████████████| 512/512 [00:06<00:00, 77.57it/s]\n"
     ]
    },
    {
     "name": "stdout",
     "output_type": "stream",
     "text": [
      "{'cons_error': 15.453905,\n",
      " 'exp_name': 'intensity4_EPCP72',\n",
      " 'iqr_capture': 0.408203125,\n",
      " 'iqr_error_pearson': 0.39075118229671557,\n",
      " 'iqr_error_pearson_p': 4.005984023371681e-20,\n",
      " 'iqr_error_spearman': 0.42117359966697565,\n",
      " 'iqr_error_spearman_p': 1.9700408435986166e-23,\n",
      " 'mean_error': 13.842987923708279,\n",
      " 'median_error': 13.757158106483985,\n",
      " 'mode_error': 13.936718749115244,\n",
      " 'network_seed': 786,\n",
      " 'pit_d': 0.023596464926155157,\n",
      " 'rng_seed': 786,\n",
      " 'uncertainty_type': 'shash3'}\n",
      "'intensity4_EPCP72_shash3_network_seed_311_rng_seed_311'\n"
     ]
    },
    {
     "name": "stderr",
     "output_type": "stream",
     "text": [
      "100%|█████████████████████████████████████████████████████████████████████████████████████████████████████████████████| 512/512 [00:06<00:00, 78.13it/s]\n"
     ]
    },
    {
     "name": "stdout",
     "output_type": "stream",
     "text": [
      "{'cons_error': 15.702539,\n",
      " 'exp_name': 'intensity4_EPCP72',\n",
      " 'iqr_capture': 0.41796875,\n",
      " 'iqr_error_pearson': 0.3856899133698176,\n",
      " 'iqr_error_pearson_p': 1.3202982025577084e-19,\n",
      " 'iqr_error_spearman': 0.3850619878749385,\n",
      " 'iqr_error_spearman_p': 1.5286508221919717e-19,\n",
      " 'mean_error': 14.06234406560543,\n",
      " 'median_error': 14.058433523838175,\n",
      " 'mode_error': 14.644726579921553,\n",
      " 'network_seed': 311,\n",
      " 'pit_d': 0.026069647141774916,\n",
      " 'rng_seed': 311,\n",
      " 'uncertainty_type': 'shash3'}\n",
      "'intensity4_EPCP72_shash3_network_seed_888_rng_seed_888'\n"
     ]
    },
    {
     "name": "stderr",
     "output_type": "stream",
     "text": [
      "100%|█████████████████████████████████████████████████████████████████████████████████████████████████████████████████| 512/512 [00:06<00:00, 73.93it/s]\n"
     ]
    },
    {
     "name": "stdout",
     "output_type": "stream",
     "text": [
      "{'cons_error': 15.117969,\n",
      " 'exp_name': 'intensity4_EPCP72',\n",
      " 'iqr_capture': 0.505859375,\n",
      " 'iqr_error_pearson': 0.24209008332839999,\n",
      " 'iqr_error_pearson_p': 2.90264222272324e-08,\n",
      " 'iqr_error_spearman': 0.2086829159084927,\n",
      " 'iqr_error_spearman_p': 1.9078110306948217e-06,\n",
      " 'mean_error': 13.841968403809005,\n",
      " 'median_error': 13.729241113207536,\n",
      " 'mode_error': 14.191015618940582,\n",
      " 'network_seed': 888,\n",
      " 'pit_d': 0.018749999751647314,\n",
      " 'rng_seed': 888,\n",
      " 'uncertainty_type': 'shash3'}\n",
      "'intensity4_EPCP72_shash3_network_seed_999_rng_seed_999'\n"
     ]
    },
    {
     "name": "stderr",
     "output_type": "stream",
     "text": [
      "100%|█████████████████████████████████████████████████████████████████████████████████████████████████████████████████| 512/512 [00:06<00:00, 75.82it/s]\n"
     ]
    },
    {
     "name": "stdout",
     "output_type": "stream",
     "text": [
      "{'cons_error': 14.423046,\n",
      " 'exp_name': 'intensity4_EPCP72',\n",
      " 'iqr_capture': 0.49609375,\n",
      " 'iqr_error_pearson': 0.35123764365392107,\n",
      " 'iqr_error_pearson_p': 2.599802213373004e-16,\n",
      " 'iqr_error_spearman': 0.3586360485975212,\n",
      " 'iqr_error_spearman_p': 5.5039925172834184e-17,\n",
      " 'mean_error': 12.874286990001565,\n",
      " 'median_error': 12.837003815773642,\n",
      " 'mode_error': 13.332031247467967,\n",
      " 'network_seed': 999,\n",
      " 'pit_d': 0.00775368501001662,\n",
      " 'rng_seed': 999,\n",
      " 'uncertainty_type': 'shash3'}\n",
      "'intensity4_EPCP72_shash3_network_seed_578_rng_seed_578'\n"
     ]
    },
    {
     "name": "stderr",
     "output_type": "stream",
     "text": [
      "100%|█████████████████████████████████████████████████████████████████████████████████████████████████████████████████| 512/512 [00:06<00:00, 78.48it/s]\n"
     ]
    },
    {
     "name": "stdout",
     "output_type": "stream",
     "text": [
      "{'cons_error': 14.828516,\n",
      " 'exp_name': 'intensity4_EPCP72',\n",
      " 'iqr_capture': 0.46484375,\n",
      " 'iqr_error_pearson': 0.3003339857180525,\n",
      " 'iqr_error_pearson_p': 3.920282222942133e-12,\n",
      " 'iqr_error_spearman': 0.29797032893306324,\n",
      " 'iqr_error_spearman_p': 5.869751988878786e-12,\n",
      " 'mean_error': 12.86511340996367,\n",
      " 'median_error': 12.906930541881593,\n",
      " 'mode_error': 13.54804688677541,\n",
      " 'network_seed': 578,\n",
      " 'pit_d': 0.011448711734303622,\n",
      " 'rng_seed': 578,\n",
      " 'uncertainty_type': 'shash3'}\n",
      "'intensity4_EPCP72_shash3_network_seed_331_rng_seed_331'\n"
     ]
    },
    {
     "name": "stderr",
     "output_type": "stream",
     "text": [
      "100%|█████████████████████████████████████████████████████████████████████████████████████████████████████████████████| 512/512 [00:06<00:00, 74.57it/s]\n"
     ]
    },
    {
     "name": "stdout",
     "output_type": "stream",
     "text": [
      "{'cons_error': 14.701757,\n",
      " 'exp_name': 'intensity4_EPCP72',\n",
      " 'iqr_capture': 0.455078125,\n",
      " 'iqr_error_pearson': 0.3669618410087493,\n",
      " 'iqr_error_pearson_p': 9.131301308676754e-18,\n",
      " 'iqr_error_spearman': 0.3778439570673259,\n",
      " 'iqr_error_spearman_p': 8.054041465225065e-19,\n",
      " 'mean_error': 12.451141147437738,\n",
      " 'median_error': 12.61624942839262,\n",
      " 'mode_error': 13.640039064717712,\n",
      " 'network_seed': 331,\n",
      " 'pit_d': 0.01987586575510358,\n",
      " 'rng_seed': 331,\n",
      " 'uncertainty_type': 'shash3'}\n",
      "'intensity4_EPCP72_shash3_network_seed_908_rng_seed_908'\n"
     ]
    },
    {
     "name": "stderr",
     "output_type": "stream",
     "text": [
      "100%|█████████████████████████████████████████████████████████████████████████████████████████████████████████████████| 512/512 [00:06<00:00, 76.67it/s]\n"
     ]
    },
    {
     "name": "stdout",
     "output_type": "stream",
     "text": [
      "{'cons_error': 14.737499,\n",
      " 'exp_name': 'intensity4_EPCP72',\n",
      " 'iqr_capture': 0.46875,\n",
      " 'iqr_error_pearson': 0.387908009766203,\n",
      " 'iqr_error_pearson_p': 7.848393982494743e-20,\n",
      " 'iqr_error_spearman': 0.3754048362916424,\n",
      " 'iqr_error_spearman_p': 1.3991149843450181e-18,\n",
      " 'mean_error': 12.99496219251887,\n",
      " 'median_error': 13.010082053864608,\n",
      " 'mode_error': 13.894921885250369,\n",
      " 'network_seed': 908,\n",
      " 'pit_d': 0.017573783921278147,\n",
      " 'rng_seed': 908,\n",
      " 'uncertainty_type': 'shash3'}\n",
      "'intensity4_EPCP72_shash3_network_seed_444_rng_seed_444'\n"
     ]
    },
    {
     "name": "stderr",
     "output_type": "stream",
     "text": [
      "100%|█████████████████████████████████████████████████████████████████████████████████████████████████████████████████| 512/512 [00:06<00:00, 76.62it/s]\n"
     ]
    },
    {
     "name": "stdout",
     "output_type": "stream",
     "text": [
      "{'cons_error': 15.319141,\n",
      " 'exp_name': 'intensity4_EPCP72',\n",
      " 'iqr_capture': 0.4765625,\n",
      " 'iqr_error_pearson': 0.4090594415692456,\n",
      " 'iqr_error_pearson_p': 4.494443352985727e-22,\n",
      " 'iqr_error_spearman': 0.39004081264805845,\n",
      " 'iqr_error_spearman_p': 4.741875850743981e-20,\n",
      " 'mean_error': 13.47751412706566,\n",
      " 'median_error': 13.604191622434882,\n",
      " 'mode_error': 14.467578141746344,\n",
      " 'network_seed': 444,\n",
      " 'pit_d': 0.01923208294175932,\n",
      " 'rng_seed': 444,\n",
      " 'uncertainty_type': 'shash3'}\n",
      "'intensity5_EPCP72_bnn_network_seed_605_rng_seed_605'\n"
     ]
    },
    {
     "name": "stderr",
     "output_type": "stream",
     "text": [
      "100%|███████████████████████████████████████████████████████████████████████████████████████████████████████████████| 5000/5000 [01:17<00:00, 64.88it/s]\n",
      "100%|█████████████████████████████████████████████████████████████████████████████████████████████████████████████████| 512/512 [00:37<00:00, 13.75it/s]\n"
     ]
    },
    {
     "name": "stdout",
     "output_type": "stream",
     "text": [
      "{'cons_error': 15.026367,\n",
      " 'exp_name': 'intensity5_EPCP72',\n",
      " 'iqr_capture': 0.49609375,\n",
      " 'iqr_error_pearson': 0.2951765298047714,\n",
      " 'iqr_error_pearson_p': 9.413765481452026e-12,\n",
      " 'iqr_error_spearman': 0.28920778687586546,\n",
      " 'iqr_error_spearman_p': 2.5387029424171878e-11,\n",
      " 'mean_error': 13.99343968217344,\n",
      " 'median_error': 13.988032499997644,\n",
      " 'mode_error': 13.95812745777804,\n",
      " 'network_seed': 605,\n",
      " 'pit_d': 0.02012382323811134,\n",
      " 'rng_seed': 605,\n",
      " 'uncertainty_type': 'bnn'}\n",
      "'intensity5_EPCP72_bnn_network_seed_122_rng_seed_122'\n"
     ]
    },
    {
     "name": "stderr",
     "output_type": "stream",
     "text": [
      "100%|███████████████████████████████████████████████████████████████████████████████████████████████████████████████| 5000/5000 [01:17<00:00, 64.76it/s]\n",
      "100%|█████████████████████████████████████████████████████████████████████████████████████████████████████████████████| 512/512 [00:37<00:00, 13.74it/s]\n"
     ]
    },
    {
     "name": "stdout",
     "output_type": "stream",
     "text": [
      "{'cons_error': 14.800196,\n",
      " 'exp_name': 'intensity5_EPCP72',\n",
      " 'iqr_capture': 0.513671875,\n",
      " 'iqr_error_pearson': 0.2525030807171186,\n",
      " 'iqr_error_pearson_p': 6.886485335181475e-09,\n",
      " 'iqr_error_spearman': 0.25995854361932225,\n",
      " 'iqr_error_spearman_p': 2.361399557921216e-09,\n",
      " 'mean_error': 13.779702623120144,\n",
      " 'median_error': 13.765998945418687,\n",
      " 'mode_error': 13.789643360793587,\n",
      " 'network_seed': 122,\n",
      " 'pit_d': 0.014558316526237675,\n",
      " 'rng_seed': 122,\n",
      " 'uncertainty_type': 'bnn'}\n",
      "'intensity5_EPCP72_bnn_network_seed_786_rng_seed_786'\n"
     ]
    },
    {
     "name": "stderr",
     "output_type": "stream",
     "text": [
      "100%|███████████████████████████████████████████████████████████████████████████████████████████████████████████████| 5000/5000 [01:21<00:00, 61.58it/s]\n",
      "100%|█████████████████████████████████████████████████████████████████████████████████████████████████████████████████| 512/512 [00:37<00:00, 13.74it/s]\n"
     ]
    },
    {
     "name": "stdout",
     "output_type": "stream",
     "text": [
      "{'cons_error': 15.453905,\n",
      " 'exp_name': 'intensity5_EPCP72',\n",
      " 'iqr_capture': 0.462890625,\n",
      " 'iqr_error_pearson': 0.32844332761362377,\n",
      " 'iqr_error_pearson_p': 2.4170311435393813e-14,\n",
      " 'iqr_error_spearman': 0.3351787895824035,\n",
      " 'iqr_error_spearman_p': 6.584118133732379e-15,\n",
      " 'mean_error': 14.258685757334423,\n",
      " 'median_error': 14.254438401585503,\n",
      " 'mode_error': 14.296636082904504,\n",
      " 'network_seed': 786,\n",
      " 'pit_d': 0.016910047517119813,\n",
      " 'rng_seed': 786,\n",
      " 'uncertainty_type': 'bnn'}\n",
      "'intensity5_EPCP72_bnn_network_seed_311_rng_seed_311'\n"
     ]
    },
    {
     "name": "stderr",
     "output_type": "stream",
     "text": [
      "100%|███████████████████████████████████████████████████████████████████████████████████████████████████████████████| 5000/5000 [01:22<00:00, 60.49it/s]\n",
      "100%|█████████████████████████████████████████████████████████████████████████████████████████████████████████████████| 512/512 [00:37<00:00, 13.68it/s]\n"
     ]
    },
    {
     "name": "stdout",
     "output_type": "stream",
     "text": [
      "{'cons_error': 15.702539,\n",
      " 'exp_name': 'intensity5_EPCP72',\n",
      " 'iqr_capture': 0.4453125,\n",
      " 'iqr_error_pearson': 0.27932786288418954,\n",
      " 'iqr_error_pearson_p': 1.2468654524139294e-10,\n",
      " 'iqr_error_spearman': 0.27144791917007133,\n",
      " 'iqr_error_spearman_p': 4.2439177885355894e-10,\n",
      " 'mean_error': 14.72401850688187,\n",
      " 'median_error': 14.721143614937318,\n",
      " 'mode_error': 14.823442015071985,\n",
      " 'network_seed': 311,\n",
      " 'pit_d': 0.017552064014578882,\n",
      " 'rng_seed': 311,\n",
      " 'uncertainty_type': 'bnn'}\n",
      "'intensity5_EPCP72_bnn_network_seed_888_rng_seed_888'\n"
     ]
    },
    {
     "name": "stderr",
     "output_type": "stream",
     "text": [
      "100%|███████████████████████████████████████████████████████████████████████████████████████████████████████████████| 5000/5000 [01:21<00:00, 61.27it/s]\n",
      "100%|█████████████████████████████████████████████████████████████████████████████████████████████████████████████████| 512/512 [00:38<00:00, 13.46it/s]\n"
     ]
    },
    {
     "name": "stdout",
     "output_type": "stream",
     "text": [
      "{'cons_error': 15.117969,\n",
      " 'exp_name': 'intensity5_EPCP72',\n",
      " 'iqr_capture': 0.517578125,\n",
      " 'iqr_error_pearson': 0.2934649635595246,\n",
      " 'iqr_error_pearson_p': 1.2541305794341794e-11,\n",
      " 'iqr_error_spearman': 0.2618283186562296,\n",
      " 'iqr_error_spearman_p': 1.7958852591676363e-09,\n",
      " 'mean_error': 14.13553745274158,\n",
      " 'median_error': 14.139326525129945,\n",
      " 'mode_error': 14.20655967729813,\n",
      " 'network_seed': 888,\n",
      " 'pit_d': 0.015717499639633366,\n",
      " 'rng_seed': 888,\n",
      " 'uncertainty_type': 'bnn'}\n",
      "'intensity5_EPCP72_bnn_network_seed_999_rng_seed_999'\n"
     ]
    },
    {
     "name": "stderr",
     "output_type": "stream",
     "text": [
      "100%|███████████████████████████████████████████████████████████████████████████████████████████████████████████████| 5000/5000 [01:21<00:00, 61.41it/s]\n",
      "100%|█████████████████████████████████████████████████████████████████████████████████████████████████████████████████| 512/512 [00:38<00:00, 13.37it/s]\n"
     ]
    },
    {
     "name": "stdout",
     "output_type": "stream",
     "text": [
      "{'cons_error': 14.423046,\n",
      " 'exp_name': 'intensity5_EPCP72',\n",
      " 'iqr_capture': 0.55859375,\n",
      " 'iqr_error_pearson': 0.26244710801213555,\n",
      " 'iqr_error_pearson_p': 1.6395579072428102e-09,\n",
      " 'iqr_error_spearman': 0.2520004885215321,\n",
      " 'iqr_error_spearman_p': 7.392729562736041e-09,\n",
      " 'mean_error': 13.238282001944864,\n",
      " 'median_error': 13.24082357918087,\n",
      " 'mode_error': 13.248089883880482,\n",
      " 'network_seed': 999,\n",
      " 'pit_d': 0.01619563472002178,\n",
      " 'rng_seed': 999,\n",
      " 'uncertainty_type': 'bnn'}\n",
      "'intensity5_EPCP72_bnn_network_seed_578_rng_seed_578'\n"
     ]
    },
    {
     "name": "stderr",
     "output_type": "stream",
     "text": [
      "100%|███████████████████████████████████████████████████████████████████████████████████████████████████████████████| 5000/5000 [01:22<00:00, 60.79it/s]\n",
      "100%|█████████████████████████████████████████████████████████████████████████████████████████████████████████████████| 512/512 [00:37<00:00, 13.60it/s]\n"
     ]
    },
    {
     "name": "stdout",
     "output_type": "stream",
     "text": [
      "{'cons_error': 14.828516,\n",
      " 'exp_name': 'intensity5_EPCP72',\n",
      " 'iqr_capture': 0.51953125,\n",
      " 'iqr_error_pearson': 0.21776863679341013,\n",
      " 'iqr_error_pearson_p': 6.513602465349855e-07,\n",
      " 'iqr_error_spearman': 0.2181856610704844,\n",
      " 'iqr_error_spearman_p': 6.193127142973073e-07,\n",
      " 'mean_error': 13.589262862599826,\n",
      " 'median_error': 13.583173154955148,\n",
      " 'mode_error': 13.698377293062128,\n",
      " 'network_seed': 578,\n",
      " 'pit_d': 0.010290578025249603,\n",
      " 'rng_seed': 578,\n",
      " 'uncertainty_type': 'bnn'}\n",
      "'intensity5_EPCP72_bnn_network_seed_331_rng_seed_331'\n"
     ]
    },
    {
     "name": "stderr",
     "output_type": "stream",
     "text": [
      "100%|███████████████████████████████████████████████████████████████████████████████████████████████████████████████| 5000/5000 [01:21<00:00, 61.50it/s]\n",
      "100%|█████████████████████████████████████████████████████████████████████████████████████████████████████████████████| 512/512 [00:37<00:00, 13.75it/s]\n"
     ]
    },
    {
     "name": "stdout",
     "output_type": "stream",
     "text": [
      "{'cons_error': 14.701757,\n",
      " 'exp_name': 'intensity5_EPCP72',\n",
      " 'iqr_capture': 0.505859375,\n",
      " 'iqr_error_pearson': 0.29670002316713884,\n",
      " 'iqr_error_pearson_p': 7.28068293325801e-12,\n",
      " 'iqr_error_spearman': 0.30553722705736946,\n",
      " 'iqr_error_spearman_p': 1.5912760289125665e-12,\n",
      " 'mean_error': 13.580678022816507,\n",
      " 'median_error': 13.5918135165266,\n",
      " 'mode_error': 13.790509064176167,\n",
      " 'network_seed': 331,\n",
      " 'pit_d': 0.014610628288488317,\n",
      " 'rng_seed': 331,\n",
      " 'uncertainty_type': 'bnn'}\n",
      "'intensity5_EPCP72_bnn_network_seed_908_rng_seed_908'\n"
     ]
    },
    {
     "name": "stderr",
     "output_type": "stream",
     "text": [
      "100%|███████████████████████████████████████████████████████████████████████████████████████████████████████████████| 5000/5000 [01:21<00:00, 61.47it/s]\n",
      "100%|█████████████████████████████████████████████████████████████████████████████████████████████████████████████████| 512/512 [00:38<00:00, 13.47it/s]\n"
     ]
    },
    {
     "name": "stdout",
     "output_type": "stream",
     "text": [
      "{'cons_error': 14.737499,\n",
      " 'exp_name': 'intensity5_EPCP72',\n",
      " 'iqr_capture': 0.51953125,\n",
      " 'iqr_error_pearson': 0.2832872454186226,\n",
      " 'iqr_error_pearson_p': 6.63867646273469e-11,\n",
      " 'iqr_error_spearman': 0.28203901949508475,\n",
      " 'iqr_error_spearman_p': 8.106783366845729e-11,\n",
      " 'mean_error': 13.612668803162668,\n",
      " 'median_error': 13.61417861020891,\n",
      " 'mode_error': 13.712570384972539,\n",
      " 'network_seed': 908,\n",
      " 'pit_d': 0.018912060057672195,\n",
      " 'rng_seed': 908,\n",
      " 'uncertainty_type': 'bnn'}\n",
      "'intensity5_EPCP72_bnn_network_seed_444_rng_seed_444'\n"
     ]
    },
    {
     "name": "stderr",
     "output_type": "stream",
     "text": [
      "100%|███████████████████████████████████████████████████████████████████████████████████████████████████████████████| 5000/5000 [01:21<00:00, 61.46it/s]\n",
      "100%|█████████████████████████████████████████████████████████████████████████████████████████████████████████████████| 512/512 [00:37<00:00, 13.70it/s]\n"
     ]
    },
    {
     "name": "stdout",
     "output_type": "stream",
     "text": [
      "{'cons_error': 15.319141,\n",
      " 'exp_name': 'intensity5_EPCP72',\n",
      " 'iqr_capture': 0.48828125,\n",
      " 'iqr_error_pearson': 0.3746468123939951,\n",
      " 'iqr_error_pearson_p': 1.6595032337252122e-18,\n",
      " 'iqr_error_spearman': 0.3527936386342569,\n",
      " 'iqr_error_spearman_p': 1.8819149625566585e-16,\n",
      " 'mean_error': 14.281047038137132,\n",
      " 'median_error': 14.26737970202521,\n",
      " 'mode_error': 14.27488232097209,\n",
      " 'network_seed': 444,\n",
      " 'pit_d': 0.01374977805218597,\n",
      " 'rng_seed': 444,\n",
      " 'uncertainty_type': 'bnn'}\n",
      "'intensity12_AL48_shash3_network_seed_605_rng_seed_605'\n"
     ]
    },
    {
     "name": "stderr",
     "output_type": "stream",
     "text": [
      "100%|█████████████████████████████████████████████████████████████████████████████████████████████████████████████████| 300/300 [00:04<00:00, 71.09it/s]\n"
     ]
    },
    {
     "name": "stdout",
     "output_type": "stream",
     "text": [
      "{'cons_error': 10.629,\n",
      " 'exp_name': 'intensity12_AL48',\n",
      " 'iqr_capture': 0.5266666666666666,\n",
      " 'iqr_error_pearson': 0.4037566284112315,\n",
      " 'iqr_error_pearson_p': 3.43399403844877e-13,\n",
      " 'iqr_error_spearman': 0.4218953543928266,\n",
      " 'iqr_error_spearman_p': 2.2338576517974918e-14,\n",
      " 'mean_error': 8.968428672800462,\n",
      " 'median_error': 9.015095760673285,\n",
      " 'mode_error': 9.778333335171142,\n",
      " 'network_seed': 605,\n",
      " 'pit_d': 0.012909930215666079,\n",
      " 'rng_seed': 605,\n",
      " 'uncertainty_type': 'shash3'}\n",
      "'intensity12_AL48_shash3_network_seed_122_rng_seed_122'\n"
     ]
    },
    {
     "name": "stderr",
     "output_type": "stream",
     "text": [
      "100%|█████████████████████████████████████████████████████████████████████████████████████████████████████████████████| 300/300 [00:04<00:00, 70.32it/s]\n"
     ]
    },
    {
     "name": "stdout",
     "output_type": "stream",
     "text": [
      "{'cons_error': 13.415,\n",
      " 'exp_name': 'intensity12_AL48',\n",
      " 'iqr_capture': 0.52,\n",
      " 'iqr_error_pearson': 0.3098430361633989,\n",
      " 'iqr_error_pearson_p': 4.26112125903223e-08,\n",
      " 'iqr_error_spearman': 0.31333414815720173,\n",
      " 'iqr_error_spearman_p': 2.9446232714811897e-08,\n",
      " 'mean_error': 13.046166051924228,\n",
      " 'median_error': 13.067402358750503,\n",
      " 'mode_error': 13.415000031093756,\n",
      " 'network_seed': 122,\n",
      " 'pit_d': 0.02333331196257487,\n",
      " 'rng_seed': 122,\n",
      " 'uncertainty_type': 'shash3'}\n",
      "'intensity12_AL48_shash3_network_seed_786_rng_seed_786'\n"
     ]
    },
    {
     "name": "stderr",
     "output_type": "stream",
     "text": [
      "100%|█████████████████████████████████████████████████████████████████████████████████████████████████████████████████| 300/300 [00:04<00:00, 70.93it/s]\n"
     ]
    },
    {
     "name": "stdout",
     "output_type": "stream",
     "text": [
      "{'cons_error': 11.42,\n",
      " 'exp_name': 'intensity12_AL48',\n",
      " 'iqr_capture': 0.47,\n",
      " 'iqr_error_pearson': 0.504605176454822,\n",
      " 'iqr_error_pearson_p': 8.73181487371087e-21,\n",
      " 'iqr_error_spearman': 0.4414977944199379,\n",
      " 'iqr_error_spearman_p': 9.632606946621244e-16,\n",
      " 'mean_error': 10.878194273362556,\n",
      " 'median_error': 10.757083536734184,\n",
      " 'mode_error': 11.043333330899477,\n",
      " 'network_seed': 786,\n",
      " 'pit_d': 0.01429839238207734,\n",
      " 'rng_seed': 786,\n",
      " 'uncertainty_type': 'shash3'}\n",
      "'intensity12_AL48_shash3_network_seed_311_rng_seed_311'\n"
     ]
    },
    {
     "name": "stderr",
     "output_type": "stream",
     "text": [
      "100%|█████████████████████████████████████████████████████████████████████████████████████████████████████████████████| 300/300 [00:04<00:00, 70.48it/s]\n"
     ]
    },
    {
     "name": "stdout",
     "output_type": "stream",
     "text": [
      "{'cons_error': 11.377999,\n",
      " 'exp_name': 'intensity12_AL48',\n",
      " 'iqr_capture': 0.47333333333333333,\n",
      " 'iqr_error_pearson': 0.4796395938412723,\n",
      " 'iqr_error_pearson_p': 1.1518684967043038e-18,\n",
      " 'iqr_error_spearman': 0.4533454816164624,\n",
      " 'iqr_error_spearman_p': 1.3025666588631373e-16,\n",
      " 'mean_error': 11.137962052325408,\n",
      " 'median_error': 10.985566257536412,\n",
      " 'mode_error': 10.996000030338765,\n",
      " 'network_seed': 311,\n",
      " 'pit_d': 0.013581029037771747,\n",
      " 'rng_seed': 311,\n",
      " 'uncertainty_type': 'shash3'}\n",
      "'intensity12_AL48_shash3_network_seed_888_rng_seed_888'\n"
     ]
    },
    {
     "name": "stderr",
     "output_type": "stream",
     "text": [
      "100%|█████████████████████████████████████████████████████████████████████████████████████████████████████████████████| 300/300 [00:04<00:00, 70.21it/s]\n"
     ]
    },
    {
     "name": "stdout",
     "output_type": "stream",
     "text": [
      "{'cons_error': 11.000334,\n",
      " 'exp_name': 'intensity12_AL48',\n",
      " 'iqr_capture': 0.49666666666666665,\n",
      " 'iqr_error_pearson': 0.4472705336240569,\n",
      " 'iqr_error_pearson_p': 3.6692463330835485e-16,\n",
      " 'iqr_error_spearman': 0.4118352426138068,\n",
      " 'iqr_error_spearman_p': 1.0377491424903457e-13,\n",
      " 'mean_error': 9.345531602303186,\n",
      " 'median_error': 9.328444484770298,\n",
      " 'mode_error': 9.68100000858307,\n",
      " 'network_seed': 888,\n",
      " 'pit_d': 0.016599859122235428,\n",
      " 'rng_seed': 888,\n",
      " 'uncertainty_type': 'shash3'}\n",
      "'intensity12_AL48_shash3_network_seed_999_rng_seed_999'\n"
     ]
    },
    {
     "name": "stderr",
     "output_type": "stream",
     "text": [
      "100%|█████████████████████████████████████████████████████████████████████████████████████████████████████████████████| 300/300 [00:04<00:00, 69.37it/s]\n"
     ]
    },
    {
     "name": "stdout",
     "output_type": "stream",
     "text": [
      "{'cons_error': 11.533667,\n",
      " 'exp_name': 'intensity12_AL48',\n",
      " 'iqr_capture': 0.47,\n",
      " 'iqr_error_pearson': 0.4718011922465587,\n",
      " 'iqr_error_pearson_p': 4.921863198834957e-18,\n",
      " 'iqr_error_spearman': 0.47616706852298357,\n",
      " 'iqr_error_spearman_p': 2.2020205881084356e-18,\n",
      " 'mean_error': 9.639821846882501,\n",
      " 'median_error': 9.682957873543103,\n",
      " 'mode_error': 10.454333335558573,\n",
      " 'network_seed': 999,\n",
      " 'pit_d': 0.019032118224711014,\n",
      " 'rng_seed': 999,\n",
      " 'uncertainty_type': 'shash3'}\n",
      "'intensity12_AL48_shash3_network_seed_578_rng_seed_578'\n"
     ]
    },
    {
     "name": "stderr",
     "output_type": "stream",
     "text": [
      "100%|█████████████████████████████████████████████████████████████████████████████████████████████████████████████████| 300/300 [00:04<00:00, 69.94it/s]\n"
     ]
    },
    {
     "name": "stdout",
     "output_type": "stream",
     "text": [
      "{'cons_error': 10.916333,\n",
      " 'exp_name': 'intensity12_AL48',\n",
      " 'iqr_capture': 0.45,\n",
      " 'iqr_error_pearson': 0.48899889036319927,\n",
      " 'iqr_error_pearson_p': 1.9354636846920782e-19,\n",
      " 'iqr_error_spearman': 0.4873676374181935,\n",
      " 'iqr_error_spearman_p': 2.651606156816257e-19,\n",
      " 'mean_error': 9.67183488354087,\n",
      " 'median_error': 9.666610870013635,\n",
      " 'mode_error': 10.29700000261267,\n",
      " 'network_seed': 578,\n",
      " 'pit_d': 0.025121894405776026,\n",
      " 'rng_seed': 578,\n",
      " 'uncertainty_type': 'shash3'}\n",
      "'intensity12_AL48_shash3_network_seed_331_rng_seed_331'\n"
     ]
    },
    {
     "name": "stderr",
     "output_type": "stream",
     "text": [
      "100%|█████████████████████████████████████████████████████████████████████████████████████████████████████████████████| 300/300 [00:04<00:00, 68.44it/s]\n"
     ]
    },
    {
     "name": "stdout",
     "output_type": "stream",
     "text": [
      "{'cons_error': 10.658999,\n",
      " 'exp_name': 'intensity12_AL48',\n",
      " 'iqr_capture': 0.5266666666666666,\n",
      " 'iqr_error_pearson': 0.46749176379615,\n",
      " 'iqr_error_pearson_p': 1.076615020731698e-17,\n",
      " 'iqr_error_spearman': 0.4055889509883443,\n",
      " 'iqr_error_spearman_p': 2.625130565711619e-13,\n",
      " 'mean_error': 9.626312405914069,\n",
      " 'median_error': 9.555921243677536,\n",
      " 'mode_error': 9.907666668941577,\n",
      " 'network_seed': 331,\n",
      " 'pit_d': 0.01903212189477998,\n",
      " 'rng_seed': 331,\n",
      " 'uncertainty_type': 'shash3'}\n",
      "'intensity12_AL48_shash3_network_seed_908_rng_seed_908'\n"
     ]
    },
    {
     "name": "stderr",
     "output_type": "stream",
     "text": [
      "100%|█████████████████████████████████████████████████████████████████████████████████████████████████████████████████| 300/300 [00:04<00:00, 69.97it/s]\n"
     ]
    },
    {
     "name": "stdout",
     "output_type": "stream",
     "text": [
      "{'cons_error': 12.115,\n",
      " 'exp_name': 'intensity12_AL48',\n",
      " 'iqr_capture': 0.49,\n",
      " 'iqr_error_pearson': 0.3585974799018986,\n",
      " 'iqr_error_pearson_p': 1.561514675721287e-10,\n",
      " 'iqr_error_spearman': 0.3833571484127602,\n",
      " 'iqr_error_spearman_p': 6.124432930102769e-12,\n",
      " 'mean_error': 9.587533347457647,\n",
      " 'median_error': 9.757867447386186,\n",
      " 'mode_error': 10.653666693915923,\n",
      " 'network_seed': 908,\n",
      " 'pit_d': 0.023237872324192832,\n",
      " 'rng_seed': 908,\n",
      " 'uncertainty_type': 'shash3'}\n",
      "'intensity12_AL48_shash3_network_seed_444_rng_seed_444'\n"
     ]
    },
    {
     "name": "stderr",
     "output_type": "stream",
     "text": [
      "100%|█████████████████████████████████████████████████████████████████████████████████████████████████████████████████| 300/300 [00:04<00:00, 67.90it/s]\n"
     ]
    },
    {
     "name": "stdout",
     "output_type": "stream",
     "text": [
      "{'cons_error': 11.648667,\n",
      " 'exp_name': 'intensity12_AL48',\n",
      " 'iqr_capture': 0.4666666666666667,\n",
      " 'iqr_error_pearson': 0.4514114301701216,\n",
      " 'iqr_error_pearson_p': 1.8153788624339344e-16,\n",
      " 'iqr_error_spearman': 0.4260096223291369,\n",
      " 'iqr_error_spearman_p': 1.1743013156109049e-14,\n",
      " 'mean_error': 10.737259049713611,\n",
      " 'median_error': 10.80174475779136,\n",
      " 'mode_error': 11.542000023126603,\n",
      " 'network_seed': 444,\n",
      " 'pit_d': 0.023990708440630813,\n",
      " 'rng_seed': 444,\n",
      " 'uncertainty_type': 'shash3'}\n",
      "'intensity13_AL48_bnn_network_seed_605_rng_seed_605'\n"
     ]
    },
    {
     "name": "stderr",
     "output_type": "stream",
     "text": [
      "100%|███████████████████████████████████████████████████████████████████████████████████████████████████████████████| 5000/5000 [01:35<00:00, 52.42it/s]\n",
      "100%|█████████████████████████████████████████████████████████████████████████████████████████████████████████████████| 300/300 [00:25<00:00, 11.56it/s]\n"
     ]
    },
    {
     "name": "stdout",
     "output_type": "stream",
     "text": [
      "{'cons_error': 10.629,\n",
      " 'exp_name': 'intensity13_AL48',\n",
      " 'iqr_capture': 0.57,\n",
      " 'iqr_error_pearson': 0.40550617948231915,\n",
      " 'iqr_error_pearson_p': 2.657270167991391e-13,\n",
      " 'iqr_error_spearman': 0.3566564072934143,\n",
      " 'iqr_error_spearman_p': 1.9897958264103783e-10,\n",
      " 'mean_error': 10.127686186052248,\n",
      " 'median_error': 10.105579461976886,\n",
      " 'mode_error': 10.066885885478587,\n",
      " 'network_seed': 605,\n",
      " 'pit_d': 0.019999999999999928,\n",
      " 'rng_seed': 605,\n",
      " 'uncertainty_type': 'bnn'}\n",
      "'intensity13_AL48_bnn_network_seed_122_rng_seed_122'\n"
     ]
    },
    {
     "name": "stderr",
     "output_type": "stream",
     "text": [
      "100%|███████████████████████████████████████████████████████████████████████████████████████████████████████████████| 5000/5000 [01:45<00:00, 47.38it/s]\n",
      "100%|█████████████████████████████████████████████████████████████████████████████████████████████████████████████████| 300/300 [00:26<00:00, 11.44it/s]\n"
     ]
    },
    {
     "name": "stdout",
     "output_type": "stream",
     "text": [
      "{'cons_error': 13.415,\n",
      " 'exp_name': 'intensity13_AL48',\n",
      " 'iqr_capture': 0.49666666666666665,\n",
      " 'iqr_error_pearson': 0.42392472010487087,\n",
      " 'iqr_error_pearson_p': 1.628462884443405e-14,\n",
      " 'iqr_error_spearman': 0.40547428304758937,\n",
      " 'iqr_error_spearman_p': 2.6697577024799225e-13,\n",
      " 'mean_error': 12.394260853420327,\n",
      " 'median_error': 12.407761458928386,\n",
      " 'mode_error': 12.53047484148034,\n",
      " 'network_seed': 122,\n",
      " 'pit_d': 0.02113448997886319,\n",
      " 'rng_seed': 122,\n",
      " 'uncertainty_type': 'bnn'}\n",
      "'intensity13_AL48_bnn_network_seed_786_rng_seed_786'\n"
     ]
    },
    {
     "name": "stderr",
     "output_type": "stream",
     "text": [
      "100%|███████████████████████████████████████████████████████████████████████████████████████████████████████████████| 5000/5000 [01:50<00:00, 45.43it/s]\n",
      "100%|█████████████████████████████████████████████████████████████████████████████████████████████████████████████████| 300/300 [00:24<00:00, 12.46it/s]\n"
     ]
    },
    {
     "name": "stdout",
     "output_type": "stream",
     "text": [
      "{'cons_error': 11.42,\n",
      " 'exp_name': 'intensity13_AL48',\n",
      " 'iqr_capture': 0.53,\n",
      " 'iqr_error_pearson': 0.40383294361243294,\n",
      " 'iqr_error_pearson_p': 3.395904349224009e-13,\n",
      " 'iqr_error_spearman': 0.3928888098756652,\n",
      " 'iqr_error_spearman_p': 1.63348998883218e-12,\n",
      " 'mean_error': 11.233220019230911,\n",
      " 'median_error': 11.217796228416264,\n",
      " 'mode_error': 11.19605671096249,\n",
      " 'network_seed': 786,\n",
      " 'pit_d': 0.022607766610417183,\n",
      " 'rng_seed': 786,\n",
      " 'uncertainty_type': 'bnn'}\n",
      "'intensity13_AL48_bnn_network_seed_311_rng_seed_311'\n"
     ]
    },
    {
     "name": "stderr",
     "output_type": "stream",
     "text": [
      "100%|███████████████████████████████████████████████████████████████████████████████████████████████████████████████| 5000/5000 [01:53<00:00, 43.93it/s]\n",
      "100%|█████████████████████████████████████████████████████████████████████████████████████████████████████████████████| 300/300 [00:24<00:00, 12.19it/s]\n"
     ]
    },
    {
     "name": "stdout",
     "output_type": "stream",
     "text": [
      "{'cons_error': 11.377999,\n",
      " 'exp_name': 'intensity13_AL48',\n",
      " 'iqr_capture': 0.5233333333333333,\n",
      " 'iqr_error_pearson': 0.3964998848876876,\n",
      " 'iqr_error_pearson_p': 9.790439423434461e-13,\n",
      " 'iqr_error_spearman': 0.38208735652618364,\n",
      " 'iqr_error_spearman_p': 7.280070146811008e-12,\n",
      " 'mean_error': 11.448188371107253,\n",
      " 'median_error': 11.444510967954994,\n",
      " 'mode_error': 11.469350048909595,\n",
      " 'network_seed': 311,\n",
      " 'pit_d': 0.02943920288775904,\n",
      " 'rng_seed': 311,\n",
      " 'uncertainty_type': 'bnn'}\n",
      "'intensity13_AL48_bnn_network_seed_888_rng_seed_888'\n"
     ]
    },
    {
     "name": "stderr",
     "output_type": "stream",
     "text": [
      "100%|███████████████████████████████████████████████████████████████████████████████████████████████████████████████| 5000/5000 [01:49<00:00, 45.60it/s]\n",
      "100%|█████████████████████████████████████████████████████████████████████████████████████████████████████████████████| 300/300 [00:25<00:00, 11.60it/s]\n"
     ]
    },
    {
     "name": "stdout",
     "output_type": "stream",
     "text": [
      "{'cons_error': 11.000334,\n",
      " 'exp_name': 'intensity13_AL48',\n",
      " 'iqr_capture': 0.58,\n",
      " 'iqr_error_pearson': 0.33875984833147565,\n",
      " 'iqr_error_pearson_p': 1.7229283331564536e-09,\n",
      " 'iqr_error_spearman': 0.3362730697007745,\n",
      " 'iqr_error_spearman_p': 2.3008663191392233e-09,\n",
      " 'mean_error': 10.420230582666505,\n",
      " 'median_error': 10.415758461231986,\n",
      " 'mode_error': 10.483980322965175,\n",
      " 'network_seed': 888,\n",
      " 'pit_d': 0.028440972010268628,\n",
      " 'rng_seed': 888,\n",
      " 'uncertainty_type': 'bnn'}\n",
      "'intensity13_AL48_bnn_network_seed_999_rng_seed_999'\n"
     ]
    },
    {
     "name": "stderr",
     "output_type": "stream",
     "text": [
      "100%|███████████████████████████████████████████████████████████████████████████████████████████████████████████████| 5000/5000 [01:45<00:00, 47.22it/s]\n",
      "100%|█████████████████████████████████████████████████████████████████████████████████████████████████████████████████| 300/300 [00:25<00:00, 11.64it/s]\n"
     ]
    },
    {
     "name": "stdout",
     "output_type": "stream",
     "text": [
      "{'cons_error': 11.533667,\n",
      " 'exp_name': 'intensity13_AL48',\n",
      " 'iqr_capture': 0.59,\n",
      " 'iqr_error_pearson': 0.4381994935495046,\n",
      " 'iqr_error_pearson_p': 1.6584042608512065e-15,\n",
      " 'iqr_error_spearman': 0.39323681374237496,\n",
      " 'iqr_error_spearman_p': 1.5552828234278833e-12,\n",
      " 'mean_error': 10.630644284349206,\n",
      " 'median_error': 10.620939735254893,\n",
      " 'mode_error': 10.568745747851777,\n",
      " 'network_seed': 999,\n",
      " 'pit_d': 0.02323790007724443,\n",
      " 'rng_seed': 999,\n",
      " 'uncertainty_type': 'bnn'}\n",
      "'intensity13_AL48_bnn_network_seed_578_rng_seed_578'\n"
     ]
    },
    {
     "name": "stderr",
     "output_type": "stream",
     "text": [
      "100%|███████████████████████████████████████████████████████████████████████████████████████████████████████████████| 5000/5000 [01:25<00:00, 58.28it/s]\n",
      "100%|█████████████████████████████████████████████████████████████████████████████████████████████████████████████████| 300/300 [00:21<00:00, 13.78it/s]\n"
     ]
    },
    {
     "name": "stdout",
     "output_type": "stream",
     "text": [
      "{'cons_error': 10.916333,\n",
      " 'exp_name': 'intensity13_AL48',\n",
      " 'iqr_capture': 0.59,\n",
      " 'iqr_error_pearson': 0.45069601354710753,\n",
      " 'iqr_error_pearson_p': 2.0514656207714205e-16,\n",
      " 'iqr_error_spearman': 0.435595951066123,\n",
      " 'iqr_error_spearman_p': 2.535921795462914e-15,\n",
      " 'mean_error': 10.478630298781646,\n",
      " 'median_error': 10.470055843411634,\n",
      " 'mode_error': 10.497457794472252,\n",
      " 'network_seed': 578,\n",
      " 'pit_d': 0.030147784145586443,\n",
      " 'rng_seed': 578,\n",
      " 'uncertainty_type': 'bnn'}\n",
      "'intensity13_AL48_bnn_network_seed_331_rng_seed_331'\n"
     ]
    },
    {
     "name": "stderr",
     "output_type": "stream",
     "text": [
      "100%|███████████████████████████████████████████████████████████████████████████████████████████████████████████████| 5000/5000 [01:29<00:00, 55.59it/s]\n",
      "100%|█████████████████████████████████████████████████████████████████████████████████████████████████████████████████| 300/300 [00:21<00:00, 13.91it/s]\n"
     ]
    },
    {
     "name": "stdout",
     "output_type": "stream",
     "text": [
      "{'cons_error': 10.658999,\n",
      " 'exp_name': 'intensity13_AL48',\n",
      " 'iqr_capture': 0.5466666666666666,\n",
      " 'iqr_error_pearson': 0.4153155176030899,\n",
      " 'iqr_error_pearson_p': 6.135514739129341e-14,\n",
      " 'iqr_error_spearman': 0.3742757141746019,\n",
      " 'iqr_error_spearman_p': 2.0743234958769312e-11,\n",
      " 'mean_error': 10.579632880047821,\n",
      " 'median_error': 10.557748390262326,\n",
      " 'mode_error': 10.472168500970902,\n",
      " 'network_seed': 331,\n",
      " 'pit_d': 0.024810392087904174,\n",
      " 'rng_seed': 331,\n",
      " 'uncertainty_type': 'bnn'}\n",
      "'intensity13_AL48_bnn_network_seed_908_rng_seed_908'\n"
     ]
    },
    {
     "name": "stderr",
     "output_type": "stream",
     "text": [
      "100%|███████████████████████████████████████████████████████████████████████████████████████████████████████████████| 5000/5000 [01:24<00:00, 58.94it/s]\n",
      "100%|█████████████████████████████████████████████████████████████████████████████████████████████████████████████████| 300/300 [00:20<00:00, 14.53it/s]\n"
     ]
    },
    {
     "name": "stdout",
     "output_type": "stream",
     "text": [
      "{'cons_error': 12.115,\n",
      " 'exp_name': 'intensity13_AL48',\n",
      " 'iqr_capture': 0.5033333333333333,\n",
      " 'iqr_error_pearson': 0.32792545764248326,\n",
      " 'iqr_error_pearson_p': 5.9633313012627135e-09,\n",
      " 'iqr_error_spearman': 0.3418037978199758,\n",
      " 'iqr_error_spearman_p': 1.204962336271909e-09,\n",
      " 'mean_error': 11.519696817133285,\n",
      " 'median_error': 11.511993476698796,\n",
      " 'mode_error': 11.536239267183882,\n",
      " 'network_seed': 908,\n",
      " 'pit_d': 0.026161889160464618,\n",
      " 'rng_seed': 908,\n",
      " 'uncertainty_type': 'bnn'}\n",
      "'intensity13_AL48_bnn_network_seed_444_rng_seed_444'\n"
     ]
    },
    {
     "name": "stderr",
     "output_type": "stream",
     "text": [
      "100%|███████████████████████████████████████████████████████████████████████████████████████████████████████████████| 5000/5000 [01:26<00:00, 57.51it/s]\n",
      "100%|█████████████████████████████████████████████████████████████████████████████████████████████████████████████████| 300/300 [00:20<00:00, 14.47it/s]\n"
     ]
    },
    {
     "name": "stdout",
     "output_type": "stream",
     "text": [
      "{'cons_error': 11.648667,\n",
      " 'exp_name': 'intensity13_AL48',\n",
      " 'iqr_capture': 0.5,\n",
      " 'iqr_error_pearson': 0.35400531212800934,\n",
      " 'iqr_error_pearson_p': 2.763298219059388e-10,\n",
      " 'iqr_error_spearman': 0.37569039655996167,\n",
      " 'iqr_error_spearman_p': 1.719573376795332e-11,\n",
      " 'mean_error': 11.17195586967402,\n",
      " 'median_error': 11.16913215391338,\n",
      " 'mode_error': 11.276204893115086,\n",
      " 'network_seed': 444,\n",
      " 'pit_d': 0.029476921292578596,\n",
      " 'rng_seed': 444,\n",
      " 'uncertainty_type': 'bnn'}\n",
      "'intensity2_EPCP48_shash3_network_seed_605_rng_seed_605'\n"
     ]
    },
    {
     "name": "stderr",
     "output_type": "stream",
     "text": [
      "100%|█████████████████████████████████████████████████████████████████████████████████████████████████████████████████| 512/512 [00:06<00:00, 76.09it/s]\n"
     ]
    },
    {
     "name": "stdout",
     "output_type": "stream",
     "text": [
      "{'cons_error': 13.0855465,\n",
      " 'exp_name': 'intensity2_EPCP48',\n",
      " 'iqr_capture': 0.513671875,\n",
      " 'iqr_error_pearson': 0.38871998180412726,\n",
      " 'iqr_error_pearson_p': 6.481252147351806e-20,\n",
      " 'iqr_error_spearman': 0.3675537123344892,\n",
      " 'iqr_error_spearman_p': 8.020483264716577e-18,\n",
      " 'mean_error': 11.059177423361689,\n",
      " 'median_error': 11.060987962409854,\n",
      " 'mode_error': 11.95390624430729,\n",
      " 'network_seed': 605,\n",
      " 'pit_d': 0.014240411532342161,\n",
      " 'rng_seed': 605,\n",
      " 'uncertainty_type': 'shash3'}\n",
      "'intensity2_EPCP48_shash3_network_seed_122_rng_seed_122'\n"
     ]
    },
    {
     "name": "stderr",
     "output_type": "stream",
     "text": [
      "100%|█████████████████████████████████████████████████████████████████████████████████████████████████████████████████| 512/512 [00:07<00:00, 71.57it/s]\n"
     ]
    },
    {
     "name": "stdout",
     "output_type": "stream",
     "text": [
      "{'cons_error': 13.450001,\n",
      " 'exp_name': 'intensity2_EPCP48',\n",
      " 'iqr_capture': 0.4921875,\n",
      " 'iqr_error_pearson': 0.3572598645631663,\n",
      " 'iqr_error_pearson_p': 7.369536848557256e-17,\n",
      " 'iqr_error_spearman': 0.38252675424291327,\n",
      " 'iqr_error_spearman_p': 2.753249179045258e-19,\n",
      " 'mean_error': 12.055452138592955,\n",
      " 'median_error': 12.128673315572087,\n",
      " 'mode_error': 13.128906255820766,\n",
      " 'network_seed': 122,\n",
      " 'pit_d': 0.015741751016382335,\n",
      " 'rng_seed': 122,\n",
      " 'uncertainty_type': 'shash3'}\n",
      "'intensity2_EPCP48_shash3_network_seed_786_rng_seed_786'\n"
     ]
    },
    {
     "name": "stderr",
     "output_type": "stream",
     "text": [
      "100%|█████████████████████████████████████████████████████████████████████████████████████████████████████████████████| 512/512 [00:07<00:00, 70.29it/s]\n"
     ]
    },
    {
     "name": "stdout",
     "output_type": "stream",
     "text": [
      "{'cons_error': 14.532812,\n",
      " 'exp_name': 'intensity2_EPCP48',\n",
      " 'iqr_capture': 0.46875,\n",
      " 'iqr_error_pearson': 0.40699274559753806,\n",
      " 'iqr_error_pearson_p': 7.566728132750584e-22,\n",
      " 'iqr_error_spearman': 0.40015572964946616,\n",
      " 'iqr_error_spearman_p': 4.1320022589138945e-21,\n",
      " 'mean_error': 12.84736053951201,\n",
      " 'median_error': 13.006866859301226,\n",
      " 'mode_error': 14.097265628835885,\n",
      " 'network_seed': 786,\n",
      " 'pit_d': 0.01450581579431675,\n",
      " 'rng_seed': 786,\n",
      " 'uncertainty_type': 'shash3'}\n",
      "'intensity2_EPCP48_shash3_network_seed_311_rng_seed_311'\n"
     ]
    },
    {
     "name": "stderr",
     "output_type": "stream",
     "text": [
      "100%|█████████████████████████████████████████████████████████████████████████████████████████████████████████████████| 512/512 [00:07<00:00, 70.26it/s]\n"
     ]
    },
    {
     "name": "stdout",
     "output_type": "stream",
     "text": [
      "{'cons_error': 13.40918,\n",
      " 'exp_name': 'intensity2_EPCP48',\n",
      " 'iqr_capture': 0.501953125,\n",
      " 'iqr_error_pearson': 0.36331151870905165,\n",
      " 'iqr_error_pearson_p': 2.0201686703928726e-17,\n",
      " 'iqr_error_spearman': 0.3625153422940914,\n",
      " 'iqr_error_spearman_p': 2.398939859002826e-17,\n",
      " 'mean_error': 12.35203674461809,\n",
      " 'median_error': 12.333622523612576,\n",
      " 'mode_error': 13.068164097348927,\n",
      " 'network_seed': 311,\n",
      " 'pit_d': 0.00915263614816329,\n",
      " 'rng_seed': 311,\n",
      " 'uncertainty_type': 'shash3'}\n",
      "'intensity2_EPCP48_shash3_network_seed_888_rng_seed_888'\n"
     ]
    },
    {
     "name": "stderr",
     "output_type": "stream",
     "text": [
      "100%|█████████████████████████████████████████████████████████████████████████████████████████████████████████████████| 512/512 [00:07<00:00, 66.30it/s]\n"
     ]
    },
    {
     "name": "stdout",
     "output_type": "stream",
     "text": [
      "{'cons_error': 13.818554,\n",
      " 'exp_name': 'intensity2_EPCP48',\n",
      " 'iqr_capture': 0.494140625,\n",
      " 'iqr_error_pearson': 0.362004802827412,\n",
      " 'iqr_error_pearson_p': 2.677727229145734e-17,\n",
      " 'iqr_error_spearman': 0.3807859045444662,\n",
      " 'iqr_error_spearman_p': 4.1117429433793125e-19,\n",
      " 'mean_error': 12.270096505264519,\n",
      " 'median_error': 12.244164741510758,\n",
      " 'mode_error': 12.906835961824981,\n",
      " 'network_seed': 888,\n",
      " 'pit_d': 0.01358229547802577,\n",
      " 'rng_seed': 888,\n",
      " 'uncertainty_type': 'shash3'}\n",
      "'intensity2_EPCP48_shash3_network_seed_999_rng_seed_999'\n"
     ]
    },
    {
     "name": "stderr",
     "output_type": "stream",
     "text": [
      "100%|█████████████████████████████████████████████████████████████████████████████████████████████████████████████████| 512/512 [00:07<00:00, 66.75it/s]\n"
     ]
    },
    {
     "name": "stdout",
     "output_type": "stream",
     "text": [
      "{'cons_error': 13.725195,\n",
      " 'exp_name': 'intensity2_EPCP48',\n",
      " 'iqr_capture': 0.505859375,\n",
      " 'iqr_error_pearson': 0.38627348427664554,\n",
      " 'iqr_error_pearson_p': 1.151881127423093e-19,\n",
      " 'iqr_error_spearman': 0.39330176540094525,\n",
      " 'iqr_error_spearman_p': 2.1790501597358065e-20,\n",
      " 'mean_error': 11.772360166622093,\n",
      " 'median_error': 11.780224884481868,\n",
      " 'mode_error': 12.684960946353385,\n",
      " 'network_seed': 999,\n",
      " 'pit_d': 0.009560342200565591,\n",
      " 'rng_seed': 999,\n",
      " 'uncertainty_type': 'shash3'}\n",
      "'intensity2_EPCP48_shash3_network_seed_578_rng_seed_578'\n"
     ]
    },
    {
     "name": "stderr",
     "output_type": "stream",
     "text": [
      "100%|█████████████████████████████████████████████████████████████████████████████████████████████████████████████████| 512/512 [00:07<00:00, 65.84it/s]\n"
     ]
    },
    {
     "name": "stdout",
     "output_type": "stream",
     "text": [
      "{'cons_error': 13.403515,\n",
      " 'exp_name': 'intensity2_EPCP48',\n",
      " 'iqr_capture': 0.458984375,\n",
      " 'iqr_error_pearson': 0.3471322452644517,\n",
      " 'iqr_error_pearson_p': 6.046468245704598e-16,\n",
      " 'iqr_error_spearman': 0.36766153754820846,\n",
      " 'iqr_error_spearman_p': 7.832953858131639e-18,\n",
      " 'mean_error': 12.304744564957218,\n",
      " 'median_error': 12.24218214963912,\n",
      " 'mode_error': 12.68164064202574,\n",
      " 'network_seed': 578,\n",
      " 'pit_d': 0.015073266395423364,\n",
      " 'rng_seed': 578,\n",
      " 'uncertainty_type': 'shash3'}\n",
      "'intensity2_EPCP48_shash3_network_seed_331_rng_seed_331'\n"
     ]
    },
    {
     "name": "stderr",
     "output_type": "stream",
     "text": [
      "100%|█████████████████████████████████████████████████████████████████████████████████████████████████████████████████| 512/512 [00:07<00:00, 65.48it/s]\n"
     ]
    },
    {
     "name": "stdout",
     "output_type": "stream",
     "text": [
      "{'cons_error': 13.412695,\n",
      " 'exp_name': 'intensity2_EPCP48',\n",
      " 'iqr_capture': 0.474609375,\n",
      " 'iqr_error_pearson': 0.4096143069714817,\n",
      " 'iqr_error_pearson_p': 3.9054233937824324e-22,\n",
      " 'iqr_error_spearman': 0.4086875114441355,\n",
      " 'iqr_error_spearman_p': 4.937487288744296e-22,\n",
      " 'mean_error': 11.706952060689218,\n",
      " 'median_error': 11.75087443634402,\n",
      " 'mode_error': 12.692382831592113,\n",
      " 'network_seed': 331,\n",
      " 'pit_d': 0.01471469359122538,\n",
      " 'rng_seed': 331,\n",
      " 'uncertainty_type': 'shash3'}\n",
      "'intensity2_EPCP48_shash3_network_seed_908_rng_seed_908'\n"
     ]
    },
    {
     "name": "stderr",
     "output_type": "stream",
     "text": [
      "100%|█████████████████████████████████████████████████████████████████████████████████████████████████████████████████| 512/512 [00:07<00:00, 65.13it/s]\n"
     ]
    },
    {
     "name": "stdout",
     "output_type": "stream",
     "text": [
      "{'cons_error': 13.402929,\n",
      " 'exp_name': 'intensity2_EPCP48',\n",
      " 'iqr_capture': 0.48828125,\n",
      " 'iqr_error_pearson': 0.33430620952263423,\n",
      " 'iqr_error_pearson_p': 7.806421826756514e-15,\n",
      " 'iqr_error_spearman': 0.3349493704294984,\n",
      " 'iqr_error_spearman_p': 6.885960563972571e-15,\n",
      " 'mean_error': 11.77291142361355,\n",
      " 'median_error': 11.789346007426502,\n",
      " 'mode_error': 12.691992201231187,\n",
      " 'network_seed': 908,\n",
      " 'pit_d': 0.015472892889193787,\n",
      " 'rng_seed': 908,\n",
      " 'uncertainty_type': 'shash3'}\n",
      "'intensity2_EPCP48_shash3_network_seed_444_rng_seed_444'\n"
     ]
    },
    {
     "name": "stderr",
     "output_type": "stream",
     "text": [
      "100%|█████████████████████████████████████████████████████████████████████████████████████████████████████████████████| 512/512 [00:07<00:00, 65.95it/s]\n"
     ]
    },
    {
     "name": "stdout",
     "output_type": "stream",
     "text": [
      "{'cons_error': 14.137499,\n",
      " 'exp_name': 'intensity2_EPCP48',\n",
      " 'iqr_capture': 0.5,\n",
      " 'iqr_error_pearson': 0.34379967316574656,\n",
      " 'iqr_error_pearson_p': 1.1888343042653755e-15,\n",
      " 'iqr_error_spearman': 0.353940197954933,\n",
      " 'iqr_error_spearman_p': 1.481459434520025e-16,\n",
      " 'mean_error': 12.085648510284955,\n",
      " 'median_error': 12.236680519912625,\n",
      " 'mode_error': 13.57539066017489,\n",
      " 'network_seed': 444,\n",
      " 'pit_d': 0.0189523583022806,\n",
      " 'rng_seed': 444,\n",
      " 'uncertainty_type': 'shash3'}\n",
      "'intensity3_EPCP48_bnn_network_seed_605_rng_seed_605'\n"
     ]
    },
    {
     "name": "stderr",
     "output_type": "stream",
     "text": [
      "100%|███████████████████████████████████████████████████████████████████████████████████████████████████████████████| 5000/5000 [01:24<00:00, 59.50it/s]\n",
      "100%|█████████████████████████████████████████████████████████████████████████████████████████████████████████████████| 512/512 [00:37<00:00, 13.79it/s]\n"
     ]
    },
    {
     "name": "stdout",
     "output_type": "stream",
     "text": [
      "{'cons_error': 13.0855465,\n",
      " 'exp_name': 'intensity3_EPCP48',\n",
      " 'iqr_capture': 0.537109375,\n",
      " 'iqr_error_pearson': 0.31273749677584656,\n",
      " 'iqr_error_pearson_p': 4.4350513856991285e-13,\n",
      " 'iqr_error_spearman': 0.31604240695917873,\n",
      " 'iqr_error_spearman_p': 2.4384947643040593e-13,\n",
      " 'mean_error': 12.163641319249358,\n",
      " 'median_error': 12.16302441012158,\n",
      " 'mode_error': 12.138416147929464,\n",
      " 'network_seed': 605,\n",
      " 'pit_d': 0.016660053212606343,\n",
      " 'rng_seed': 605,\n",
      " 'uncertainty_type': 'bnn'}\n",
      "'intensity3_EPCP48_bnn_network_seed_122_rng_seed_122'\n"
     ]
    },
    {
     "name": "stderr",
     "output_type": "stream",
     "text": [
      "100%|███████████████████████████████████████████████████████████████████████████████████████████████████████████████| 5000/5000 [01:22<00:00, 60.58it/s]\n",
      "100%|█████████████████████████████████████████████████████████████████████████████████████████████████████████████████| 512/512 [00:36<00:00, 13.95it/s]\n"
     ]
    },
    {
     "name": "stdout",
     "output_type": "stream",
     "text": [
      "{'cons_error': 13.450001,\n",
      " 'exp_name': 'intensity3_EPCP48',\n",
      " 'iqr_capture': 0.5078125,\n",
      " 'iqr_error_pearson': 0.296884386470767,\n",
      " 'iqr_error_pearson_p': 7.057049717265325e-12,\n",
      " 'iqr_error_spearman': 0.3303948727412137,\n",
      " 'iqr_error_spearman_p': 1.663687254356842e-14,\n",
      " 'mean_error': 12.367584421782507,\n",
      " 'median_error': 12.356226364849135,\n",
      " 'mode_error': 12.40428280334779,\n",
      " 'network_seed': 122,\n",
      " 'pit_d': 0.019172486237200043,\n",
      " 'rng_seed': 122,\n",
      " 'uncertainty_type': 'bnn'}\n",
      "'intensity3_EPCP48_bnn_network_seed_786_rng_seed_786'\n"
     ]
    },
    {
     "name": "stderr",
     "output_type": "stream",
     "text": [
      "100%|███████████████████████████████████████████████████████████████████████████████████████████████████████████████| 5000/5000 [01:18<00:00, 63.65it/s]\n",
      "100%|█████████████████████████████████████████████████████████████████████████████████████████████████████████████████| 512/512 [00:35<00:00, 14.29it/s]\n"
     ]
    },
    {
     "name": "stdout",
     "output_type": "stream",
     "text": [
      "{'cons_error': 14.532812,\n",
      " 'exp_name': 'intensity3_EPCP48',\n",
      " 'iqr_capture': 0.50390625,\n",
      " 'iqr_error_pearson': 0.35867815680767323,\n",
      " 'iqr_error_pearson_p': 5.454933453065641e-17,\n",
      " 'iqr_error_spearman': 0.37525570490152327,\n",
      " 'iqr_error_spearman_p': 1.4469445484088289e-18,\n",
      " 'mean_error': 13.269943134343816,\n",
      " 'median_error': 13.269901770196157,\n",
      " 'mode_error': 13.332222071677329,\n",
      " 'network_seed': 786,\n",
      " 'pit_d': 0.019052731872276872,\n",
      " 'rng_seed': 786,\n",
      " 'uncertainty_type': 'bnn'}\n",
      "'intensity3_EPCP48_bnn_network_seed_311_rng_seed_311'\n"
     ]
    },
    {
     "name": "stderr",
     "output_type": "stream",
     "text": [
      "100%|███████████████████████████████████████████████████████████████████████████████████████████████████████████████| 5000/5000 [01:15<00:00, 65.99it/s]\n",
      "100%|█████████████████████████████████████████████████████████████████████████████████████████████████████████████████| 512/512 [00:35<00:00, 14.34it/s]\n"
     ]
    },
    {
     "name": "stdout",
     "output_type": "stream",
     "text": [
      "{'cons_error': 13.40918,\n",
      " 'exp_name': 'intensity3_EPCP48',\n",
      " 'iqr_capture': 0.51953125,\n",
      " 'iqr_error_pearson': 0.32128672386439694,\n",
      " 'iqr_error_pearson_p': 9.294782723236784e-14,\n",
      " 'iqr_error_spearman': 0.3265044925384237,\n",
      " 'iqr_error_spearman_p': 3.4937135660457926e-14,\n",
      " 'mean_error': 12.258476143837047,\n",
      " 'median_error': 12.266214167037106,\n",
      " 'mode_error': 12.494988969945505,\n",
      " 'network_seed': 311,\n",
      " 'pit_d': 0.015910478011262736,\n",
      " 'rng_seed': 311,\n",
      " 'uncertainty_type': 'bnn'}\n",
      "'intensity3_EPCP48_bnn_network_seed_888_rng_seed_888'\n"
     ]
    },
    {
     "name": "stderr",
     "output_type": "stream",
     "text": [
      "100%|███████████████████████████████████████████████████████████████████████████████████████████████████████████████| 5000/5000 [01:14<00:00, 67.00it/s]\n",
      "100%|█████████████████████████████████████████████████████████████████████████████████████████████████████████████████| 512/512 [00:35<00:00, 14.27it/s]\n"
     ]
    },
    {
     "name": "stdout",
     "output_type": "stream",
     "text": [
      "{'cons_error': 13.818554,\n",
      " 'exp_name': 'intensity3_EPCP48',\n",
      " 'iqr_capture': 0.498046875,\n",
      " 'iqr_error_pearson': 0.2854571686107785,\n",
      " 'iqr_error_pearson_p': 4.679648149954136e-11,\n",
      " 'iqr_error_spearman': 0.29046869814376125,\n",
      " 'iqr_error_spearman_p': 2.062684453703205e-11,\n",
      " 'mean_error': 12.727096655875162,\n",
      " 'median_error': 12.709020694099308,\n",
      " 'mode_error': 12.684899577339609,\n",
      " 'network_seed': 888,\n",
      " 'pit_d': 0.019449045757038444,\n",
      " 'rng_seed': 888,\n",
      " 'uncertainty_type': 'bnn'}\n",
      "'intensity3_EPCP48_bnn_network_seed_999_rng_seed_999'\n"
     ]
    },
    {
     "name": "stderr",
     "output_type": "stream",
     "text": [
      "100%|███████████████████████████████████████████████████████████████████████████████████████████████████████████████| 5000/5000 [01:14<00:00, 67.38it/s]\n",
      "100%|█████████████████████████████████████████████████████████████████████████████████████████████████████████████████| 512/512 [00:35<00:00, 14.27it/s]\n"
     ]
    },
    {
     "name": "stdout",
     "output_type": "stream",
     "text": [
      "{'cons_error': 13.725195,\n",
      " 'exp_name': 'intensity3_EPCP48',\n",
      " 'iqr_capture': 0.5546875,\n",
      " 'iqr_error_pearson': 0.2848586771845985,\n",
      " 'iqr_error_pearson_p': 5.1550326882607303e-11,\n",
      " 'iqr_error_spearman': 0.29429989070850643,\n",
      " 'iqr_error_spearman_p': 1.0906240218997562e-11,\n",
      " 'mean_error': 12.31579928213283,\n",
      " 'median_error': 12.311825200342355,\n",
      " 'mode_error': 12.361439771463813,\n",
      " 'network_seed': 999,\n",
      " 'pit_d': 0.020406184197826527,\n",
      " 'rng_seed': 999,\n",
      " 'uncertainty_type': 'bnn'}\n",
      "'intensity3_EPCP48_bnn_network_seed_578_rng_seed_578'\n"
     ]
    },
    {
     "name": "stderr",
     "output_type": "stream",
     "text": [
      "100%|███████████████████████████████████████████████████████████████████████████████████████████████████████████████| 5000/5000 [01:14<00:00, 67.12it/s]\n",
      "100%|█████████████████████████████████████████████████████████████████████████████████████████████████████████████████| 512/512 [00:35<00:00, 14.39it/s]\n"
     ]
    },
    {
     "name": "stdout",
     "output_type": "stream",
     "text": [
      "{'cons_error': 13.403515,\n",
      " 'exp_name': 'intensity3_EPCP48',\n",
      " 'iqr_capture': 0.4921875,\n",
      " 'iqr_error_pearson': 0.29349612298973804,\n",
      " 'iqr_error_pearson_p': 1.2476196197799976e-11,\n",
      " 'iqr_error_spearman': 0.3334368669962578,\n",
      " 'iqr_error_spearman_p': 9.244818183955237e-15,\n",
      " 'mean_error': 12.546752403099182,\n",
      " 'median_error': 12.535326232769876,\n",
      " 'mode_error': 12.566059042114325,\n",
      " 'network_seed': 578,\n",
      " 'pit_d': 0.015982244176155302,\n",
      " 'rng_seed': 578,\n",
      " 'uncertainty_type': 'bnn'}\n",
      "'intensity3_EPCP48_bnn_network_seed_331_rng_seed_331'\n"
     ]
    },
    {
     "name": "stderr",
     "output_type": "stream",
     "text": [
      "100%|███████████████████████████████████████████████████████████████████████████████████████████████████████████████| 5000/5000 [01:14<00:00, 67.09it/s]\n",
      "100%|█████████████████████████████████████████████████████████████████████████████████████████████████████████████████| 512/512 [00:35<00:00, 14.28it/s]\n"
     ]
    },
    {
     "name": "stdout",
     "output_type": "stream",
     "text": [
      "{'cons_error': 13.412695,\n",
      " 'exp_name': 'intensity3_EPCP48',\n",
      " 'iqr_capture': 0.517578125,\n",
      " 'iqr_error_pearson': 0.3282844869273568,\n",
      " 'iqr_error_pearson_p': 2.4913445847430406e-14,\n",
      " 'iqr_error_spearman': 0.3276072422780696,\n",
      " 'iqr_error_spearman_p': 2.834141441825721e-14,\n",
      " 'mean_error': 12.297815480867218,\n",
      " 'median_error': 12.312497654791514,\n",
      " 'mode_error': 12.460978384212266,\n",
      " 'network_seed': 331,\n",
      " 'pit_d': 0.013412722432335466,\n",
      " 'rng_seed': 331,\n",
      " 'uncertainty_type': 'bnn'}\n",
      "'intensity3_EPCP48_bnn_network_seed_908_rng_seed_908'\n"
     ]
    },
    {
     "name": "stderr",
     "output_type": "stream",
     "text": [
      "100%|███████████████████████████████████████████████████████████████████████████████████████████████████████████████| 5000/5000 [01:14<00:00, 67.38it/s]\n",
      "100%|█████████████████████████████████████████████████████████████████████████████████████████████████████████████████| 512/512 [00:35<00:00, 14.29it/s]\n"
     ]
    },
    {
     "name": "stdout",
     "output_type": "stream",
     "text": [
      "{'cons_error': 13.402929,\n",
      " 'exp_name': 'intensity3_EPCP48',\n",
      " 'iqr_capture': 0.529296875,\n",
      " 'iqr_error_pearson': 0.31275789013369737,\n",
      " 'iqr_error_pearson_p': 4.4188124110766e-13,\n",
      " 'iqr_error_spearman': 0.33913291719595795,\n",
      " 'iqr_error_spearman_p': 3.0228288167823958e-15,\n",
      " 'mean_error': 12.590265611913328,\n",
      " 'median_error': 12.60427193778014,\n",
      " 'mode_error': 12.75728248607324,\n",
      " 'network_seed': 908,\n",
      " 'pit_d': 0.01675139190811841,\n",
      " 'rng_seed': 908,\n",
      " 'uncertainty_type': 'bnn'}\n",
      "'intensity3_EPCP48_bnn_network_seed_444_rng_seed_444'\n"
     ]
    },
    {
     "name": "stderr",
     "output_type": "stream",
     "text": [
      "100%|███████████████████████████████████████████████████████████████████████████████████████████████████████████████| 5000/5000 [01:14<00:00, 67.31it/s]\n",
      "100%|█████████████████████████████████████████████████████████████████████████████████████████████████████████████████| 512/512 [00:35<00:00, 14.25it/s]\n"
     ]
    },
    {
     "name": "stdout",
     "output_type": "stream",
     "text": [
      "{'cons_error': 14.137499,\n",
      " 'exp_name': 'intensity3_EPCP48',\n",
      " 'iqr_capture': 0.53125,\n",
      " 'iqr_error_pearson': 0.3239406579551075,\n",
      " 'iqr_error_pearson_p': 5.663968085995632e-14,\n",
      " 'iqr_error_spearman': 0.320704461639258,\n",
      " 'iqr_error_spearman_p': 1.0355050734120458e-13,\n",
      " 'mean_error': 12.735750582085496,\n",
      " 'median_error': 12.723766089358833,\n",
      " 'mode_error': 12.712663480789265,\n",
      " 'network_seed': 444,\n",
      " 'pit_d': 0.014320549046737002,\n",
      " 'rng_seed': 444,\n",
      " 'uncertainty_type': 'bnn'}\n"
     ]
    }
   ],
   "source": [
    "import imp\n",
    "imp.reload(model_diagnostics)\n",
    "\n",
    "for exp_name in EXP_NAME_LIST:\n",
    "    settings = experiment_settings.get_settings(exp_name)\n",
    "    RNG_SEED_LIST = np.copy(settings['rng_seed'])\n",
    "\n",
    "    for rng_seed in RNG_SEED_LIST:\n",
    "        settings['rng_seed'] = rng_seed\n",
    "        NETWORK_SEED_LIST = [settings[\"rng_seed\"]]\n",
    "        network_seed = NETWORK_SEED_LIST[0]\n",
    "        tf.random.set_seed(network_seed)  # This sets the global random seed.    \n",
    "\n",
    "        #----------------------------------------------------------------------------------------------------\n",
    "        # get the data\n",
    "        (\n",
    "            x_train,\n",
    "            onehot_train,\n",
    "            x_val,\n",
    "            onehot_val,\n",
    "            x_eval,\n",
    "            onehot_eval,    \n",
    "            data_summary,\n",
    "            df_val,\n",
    "            df_eval,\n",
    "        ) = build_hurricane_data(DATA_PATH, settings, verbose=0)\n",
    "\n",
    "        #----------------------------------------------------------------------------------------------------\n",
    "        # get the model\n",
    "        if settings[\"uncertainty_type\"] == \"bnn\":       \n",
    "            model_name_bnn = (\n",
    "                exp_name + \"_\" + settings[\"uncertainty_type\"] + '_' + f\"network_seed_{network_seed}_rng_seed_{settings['rng_seed']}\"\n",
    "            )\n",
    "            model_bnn = build_bnn_model(\n",
    "                x_train,\n",
    "                onehot_train,\n",
    "                hiddens=settings[\"hiddens\"],\n",
    "                output_shape=onehot_train.shape[1],\n",
    "                ridge_penalty=settings[\"ridge_param\"],\n",
    "                act_fun=settings[\"act_fun\"],\n",
    "            )\n",
    "            try:\n",
    "                model_bnn.load_weights(MODEL_PATH + model_name_bnn + \"_weights.h5\")\n",
    "            except:\n",
    "                print('tf model does not exist. skipping...')\n",
    "                continue\n",
    "            model_name = model_name_bnn\n",
    "\n",
    "        elif settings[\"uncertainty_type\"][:5] == \"shash\": \n",
    "            model_name_shash = (\n",
    "                exp_name + \"_\" + settings[\"uncertainty_type\"] + '_' + f\"network_seed_{network_seed}_rng_seed_{settings['rng_seed']}\"\n",
    "            )\n",
    "            model_shash = build_shash_model(\n",
    "                x_train,\n",
    "                onehot_train,\n",
    "                hiddens=settings[\"hiddens\"],\n",
    "                output_shape=onehot_train.shape[1],\n",
    "                ridge_penalty=settings[\"ridge_param\"],\n",
    "                act_fun=settings[\"act_fun\"],\n",
    "            )\n",
    "            try:\n",
    "                model_shash.load_weights(MODEL_PATH + model_name_shash + \"_weights.h5\")\n",
    "            except:\n",
    "                print('tf model does not exist. skipping...')\n",
    "                continue\n",
    "            model_name = model_name_shash\n",
    "\n",
    "        #----------------------------------------------------------------------------------------------------\n",
    "        # check if the metric filename exists already\n",
    "        metric_filename = METRIC_PATH + model_name + '_metrics.pkl'\n",
    "        if (os.path.exists(metric_filename) and OVERWRITE_METRICS==False):\n",
    "            # print(metric_filename + ' exists. Skipping...')\n",
    "            continue\n",
    "            \n",
    "        # get metrics and put into a dictionary\n",
    "        pprint.pprint(model_name)\n",
    "        \n",
    "        # if running out of cluster comparison, grab only the cluster that was not seen during training\n",
    "        if(settings[\"train_condition\"]=='cluster'):\n",
    "            print('grabbing out of sample ' + 'CLUSTER')\n",
    "            i_index = np.where(data_summary[\"cluster_eval\"] == data_summary[\"cluster_out\"])[0]\n",
    "            x_eval = x_eval[i_index,:]\n",
    "            onehot_eval = onehot_eval[i_index,:]\n",
    "            df_eval.iloc[i_index]       \n",
    "        \n",
    "        # compute the metrics\n",
    "        mean_error, median_error, mode_error, pit_D, iqr_capture, cons_error, iqr_error_spearman,iqr_error_pearson = get_metrics()        \n",
    "        d = {'uncertainty_type': settings[\"uncertainty_type\"],\n",
    "             'network_seed': network_seed,\n",
    "             'rng_seed': settings['rng_seed'],\n",
    "             'exp_name': exp_name,\n",
    "             'mean_error': mean_error,\n",
    "             'median_error': median_error,\n",
    "             'mode_error': mode_error,\n",
    "             'cons_error': cons_error,\n",
    "             'pit_d': pit_D,\n",
    "             'iqr_capture': iqr_capture,\n",
    "             'iqr_error_spearman': iqr_error_spearman[0],\n",
    "             'iqr_error_pearson': iqr_error_pearson[0],             \n",
    "             'iqr_error_spearman_p': iqr_error_spearman[1],\n",
    "             'iqr_error_pearson_p': iqr_error_pearson[1],             \n",
    "        }\n",
    "        pprint.pprint(d, width=80)  \n",
    "        df = pd.DataFrame(data=d, index=[0])\n",
    "        df.to_pickle(metric_filename)"
   ]
  },
  {
   "cell_type": "code",
   "execution_count": 7,
   "metadata": {},
   "outputs": [
    {
     "ename": "ValueError",
     "evalue": "do not plot yet",
     "output_type": "error",
     "traceback": [
      "\u001b[0;31m---------------------------------------------------------------------------\u001b[0m",
      "\u001b[0;31mValueError\u001b[0m                                Traceback (most recent call last)",
      "Input \u001b[0;32mIn [7]\u001b[0m, in \u001b[0;36m<module>\u001b[0;34m\u001b[0m\n\u001b[0;32m----> 1\u001b[0m \u001b[38;5;28;01mraise\u001b[39;00m \u001b[38;5;167;01mValueError\u001b[39;00m(\u001b[38;5;124m'\u001b[39m\u001b[38;5;124mdo not plot yet\u001b[39m\u001b[38;5;124m'\u001b[39m)\n",
      "\u001b[0;31mValueError\u001b[0m: do not plot yet"
     ]
    }
   ],
   "source": [
    "raise ValueError('do not plot yet')"
   ]
  },
  {
   "cell_type": "code",
   "execution_count": null,
   "metadata": {},
   "outputs": [],
   "source": [
    "df_metrics = pd.DataFrame()\n",
    "\n",
    "for exp_name in EXP_NAME_LIST:\n",
    "    settings = experiment_settings.get_settings(exp_name)\n",
    "    RNG_SEED_LIST = np.copy(settings['rng_seed'])\n",
    "    \n",
    "    for rng_seed in RNG_SEED_LIST:\n",
    "        settings['rng_seed'] = rng_seed\n",
    "        NETWORK_SEED_LIST = [settings[\"rng_seed\"]]\n",
    "        network_seed = NETWORK_SEED_LIST[0]\n",
    "    \n",
    "        model_name = (\n",
    "                exp_name + \"_\" + settings[\"uncertainty_type\"] + '_' + f\"network_seed_{network_seed}_rng_seed_{settings['rng_seed']}\"\n",
    "        )\n",
    "        \n",
    "        # load the metric filename\n",
    "        metric_filename = METRIC_PATH + model_name + '_metrics.pkl'\n",
    "        if os.path.exists(metric_filename)==False:\n",
    "            print(metric_filename + ' DOES NOT exist. Skipping...')\n",
    "            continue\n",
    "    \n",
    "        # pprint.pprint(model_name)\n",
    "        df = pd.read_pickle(metric_filename)\n",
    "        df['basin_lead'] = exp_name[exp_name.rfind('_')+1:]\n",
    "        df['mean_error_reduction'] = df['cons_error']-df['mean_error']\n",
    "        df['median_error_reduction'] = df['cons_error']-df['median_error']        \n",
    "        df['mode_error_reduction'] = df['cons_error']-df['mode_error']        \n",
    "        df_metrics = pd.concat([df_metrics,df])\n",
    "df_metrics"
   ]
  },
  {
   "cell_type": "code",
   "execution_count": null,
   "metadata": {},
   "outputs": [],
   "source": [
    "raise ValueError('do not plot yet')"
   ]
  },
  {
   "cell_type": "code",
   "execution_count": null,
   "metadata": {},
   "outputs": [],
   "source": [
    "import seaborn as sns\n",
    "f, axs = plt.subplots(4, 2, figsize=(15,20))\n",
    "axs = axs.flatten()\n",
    "colors = ('#D95980','#284E60')#('#E1A730','#284E60')\n",
    "\n",
    "for imetric, metric in enumerate(('mean_error',\n",
    "                                  'mean_error_reduction',\n",
    "                                  'median_error',\n",
    "                                  'median_error_reduction',                                  \n",
    "                                  'mode_error',\n",
    "                                  'mode_error_reduction',                                  \n",
    "                                  'pit_d',\n",
    "                                  'iqr_capture')):\n",
    "    ax = axs[imetric]\n",
    "    g1 = sns.boxplot(x='basin_lead', \n",
    "                     y=metric, \n",
    "                     hue=\"uncertainty_type\",\n",
    "                     data=df_metrics,\n",
    "                     palette=colors,\n",
    "                     boxprops={'alpha':.2,\n",
    "                               'edgecolor': 'white',\n",
    "                              },\n",
    "                     fliersize=0,\n",
    "                     ax=ax)\n",
    "    g2 = sns.swarmplot(x=\"basin_lead\", \n",
    "                       y=metric, \n",
    "                       hue=\"uncertainty_type\",\n",
    "                       palette=colors,\n",
    "                       data=df_metrics, \n",
    "                       dodge=True,\n",
    "                       ax=ax)\n",
    "    \n",
    "    if(metric=='iqr_capture'):\n",
    "        ax.axhline(y=0.5,linewidth=3,linestyle='--',color='gray')\n",
    "        ax.set_ylim(0,1.0)\n",
    "    if(metric=='pit_d'):\n",
    "        ax.set_ylim(0,None)\n",
    "    if(metric.find('reduction') > -1):\n",
    "        ax.axhline(y=0.0,linewidth=3,linestyle='--',color='gray')\n",
    "        ax.set_ylim(-4.,4.)\n",
    "    if(metric.find('reduction') == -1 and metric.find('error') > -1):\n",
    "        ax.set_ylim(0.,22.)\n",
    "\n",
    "    \n",
    "    ax.set_title(metric + APPEND_NAME)\n",
    "    ax.legend(fontsize=10,frameon=True)\n",
    "\n",
    "plt.savefig(FIGURE_PATH + 'comparisonsMetrics' + APPEND_NAME + '.png', dpi=dpiFig)    \n",
    "plt.tight_layout()\n",
    "plt.show()"
   ]
  },
  {
   "cell_type": "code",
   "execution_count": null,
   "metadata": {},
   "outputs": [],
   "source": [
    "# import seaborn as sns\n",
    "# f, axs = plt.subplots(4, 2, figsize=(15,50))\n",
    "# axs = axs.flatten()\n",
    "\n",
    "# for imetric, metric in enumerate(('mean_error',\n",
    "#                                   'mean_improvement',\n",
    "#                                   'median_error',\n",
    "#                                   'median_improvement',                                  \n",
    "#                                   'mode_error',\n",
    "#                                   'mode_improvement',                                  \n",
    "#                                   'pit_d',\n",
    "#                                   'iqr_capture')):\n",
    "#     ax = axs[imetric]\n",
    "#     g1 = sns.boxplot(x='exp_name', \n",
    "#                      y=metric, \n",
    "#                      hue=\"uncertainty_type\",\n",
    "#                      data=df_metrics,\n",
    "#                      boxprops=dict(alpha=.4),\n",
    "#                      ax=ax)\n",
    "#     g2 = sns.swarmplot(x=\"exp_name\", \n",
    "#                        y=metric, \n",
    "#                        hue=\"uncertainty_type\", \n",
    "#                        data=df_metrics, \n",
    "#                        dodge=True,\n",
    "#                        ax=ax)\n",
    "    \n",
    "#     if(metric=='iqr_capture'):\n",
    "#         ax.axhline(y=0.5,linewidth=3,linestyle='--',color='gray')\n",
    "#     if(metric=='pit_d'):\n",
    "#         ax.set_ylim(0,None)\n",
    "#     if(metric.find('improvement') > -1):\n",
    "#         ax.axhline(y=0.0,linewidth=3,linestyle='--',color='gray')\n",
    "    \n",
    "#     ax.set_title(metric)\n",
    "#     ax.legend(fontsize=10,frameon=True)\n",
    "#     ax.set_xticklabels(ax.get_xticklabels(),rotation = 30)\n",
    "\n",
    "# # plt.savefig(FIGURE_PATH + 'comparisonsMetrics.png', dpi=dpiFig)    \n",
    "# plt.tight_layout()\n",
    "# plt.show()"
   ]
  },
  {
   "cell_type": "code",
   "execution_count": null,
   "metadata": {},
   "outputs": [],
   "source": []
  }
 ],
 "metadata": {
  "kernelspec": {
   "display_name": "Python 3 (ipykernel)",
   "language": "python",
   "name": "python3"
  },
  "language_info": {
   "codemirror_mode": {
    "name": "ipython",
    "version": 3
   },
   "file_extension": ".py",
   "mimetype": "text/x-python",
   "name": "python",
   "nbconvert_exporter": "python",
   "pygments_lexer": "ipython3",
   "version": "3.9.9"
  }
 },
 "nbformat": 4,
 "nbformat_minor": 4
}
