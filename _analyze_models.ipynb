{
 "cells": [
  {
   "cell_type": "markdown",
   "metadata": {},
   "source": [
    "# Analyze and plot methods for hurricane forecast uncertainty\n",
    "##### author: Elizabeth A. Barnes, Randal J. Barnes and Mark DeMaria\n",
    "##### version: v0.1.0\n",
    "##### date: 14 December 2021\n",
    "\n",
    "```\n",
    "conda create --name env-hurr-tfp python=3.9\n",
    "conda activate env-hurr-tfp\n",
    "pip install tensorflow==2.7.0\n",
    "pip install tensorflow-probability==0.15.0\n",
    "pip install --upgrade numpy scipy pandas statsmodels matplotlib seaborn \n",
    "pip install --upgrade palettable progressbar2 tabulate icecream flake8\n",
    "pip install --upgrade keras-tuner sklearn\n",
    "pip install --upgrade jupyterlab black isort jupyterlab_code_formatter\n",
    "pip install silence-tensorflow\n",
    "pip install tqdm\n",
    "```\n",
    "\n",
    "Use the command\n",
    "```python -m pip freeze > requirements.txt```\n",
    "to make a pip installation list."
   ]
  },
  {
   "cell_type": "code",
   "execution_count": null,
   "metadata": {
    "tags": []
   },
   "outputs": [],
   "source": [
    "import datetime\n",
    "import os\n",
    "import pickle\n",
    "import pprint\n",
    "import time\n",
    "\n",
    "import experiment_settings\n",
    "import matplotlib as mpl\n",
    "import matplotlib.pyplot as plt\n",
    "import numpy as np\n",
    "import tensorflow as tf\n",
    "import shash\n",
    "from build_data import build_hurricane_data\n",
    "from build_model import build_shash_model, build_bnn_model\n",
    "from custom_loss import compute_shash_NLL, compute_NLL\n",
    "from custom_metrics import CustomMAE, InterquartileCapture, SignTest\n",
    "from model_diagnostics import plot_history\n",
    "from save_model_run import save_model_run\n",
    "from sklearn import preprocessing\n",
    "from tensorflow.keras import optimizers\n",
    "from training_instrumentation import TrainingInstrumentation\n",
    "from silence_tensorflow import silence_tensorflow\n",
    "import tensorflow_probability as tfp\n",
    "from keras.utils.layer_utils import count_params  \n",
    "import prediction\n",
    "\n",
    "from tqdm import tqdm\n",
    "\n",
    "silence_tensorflow()\n",
    "dpiFig = 400"
   ]
  },
  {
   "cell_type": "code",
   "execution_count": null,
   "metadata": {},
   "outputs": [],
   "source": [
    "__author__ = \"Randal J Barnes and Elizabeth A. Barnes\"\n",
    "__version__ = \"14 January 2022\"\n",
    "\n",
    "EXP_NAME_LIST = (\"intensity0_AL72\",\"intensity1_AL72\")\n",
    "# EXP_NAME_LIST = (\"intensity2_EPCP48\",\"intensity3_EPCP48\")\n",
    "# EXP_NAME_LIST = (\"intensity4_EPCP72\",\"intensity5_EPCP72\")\n",
    "\n",
    "# EXP_NAME_LIST = (\"intensity100_EPCP48\",\"intensity101_EPCP48\")\n",
    "# EXP_NAME_LIST = (\"intensity102_EPCP48\",\"intensity103_EPCP48\")\n",
    "\n",
    "\n",
    "DATA_PATH = \"data/\"\n",
    "MODEL_PATH = \"saved_models/\""
   ]
  },
  {
   "cell_type": "code",
   "execution_count": null,
   "metadata": {},
   "outputs": [],
   "source": [
    "mpl.rcParams[\"figure.facecolor\"] = \"white\"\n",
    "mpl.rcParams[\"figure.dpi\"] = 150\n",
    "np.warnings.filterwarnings(\"ignore\", category=np.VisibleDeprecationWarning)"
   ]
  },
  {
   "cell_type": "markdown",
   "metadata": {},
   "source": [
    "## Load the models"
   ]
  },
  {
   "cell_type": "code",
   "execution_count": null,
   "metadata": {
    "tags": []
   },
   "outputs": [],
   "source": [
    "for exp_name in EXP_NAME_LIST:\n",
    "    settings = experiment_settings.get_settings(exp_name)\n",
    "    # pprint.pprint(settings, width=80)\n",
    "    \n",
    "    NETWORK_SEED_LIST = [settings[\"rng_seed\"]]\n",
    "    network_seed = NETWORK_SEED_LIST[0]\n",
    "    tf.random.set_seed(network_seed)  # This sets the global random seed.    \n",
    "    \n",
    "    (\n",
    "        x_train,\n",
    "        onehot_train,\n",
    "        x_val,\n",
    "        onehot_val,\n",
    "        x_eval,\n",
    "        onehot_eval,    \n",
    "        data_summary,\n",
    "        df_val,\n",
    "        df_eval,\n",
    "    ) = build_hurricane_data(DATA_PATH, settings, verbose=0)  \n",
    "\n",
    "    if settings[\"uncertainty_type\"] == \"bnn\":       \n",
    "        model_name_bnn = (\n",
    "            exp_name + \"_\" + settings[\"uncertainty_type\"] + '_' + f\"network_seed_{network_seed}_rng_seed_{settings['rng_seed']}\"\n",
    "        )\n",
    "        pprint.pprint(model_name_bnn)\n",
    "        \n",
    "        model_bnn = build_bnn_model(\n",
    "            x_train,\n",
    "            onehot_train,\n",
    "            hiddens=settings[\"hiddens\"],\n",
    "            output_shape=onehot_train.shape[1],\n",
    "            ridge_penalty=settings[\"ridge_param\"],\n",
    "            act_fun=settings[\"act_fun\"],\n",
    "        )\n",
    "        model_bnn.load_weights(MODEL_PATH + model_name_bnn + \"_weights.h5\")\n",
    "\n",
    "    elif settings[\"uncertainty_type\"][:5] == \"shash\": \n",
    "        model_name_shash = (\n",
    "            exp_name + \"_\" + settings[\"uncertainty_type\"] + '_' + f\"network_seed_{network_seed}_rng_seed_{settings['rng_seed']}\"\n",
    "        )\n",
    "        pprint.pprint(model_name_shash)\n",
    "        \n",
    "        model_shash = build_shash_model(\n",
    "            x_train,\n",
    "            onehot_train,\n",
    "            hiddens=settings[\"hiddens\"],\n",
    "            output_shape=onehot_train.shape[1],\n",
    "            ridge_penalty=settings[\"ridge_param\"],\n",
    "            act_fun=settings[\"act_fun\"],\n",
    "        )\n",
    "        model_shash.load_weights(MODEL_PATH + model_name_shash + \"_weights.h5\")\n",
    "        \n",
    "    \n"
   ]
  },
  {
   "cell_type": "markdown",
   "metadata": {},
   "source": [
    "## Make Model Predictions"
   ]
  },
  {
   "cell_type": "code",
   "execution_count": null,
   "metadata": {},
   "outputs": [],
   "source": [
    "runs = 5_000\n",
    "shash_incs = np.arange(-160,161,1)\n",
    "shash_cpd = np.zeros((np.shape(x_eval)[0],len(shash_incs)))\n",
    "shash_med = np.zeros((np.shape(x_eval)[0],))\n",
    "bnn_cpd = np.zeros((np.shape(x_eval)[0],runs))\n",
    "tf.random.set_seed(network_seed)\n",
    "\n",
    "# loop through samples for shash calculation and get PDF for each sample\n",
    "for j in tqdm(range(0,np.shape(shash_cpd)[0])):\n",
    "    mu_pred, sigma_pred, gamma_pred, tau_pred = prediction.params( x_eval[np.newaxis,j], model_shash )\n",
    "    shash_cpd[j,:] = shash.prob(shash_incs, mu_pred, sigma_pred, gamma_pred, tau_pred)    \n",
    "    shash_med[j]   = shash.median(mu_pred,sigma_pred,gamma_pred,tau_pred)\n",
    "    \n",
    "# loop through runs for bnn calculation    \n",
    "for i in tqdm(range(0,runs)):\n",
    "    bnn_cpd[:,i] = np.reshape(model_bnn.predict(x_eval),np.shape(bnn_cpd)[0])\n",
    "     "
   ]
  },
  {
   "cell_type": "markdown",
   "metadata": {},
   "source": [
    "## Plot Results"
   ]
  },
  {
   "cell_type": "code",
   "execution_count": null,
   "metadata": {},
   "outputs": [],
   "source": [
    "import analysis_plots\n",
    "import imp\n",
    "imp.reload(analysis_plots)\n",
    "\n",
    "f, axs = plt.subplots(2, 2, figsize=(15,10))\n",
    "\n",
    "# plot sample\n",
    "ax = axs[0,0]\n",
    "analysis_plots.plot_sample(ax, onehot_eval, shash_incs, shash_cpd, bnn_cpd)\n",
    "\n",
    "# plot PITS\n",
    "ax = axs[0,1]\n",
    "analysis_plots.plot_pits(ax, x_eval, onehot_eval, model_shash, shash_cpd, bnn_cpd)\n",
    "\n",
    "# plot median vs median\n",
    "ax = axs[1,0]\n",
    "analysis_plots.plot_medians(ax, onehot_eval, shash_cpd, bnn_cpd, shash_med)\n",
    "\n",
    "# plot NLLs\n",
    "ax = axs[1,1]\n",
    "analysis_plots.plot_nlls(ax, x_eval, onehot_eval, model_shash, shash_cpd, bnn_cpd)\n",
    "\n",
    "plt.tight_layout()\n",
    "\n",
    "plt.savefig('figures/prediction_plots/comparisonsPanels_' + model_name_shash + '_' + model_name_bnn + '.png', dpi=dpiFig)    \n",
    "plt.show()"
   ]
  },
  {
   "cell_type": "code",
   "execution_count": null,
   "metadata": {},
   "outputs": [],
   "source": [
    "from numpy.random import default_rng\n",
    "rng = default_rng(12345)\n",
    "    \n",
    "f, axs = plt.subplots(5, 3, figsize=(15,20))\n",
    "axs = axs.flatten()\n",
    "random_samples = rng.choice(np.arange(0,onehot_eval.shape[0]),len(axs),replace=False)\n",
    "\n",
    "for isample, sample in enumerate(random_samples):\n",
    "    ax = axs[isample]\n",
    "    analysis_plots.plot_sample(ax, onehot_eval, shash_incs, shash_cpd, bnn_cpd, sample=sample)\n",
    "    plt.xlim(-80,80)\n",
    "\n",
    "plt.tight_layout()\n",
    "plt.savefig('figures/prediction_plots/comparisonsPanelsLotsofSamples_' + model_name_shash + '_' + model_name_bnn + '.png', dpi=dpiFig)    \n",
    "plt.show()        "
   ]
  },
  {
   "cell_type": "code",
   "execution_count": null,
   "metadata": {},
   "outputs": [],
   "source": []
  }
 ],
 "metadata": {
  "kernelspec": {
   "display_name": "Python 3 (ipykernel)",
   "language": "python",
   "name": "python3"
  },
  "language_info": {
   "codemirror_mode": {
    "name": "ipython",
    "version": 3
   },
   "file_extension": ".py",
   "mimetype": "text/x-python",
   "name": "python",
   "nbconvert_exporter": "python",
   "pygments_lexer": "ipython3",
   "version": "3.9.7"
  }
 },
 "nbformat": 4,
 "nbformat_minor": 4
}
