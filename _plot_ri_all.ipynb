{
 "cells": [
  {
   "cell_type": "markdown",
   "metadata": {},
   "source": [
    "# Plot Rapid Intensification Metrics\n",
    "##### author: Elizabeth A. Barnes, Randal J. Barnes and Mark DeMaria\n",
    "##### version: v0.2.0"
   ]
  },
  {
   "cell_type": "code",
   "execution_count": 1,
   "metadata": {
    "tags": []
   },
   "outputs": [],
   "source": [
    "import datetime\n",
    "import os\n",
    "import pickle\n",
    "import pprint\n",
    "import time\n",
    "\n",
    "import experiment_settings\n",
    "import matplotlib as mpl\n",
    "import matplotlib.pyplot as plt\n",
    "import numpy as np\n",
    "from build_data import build_hurricane_data\n",
    "import model_diagnostics\n",
    "import prediction\n",
    "import pandas as pd\n",
    "import scipy.stats\n",
    "import sklearn.metrics\n",
    "\n",
    "import seaborn as sns\n",
    "import warnings\n",
    "warnings.filterwarnings(\"ignore\")\n",
    "\n",
    "dpiFig = 400\n",
    "\n",
    "mpl.rcParams[\"figure.facecolor\"] = \"white\"\n",
    "mpl.rcParams[\"figure.dpi\"] = 150\n",
    "np.warnings.filterwarnings(\"ignore\", category=np.VisibleDeprecationWarning)"
   ]
  },
  {
   "cell_type": "code",
   "execution_count": 2,
   "metadata": {},
   "outputs": [],
   "source": [
    "__author__ = \"Randal J Barnes and Elizabeth A. Barnes\"\n",
    "__version__ = \"03 June 2022\"\n",
    "\n",
    "EXP_NAME_LIST = (\n",
    "                 \"intensity201_AL24\",\n",
    "                 \"intensity202_AL48\",    \n",
    "                 \"intensity203_AL72\",\n",
    "                 \"intensity204_AL96\",    \n",
    "                 \"intensity205_AL120\",    \n",
    "    \n",
    "                 \"intensity301_EPCP24\",\n",
    "                 \"intensity302_EPCP48\",    \n",
    "                 \"intensity303_EPCP72\",\n",
    "                 \"intensity304_EPCP96\",    \n",
    "                 \"intensity305_EPCP120\",        \n",
    "                 )\n",
    "\n",
    "APPEND_NAME = ''#'_paper'\n",
    "\n",
    "DATA_PATH = \"data/\"\n",
    "MODEL_PATH = \"saved_models/\"\n",
    "METRIC_PATH = \"saved_metrics/\"\n",
    "FIGURE_PATH = \"figures/paper_figures/\"\n",
    "PREDICTION_PATH = \"saved_predictions/\""
   ]
  },
  {
   "cell_type": "markdown",
   "metadata": {
    "tags": []
   },
   "source": [
    "## Plotting functions"
   ]
  },
  {
   "cell_type": "code",
   "execution_count": 3,
   "metadata": {},
   "outputs": [],
   "source": [
    "FS = 16\n",
    "\n",
    "### for white background...\n",
    "plt.rc('text',usetex=True)\n",
    "plt.rc('font',**{'family':'sans-serif','sans-serif':['Avant Garde']}) \n",
    "plt.rc('savefig',facecolor='white')\n",
    "plt.rc('axes',facecolor='white')\n",
    "plt.rc('axes',labelcolor='dimgrey')\n",
    "plt.rc('axes',labelcolor='dimgrey')\n",
    "plt.rc('xtick',color='dimgrey')\n",
    "plt.rc('ytick',color='dimgrey')\n",
    "################################  \n",
    "################################  \n",
    "def adjust_spines(ax, spines):\n",
    "    for loc, spine in ax.spines.items():\n",
    "        if loc in spines:\n",
    "            spine.set_position(('outward', 5))\n",
    "        else:\n",
    "            spine.set_color('none')  \n",
    "    if 'left' in spines:\n",
    "        ax.yaxis.set_ticks_position('left')\n",
    "    else:\n",
    "        ax.yaxis.set_ticks([])\n",
    "    if 'bottom' in spines:\n",
    "        ax.xaxis.set_ticks_position('bottom')\n",
    "    else:\n",
    "        ax.xaxis.set_ticks([]) \n",
    "\n",
    "def format_spines(ax):\n",
    "    adjust_spines(ax, ['left', 'bottom'])\n",
    "    ax.spines['top'].set_color('none')\n",
    "    ax.spines['right'].set_color('none')\n",
    "    ax.spines['left'].set_color('dimgrey')\n",
    "    ax.spines['bottom'].set_color('dimgrey')\n",
    "    ax.spines['left'].set_linewidth(2)\n",
    "    ax.spines['bottom'].set_linewidth(2)\n",
    "    ax.tick_params('both',length=4,width=2,which='major',color='dimgrey')\n",
    "#     ax.yaxis.grid(zorder=1,color='dimgrey',alpha=0.35)    \n",
    "    "
   ]
  },
  {
   "cell_type": "markdown",
   "metadata": {},
   "source": [
    "## Plot RI metrics\n",
    "\n",
    "To access the correct data, make sure you have recently run the following on all SHASH predictions of interest.\n",
    "* ```_plot_metrics.ipynb```\n",
    "* ```_compute_shashPrediction.ipynb```"
   ]
  },
  {
   "cell_type": "code",
   "execution_count": 4,
   "metadata": {},
   "outputs": [],
   "source": [
    "RI_THRESH_DICT = {24: 30,\n",
    "                  48: 55,\n",
    "                  72: 65,\n",
    "                  96: None,\n",
    "                  120: None,\n",
    "                 }"
   ]
  },
  {
   "cell_type": "code",
   "execution_count": 48,
   "metadata": {},
   "outputs": [
    {
     "data": {
      "text/plain": "<Figure size 720x216 with 3 Axes>",
      "image/png": "[encoded data removed]"
     },
     "metadata": {
      "needs_background": "light"
     },
     "output_type": "display_data"
    }
   ],
   "source": [
    "df_bestpred = pd.read_csv(PREDICTION_PATH + \"shash3_bestValTestingPredictions.csv\")\n",
    "df_all_ri = pd.DataFrame()\n",
    "\n",
    "colors = ('gray','#D95980','#E1A730','#C3B1E1','#351F27','#A9C961')\n",
    "#------------------------------------------------------------\n",
    "fig, axs = plt.subplots(1,3,figsize=(10,3))\n",
    "for iloop, PLOT_LEAD in enumerate((24, 48, 72)):\n",
    "\n",
    "    df_bestpred_ri = df_bestpred[df_bestpred[\"ftime(hr)\"]==PLOT_LEAD]\n",
    "    true_vmx = df_bestpred_ri[\"OBDV\"]+df_bestpred_ri[\"VMXC\"]\n",
    "\n",
    "    # true RI events\n",
    "    i = np.where(true_vmx >= df_bestpred_ri[\"VMAX0\"]+RI_THRESH_DICT[PLOT_LEAD])\n",
    "    ri_pred = df_bestpred_ri.iloc[i]\n",
    "    ri_pred_plot = ri_pred[[\"shash_pr_ri\"]].melt(var_name='prob_type', value_name='probability')\n",
    "\n",
    "    # not RI events\n",
    "    i = np.where(true_vmx < df_bestpred_ri[\"VMAX0\"]+RI_THRESH_DICT[PLOT_LEAD])\n",
    "    nori_pred = df_bestpred_ri.iloc[i]\n",
    "    nori_pred_plot = nori_pred[[\"shash_pr_ri\"]].melt(var_name='prob_type', value_name='probability')\n",
    "    nori_pred_plot[\"prob_type\"] = 'shash_pr_nori'\n",
    "\n",
    "    # concatenate\n",
    "    ri_plot_df = pd.concat([nori_pred_plot,ri_pred_plot])\n",
    "\n",
    "    ax = axs[iloop]\n",
    "    sns.boxplot(x = \"prob_type\",\n",
    "                y = \"probability\",\n",
    "                data=ri_plot_df,\n",
    "                palette=colors,\n",
    "                width=.75,\n",
    "                dodge=False,\n",
    "                boxprops={'alpha':.5,\n",
    "                          'edgecolor': 'gray',\n",
    "                          },\n",
    "                fliersize=0,\n",
    "                ax=ax,\n",
    "                )\n",
    "    # sns.swarmplot(x = \"prob_type\",\n",
    "    #             y = \"probability\",\n",
    "    #             data=ri_plot_df,\n",
    "    #             palette=colors,\n",
    "    #             dodge=False,\n",
    "    #             size=3,\n",
    "    #             alpha=.3,\n",
    "    #             ax=ax,\n",
    "    #            )\n",
    "    yticks = np.around(np.arange(0,1.2,.2),2)\n",
    "    ax.set_yticks(yticks,yticks)\n",
    "    ax.set_xlabel(None)\n",
    "    ax.set_title('@ ' + str(PLOT_LEAD) + 'hr')\n",
    "    format_spines(ax)\n",
    "    ax.set_xticks((0,1),('Not RI Event\\nN=' + str(len(nori_pred_plot)),'RI Event\\nN='+ str(len(ri_pred_plot))))\n",
    "\n",
    "    ax.grid(False)\n",
    "\n",
    "plt.suptitle('(b) Predicted Pr[RI]', fontsize=FS, color='k')\n",
    "\n",
    "plt.tight_layout()\n",
    "plt.savefig(FIGURE_PATH + 'ri_probabilities_allTesting_ALEPCP' + '.png', dpi=dpiFig)\n",
    "plt.show()"
   ]
  },
  {
   "cell_type": "markdown",
   "source": [
    "## Significance and Precision-Recall Curves for RI\n",
    "These were requested by the reviewers.\n",
    "\n",
    "https://scikit-learn.org/stable/modules/generated/sklearn.metrics.precision_recall_curve.html\n",
    "https://medium.com/@douglaspsteen/precision-recall-curves-d32e5b290248\n",
    "https://www.statology.org/precision-recall-curve-python/"
   ],
   "metadata": {
    "collapsed": false
   }
  },
  {
   "cell_type": "code",
   "execution_count": 107,
   "outputs": [
    {
     "name": "stdout",
     "output_type": "stream",
     "text": [
      "PLOT_LEAD = 24\n",
      "MannwhitneyuResult(statistic=2158187.0, pvalue=4.515821196900756e-194)\n",
      "0.5196751399740701\n",
      "PLOT_LEAD = 48\n",
      "MannwhitneyuResult(statistic=917118.0, pvalue=8.90422191398748e-117)\n",
      "0.5251948322417274\n",
      "PLOT_LEAD = 72\n",
      "MannwhitneyuResult(statistic=504321.0, pvalue=5.095303698195525e-80)\n",
      "0.45269319406624714\n"
     ]
    },
    {
     "data": {
      "text/plain": "<Figure size 720x216 with 3 Axes>",
      "image/png": "[encoded data removed]"
     },
     "metadata": {
      "needs_background": "light"
     },
     "output_type": "display_data"
    }
   ],
   "source": [
    "df_bestpred = pd.read_csv(PREDICTION_PATH + \"shash3_bestValTestingPredictions.csv\")\n",
    "\n",
    "colors = ('gray','#D95980','#E1A730','#C3B1E1','#351F27','#A9C961')\n",
    "#------------------------------------------------------------\n",
    "fig, axs = plt.subplots(1, 3, figsize=(10,3))\n",
    "for iloop, PLOT_LEAD in enumerate((24, 48, 72)):\n",
    "\n",
    "    df_bestpred_ri = df_bestpred[df_bestpred[\"ftime(hr)\"]==PLOT_LEAD]\n",
    "    true_vmx = df_bestpred_ri[\"OBDV\"]+df_bestpred_ri[\"VMXC\"]\n",
    "\n",
    "    # true RI events\n",
    "    i = np.where(true_vmx >= df_bestpred_ri[\"VMAX0\"]+RI_THRESH_DICT[PLOT_LEAD])\n",
    "    ri_pred = df_bestpred_ri.iloc[i]\n",
    "    ri_pred_plot = ri_pred[[\"shash_pr_ri\"]].melt(var_name='prob_type', value_name='probability')\n",
    "\n",
    "    # not RI events\n",
    "    i = np.where(true_vmx < df_bestpred_ri[\"VMAX0\"]+RI_THRESH_DICT[PLOT_LEAD])\n",
    "    nori_pred = df_bestpred_ri.iloc[i]\n",
    "    nori_pred_plot = nori_pred[[\"shash_pr_ri\"]].melt(var_name='prob_type', value_name='probability')\n",
    "    nori_pred_plot[\"prob_type\"] = 'shash_pr_nori'\n",
    "\n",
    "    # concatenate\n",
    "    ri_plot_df = pd.concat([nori_pred_plot,ri_pred_plot])\n",
    "\n",
    "    # Apply a Mann Whitney U test of significanse for the probabilities.\n",
    "    res = scipy.stats.mannwhitneyu(\n",
    "        x=ri_pred_plot[\"probability\"],\n",
    "        y=nori_pred_plot[\"probability\"],\n",
    "        alternative='two-sided'\n",
    "    )\n",
    "    print(f\"{PLOT_LEAD = }\")\n",
    "    print(f\"{res}\")\n",
    "\n",
    "    # Calculate precision and recall at a host of thresholds.\n",
    "    precision, recall, thresholds = sklearn.metrics.precision_recall_curve(\n",
    "        ri_plot_df[\"prob_type\"],\n",
    "        ri_plot_df[\"probability\"],\n",
    "        pos_label='shash_pr_ri'\n",
    "    )\n",
    "    baseline = len(ri_plot_df[ri_plot_df[\"prob_type\"]==\"shash_pr_ri\"])/len(ri_plot_df)\n",
    "    ax = axs[iloop]\n",
    "    ax.plot(recall, precision, color='#D95980')\n",
    "    ax.axhline(baseline, color='k', linestyle='--',linewidth=0.5)\n",
    "    ax.set_title('@ ' + str(PLOT_LEAD) + 'hr')\n",
    "    ax.set_ylabel('Precision')\n",
    "    ax.set_xlabel('Recall')\n",
    "\n",
    "    yticks = np.around(np.arange(0,1.2,.2),2)\n",
    "    ax.set_yticks(yticks,yticks)\n",
    "    ax.set_xticks(yticks,yticks)\n",
    "    format_spines(ax)\n",
    "    ax.grid(False)\n",
    "\n",
    "    ax.set_xlim(0.01, 1)\n",
    "    ax.set_ylim(0, 1)\n",
    "\n",
    "    # compute average precision score\n",
    "    df_aps = pd.DataFrame()\n",
    "    df_aps['shash_pr_ri'] = df_bestpred_ri['shash_pr_ri'].copy()\n",
    "    df_aps.reindex()\n",
    "\n",
    "    # true RI events\n",
    "    i = np.where(true_vmx >= df_bestpred_ri[\"VMAX0\"]+RI_THRESH_DICT[PLOT_LEAD])[0]\n",
    "    df_aps[\"truth\"] = 0.\n",
    "    df_aps[\"truth\"].iloc[i] = 1.\n",
    "\n",
    "    asp = sklearn.metrics.average_precision_score(df_aps[\"truth\"],df_aps[\"shash_pr_ri\"], )\n",
    "    print(asp)\n",
    "\n",
    "\n",
    "plt.suptitle('(c) Precision-Recall Curve', fontsize=FS, color='k')\n",
    "plt.tight_layout()\n",
    "plt.savefig(FIGURE_PATH + 'ri_precision_recal_allTesting_ALEPCP' + '.png', dpi=dpiFig)\n",
    "plt.show()\n"
   ],
   "metadata": {
    "collapsed": false
   }
  },
  {
   "cell_type": "code",
   "execution_count": 105,
   "outputs": [
    {
     "data": {
      "text/plain": "<Figure size 432x288 with 1 Axes>",
      "image/png": "[encoded data removed]"
     },
     "metadata": {
      "needs_background": "light"
     },
     "output_type": "display_data"
    }
   ],
   "source": [
    "# Compute average precision score expected by random chance (given a certain number of RI events)\n",
    "asp_vec = np.zeros(10_000,)\n",
    "for iter in np.arange(0,len(asp_vec)):\n",
    "\n",
    "    df_aps = pd.DataFrame()\n",
    "    df_aps['shash_pr_ri'] = df_bestpred_ri['shash_pr_ri'].copy()\n",
    "    df_aps.reindex()\n",
    "\n",
    "    # true RI events\n",
    "    i = np.where(true_vmx >= df_bestpred_ri[\"VMAX0\"]+RI_THRESH_DICT[PLOT_LEAD])[0]\n",
    "    i = np.random.randint(len(df_aps), size=len(i))\n",
    "    df_aps[\"truth\"] = 0.\n",
    "    df_aps[\"truth\"].iloc[i] = 1.\n",
    "\n",
    "    asp_vec[iter] = sklearn.metrics.average_precision_score(df_aps[\"truth\"],df_aps[\"shash_pr_ri\"])\n",
    "    # print(asp_vec[iter])\n",
    "\n",
    "plt.figure()\n",
    "plt.hist(asp_vec, np.arange(0,.2,.01))\n",
    "plt.show()"
   ],
   "metadata": {
    "collapsed": false
   }
  },
  {
   "cell_type": "markdown",
   "metadata": {},
   "source": [
    "# Comparing to consensus Pr(RI)"
   ]
  },
  {
   "cell_type": "code",
   "execution_count": 54,
   "metadata": {},
   "outputs": [
    {
     "ename": "NameError",
     "evalue": "name 'error' is not defined",
     "output_type": "error",
     "traceback": [
      "\u001B[1;31m---------------------------------------------------------------------------\u001B[0m",
      "\u001B[1;31mNameError\u001B[0m                                 Traceback (most recent call last)",
      "Input \u001B[1;32mIn [54]\u001B[0m, in \u001B[0;36m<cell line: 1>\u001B[1;34m()\u001B[0m\n\u001B[1;32m----> 1\u001B[0m \u001B[43merror\u001B[49m(\u001B[38;5;124m'\u001B[39m\u001B[38;5;124mhere\u001B[39m\u001B[38;5;124m'\u001B[39m)\n",
      "\u001B[1;31mNameError\u001B[0m: name 'error' is not defined"
     ]
    }
   ],
   "source": [
    "error('here')"
   ]
  },
  {
   "cell_type": "code",
   "execution_count": 16,
   "metadata": {},
   "outputs": [
    {
     "data": {
      "text/plain": "<Figure size 720x216 with 3 Axes>",
      "image/png": "[encoded data removed]"
     },
     "metadata": {
      "needs_background": "light"
     },
     "output_type": "display_data"
    }
   ],
   "source": [
    "df_bestpred = pd.read_csv(PREDICTION_PATH + \"shash3_bestValTestingPredictions.csv\")\n",
    "\n",
    "colors = ('#E1A730','#284E60','#E1A730','#C3B1E1','#351F27','#A9C961')\n",
    "#------------------------------------------------------------\n",
    "fig, axs = plt.subplots(1,3,figsize=(10,3))\n",
    "for iloop, PLOT_LEAD in enumerate((24, 48, 72)):\n",
    "    \n",
    "    df_bestpred_ri = df_bestpred[df_bestpred[\"ftime(hr)\"]==PLOT_LEAD]\n",
    "\n",
    "    true_vmx = df_bestpred_ri[\"OBDV\"]+df_bestpred_ri[\"VMXC\"]\n",
    "    i = np.where(true_vmx >= df_bestpred_ri[\"VMAX0\"]+RI_THRESH_DICT[PLOT_LEAD])\n",
    "    ri_pred = df_bestpred_ri.iloc[i]\n",
    "    # display(ri_pred[[\"Name\",\"year\",\"time\",\"ftime(hr)\",\"VMAX0\",\"VMXC\",\"shash_pr_ri\",\"clim_pr_ri\"]])\n",
    "\n",
    "    ri_pred_plot = ri_pred[[\"clim_pr_ri\",\"shash_pr_ri\"]].melt(var_name='prob_type', value_name='probability')\n",
    "\n",
    "\n",
    "    ax = axs[iloop]\n",
    "    sns.boxplot(x = \"prob_type\",\n",
    "                y = \"probability\",\n",
    "                data=ri_pred_plot,\n",
    "                palette=colors,\n",
    "                width=.75,\n",
    "                dodge=False,\n",
    "                boxprops={'alpha':1.,\n",
    "                       'edgecolor': 'gray',\n",
    "                      },\n",
    "                fliersize=0,\n",
    "                ax=ax,\n",
    "               )\n",
    "    # sns.swarmplot(x = \"prob_type\",\n",
    "    #             y = \"probability\",\n",
    "    #             data=ri_pred_plot,\n",
    "    #             palette=colors,\n",
    "    #             dodge=False,\n",
    "    #             size=3,\n",
    "    #             ax=ax,\n",
    "    #            )\n",
    "    yticks = np.around(np.arange(0,1.2,.2),2)\n",
    "    ax.set_yticks(yticks,yticks)\n",
    "    ax.set_xlabel(None)\n",
    "    ax.set_title('@ ' + str(PLOT_LEAD) + 'hr')\n",
    "    format_spines(ax)\n",
    "    \n",
    "plt.suptitle('Predicted Pr[RI] for True RI Events (AL \\& EP/CP)', fontsize=FS, color='k')    \n",
    "\n",
    "plt.tight_layout()\n",
    "plt.savefig(FIGURE_PATH + 'ri_probabilities_allTesting_ALEPCP' + '.png', dpi=dpiFig)     \n",
    "plt.show()\n",
    "# plt.show()\n"
   ]
  },
  {
   "cell_type": "code",
   "execution_count": 17,
   "metadata": {},
   "outputs": [
    {
     "data": {
      "text/plain": "<Figure size 720x216 with 3 Axes>",
      "image/png": "[encoded data removed]"
     },
     "metadata": {
      "needs_background": "light"
     },
     "output_type": "display_data"
    }
   ],
   "source": [
    "df_bestpred = pd.read_csv(PREDICTION_PATH + \"shash3_bestValTestingPredictions.csv\")\n",
    "\n",
    "colors = ('#E1A730','#284E60','#E1A730','#C3B1E1','#351F27','#A9C961')\n",
    "#------------------------------------------------------------\n",
    "fig, axs = plt.subplots(1,3,figsize=(10,3))\n",
    "for iloop, PLOT_LEAD in enumerate((24, 48, 72)):\n",
    "    \n",
    "    df_bestpred_ri = df_bestpred[df_bestpred[\"ftime(hr)\"]==PLOT_LEAD]\n",
    "\n",
    "    true_vmx = df_bestpred_ri[\"OBDV\"]+df_bestpred_ri[\"VMXC\"]\n",
    "    i = np.where(true_vmx < df_bestpred_ri[\"VMAX0\"]+RI_THRESH_DICT[PLOT_LEAD])\n",
    "    ri_pred = df_bestpred_ri.iloc[i]\n",
    "    # display(ri_pred[[\"Name\",\"year\",\"time\",\"ftime(hr)\",\"VMAX0\",\"VMXC\",\"shash_pr_ri\",\"clim_pr_ri\"]])\n",
    "\n",
    "    ri_pred_plot = ri_pred[[\"clim_pr_ri\",\"shash_pr_ri\"]].melt(var_name='prob_type', value_name='probability')\n",
    "\n",
    "    ax = axs[iloop]\n",
    "    sns.boxplot(x = \"prob_type\",\n",
    "                y = \"probability\",\n",
    "                data=ri_pred_plot,\n",
    "                palette=colors,\n",
    "                width=.75,\n",
    "                dodge=False,\n",
    "                boxprops={'alpha':.5,\n",
    "                       'edgecolor': 'gray',\n",
    "                      },\n",
    "                fliersize=0,\n",
    "                ax=ax,\n",
    "               )\n",
    "    # sns.swarmplot(x = \"prob_type\",\n",
    "    #             y = \"probability\",\n",
    "    #             data=ri_pred_plot,\n",
    "    #             palette=colors,\n",
    "    #             dodge=False,\n",
    "    #             size=3,\n",
    "    #             alpha=.3,\n",
    "    #             ax=ax,\n",
    "    #            )\n",
    "    yticks = np.around(np.arange(0,1.2,.05),2)\n",
    "    ax.set_yticks(yticks,yticks)\n",
    "    ax.set_ylim(0,.2)    \n",
    "    ax.set_xlabel(None)\n",
    "    ax.set_title('@ ' + str(PLOT_LEAD) + 'hr')\n",
    "    format_spines(ax)\n",
    "    \n",
    "plt.suptitle('Predicted Pr[RI] for No RI (AL \\& EP/CP)', fontsize=FS, color='k')    \n",
    "\n",
    "plt.tight_layout()\n",
    "plt.savefig(FIGURE_PATH + 'no_ri_probabilities_allTesting_ALEPCP' + '.png', dpi=dpiFig)     \n",
    "plt.show()\n",
    "# plt.show()\n"
   ]
  },
  {
   "cell_type": "code",
   "execution_count": null,
   "metadata": {},
   "outputs": [],
   "source": []
  }
 ],
 "metadata": {
  "kernelspec": {
   "display_name": "Python 3 (ipykernel)",
   "language": "python",
   "name": "python3"
  },
  "language_info": {
   "codemirror_mode": {
    "name": "ipython",
    "version": 3
   },
   "file_extension": ".py",
   "mimetype": "text/x-python",
   "name": "python",
   "nbconvert_exporter": "python",
   "pygments_lexer": "ipython3",
   "version": "3.9.12"
  }
 },
 "nbformat": 4,
 "nbformat_minor": 4
}
