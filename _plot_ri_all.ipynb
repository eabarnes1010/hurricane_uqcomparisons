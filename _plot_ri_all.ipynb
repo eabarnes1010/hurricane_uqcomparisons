{
 "cells": [
  {
   "cell_type": "markdown",
   "metadata": {},
   "source": [
    "# Plot Rapid Intensification Metrics\n",
    "##### author: Elizabeth A. Barnes, Randal J. Barnes and Mark DeMaria\n",
    "##### version: v0.2.0"
   ]
  },
  {
   "cell_type": "code",
   "execution_count": 1,
   "metadata": {
    "tags": []
   },
   "outputs": [],
   "source": [
    "import datetime\n",
    "import os\n",
    "import pickle\n",
    "import pprint\n",
    "import time\n",
    "\n",
    "import experiment_settings\n",
    "import matplotlib as mpl\n",
    "import matplotlib.pyplot as plt\n",
    "import numpy as np\n",
    "from build_data import build_hurricane_data\n",
    "import model_diagnostics\n",
    "import prediction\n",
    "import pandas as pd\n",
    "\n",
    "import seaborn as sns\n",
    "import warnings\n",
    "warnings.filterwarnings(\"ignore\")\n",
    "\n",
    "dpiFig = 400\n",
    "\n",
    "mpl.rcParams[\"figure.facecolor\"] = \"white\"\n",
    "mpl.rcParams[\"figure.dpi\"] = 150\n",
    "np.warnings.filterwarnings(\"ignore\", category=np.VisibleDeprecationWarning)"
   ]
  },
  {
   "cell_type": "code",
   "execution_count": 2,
   "metadata": {},
   "outputs": [],
   "source": [
    "__author__ = \"Randal J Barnes and Elizabeth A. Barnes\"\n",
    "__version__ = \"03 June 2022\"\n",
    "\n",
    "EXP_NAME_LIST = (\n",
    "                 \"intensity201_AL24\",\n",
    "                 \"intensity202_AL48\",    \n",
    "                 \"intensity203_AL72\",\n",
    "                 \"intensity204_AL96\",    \n",
    "                 \"intensity205_AL120\",    \n",
    "    \n",
    "                 \"intensity301_EPCP24\",\n",
    "                 \"intensity302_EPCP48\",    \n",
    "                 \"intensity303_EPCP72\",\n",
    "                 \"intensity304_EPCP96\",    \n",
    "                 \"intensity305_EPCP120\",        \n",
    "                 )\n",
    "\n",
    "APPEND_NAME = ''#'_paper'\n",
    "\n",
    "DATA_PATH = \"data/\"\n",
    "MODEL_PATH = \"saved_models/\"\n",
    "METRIC_PATH = \"saved_metrics/\"\n",
    "FIGURE_PATH = \"figures/paper_figures/\"\n",
    "PREDICTION_PATH = \"saved_predictions/\""
   ]
  },
  {
   "cell_type": "markdown",
   "metadata": {
    "tags": []
   },
   "source": [
    "## Plotting functions"
   ]
  },
  {
   "cell_type": "code",
   "execution_count": 3,
   "metadata": {},
   "outputs": [],
   "source": [
    "FS = 16\n",
    "\n",
    "### for white background...\n",
    "plt.rc('text',usetex=True)\n",
    "plt.rc('font',**{'family':'sans-serif','sans-serif':['Avant Garde']}) \n",
    "plt.rc('savefig',facecolor='white')\n",
    "plt.rc('axes',facecolor='white')\n",
    "plt.rc('axes',labelcolor='dimgrey')\n",
    "plt.rc('axes',labelcolor='dimgrey')\n",
    "plt.rc('xtick',color='dimgrey')\n",
    "plt.rc('ytick',color='dimgrey')\n",
    "################################  \n",
    "################################  \n",
    "def adjust_spines(ax, spines):\n",
    "    for loc, spine in ax.spines.items():\n",
    "        if loc in spines:\n",
    "            spine.set_position(('outward', 5))\n",
    "        else:\n",
    "            spine.set_color('none')  \n",
    "    if 'left' in spines:\n",
    "        ax.yaxis.set_ticks_position('left')\n",
    "    else:\n",
    "        ax.yaxis.set_ticks([])\n",
    "    if 'bottom' in spines:\n",
    "        ax.xaxis.set_ticks_position('bottom')\n",
    "    else:\n",
    "        ax.xaxis.set_ticks([]) \n",
    "\n",
    "def format_spines(ax):\n",
    "    adjust_spines(ax, ['left', 'bottom'])\n",
    "    ax.spines['top'].set_color('none')\n",
    "    ax.spines['right'].set_color('none')\n",
    "    ax.spines['left'].set_color('dimgrey')\n",
    "    ax.spines['bottom'].set_color('dimgrey')\n",
    "    ax.spines['left'].set_linewidth(2)\n",
    "    ax.spines['bottom'].set_linewidth(2)\n",
    "    ax.tick_params('both',length=4,width=2,which='major',color='dimgrey')\n",
    "#     ax.yaxis.grid(zorder=1,color='dimgrey',alpha=0.35)    \n",
    "    "
   ]
  },
  {
   "cell_type": "markdown",
   "metadata": {},
   "source": [
    "## Plot RI metrics\n",
    "\n",
    "To access the correct data, make sure you have recently run the following on all SHASH predictions of interest.\n",
    "* ```_plot_metrics.ipynb```\n",
    "* ```_compute_shashPrediction.ipynb```"
   ]
  },
  {
   "cell_type": "code",
   "execution_count": 4,
   "metadata": {},
   "outputs": [],
   "source": [
    "RI_THRESH_DICT = {24: 30,\n",
    "                  48: 55,\n",
    "                  72: 65,\n",
    "                  96: None,\n",
    "                  120: None,\n",
    "                 }"
   ]
  },
  {
   "cell_type": "code",
   "execution_count": 5,
   "metadata": {},
   "outputs": [
    {
     "data": {
      "image/png": "[encoded data removed]",
      "text/plain": [
       "<Figure size 720x216 with 3 Axes>"
      ]
     },
     "metadata": {
      "needs_background": "light"
     },
     "output_type": "display_data"
    }
   ],
   "source": [
    "df_bestpred = pd.read_csv(PREDICTION_PATH + \"shash3_bestValTestingPredictions.csv\")\n",
    "\n",
    "colors = ('gray','#D95980','#E1A730','#C3B1E1','#351F27','#A9C961')\n",
    "#------------------------------------------------------------\n",
    "fig, axs = plt.subplots(1,3,figsize=(10,3))\n",
    "for iloop, PLOT_LEAD in enumerate((24, 48, 72)):\n",
    "    \n",
    "    df_bestpred_ri = df_bestpred[df_bestpred[\"ftime(hr)\"]==PLOT_LEAD]\n",
    "    true_vmx = df_bestpred_ri[\"OBDV\"]+df_bestpred_ri[\"VMXC\"]\n",
    "    \n",
    "    # true RI events\n",
    "    i = np.where(true_vmx >= df_bestpred_ri[\"VMAX0\"]+RI_THRESH_DICT[PLOT_LEAD])\n",
    "    ri_pred = df_bestpred_ri.iloc[i]\n",
    "    ri_pred_plot = ri_pred[[\"shash_pr_ri\"]].melt(var_name='prob_type', value_name='probability')    \n",
    "    \n",
    "    # not RI events\n",
    "    i = np.where(true_vmx < df_bestpred_ri[\"VMAX0\"]+RI_THRESH_DICT[PLOT_LEAD])\n",
    "    nori_pred = df_bestpred_ri.iloc[i]\n",
    "    nori_pred_plot = nori_pred[[\"shash_pr_ri\"]].melt(var_name='prob_type', value_name='probability')    \n",
    "    nori_pred_plot[\"prob_type\"] = 'shash_pr_nori'\n",
    "    \n",
    "    # concatenate\n",
    "    ri_plot_df = pd.concat([nori_pred_plot,ri_pred_plot])\n",
    "\n",
    "    ax = axs[iloop]\n",
    "    sns.boxplot(x = \"prob_type\",\n",
    "                y = \"probability\",\n",
    "                data=ri_plot_df,\n",
    "                palette=colors,\n",
    "                width=.75,\n",
    "                dodge=False,\n",
    "                boxprops={'alpha':.5,\n",
    "                       'edgecolor': 'gray',\n",
    "                      },\n",
    "                fliersize=0,\n",
    "                ax=ax,\n",
    "               )\n",
    "    # sns.swarmplot(x = \"prob_type\",\n",
    "    #             y = \"probability\",\n",
    "    #             data=ri_plot_df,\n",
    "    #             palette=colors,\n",
    "    #             dodge=False,\n",
    "    #             size=3,\n",
    "    #             alpha=.3,\n",
    "    #             ax=ax,\n",
    "    #            )\n",
    "    yticks = np.around(np.arange(0,1.2,.2),2)\n",
    "    ax.set_yticks(yticks,yticks)\n",
    "    ax.set_xlabel(None)\n",
    "    ax.set_title('@ ' + str(PLOT_LEAD) + 'hr')\n",
    "    format_spines(ax)\n",
    "    ax.set_xticks((0,1),('Not RI Event\\nN=' + str(len(nori_pred_plot)),'RI Event\\nN='+ str(len(ri_pred_plot))))\n",
    "\n",
    "    \n",
    "    \n",
    "plt.suptitle('(b) Predicted Pr[RI]', fontsize=FS, color='k')    \n",
    "\n",
    "plt.tight_layout()\n",
    "plt.savefig(FIGURE_PATH + 'ri_probabilities_allTesting_ALEPCP' + '.png', dpi=dpiFig)     \n",
    "plt.show()\n",
    "# plt.show()\n"
   ]
  },
  {
   "cell_type": "markdown",
   "metadata": {},
   "source": [
    "# Comparing to consensus Pr(RI)"
   ]
  },
  {
   "cell_type": "code",
   "execution_count": 6,
   "metadata": {},
   "outputs": [
    {
     "ename": "NameError",
     "evalue": "name 'error' is not defined",
     "output_type": "error",
     "traceback": [
      "\u001b[0;31m---------------------------------------------------------------------------\u001b[0m",
      "\u001b[0;31mNameError\u001b[0m                                 Traceback (most recent call last)",
      "Input \u001b[0;32mIn [6]\u001b[0m, in \u001b[0;36m<cell line: 1>\u001b[0;34m()\u001b[0m\n\u001b[0;32m----> 1\u001b[0m \u001b[43merror\u001b[49m(\u001b[38;5;124m'\u001b[39m\u001b[38;5;124mhere\u001b[39m\u001b[38;5;124m'\u001b[39m)\n",
      "\u001b[0;31mNameError\u001b[0m: name 'error' is not defined"
     ]
    }
   ],
   "source": [
    "error('here')"
   ]
  },
  {
   "cell_type": "code",
   "execution_count": null,
   "metadata": {},
   "outputs": [],
   "source": [
    "df_bestpred = pd.read_csv(PREDICTION_PATH + \"shash3_bestValTestingPredictions.csv\")\n",
    "\n",
    "colors = ('#E1A730','#284E60','#E1A730','#C3B1E1','#351F27','#A9C961')\n",
    "#------------------------------------------------------------\n",
    "fig, axs = plt.subplots(1,3,figsize=(10,3))\n",
    "for iloop, PLOT_LEAD in enumerate((24, 48, 72)):\n",
    "    \n",
    "    df_bestpred_ri = df_bestpred[df_bestpred[\"ftime(hr)\"]==PLOT_LEAD]\n",
    "\n",
    "    true_vmx = df_bestpred_ri[\"OBDV\"]+df_bestpred_ri[\"VMXC\"]\n",
    "    i = np.where(true_vmx >= df_bestpred_ri[\"VMAX0\"]+RI_THRESH_DICT[PLOT_LEAD])\n",
    "    ri_pred = df_bestpred_ri.iloc[i]\n",
    "    # display(ri_pred[[\"Name\",\"year\",\"time\",\"ftime(hr)\",\"VMAX0\",\"VMXC\",\"shash_pr_ri\",\"clim_pr_ri\"]])\n",
    "\n",
    "    ri_pred_plot = ri_pred[[\"clim_pr_ri\",\"shash_pr_ri\"]].melt(var_name='prob_type', value_name='probability')\n",
    "\n",
    "\n",
    "    ax = axs[iloop]\n",
    "    sns.boxplot(x = \"prob_type\",\n",
    "                y = \"probability\",\n",
    "                data=ri_pred_plot,\n",
    "                palette=colors,\n",
    "                width=.75,\n",
    "                dodge=False,\n",
    "                boxprops={'alpha':1.,\n",
    "                       'edgecolor': 'gray',\n",
    "                      },\n",
    "                fliersize=0,\n",
    "                ax=ax,\n",
    "               )\n",
    "    # sns.swarmplot(x = \"prob_type\",\n",
    "    #             y = \"probability\",\n",
    "    #             data=ri_pred_plot,\n",
    "    #             palette=colors,\n",
    "    #             dodge=False,\n",
    "    #             size=3,\n",
    "    #             ax=ax,\n",
    "    #            )\n",
    "    yticks = np.around(np.arange(0,1.2,.2),2)\n",
    "    ax.set_yticks(yticks,yticks)\n",
    "    ax.set_xlabel(None)\n",
    "    ax.set_title('@ ' + str(PLOT_LEAD) + 'hr')\n",
    "    format_spines(ax)\n",
    "    \n",
    "plt.suptitle('Predicted Pr[RI] for True RI Events (AL \\& EP/CP)', fontsize=FS, color='k')    \n",
    "\n",
    "plt.tight_layout()\n",
    "plt.savefig(FIGURE_PATH + 'ri_probabilities_allTesting_ALEPCP' + '.png', dpi=dpiFig)     \n",
    "plt.show()\n",
    "# plt.show()\n"
   ]
  },
  {
   "cell_type": "code",
   "execution_count": null,
   "metadata": {},
   "outputs": [],
   "source": [
    "df_bestpred = pd.read_csv(PREDICTION_PATH + \"shash3_bestValTestingPredictions.csv\")\n",
    "\n",
    "colors = ('#E1A730','#284E60','#E1A730','#C3B1E1','#351F27','#A9C961')\n",
    "#------------------------------------------------------------\n",
    "fig, axs = plt.subplots(1,3,figsize=(10,3))\n",
    "for iloop, PLOT_LEAD in enumerate((24, 48, 72)):\n",
    "    \n",
    "    df_bestpred_ri = df_bestpred[df_bestpred[\"ftime(hr)\"]==PLOT_LEAD]\n",
    "\n",
    "    true_vmx = df_bestpred_ri[\"OBDV\"]+df_bestpred_ri[\"VMXC\"]\n",
    "    i = np.where(true_vmx < df_bestpred_ri[\"VMAX0\"]+RI_THRESH_DICT[PLOT_LEAD])\n",
    "    ri_pred = df_bestpred_ri.iloc[i]\n",
    "    # display(ri_pred[[\"Name\",\"year\",\"time\",\"ftime(hr)\",\"VMAX0\",\"VMXC\",\"shash_pr_ri\",\"clim_pr_ri\"]])\n",
    "\n",
    "    ri_pred_plot = ri_pred[[\"clim_pr_ri\",\"shash_pr_ri\"]].melt(var_name='prob_type', value_name='probability')\n",
    "\n",
    "\n",
    "    ax = axs[iloop]\n",
    "    sns.boxplot(x = \"prob_type\",\n",
    "                y = \"probability\",\n",
    "                data=ri_pred_plot,\n",
    "                palette=colors,\n",
    "                width=.75,\n",
    "                dodge=False,\n",
    "                boxprops={'alpha':.5,\n",
    "                       'edgecolor': 'gray',\n",
    "                      },\n",
    "                fliersize=0,\n",
    "                ax=ax,\n",
    "               )\n",
    "    # sns.swarmplot(x = \"prob_type\",\n",
    "    #             y = \"probability\",\n",
    "    #             data=ri_pred_plot,\n",
    "    #             palette=colors,\n",
    "    #             dodge=False,\n",
    "    #             size=3,\n",
    "    #             alpha=.3,\n",
    "    #             ax=ax,\n",
    "    #            )\n",
    "    yticks = np.around(np.arange(0,1.2,.05),2)\n",
    "    ax.set_yticks(yticks,yticks)\n",
    "    ax.set_ylim(0,.2)    \n",
    "    ax.set_xlabel(None)\n",
    "    ax.set_title('@ ' + str(PLOT_LEAD) + 'hr')\n",
    "    format_spines(ax)\n",
    "    \n",
    "plt.suptitle('Predicted Pr[RI] for No RI (AL \\& EP/CP)', fontsize=FS, color='k')    \n",
    "\n",
    "plt.tight_layout()\n",
    "plt.savefig(FIGURE_PATH + 'no_ri_probabilities_allTesting_ALEPCP' + '.png', dpi=dpiFig)     \n",
    "plt.show()\n",
    "# plt.show()\n"
   ]
  },
  {
   "cell_type": "code",
   "execution_count": null,
   "metadata": {},
   "outputs": [],
   "source": []
  }
 ],
 "metadata": {
  "kernelspec": {
   "display_name": "Python 3 (ipykernel)",
   "language": "python",
   "name": "python3"
  },
  "language_info": {
   "codemirror_mode": {
    "name": "ipython",
    "version": 3
   },
   "file_extension": ".py",
   "mimetype": "text/x-python",
   "name": "python",
   "nbconvert_exporter": "python",
   "pygments_lexer": "ipython3",
   "version": "3.9.12"
  }
 },
 "nbformat": 4,
 "nbformat_minor": 4
}
