{
 "cells": [
  {
   "cell_type": "markdown",
   "metadata": {},
   "source": [
    "# Compute metrics for different runs and plot them\n",
    "##### author: Elizabeth A. Barnes, Randal J. Barnes and Mark DeMaria\n",
    "##### version: v0.2.0"
   ]
  },
  {
   "cell_type": "code",
   "execution_count": 1,
   "metadata": {
    "tags": []
   },
   "outputs": [],
   "source": [
    "import datetime\n",
    "import os\n",
    "import pickle\n",
    "import pprint\n",
    "import time\n",
    "\n",
    "import experiment_settings\n",
    "import matplotlib as mpl\n",
    "import matplotlib.pyplot as plt\n",
    "import numpy as np\n",
    "import tensorflow as tf\n",
    "import shash\n",
    "from build_data import build_hurricane_data\n",
    "import build_model\n",
    "import model_diagnostics\n",
    "from silence_tensorflow import silence_tensorflow\n",
    "import prediction\n",
    "from sklearn.neighbors import KernelDensity\n",
    "import pandas as pd\n",
    "from tqdm import tqdm\n",
    "\n",
    "import warnings\n",
    "warnings.filterwarnings(\"ignore\")\n",
    "\n",
    "silence_tensorflow()\n",
    "dpiFig = 400\n",
    "\n",
    "mpl.rcParams[\"figure.facecolor\"] = \"white\"\n",
    "mpl.rcParams[\"figure.dpi\"] = 150\n",
    "np.warnings.filterwarnings(\"ignore\", category=np.VisibleDeprecationWarning)"
   ]
  },
  {
   "cell_type": "code",
   "execution_count": 2,
   "metadata": {},
   "outputs": [],
   "source": [
    "__author__  = \"Randal J Barnes and Elizabeth A. Barnes\"\n",
    "__version__ = \"16 March 2022\"\n",
    "\n",
    "EXP_NAME_LIST = (\n",
    "    # \"intensity1_AL48\",\n",
    "    # \"intensity2_AL72\",\n",
    "    # \"intensity3_AL96\",    \n",
    "    # \"intensity4_EPCP48\",\n",
    "    # \"intensity5_EPCP72\",\n",
    "    # \"intensity6_EPCP96\",\n",
    "    \"intensity41_EPCP48\",\n",
    "    \"intensity42_EPCP48\",    \n",
    ")\n",
    "\n",
    "OVERWRITE_METRICS = False\n",
    "DATA_PATH = \"data/\"\n",
    "MODEL_PATH = \"saved_models/\"\n",
    "METRIC_PATH = \"saved_metrics/\"\n",
    "FIGURE_PATH = \"figures/summary_plots/\""
   ]
  },
  {
   "cell_type": "markdown",
   "metadata": {
    "tags": []
   },
   "source": [
    "## Define get_metrics()"
   ]
  },
  {
   "cell_type": "code",
   "execution_count": 3,
   "metadata": {
    "tags": []
   },
   "outputs": [],
   "source": [
    "def get_metrics(x_test, onehot_test):\n",
    "    tf.random.set_seed(network_seed)\n",
    "    shash_incs = np.arange(-160,161,1)\n",
    "\n",
    "    if settings[\"uncertainty_type\"] in (\"bnn\", \"mcdrop\", \"reg\"):       \n",
    "        # loop through runs for bnn calculation    \n",
    "        runs = 5_000\n",
    "        bins_plot = np.linspace(np.min(shash_incs), np.max(shash_incs), 1000)\n",
    "        bnn_cpd = np.zeros((np.shape(x_test)[0],runs))\n",
    "        bnn_mode = np.zeros((np.shape(x_test)[0],))\n",
    "\n",
    "        for i in tqdm(range(0,runs)):\n",
    "            if settings[\"uncertainty_type\"] == \"bnn\":\n",
    "                bnn_cpd[:,i] = np.reshape(model.predict(x_test),np.shape(bnn_cpd)[0])\n",
    "            elif settings[\"uncertainty_type\"] in (\"mcdrop\", \"reg\"):\n",
    "                bnn_cpd[:,i] = np.reshape(model(x_test,training=True),np.shape(bnn_cpd)[0])                \n",
    "            else:\n",
    "                raise NotImplementedError\n",
    "                \n",
    "        bnn_mean = np.mean(bnn_cpd,axis=1)\n",
    "        bnn_median = np.median(bnn_cpd,axis=1)\n",
    "\n",
    "        for j in tqdm(range(0,np.shape(bnn_mode)[0])):\n",
    "            kde = KernelDensity(kernel=\"gaussian\", bandwidth=4.).fit(bnn_cpd[j,:].reshape(-1,1))\n",
    "            log_dens = kde.score_samples(bins_plot.reshape(-1,1))\n",
    "            i = np.argmax(log_dens)\n",
    "            bnn_mode[j] = bins_plot[i]\n",
    "\n",
    "        mean_error, median_error, mode_error = model_diagnostics.compute_errors(onehot_test, bnn_mean, bnn_median, bnn_mode)         \n",
    "        bins, hist_bnn, pit_D, EDp_bnn = model_diagnostics.compute_pit('bnn',onehot_test, bnn_cpd)\n",
    "        iqr_capture = model_diagnostics.compute_interquartile_capture('bnn',onehot_test, bnn_cpd)\n",
    "        iqr_error_spearman, iqr_error_pearson = model_diagnostics.compute_iqr_error_corr('bnn',\n",
    "                                                                                          onehot_data=onehot_test, \n",
    "                                                                                          bnn_cpd=bnn_cpd, \n",
    "                                                                                          pred_median=bnn_median,\n",
    "                                                                                         )\n",
    "        \n",
    "    elif settings[\"uncertainty_type\"] in (\"shash\",\"shash2\", \"shash3\", \"shash4\"):         \n",
    "        shash_cpd = np.zeros((np.shape(x_test)[0],len(shash_incs)))\n",
    "        shash_mean = np.zeros((np.shape(x_test)[0],))\n",
    "        shash_med = np.zeros((np.shape(x_test)[0],))\n",
    "        shash_mode = np.zeros((np.shape(x_test)[0],))\n",
    "\n",
    "        # loop through samples for shash calculation and get PDF for each sample\n",
    "        for j in tqdm(range(0,np.shape(shash_cpd)[0])):\n",
    "            mu_pred, sigma_pred, gamma_pred, tau_pred = prediction.params( x_test[np.newaxis,j], model )\n",
    "            shash_cpd[j,:] = shash.prob(shash_incs, mu_pred, sigma_pred, gamma_pred, tau_pred)    \n",
    "            shash_mean[j]  = shash.mean(mu_pred,sigma_pred,gamma_pred,tau_pred)#np.sum(shash_cpd[j,:]*shash_incs)\n",
    "            shash_med[j]   = shash.median(mu_pred,sigma_pred,gamma_pred,tau_pred)\n",
    "\n",
    "            i = np.argmax(shash_cpd[j,:])\n",
    "            shash_mode[j]  = shash_incs[i]\n",
    "\n",
    "        mean_error, median_error, mode_error = model_diagnostics.compute_errors(onehot_test, shash_mean, shash_med, shash_mode)    \n",
    "        bins, hist_shash, pit_D, EDp_shash = model_diagnostics.compute_pit('shash',onehot_test, x_data=x_test,model_shash=model)\n",
    "        iqr_capture = model_diagnostics.compute_interquartile_capture('shash',onehot_test, x_data=x_test,model_shash=model)\n",
    "        iqr_error_spearman, iqr_error_pearson = model_diagnostics.compute_iqr_error_corr('shash',\n",
    "                                                                                                onehot_data=onehot_test,\n",
    "                                                                                                pred_median=shash_med,\n",
    "                                                                                                x_data=x_test,\n",
    "                                                                                                model_shash=model,\n",
    "                                                                                               )\n",
    "    else:\n",
    "        raise NotImplementedError\n",
    "        \n",
    "    # by definition Consensus is a correction of zero\n",
    "    cons_error = np.mean(np.abs(0.0 - onehot_test[:,0]))\n",
    "    \n",
    "    # write metrics dictionary and return\n",
    "    metrics = {\n",
    "        'pit_D': pit_D,\n",
    "        'iqr_capture': iqr_capture,\n",
    "        \n",
    "        'iqr_error_spearman': iqr_error_spearman[0],\n",
    "        'iqr_error_pearson': iqr_error_pearson[0],\n",
    "        'iqr_error_spearman_p': iqr_error_spearman[1],\n",
    "        'iqr_error_pearson_p': iqr_error_pearson[1],\n",
    "\n",
    "        'cons_error': cons_error,\n",
    "        'mean_error':mean_error, \n",
    "        'median_error': median_error,\n",
    "        'mode_error': mode_error,        \n",
    "        \n",
    "        'mean_error_reduction': cons_error - mean_error,\n",
    "        'median_error_reduction': cons_error - median_error,\n",
    "        'mode_error_reduction': cons_error - mode_error,\n",
    "    }\n",
    "        \n",
    "    return metrics\n"
   ]
  },
  {
   "cell_type": "markdown",
   "metadata": {
    "tags": []
   },
   "source": [
    "## Compute Metrics"
   ]
  },
  {
   "cell_type": "code",
   "execution_count": 4,
   "metadata": {
    "tags": []
   },
   "outputs": [
    {
     "name": "stdout",
     "output_type": "stream",
     "text": [
      "'intensity41_EPCP48_bnn_network_seed_187_rng_seed_187'\n"
     ]
    },
    {
     "name": "stderr",
     "output_type": "stream",
     "text": [
      "100%|████████████████████████████████████████████████████████████████████| 5000/5000 [01:06<00:00, 74.93it/s]\n",
      "100%|██████████████████████████████████████████████████████████████████████| 120/120 [00:08<00:00, 14.41it/s]\n",
      "100%|████████████████████████████████████████████████████████████████████| 5000/5000 [01:11<00:00, 70.27it/s]\n",
      "100%|██████████████████████████████████████████████████████████████████████| 200/200 [00:13<00:00, 14.41it/s]\n",
      "100%|████████████████████████████████████████████████████████████████████| 5000/5000 [02:16<00:00, 36.53it/s]\n",
      "100%|████████████████████████████████████████████████████████████████████| 1800/1800 [02:06<00:00, 14.23it/s]\n",
      "100%|████████████████████████████████████████████████████████████████████| 5000/5000 [01:10<00:00, 70.71it/s]\n",
      "100%|██████████████████████████████████████████████████████████████████████| 320/320 [00:22<00:00, 14.46it/s]\n"
     ]
    },
    {
     "name": "stdout",
     "output_type": "stream",
     "text": [
      "'intensity41_EPCP48_bnn_network_seed_650_rng_seed_650'\n"
     ]
    },
    {
     "name": "stderr",
     "output_type": "stream",
     "text": [
      "100%|████████████████████████████████████████████████████████████████████| 5000/5000 [01:06<00:00, 74.71it/s]\n",
      "100%|██████████████████████████████████████████████████████████████████████| 120/120 [00:08<00:00, 14.33it/s]\n",
      "100%|████████████████████████████████████████████████████████████████████| 5000/5000 [01:10<00:00, 70.65it/s]\n",
      "100%|██████████████████████████████████████████████████████████████████████| 200/200 [00:14<00:00, 14.03it/s]\n",
      "100%|████████████████████████████████████████████████████████████████████| 5000/5000 [02:17<00:00, 36.49it/s]\n",
      "100%|████████████████████████████████████████████████████████████████████| 1800/1800 [02:06<00:00, 14.23it/s]\n",
      "100%|████████████████████████████████████████████████████████████████████| 5000/5000 [01:08<00:00, 72.61it/s]\n",
      "100%|██████████████████████████████████████████████████████████████████████| 320/320 [00:22<00:00, 14.19it/s]\n"
     ]
    },
    {
     "name": "stdout",
     "output_type": "stream",
     "text": [
      "'intensity41_EPCP48_bnn_network_seed_891_rng_seed_891'\n"
     ]
    },
    {
     "name": "stderr",
     "output_type": "stream",
     "text": [
      "100%|████████████████████████████████████████████████████████████████████| 5000/5000 [01:06<00:00, 74.63it/s]\n",
      "100%|██████████████████████████████████████████████████████████████████████| 120/120 [00:08<00:00, 14.36it/s]\n",
      "100%|████████████████████████████████████████████████████████████████████| 5000/5000 [01:11<00:00, 70.24it/s]\n",
      "100%|██████████████████████████████████████████████████████████████████████| 200/200 [00:14<00:00, 14.18it/s]\n",
      "100%|████████████████████████████████████████████████████████████████████| 5000/5000 [02:16<00:00, 36.50it/s]\n",
      "100%|████████████████████████████████████████████████████████████████████| 1800/1800 [02:06<00:00, 14.20it/s]\n",
      "100%|████████████████████████████████████████████████████████████████████| 5000/5000 [01:11<00:00, 70.38it/s]\n",
      "100%|██████████████████████████████████████████████████████████████████████| 320/320 [00:22<00:00, 14.21it/s]\n"
     ]
    },
    {
     "name": "stdout",
     "output_type": "stream",
     "text": [
      "'intensity41_EPCP48_bnn_network_seed_739_rng_seed_739'\n"
     ]
    },
    {
     "name": "stderr",
     "output_type": "stream",
     "text": [
      "100%|████████████████████████████████████████████████████████████████████| 5000/5000 [01:07<00:00, 74.33it/s]\n",
      "100%|██████████████████████████████████████████████████████████████████████| 120/120 [00:08<00:00, 14.36it/s]\n",
      "100%|████████████████████████████████████████████████████████████████████| 5000/5000 [01:11<00:00, 69.95it/s]\n",
      "100%|██████████████████████████████████████████████████████████████████████| 200/200 [00:14<00:00, 14.12it/s]\n",
      "100%|████████████████████████████████████████████████████████████████████| 5000/5000 [02:17<00:00, 36.48it/s]\n",
      "100%|████████████████████████████████████████████████████████████████████| 1800/1800 [02:06<00:00, 14.20it/s]\n",
      "100%|████████████████████████████████████████████████████████████████████| 5000/5000 [01:11<00:00, 70.36it/s]\n",
      "100%|██████████████████████████████████████████████████████████████████████| 320/320 [00:22<00:00, 14.21it/s]\n"
     ]
    },
    {
     "name": "stdout",
     "output_type": "stream",
     "text": [
      "'intensity41_EPCP48_bnn_network_seed_241_rng_seed_241'\n"
     ]
    },
    {
     "name": "stderr",
     "output_type": "stream",
     "text": [
      "100%|████████████████████████████████████████████████████████████████████| 5000/5000 [01:07<00:00, 74.23it/s]\n",
      "100%|██████████████████████████████████████████████████████████████████████| 120/120 [00:08<00:00, 14.29it/s]\n",
      "100%|████████████████████████████████████████████████████████████████████| 5000/5000 [01:11<00:00, 70.36it/s]\n",
      "100%|██████████████████████████████████████████████████████████████████████| 200/200 [00:13<00:00, 14.35it/s]\n",
      "100%|████████████████████████████████████████████████████████████████████| 5000/5000 [02:16<00:00, 36.51it/s]\n",
      "100%|████████████████████████████████████████████████████████████████████| 1800/1800 [02:06<00:00, 14.23it/s]\n",
      "100%|████████████████████████████████████████████████████████████████████| 5000/5000 [01:10<00:00, 70.55it/s]\n",
      "100%|██████████████████████████████████████████████████████████████████████| 320/320 [00:22<00:00, 14.40it/s]\n"
     ]
    },
    {
     "name": "stdout",
     "output_type": "stream",
     "text": [
      "'intensity42_EPCP48_mcdrop_network_seed_416_rng_seed_416'\n"
     ]
    },
    {
     "name": "stderr",
     "output_type": "stream",
     "text": [
      "100%|██████████████████████████████████████████████████████████████████| 5000/5000 [00:03<00:00, 1564.37it/s]\n",
      "100%|██████████████████████████████████████████████████████████████████████| 120/120 [00:11<00:00, 10.06it/s]\n",
      "100%|██████████████████████████████████████████████████████████████████| 5000/5000 [00:03<00:00, 1474.63it/s]\n",
      "100%|██████████████████████████████████████████████████████████████████████| 200/200 [00:18<00:00, 10.69it/s]\n",
      "100%|███████████████████████████████████████████████████████████████████| 5000/5000 [00:08<00:00, 619.87it/s]\n",
      "100%|████████████████████████████████████████████████████████████████████| 1800/1800 [02:55<00:00, 10.24it/s]\n",
      "100%|██████████████████████████████████████████████████████████████████| 5000/5000 [00:04<00:00, 1248.92it/s]\n",
      "100%|██████████████████████████████████████████████████████████████████████| 320/320 [00:30<00:00, 10.46it/s]\n"
     ]
    },
    {
     "name": "stdout",
     "output_type": "stream",
     "text": [
      "'intensity42_EPCP48_mcdrop_network_seed_222_rng_seed_222'\n"
     ]
    },
    {
     "name": "stderr",
     "output_type": "stream",
     "text": [
      "100%|██████████████████████████████████████████████████████████████████| 5000/5000 [00:03<00:00, 1570.07it/s]\n",
      "100%|██████████████████████████████████████████████████████████████████████| 120/120 [00:15<00:00,  7.91it/s]\n",
      "100%|██████████████████████████████████████████████████████████████████| 5000/5000 [00:03<00:00, 1473.11it/s]\n",
      "100%|██████████████████████████████████████████████████████████████████████| 200/200 [00:24<00:00,  8.23it/s]\n",
      "100%|███████████████████████████████████████████████████████████████████| 5000/5000 [00:07<00:00, 652.50it/s]\n",
      "100%|████████████████████████████████████████████████████████████████████| 1800/1800 [03:42<00:00,  8.10it/s]\n",
      "100%|██████████████████████████████████████████████████████████████████| 5000/5000 [00:04<00:00, 1240.80it/s]\n",
      "100%|██████████████████████████████████████████████████████████████████████| 320/320 [00:39<00:00,  8.15it/s]\n"
     ]
    },
    {
     "name": "stdout",
     "output_type": "stream",
     "text": [
      "'intensity42_EPCP48_mcdrop_network_seed_598_rng_seed_598'\n"
     ]
    },
    {
     "name": "stderr",
     "output_type": "stream",
     "text": [
      "100%|██████████████████████████████████████████████████████████████████| 5000/5000 [00:03<00:00, 1579.42it/s]\n",
      "100%|██████████████████████████████████████████████████████████████████████| 120/120 [00:15<00:00,  7.78it/s]\n",
      "100%|██████████████████████████████████████████████████████████████████| 5000/5000 [00:03<00:00, 1475.49it/s]\n",
      "100%|██████████████████████████████████████████████████████████████████████| 200/200 [00:24<00:00,  8.00it/s]\n",
      "100%|███████████████████████████████████████████████████████████████████| 5000/5000 [00:08<00:00, 559.46it/s]\n",
      "100%|████████████████████████████████████████████████████████████████████| 1800/1800 [03:42<00:00,  8.10it/s]\n",
      "100%|██████████████████████████████████████████████████████████████████| 5000/5000 [00:04<00:00, 1247.60it/s]\n",
      "100%|██████████████████████████████████████████████████████████████████████| 320/320 [00:40<00:00,  7.86it/s]\n"
     ]
    },
    {
     "name": "stdout",
     "output_type": "stream",
     "text": [
      "'intensity42_EPCP48_mcdrop_network_seed_731_rng_seed_731'\n"
     ]
    },
    {
     "name": "stderr",
     "output_type": "stream",
     "text": [
      "100%|██████████████████████████████████████████████████████████████████| 5000/5000 [00:03<00:00, 1584.56it/s]\n",
      "100%|██████████████████████████████████████████████████████████████████████| 120/120 [00:12<00:00,  9.72it/s]\n",
      "100%|██████████████████████████████████████████████████████████████████| 5000/5000 [00:03<00:00, 1485.69it/s]\n",
      "100%|██████████████████████████████████████████████████████████████████████| 200/200 [00:19<00:00, 10.07it/s]\n",
      "100%|███████████████████████████████████████████████████████████████████| 5000/5000 [00:08<00:00, 575.20it/s]\n",
      "100%|████████████████████████████████████████████████████████████████████| 1800/1800 [02:57<00:00, 10.14it/s]\n",
      "100%|██████████████████████████████████████████████████████████████████| 5000/5000 [00:03<00:00, 1254.58it/s]\n",
      "100%|██████████████████████████████████████████████████████████████████████| 320/320 [00:32<00:00,  9.96it/s]\n"
     ]
    },
    {
     "name": "stdout",
     "output_type": "stream",
     "text": [
      "'intensity42_EPCP48_mcdrop_network_seed_414_rng_seed_414'\n"
     ]
    },
    {
     "name": "stderr",
     "output_type": "stream",
     "text": [
      "100%|██████████████████████████████████████████████████████████████████| 5000/5000 [00:03<00:00, 1586.21it/s]\n",
      "100%|██████████████████████████████████████████████████████████████████████| 120/120 [00:14<00:00,  8.31it/s]\n",
      "100%|██████████████████████████████████████████████████████████████████| 5000/5000 [00:03<00:00, 1493.94it/s]\n",
      "100%|██████████████████████████████████████████████████████████████████████| 200/200 [00:23<00:00,  8.39it/s]\n",
      "100%|███████████████████████████████████████████████████████████████████| 5000/5000 [00:08<00:00, 597.95it/s]\n",
      "100%|████████████████████████████████████████████████████████████████████| 1800/1800 [03:33<00:00,  8.43it/s]\n",
      "100%|██████████████████████████████████████████████████████████████████| 5000/5000 [00:03<00:00, 1256.25it/s]\n",
      "100%|██████████████████████████████████████████████████████████████████████| 320/320 [00:38<00:00,  8.36it/s]\n"
     ]
    },
    {
     "name": "stdout",
     "output_type": "stream",
     "text": [
      "'intensity42_EPCP48_mcdrop_network_seed_187_rng_seed_187'\n"
     ]
    },
    {
     "name": "stderr",
     "output_type": "stream",
     "text": [
      "100%|██████████████████████████████████████████████████████████████████| 5000/5000 [00:03<00:00, 1584.27it/s]\n",
      "100%|██████████████████████████████████████████████████████████████████████| 120/120 [00:12<00:00,  9.82it/s]\n",
      "100%|██████████████████████████████████████████████████████████████████| 5000/5000 [00:03<00:00, 1488.15it/s]\n",
      "100%|██████████████████████████████████████████████████████████████████████| 200/200 [00:19<00:00, 10.03it/s]\n",
      "100%|███████████████████████████████████████████████████████████████████| 5000/5000 [00:08<00:00, 580.89it/s]\n",
      "100%|████████████████████████████████████████████████████████████████████| 1800/1800 [02:57<00:00, 10.15it/s]\n",
      "100%|██████████████████████████████████████████████████████████████████| 5000/5000 [00:03<00:00, 1260.63it/s]\n",
      "100%|██████████████████████████████████████████████████████████████████████| 320/320 [00:32<00:00,  9.88it/s]\n"
     ]
    },
    {
     "name": "stdout",
     "output_type": "stream",
     "text": [
      "'intensity42_EPCP48_mcdrop_network_seed_650_rng_seed_650'\n"
     ]
    },
    {
     "name": "stderr",
     "output_type": "stream",
     "text": [
      "100%|██████████████████████████████████████████████████████████████████| 5000/5000 [00:03<00:00, 1574.43it/s]\n",
      "100%|██████████████████████████████████████████████████████████████████████| 120/120 [00:13<00:00,  9.09it/s]\n",
      "100%|██████████████████████████████████████████████████████████████████| 5000/5000 [00:03<00:00, 1488.32it/s]\n",
      "100%|██████████████████████████████████████████████████████████████████████| 200/200 [00:20<00:00,  9.53it/s]\n",
      "100%|███████████████████████████████████████████████████████████████████| 5000/5000 [00:08<00:00, 559.09it/s]\n",
      "100%|████████████████████████████████████████████████████████████████████| 1800/1800 [03:11<00:00,  9.42it/s]\n",
      "100%|██████████████████████████████████████████████████████████████████| 5000/5000 [00:04<00:00, 1241.80it/s]\n",
      "100%|██████████████████████████████████████████████████████████████████████| 320/320 [00:34<00:00,  9.35it/s]\n"
     ]
    },
    {
     "name": "stdout",
     "output_type": "stream",
     "text": [
      "'intensity42_EPCP48_mcdrop_network_seed_891_rng_seed_891'\n"
     ]
    },
    {
     "name": "stderr",
     "output_type": "stream",
     "text": [
      "100%|██████████████████████████████████████████████████████████████████| 5000/5000 [00:03<00:00, 1585.18it/s]\n",
      "100%|██████████████████████████████████████████████████████████████████████| 120/120 [00:14<00:00,  8.13it/s]\n",
      "100%|██████████████████████████████████████████████████████████████████| 5000/5000 [00:03<00:00, 1492.06it/s]\n",
      "100%|██████████████████████████████████████████████████████████████████████| 200/200 [00:23<00:00,  8.48it/s]\n",
      "100%|███████████████████████████████████████████████████████████████████| 5000/5000 [00:08<00:00, 573.30it/s]\n",
      "100%|████████████████████████████████████████████████████████████████████| 1800/1800 [03:32<00:00,  8.47it/s]\n",
      "100%|██████████████████████████████████████████████████████████████████| 5000/5000 [00:04<00:00, 1249.53it/s]\n",
      "100%|██████████████████████████████████████████████████████████████████████| 320/320 [00:38<00:00,  8.38it/s]\n"
     ]
    },
    {
     "name": "stdout",
     "output_type": "stream",
     "text": [
      "'intensity42_EPCP48_mcdrop_network_seed_739_rng_seed_739'\n"
     ]
    },
    {
     "name": "stderr",
     "output_type": "stream",
     "text": [
      "100%|██████████████████████████████████████████████████████████████████| 5000/5000 [00:03<00:00, 1579.43it/s]\n",
      "100%|██████████████████████████████████████████████████████████████████████| 120/120 [00:13<00:00,  9.16it/s]\n",
      "100%|██████████████████████████████████████████████████████████████████| 5000/5000 [00:03<00:00, 1491.00it/s]\n",
      "100%|██████████████████████████████████████████████████████████████████████| 200/200 [00:20<00:00,  9.67it/s]\n",
      "100%|███████████████████████████████████████████████████████████████████| 5000/5000 [00:08<00:00, 566.06it/s]\n",
      "100%|████████████████████████████████████████████████████████████████████| 1800/1800 [03:11<00:00,  9.41it/s]\n",
      "100%|██████████████████████████████████████████████████████████████████| 5000/5000 [00:03<00:00, 1268.72it/s]\n",
      "100%|██████████████████████████████████████████████████████████████████████| 320/320 [00:33<00:00,  9.46it/s]\n"
     ]
    },
    {
     "name": "stdout",
     "output_type": "stream",
     "text": [
      "'intensity42_EPCP48_mcdrop_network_seed_241_rng_seed_241'\n"
     ]
    },
    {
     "name": "stderr",
     "output_type": "stream",
     "text": [
      "100%|██████████████████████████████████████████████████████████████████| 5000/5000 [00:03<00:00, 1600.75it/s]\n",
      "100%|██████████████████████████████████████████████████████████████████████| 120/120 [00:12<00:00,  9.78it/s]\n",
      "100%|██████████████████████████████████████████████████████████████████| 5000/5000 [00:03<00:00, 1511.76it/s]\n",
      "100%|██████████████████████████████████████████████████████████████████████| 200/200 [00:20<00:00,  9.78it/s]\n",
      "100%|███████████████████████████████████████████████████████████████████| 5000/5000 [00:08<00:00, 592.50it/s]\n",
      "100%|████████████████████████████████████████████████████████████████████| 1800/1800 [03:00<00:00,  9.95it/s]\n",
      "100%|██████████████████████████████████████████████████████████████████| 5000/5000 [00:03<00:00, 1263.12it/s]\n",
      "100%|██████████████████████████████████████████████████████████████████████| 320/320 [00:32<00:00,  9.77it/s]\n"
     ]
    }
   ],
   "source": [
    "import imp\n",
    "imp.reload(model_diagnostics)\n",
    "\n",
    "for exp_name in EXP_NAME_LIST:\n",
    "    settings = experiment_settings.get_settings(exp_name)\n",
    "    RNG_SEED_LIST = np.copy(settings['rng_seed'])\n",
    "\n",
    "    for rng_seed in RNG_SEED_LIST:\n",
    "        settings['rng_seed'] = rng_seed\n",
    "        NETWORK_SEED_LIST = [settings[\"rng_seed\"]]\n",
    "        network_seed = NETWORK_SEED_LIST[0]\n",
    "        tf.random.set_seed(network_seed)  # This sets the global random seed.    \n",
    "\n",
    "        #----------------------------------------------------------------------------------------------------\n",
    "        # get the data\n",
    "        (\n",
    "            data_summary,        \n",
    "            x_train,\n",
    "            onehot_train,\n",
    "            x_val,\n",
    "            onehot_val,\n",
    "            x_test,\n",
    "            onehot_test,        \n",
    "            x_valtest,\n",
    "            onehot_valtest,\n",
    "            df_train,\n",
    "            df_val,\n",
    "            df_test,\n",
    "            df_valtest,\n",
    "        ) = build_hurricane_data(DATA_PATH, settings, verbose=0)\n",
    "\n",
    "        #----------------------------------------------------------------------------------------------------\n",
    "        # get the model\n",
    "        # Make, compile, and train the model\n",
    "        tf.keras.backend.clear_session()            \n",
    "        model = build_model.make_model(\n",
    "            settings,\n",
    "            x_train,\n",
    "            onehot_train,\n",
    "            model_compile=False,\n",
    "        )   \n",
    "        model_name = (\n",
    "            exp_name + \"_\" + \n",
    "            settings[\"uncertainty_type\"] + '_' + \n",
    "            f\"network_seed_{network_seed}_rng_seed_{settings['rng_seed']}\"\n",
    "        )\n",
    "        \n",
    "        try:\n",
    "            model.load_weights(MODEL_PATH + model_name + \"_weights.h5\")\n",
    "        except:\n",
    "            print(model_name + ': model does not exist. skipping...')\n",
    "            continue\n",
    "\n",
    "        #----------------------------------------------------------------------------------------------------\n",
    "        # check if the metric filename exists already\n",
    "        metric_filename = METRIC_PATH + model_name + '_metrics.pkl'              \n",
    "        if (os.path.exists(metric_filename) and OVERWRITE_METRICS==False):\n",
    "            # print(metric_filename + ' exists. Skipping...')\n",
    "            continue\n",
    "            \n",
    "        # get metrics and put into a dictionary\n",
    "        pprint.pprint(model_name)\n",
    "                \n",
    "        # compute the metrics\n",
    "        metrics_test = get_metrics(x_test, onehot_test)\n",
    "        metrics_val = get_metrics(x_val, onehot_val)\n",
    "        metrics_train = get_metrics(x_train, onehot_train)\n",
    "        metrics_valtest = get_metrics(x_valtest, onehot_valtest)\n",
    "        \n",
    "        # create the metrics dataframe\n",
    "        d = {}\n",
    "        d['uncertainty_type'] = settings[\"uncertainty_type\"]\n",
    "        d['network_seed'] = network_seed\n",
    "        d['rng_seed'] = settings['rng_seed']\n",
    "        d['exp_name'] = exp_name\n",
    "        \n",
    "        for k in metrics_test.keys():\n",
    "            k_key = k + '_test'            \n",
    "            d[k_key] = metrics_test[k]\n",
    "        for k in metrics_val.keys():\n",
    "            k_key = k + '_val'\n",
    "            d[k_key] = metrics_val[k]\n",
    "        for k in metrics_train.keys():\n",
    "            k_key = k + '_train'\n",
    "            d[k_key] = metrics_train[k]            \n",
    "        for k in metrics_valtest.keys():\n",
    "            k_key = k + '_valtest'\n",
    "            d[k_key] = metrics_valtest[k]\n",
    "            \n",
    "        # save the dataframe    \n",
    "        # pprint.pprint(d, width=80)  \n",
    "        df = pd.DataFrame(data=d, index=[0])\n",
    "        df.to_pickle(metric_filename)"
   ]
  },
  {
   "cell_type": "code",
   "execution_count": null,
   "metadata": {},
   "outputs": [],
   "source": []
  }
 ],
 "metadata": {
  "kernelspec": {
   "display_name": "Python 3 (ipykernel)",
   "language": "python",
   "name": "python3"
  },
  "language_info": {
   "codemirror_mode": {
    "name": "ipython",
    "version": 3
   },
   "file_extension": ".py",
   "mimetype": "text/x-python",
   "name": "python",
   "nbconvert_exporter": "python",
   "pygments_lexer": "ipython3",
   "version": "3.9.9"
  }
 },
 "nbformat": 4,
 "nbformat_minor": 4
}
