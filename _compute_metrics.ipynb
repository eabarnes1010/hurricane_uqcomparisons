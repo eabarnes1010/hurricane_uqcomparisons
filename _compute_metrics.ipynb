{
 "cells": [
  {
   "cell_type": "markdown",
   "metadata": {},
   "source": [
    "# Compute metrics for different runs and plot them\n",
    "##### author: Elizabeth A. Barnes, Randal J. Barnes and Mark DeMaria\n",
    "##### version: v0.2.0"
   ]
  },
  {
   "cell_type": "code",
   "execution_count": 1,
   "metadata": {
    "tags": []
   },
   "outputs": [],
   "source": [
    "import datetime\n",
    "import os\n",
    "import pickle\n",
    "import pprint\n",
    "import time\n",
    "\n",
    "import experiment_settings\n",
    "import matplotlib as mpl\n",
    "import matplotlib.pyplot as plt\n",
    "import numpy as np\n",
    "import tensorflow as tf\n",
    "import shash\n",
    "from build_data import build_hurricane_data\n",
    "import build_model\n",
    "import model_diagnostics\n",
    "from silence_tensorflow import silence_tensorflow\n",
    "import prediction\n",
    "from sklearn.neighbors import KernelDensity\n",
    "import pandas as pd\n",
    "from tqdm import tqdm\n",
    "import imp\n",
    "\n",
    "import warnings\n",
    "warnings.filterwarnings(\"ignore\")\n",
    "\n",
    "silence_tensorflow()\n",
    "dpiFig = 400\n",
    "\n",
    "mpl.rcParams[\"figure.facecolor\"] = \"white\"\n",
    "mpl.rcParams[\"figure.dpi\"] = 150\n",
    "np.warnings.filterwarnings(\"ignore\", category=np.VisibleDeprecationWarning)"
   ]
  },
  {
   "cell_type": "code",
   "execution_count": 2,
   "metadata": {},
   "outputs": [],
   "source": [
    "__author__  = \"Randal J Barnes and Elizabeth A. Barnes\"\n",
    "__version__ = \"17 March 2022\"\n",
    "\n",
    "EXP_NAME_LIST = (\n",
    "    # \"intensity1_AL48\",\n",
    "    # \"intensity2_AL72\",\n",
    "    # \"intensity3_AL96\",    \n",
    "    # \"intensity4_EPCP48\",\n",
    "    \"intensity201_AL24\",     \n",
    "    # \"intensity5_EPCP24\",    \n",
    "    # \"intensity5_EPCP72\",\n",
    "    # \"intensity6_EPCP96\",\n",
    "    # \"intensity41_EPCP48\",\n",
    "    # \"intensity42_EPCP48\",      \n",
    ")\n",
    "\n",
    "OVERWRITE_METRICS = False\n",
    "DATA_PATH = \"data/\"\n",
    "MODEL_PATH = \"saved_models/\"\n",
    "METRIC_PATH = \"saved_metrics/\""
   ]
  },
  {
   "cell_type": "markdown",
   "metadata": {
    "jp-MarkdownHeadingCollapsed": true,
    "tags": []
   },
   "source": [
    "## Define get_metrics()"
   ]
  },
  {
   "cell_type": "code",
   "execution_count": 3,
   "metadata": {
    "tags": []
   },
   "outputs": [],
   "source": [
    "def get_metrics(x_test, onehot_test):\n",
    "    tf.random.set_seed(network_seed)\n",
    "    shash_incs = np.arange(-160,161,1)\n",
    "\n",
    "    if settings[\"uncertainty_type\"] in (\"bnn\", \"mcdrop\", \"reg\"):       \n",
    "        # loop through runs for bnn calculation    \n",
    "        runs = 5_000\n",
    "        bins_plot = np.linspace(np.min(shash_incs), np.max(shash_incs), 1000)\n",
    "        bnn_cpd = np.zeros((np.shape(x_test)[0],runs))\n",
    "        bnn_mode = np.zeros((np.shape(x_test)[0],))\n",
    "\n",
    "        for i in tqdm(range(0,runs)):\n",
    "            if settings[\"uncertainty_type\"] == \"bnn\":\n",
    "                bnn_cpd[:,i] = np.reshape(model.predict(x_test),np.shape(bnn_cpd)[0])\n",
    "            elif settings[\"uncertainty_type\"] in (\"mcdrop\", \"reg\"):\n",
    "                bnn_cpd[:,i] = np.reshape(model(x_test,training=True),np.shape(bnn_cpd)[0])                \n",
    "            else:\n",
    "                raise NotImplementedError\n",
    "                \n",
    "        bnn_mean = np.mean(bnn_cpd,axis=1)\n",
    "        bnn_median = np.median(bnn_cpd,axis=1)\n",
    "\n",
    "        for j in tqdm(range(0,np.shape(bnn_mode)[0])):\n",
    "            kde = KernelDensity(kernel=\"gaussian\", bandwidth=4.).fit(bnn_cpd[j,:].reshape(-1,1))\n",
    "            log_dens = kde.score_samples(bins_plot.reshape(-1,1))\n",
    "            i = np.argmax(log_dens)\n",
    "            bnn_mode[j] = bins_plot[i]\n",
    "\n",
    "        mean_error, median_error, mode_error = model_diagnostics.compute_errors(onehot_test, bnn_mean, bnn_median, bnn_mode)         \n",
    "        bins, hist_bnn, pit_D, EDp_bnn = model_diagnostics.compute_pit('bnn',onehot_test, bnn_cpd)\n",
    "        iqr_capture = model_diagnostics.compute_interquartile_capture('bnn',onehot_test, bnn_cpd)\n",
    "        iqr_error_spearman, iqr_error_pearson = model_diagnostics.compute_iqr_error_corr('bnn',\n",
    "                                                                                          onehot_data=onehot_test, \n",
    "                                                                                          bnn_cpd=bnn_cpd, \n",
    "                                                                                          pred_median=bnn_median,\n",
    "                                                                                         )\n",
    "        \n",
    "    elif settings[\"uncertainty_type\"] in (\"shash\",\"shash2\", \"shash3\", \"shash4\"):         \n",
    "        shash_cpd = np.zeros((np.shape(x_test)[0],len(shash_incs)))\n",
    "        shash_mean = np.zeros((np.shape(x_test)[0],))\n",
    "        shash_med = np.zeros((np.shape(x_test)[0],))\n",
    "        shash_mode = np.zeros((np.shape(x_test)[0],))\n",
    "\n",
    "        # loop through samples for shash calculation and get PDF for each sample\n",
    "        for j in tqdm(range(0,np.shape(shash_cpd)[0])):\n",
    "            mu_pred, sigma_pred, gamma_pred, tau_pred = prediction.params( x_test[np.newaxis,j], model )\n",
    "            shash_cpd[j,:] = shash.prob(shash_incs, mu_pred, sigma_pred, gamma_pred, tau_pred)    \n",
    "            shash_mean[j]  = shash.mean(mu_pred,sigma_pred,gamma_pred,tau_pred)\n",
    "            shash_med[j]   = shash.median(mu_pred,sigma_pred,gamma_pred,tau_pred)\n",
    "\n",
    "            i = np.argmax(shash_cpd[j,:])\n",
    "            shash_mode[j]  = shash_incs[i]\n",
    "\n",
    "        mean_error, median_error, mode_error = model_diagnostics.compute_errors(onehot_test, shash_mean, shash_med, shash_mode)    \n",
    "        bins, hist_shash, pit_D, EDp_shash = model_diagnostics.compute_pit('shash',onehot_test, x_data=x_test,model_shash=model)\n",
    "        iqr_capture = model_diagnostics.compute_interquartile_capture('shash',onehot_test, x_data=x_test,model_shash=model)\n",
    "        iqr_error_spearman, iqr_error_pearson = model_diagnostics.compute_iqr_error_corr('shash',\n",
    "                                                                                                onehot_data=onehot_test,\n",
    "                                                                                                pred_median=shash_med,\n",
    "                                                                                                x_data=x_test,\n",
    "                                                                                                model_shash=model,\n",
    "                                                                                               )\n",
    "    else:\n",
    "        raise NotImplementedError\n",
    "        \n",
    "    # by definition Consensus is a correction of zero\n",
    "    cons_error = np.mean(np.abs(0.0 - onehot_test[:,0]))\n",
    "    \n",
    "    # write metrics dictionary and return\n",
    "    metrics = {\n",
    "        'pit_D': pit_D,\n",
    "        'iqr_capture': iqr_capture,\n",
    "        \n",
    "        'iqr_error_spearman': iqr_error_spearman[0],\n",
    "        'iqr_error_pearson': iqr_error_pearson[0],\n",
    "        'iqr_error_spearman_p': iqr_error_spearman[1],\n",
    "        'iqr_error_pearson_p': iqr_error_pearson[1],\n",
    "\n",
    "        'cons_error': cons_error,\n",
    "        'mean_error':mean_error, \n",
    "        'median_error': median_error,\n",
    "        'mode_error': mode_error,        \n",
    "        \n",
    "        'mean_error_reduction': cons_error - mean_error,\n",
    "        'median_error_reduction': cons_error - median_error,\n",
    "        'mode_error_reduction': cons_error - mode_error,\n",
    "    }\n",
    "        \n",
    "    return metrics\n"
   ]
  },
  {
   "cell_type": "markdown",
   "metadata": {
    "tags": []
   },
   "source": [
    "## Compute Metrics"
   ]
  },
  {
   "cell_type": "code",
   "execution_count": 4,
   "metadata": {
    "tags": []
   },
   "outputs": [
    {
     "name": "stdout",
     "output_type": "stream",
     "text": [
      "'intensity201_AL24_2013_shash3_network_seed_416_rng_seed_416'\n"
     ]
    },
    {
     "name": "stderr",
     "output_type": "stream",
     "text": [
      "100%|████████████████████████████████████████████████████████████████████████████████████████████████████████████████████████████████████████████████| 118/118 [00:05<00:00, 21.35it/s]\n",
      "100%|████████████████████████████████████████████████████████████████████████████████████████████████████████████████████████████████████████████████| 200/200 [00:10<00:00, 19.21it/s]\n",
      "100%|██████████████████████████████████████████████████████████████████████████████████████████████████████████████████████████████████████████████| 1985/1985 [01:31<00:00, 21.78it/s]\n",
      "100%|████████████████████████████████████████████████████████████████████████████████████████████████████████████████████████████████████████████████| 318/318 [00:18<00:00, 16.81it/s]\n"
     ]
    },
    {
     "name": "stdout",
     "output_type": "stream",
     "text": [
      "'intensity201_AL24_2013_shash3_network_seed_739_rng_seed_739'\n"
     ]
    },
    {
     "name": "stderr",
     "output_type": "stream",
     "text": [
      "100%|████████████████████████████████████████████████████████████████████████████████████████████████████████████████████████████████████████████████| 118/118 [00:07<00:00, 16.07it/s]\n",
      "100%|████████████████████████████████████████████████████████████████████████████████████████████████████████████████████████████████████████████████| 200/200 [00:08<00:00, 23.48it/s]\n",
      "100%|██████████████████████████████████████████████████████████████████████████████████████████████████████████████████████████████████████████████| 1985/1985 [01:32<00:00, 21.42it/s]\n",
      "100%|████████████████████████████████████████████████████████████████████████████████████████████████████████████████████████████████████████████████| 318/318 [00:13<00:00, 22.93it/s]\n"
     ]
    },
    {
     "name": "stdout",
     "output_type": "stream",
     "text": [
      "'intensity201_AL24_2014_shash3_network_seed_416_rng_seed_416'\n"
     ]
    },
    {
     "name": "stderr",
     "output_type": "stream",
     "text": [
      "100%|████████████████████████████████████████████████████████████████████████████████████████████████████████████████████████████████████████████████| 112/112 [00:05<00:00, 21.75it/s]\n",
      "100%|████████████████████████████████████████████████████████████████████████████████████████████████████████████████████████████████████████████████| 200/200 [00:10<00:00, 19.44it/s]\n",
      "100%|██████████████████████████████████████████████████████████████████████████████████████████████████████████████████████████████████████████████| 1991/1991 [01:43<00:00, 19.22it/s]\n",
      "100%|████████████████████████████████████████████████████████████████████████████████████████████████████████████████████████████████████████████████| 312/312 [00:14<00:00, 21.53it/s]\n"
     ]
    },
    {
     "name": "stdout",
     "output_type": "stream",
     "text": [
      "'intensity201_AL24_2014_shash3_network_seed_739_rng_seed_739'\n"
     ]
    },
    {
     "name": "stderr",
     "output_type": "stream",
     "text": [
      "100%|████████████████████████████████████████████████████████████████████████████████████████████████████████████████████████████████████████████████| 112/112 [00:06<00:00, 18.62it/s]\n",
      "100%|████████████████████████████████████████████████████████████████████████████████████████████████████████████████████████████████████████████████| 200/200 [00:10<00:00, 18.40it/s]\n",
      "100%|██████████████████████████████████████████████████████████████████████████████████████████████████████████████████████████████████████████████| 1991/1991 [01:33<00:00, 21.29it/s]\n",
      "100%|████████████████████████████████████████████████████████████████████████████████████████████████████████████████████████████████████████████████| 312/312 [00:14<00:00, 21.60it/s]\n"
     ]
    },
    {
     "name": "stdout",
     "output_type": "stream",
     "text": [
      "'intensity201_AL24_2015_shash3_network_seed_416_rng_seed_416'\n"
     ]
    },
    {
     "name": "stderr",
     "output_type": "stream",
     "text": [
      "100%|████████████████████████████████████████████████████████████████████████████████████████████████████████████████████████████████████████████████| 170/170 [00:07<00:00, 22.35it/s]\n",
      "100%|████████████████████████████████████████████████████████████████████████████████████████████████████████████████████████████████████████████████| 200/200 [00:08<00:00, 22.95it/s]\n",
      "100%|██████████████████████████████████████████████████████████████████████████████████████████████████████████████████████████████████████████████| 1933/1933 [01:27<00:00, 22.00it/s]\n",
      "100%|████████████████████████████████████████████████████████████████████████████████████████████████████████████████████████████████████████████████| 370/370 [00:15<00:00, 23.45it/s]\n"
     ]
    },
    {
     "name": "stdout",
     "output_type": "stream",
     "text": [
      "'intensity201_AL24_2015_shash3_network_seed_739_rng_seed_739'\n"
     ]
    },
    {
     "name": "stderr",
     "output_type": "stream",
     "text": [
      "100%|████████████████████████████████████████████████████████████████████████████████████████████████████████████████████████████████████████████████| 170/170 [00:07<00:00, 23.75it/s]\n",
      "100%|████████████████████████████████████████████████████████████████████████████████████████████████████████████████████████████████████████████████| 200/200 [00:08<00:00, 24.66it/s]\n",
      "100%|██████████████████████████████████████████████████████████████████████████████████████████████████████████████████████████████████████████████| 1933/1933 [01:20<00:00, 23.92it/s]\n",
      "100%|████████████████████████████████████████████████████████████████████████████████████████████████████████████████████████████████████████████████| 370/370 [00:15<00:00, 24.21it/s]\n"
     ]
    },
    {
     "name": "stdout",
     "output_type": "stream",
     "text": [
      "'intensity201_AL24_2016_shash3_network_seed_416_rng_seed_416'\n"
     ]
    },
    {
     "name": "stderr",
     "output_type": "stream",
     "text": [
      "100%|████████████████████████████████████████████████████████████████████████████████████████████████████████████████████████████████████████████████| 281/281 [00:12<00:00, 23.07it/s]\n",
      "100%|████████████████████████████████████████████████████████████████████████████████████████████████████████████████████████████████████████████████| 200/200 [00:08<00:00, 23.45it/s]\n",
      "100%|██████████████████████████████████████████████████████████████████████████████████████████████████████████████████████████████████████████████| 1822/1822 [01:17<00:00, 23.56it/s]\n",
      "100%|████████████████████████████████████████████████████████████████████████████████████████████████████████████████████████████████████████████████| 481/481 [00:20<00:00, 23.52it/s]\n"
     ]
    },
    {
     "name": "stdout",
     "output_type": "stream",
     "text": [
      "'intensity201_AL24_2016_shash3_network_seed_739_rng_seed_739'\n"
     ]
    },
    {
     "name": "stderr",
     "output_type": "stream",
     "text": [
      "100%|████████████████████████████████████████████████████████████████████████████████████████████████████████████████████████████████████████████████| 281/281 [00:12<00:00, 23.02it/s]\n",
      "100%|████████████████████████████████████████████████████████████████████████████████████████████████████████████████████████████████████████████████| 200/200 [00:08<00:00, 23.35it/s]\n",
      "100%|██████████████████████████████████████████████████████████████████████████████████████████████████████████████████████████████████████████████| 1822/1822 [01:24<00:00, 21.55it/s]\n",
      "100%|████████████████████████████████████████████████████████████████████████████████████████████████████████████████████████████████████████████████| 481/481 [00:20<00:00, 23.94it/s]\n"
     ]
    },
    {
     "name": "stdout",
     "output_type": "stream",
     "text": [
      "'intensity201_AL24_2017_shash3_network_seed_416_rng_seed_416'\n"
     ]
    },
    {
     "name": "stderr",
     "output_type": "stream",
     "text": [
      "100%|████████████████████████████████████████████████████████████████████████████████████████████████████████████████████████████████████████████████| 322/322 [00:13<00:00, 23.27it/s]\n",
      "100%|████████████████████████████████████████████████████████████████████████████████████████████████████████████████████████████████████████████████| 200/200 [00:09<00:00, 21.46it/s]\n",
      "100%|██████████████████████████████████████████████████████████████████████████████████████████████████████████████████████████████████████████████| 1781/1781 [01:14<00:00, 23.94it/s]\n",
      "100%|████████████████████████████████████████████████████████████████████████████████████████████████████████████████████████████████████████████████| 522/522 [00:22<00:00, 23.54it/s]\n"
     ]
    },
    {
     "name": "stdout",
     "output_type": "stream",
     "text": [
      "'intensity201_AL24_2017_shash3_network_seed_739_rng_seed_739'\n"
     ]
    },
    {
     "name": "stderr",
     "output_type": "stream",
     "text": [
      "100%|████████████████████████████████████████████████████████████████████████████████████████████████████████████████████████████████████████████████| 322/322 [00:13<00:00, 23.42it/s]\n",
      "100%|████████████████████████████████████████████████████████████████████████████████████████████████████████████████████████████████████████████████| 200/200 [00:08<00:00, 24.03it/s]\n",
      "100%|██████████████████████████████████████████████████████████████████████████████████████████████████████████████████████████████████████████████| 1781/1781 [01:13<00:00, 24.28it/s]\n",
      "100%|████████████████████████████████████████████████████████████████████████████████████████████████████████████████████████████████████████████████| 522/522 [00:22<00:00, 22.82it/s]\n"
     ]
    },
    {
     "name": "stdout",
     "output_type": "stream",
     "text": [
      "'intensity201_AL24_2018_shash3_network_seed_416_rng_seed_416'\n"
     ]
    },
    {
     "name": "stderr",
     "output_type": "stream",
     "text": [
      "100%|████████████████████████████████████████████████████████████████████████████████████████████████████████████████████████████████████████████████| 304/304 [00:13<00:00, 23.36it/s]\n",
      "100%|████████████████████████████████████████████████████████████████████████████████████████████████████████████████████████████████████████████████| 200/200 [00:08<00:00, 23.47it/s]\n",
      "100%|██████████████████████████████████████████████████████████████████████████████████████████████████████████████████████████████████████████████| 1799/1799 [01:15<00:00, 23.73it/s]\n",
      "100%|████████████████████████████████████████████████████████████████████████████████████████████████████████████████████████████████████████████████| 504/504 [00:19<00:00, 25.86it/s]\n"
     ]
    },
    {
     "name": "stdout",
     "output_type": "stream",
     "text": [
      "'intensity201_AL24_2018_shash3_network_seed_739_rng_seed_739'\n"
     ]
    },
    {
     "name": "stderr",
     "output_type": "stream",
     "text": [
      "100%|████████████████████████████████████████████████████████████████████████████████████████████████████████████████████████████████████████████████| 304/304 [00:11<00:00, 26.22it/s]\n",
      "100%|████████████████████████████████████████████████████████████████████████████████████████████████████████████████████████████████████████████████| 200/200 [00:07<00:00, 26.76it/s]\n",
      "100%|██████████████████████████████████████████████████████████████████████████████████████████████████████████████████████████████████████████████| 1799/1799 [01:06<00:00, 27.23it/s]\n",
      "100%|████████████████████████████████████████████████████████████████████████████████████████████████████████████████████████████████████████████████| 504/504 [00:18<00:00, 27.29it/s]\n"
     ]
    },
    {
     "name": "stdout",
     "output_type": "stream",
     "text": [
      "'intensity201_AL24_2019_shash3_network_seed_416_rng_seed_416'\n"
     ]
    },
    {
     "name": "stderr",
     "output_type": "stream",
     "text": [
      "100%|████████████████████████████████████████████████████████████████████████████████████████████████████████████████████████████████████████████████| 232/232 [00:08<00:00, 26.47it/s]\n",
      "100%|████████████████████████████████████████████████████████████████████████████████████████████████████████████████████████████████████████████████| 200/200 [00:07<00:00, 27.41it/s]\n",
      "100%|██████████████████████████████████████████████████████████████████████████████████████████████████████████████████████████████████████████████| 1871/1871 [01:08<00:00, 27.17it/s]\n",
      "100%|████████████████████████████████████████████████████████████████████████████████████████████████████████████████████████████████████████████████| 432/432 [00:15<00:00, 27.49it/s]\n"
     ]
    },
    {
     "name": "stdout",
     "output_type": "stream",
     "text": [
      "'intensity201_AL24_2019_shash3_network_seed_739_rng_seed_739'\n"
     ]
    },
    {
     "name": "stderr",
     "output_type": "stream",
     "text": [
      "100%|████████████████████████████████████████████████████████████████████████████████████████████████████████████████████████████████████████████████| 232/232 [00:08<00:00, 27.75it/s]\n",
      "100%|████████████████████████████████████████████████████████████████████████████████████████████████████████████████████████████████████████████████| 200/200 [00:07<00:00, 27.99it/s]\n",
      "100%|██████████████████████████████████████████████████████████████████████████████████████████████████████████████████████████████████████████████| 1871/1871 [01:08<00:00, 27.43it/s]\n",
      "100%|████████████████████████████████████████████████████████████████████████████████████████████████████████████████████████████████████████████████| 432/432 [00:15<00:00, 27.64it/s]\n"
     ]
    },
    {
     "name": "stdout",
     "output_type": "stream",
     "text": [
      "'intensity201_AL24_2020_shash3_network_seed_416_rng_seed_416'\n"
     ]
    },
    {
     "name": "stderr",
     "output_type": "stream",
     "text": [
      "100%|████████████████████████████████████████████████████████████████████████████████████████████████████████████████████████████████████████████████| 456/456 [00:16<00:00, 27.57it/s]\n",
      "100%|████████████████████████████████████████████████████████████████████████████████████████████████████████████████████████████████████████████████| 200/200 [00:07<00:00, 27.96it/s]\n",
      "100%|██████████████████████████████████████████████████████████████████████████████████████████████████████████████████████████████████████████████| 1647/1647 [00:59<00:00, 27.57it/s]\n",
      "100%|████████████████████████████████████████████████████████████████████████████████████████████████████████████████████████████████████████████████| 656/656 [00:24<00:00, 27.28it/s]\n"
     ]
    },
    {
     "name": "stdout",
     "output_type": "stream",
     "text": [
      "'intensity201_AL24_2020_shash3_network_seed_739_rng_seed_739'\n"
     ]
    },
    {
     "name": "stderr",
     "output_type": "stream",
     "text": [
      "100%|████████████████████████████████████████████████████████████████████████████████████████████████████████████████████████████████████████████████| 456/456 [00:16<00:00, 27.68it/s]\n",
      "100%|████████████████████████████████████████████████████████████████████████████████████████████████████████████████████████████████████████████████| 200/200 [00:07<00:00, 25.53it/s]\n",
      "100%|██████████████████████████████████████████████████████████████████████████████████████████████████████████████████████████████████████████████| 1647/1647 [00:59<00:00, 27.69it/s]\n",
      "100%|████████████████████████████████████████████████████████████████████████████████████████████████████████████████████████████████████████████████| 656/656 [00:23<00:00, 27.60it/s]\n"
     ]
    }
   ],
   "source": [
    "imp.reload(model_diagnostics)\n",
    "\n",
    "for exp_name in EXP_NAME_LIST:\n",
    "    settings = experiment_settings.get_settings(exp_name)\n",
    "\n",
    "    # set testing data\n",
    "    if settings[\"test_condition\"] == \"leave-one-out\":\n",
    "        TESTING_YEARS_LIST = np.arange(2013,2021)\n",
    "    elif settings[\"test_condition\"] == \"years\":\n",
    "        TESTING_YEARS_LIST = (np.copy(settings[\"years_test\"]))\n",
    "    else:\n",
    "        raise NotImplementError('no such testing condition')\n",
    "        \n",
    "    for testing_years in TESTING_YEARS_LIST:        \n",
    "        # set testing year\n",
    "        settings[\"years_test\"] = (testing_years,)\n",
    "        \n",
    "        \n",
    "        for rng_seed in settings['rng_seed_list']:\n",
    "            settings['rng_seed'] = rng_seed\n",
    "            NETWORK_SEED_LIST = [settings[\"rng_seed\"]]\n",
    "            network_seed = NETWORK_SEED_LIST[0]\n",
    "            tf.random.set_seed(network_seed)  # This sets the global random seed.    \n",
    "\n",
    "            #----------------------------------------------------------------------------------------------------\n",
    "            # get the data\n",
    "            (\n",
    "                data_summary,        \n",
    "                x_train,\n",
    "                onehot_train,\n",
    "                x_val,\n",
    "                onehot_val,\n",
    "                x_test,\n",
    "                onehot_test,        \n",
    "                x_valtest,\n",
    "                onehot_valtest,\n",
    "                df_train,\n",
    "                df_val,\n",
    "                df_test,\n",
    "                df_valtest,\n",
    "            ) = build_hurricane_data(DATA_PATH, settings, verbose=0)\n",
    "\n",
    "            #----------------------------------------------------------------------------------------------------\n",
    "            # get the model\n",
    "            # Make, compile, and train the model\n",
    "            tf.keras.backend.clear_session()            \n",
    "            model = build_model.make_model(\n",
    "                settings,\n",
    "                x_train,\n",
    "                onehot_train,\n",
    "                model_compile=False,\n",
    "            )   \n",
    "            model_name = (\n",
    "                exp_name + \"_\" + \n",
    "                str(testing_years) + '_' +\n",
    "                settings[\"uncertainty_type\"] + '_' + \n",
    "                f\"network_seed_{network_seed}_rng_seed_{settings['rng_seed']}\"\n",
    "            )\n",
    "\n",
    "            try:\n",
    "                model.load_weights(MODEL_PATH + model_name + \"_weights.h5\")\n",
    "            except:\n",
    "                print(model_name + ': model does not exist. skipping...')\n",
    "                continue\n",
    "\n",
    "            #----------------------------------------------------------------------------------------------------\n",
    "            # check if the metric filename exists already\n",
    "            metric_filename = METRIC_PATH + model_name + '_metrics.pickle'              \n",
    "            if (os.path.exists(metric_filename) and OVERWRITE_METRICS==False):\n",
    "                # print(metric_filename + ' exists. Skipping...')\n",
    "                continue\n",
    "\n",
    "            # get metrics and put into a dictionary\n",
    "            pprint.pprint(model_name)\n",
    "\n",
    "            # compute the metrics\n",
    "            metrics_test = get_metrics(x_test, onehot_test)\n",
    "            metrics_val = get_metrics(x_val, onehot_val)\n",
    "            metrics_train = get_metrics(x_train, onehot_train)\n",
    "            metrics_valtest = get_metrics(x_valtest, onehot_valtest)\n",
    "\n",
    "            # create the metrics dataframe\n",
    "            d = {}\n",
    "            d['uncertainty_type'] = settings[\"uncertainty_type\"]\n",
    "            d['network_seed'] = network_seed\n",
    "            d['rng_seed'] = settings['rng_seed']\n",
    "            d['exp_name'] = exp_name\n",
    "            d['basin_lead'] = exp_name[exp_name.rfind('_')+1:]\n",
    "            d['testing_years'] = settings[\"years_test\"]\n",
    "            \n",
    "\n",
    "            for k in metrics_test.keys():\n",
    "                k_key = k + '_test'            \n",
    "                d[k_key] = metrics_test[k]\n",
    "            for k in metrics_val.keys():\n",
    "                k_key = k + '_val'\n",
    "                d[k_key] = metrics_val[k]\n",
    "            for k in metrics_train.keys():\n",
    "                k_key = k + '_train'\n",
    "                d[k_key] = metrics_train[k]            \n",
    "            for k in metrics_valtest.keys():\n",
    "                k_key = k + '_valtest'\n",
    "                d[k_key] = metrics_valtest[k]\n",
    "\n",
    "            # save the dataframe    \n",
    "            # pprint.pprint(d, width=80)  \n",
    "            df = pd.DataFrame(data=d, index=[0])\n",
    "            df.to_pickle(metric_filename)"
   ]
  },
  {
   "cell_type": "code",
   "execution_count": null,
   "metadata": {},
   "outputs": [],
   "source": []
  }
 ],
 "metadata": {
  "kernelspec": {
   "display_name": "Python 3 (ipykernel)",
   "language": "python",
   "name": "python3"
  },
  "language_info": {
   "codemirror_mode": {
    "name": "ipython",
    "version": 3
   },
   "file_extension": ".py",
   "mimetype": "text/x-python",
   "name": "python",
   "nbconvert_exporter": "python",
   "pygments_lexer": "ipython3",
   "version": "3.9.7"
  }
 },
 "nbformat": 4,
 "nbformat_minor": 4
}
