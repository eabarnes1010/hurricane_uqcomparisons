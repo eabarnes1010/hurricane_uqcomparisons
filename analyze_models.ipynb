{
 "cells": [
  {
   "cell_type": "markdown",
   "metadata": {},
   "source": [
    "# Analyze and plot methods for hurricane forecast uncertainty\n",
    "##### author: Elizabeth A. Barnes, Randal J. Barnes and Mark DeMaria\n",
    "##### version: v0.1.0\n",
    "##### date: 14 December 2021\n",
    "\n",
    "```\n",
    "conda create --name env-hurr-tfp python=3.9\n",
    "conda activate env-hurr-tfp\n",
    "pip install tensorflow==2.7.0\n",
    "pip install tensorflow-probability==0.15.0\n",
    "pip install --upgrade numpy scipy pandas statsmodels matplotlib seaborn \n",
    "pip install --upgrade palettable progressbar2 tabulate icecream flake8\n",
    "pip install --upgrade keras-tuner sklearn\n",
    "pip install --upgrade jupyterlab black isort jupyterlab_code_formatter\n",
    "pip install silence-tensorflow\n",
    "pip install tqdm\n",
    "```\n",
    "\n",
    "Use the command\n",
    "```python -m pip freeze > requirements.txt```\n",
    "to make a pip installation list."
   ]
  },
  {
   "cell_type": "code",
   "execution_count": 1,
   "metadata": {
    "tags": []
   },
   "outputs": [],
   "source": [
    "import datetime\n",
    "import os\n",
    "import pickle\n",
    "import pprint\n",
    "import time\n",
    "\n",
    "import experiment_settings\n",
    "import matplotlib as mpl\n",
    "import matplotlib.pyplot as plt\n",
    "import numpy as np\n",
    "import tensorflow as tf\n",
    "import shash\n",
    "from build_data import build_hurricane_data\n",
    "from build_model import build_shash_model, build_bnn_model\n",
    "from custom_loss import compute_shash_NLL, compute_NLL\n",
    "from custom_metrics import CustomMAE, InterquartileCapture, SignTest\n",
    "from model_diagnostics import plot_history\n",
    "from save_model_run import save_model_run\n",
    "from sklearn import preprocessing\n",
    "from tensorflow.keras import optimizers\n",
    "from training_instrumentation import TrainingInstrumentation\n",
    "from silence_tensorflow import silence_tensorflow\n",
    "import tensorflow_probability as tfp\n",
    "\n",
    "from tqdm import tqdm\n",
    "\n",
    "silence_tensorflow()"
   ]
  },
  {
   "cell_type": "code",
   "execution_count": 2,
   "metadata": {},
   "outputs": [],
   "source": [
    "__author__ = \"Randal J Barnes and Elizabeth A. Barnes\"\n",
    "__version__ = \"14 December 2021\"\n",
    "\n",
    "DATA_PATH = \"data/\"\n",
    "MODEL_PATH = \"saved_models/\""
   ]
  },
  {
   "cell_type": "code",
   "execution_count": 3,
   "metadata": {},
   "outputs": [],
   "source": [
    "mpl.rcParams[\"figure.facecolor\"] = \"white\"\n",
    "mpl.rcParams[\"figure.dpi\"] = 150\n",
    "np.warnings.filterwarnings(\"ignore\", category=np.VisibleDeprecationWarning)"
   ]
  },
  {
   "cell_type": "markdown",
   "metadata": {},
   "source": [
    "## Load the models"
   ]
  },
  {
   "cell_type": "code",
   "execution_count": 5,
   "metadata": {
    "tags": []
   },
   "outputs": [
    {
     "name": "stdout",
     "output_type": "stream",
     "text": [
      "'intensity0_AL72_shash3_network_seed_888_rng_seed_888'\n",
      "'intensity1_AL72_bnn_network_seed_888_rng_seed_888'\n"
     ]
    },
    {
     "name": "stderr",
     "output_type": "stream",
     "text": [
      "/opt/anaconda3/envs/env-hurr-tfp/lib/python3.9/site-packages/tensorflow_probability/python/layers/util.py:95: UserWarning: `layer.add_variable` is deprecated and will be removed in a future version. Please use `layer.add_weight` method instead.\n",
      "  loc = add_variable_fn(\n",
      "/opt/anaconda3/envs/env-hurr-tfp/lib/python3.9/site-packages/tensorflow_probability/python/layers/util.py:105: UserWarning: `layer.add_variable` is deprecated and will be removed in a future version. Please use `layer.add_weight` method instead.\n",
      "  untransformed_scale = add_variable_fn(\n"
     ]
    }
   ],
   "source": [
    "EXP_NAME_LIST = (\"intensity0_AL72\",\"intensity1_AL72\")\n",
    "\n",
    "for exp_name in EXP_NAME_LIST:\n",
    "    settings = experiment_settings.get_settings(exp_name)\n",
    "    # pprint.pprint(settings, width=80)\n",
    "    \n",
    "    NETWORK_SEED_LIST = [settings[\"rng_seed\"]]\n",
    "    network_seed = NETWORK_SEED_LIST[0]\n",
    "    tf.random.set_seed(network_seed)  # This sets the global random seed.    \n",
    "    \n",
    "    (x_train,\n",
    "        onehot_train,\n",
    "        x_val,\n",
    "        onehot_val,\n",
    "        data_summary,\n",
    "        df,\n",
    "    ) = build_hurricane_data(DATA_PATH, settings, verbose=0)    \n",
    "\n",
    "    # Create the model name.\n",
    "    model_name = (\n",
    "        exp_name + \"_\" + settings[\"uncertainty_type\"] + '_' + f\"network_seed_{network_seed}_rng_seed_{settings['rng_seed']}\"\n",
    "    )\n",
    "    pprint.pprint(model_name)\n",
    "\n",
    "    if settings[\"uncertainty_type\"] == \"bnn\":       \n",
    "        model_bnn = build_bnn_model(\n",
    "            x_train,\n",
    "            onehot_train,\n",
    "            hiddens=settings[\"hiddens\"],\n",
    "            output_shape=onehot_train.shape[1],\n",
    "            ridge_penalty=settings[\"ridge_param\"],\n",
    "            act_fun=settings[\"act_fun\"],\n",
    "        )\n",
    "        model_bnn.load_weights(MODEL_PATH + model_name + \"_weights.h5\")\n",
    "\n",
    "    elif settings[\"uncertainty_type\"][:5] == \"shash\":   \n",
    "        model_shash = build_shash_model(\n",
    "            x_train,\n",
    "            onehot_train,\n",
    "            hiddens=settings[\"hiddens\"],\n",
    "            output_shape=onehot_train.shape[1],\n",
    "            ridge_penalty=settings[\"ridge_param\"],\n",
    "            act_fun=settings[\"act_fun\"],\n",
    "        )\n",
    "        model_shash.load_weights(MODEL_PATH + model_name + \"_weights.h5\")\n"
   ]
  },
  {
   "cell_type": "markdown",
   "metadata": {},
   "source": [
    "## Make Model Predictions"
   ]
  },
  {
   "cell_type": "code",
   "execution_count": 6,
   "metadata": {},
   "outputs": [
    {
     "name": "stderr",
     "output_type": "stream",
     "text": [
      "100%|████████████████████████████████████████████████████████████████████████████████████████████████████████████████| 300/300 [00:08<00:00, 33.69it/s]\n",
      "100%|████████████████████████████████████████████████████████████████████████████████████████████████████████████████| 500/500 [00:17<00:00, 29.19it/s]\n"
     ]
    }
   ],
   "source": [
    "runs = 500\n",
    "shash_cpd = np.zeros((np.shape(x_val)[0],runs))\n",
    "bnn_cpd = np.zeros((np.shape(x_val)[0],runs))\n",
    "tf.random.set_seed(network_seed)\n",
    "\n",
    "for j in tqdm(range(0,np.shape(shash_cpd)[0])):\n",
    "    #shash calculation\n",
    "    shash_pred = model_shash.predict(x_val[j])\n",
    "    (mu_pred, sigma_pred, gamma_pred) = (shash_pred[:,0], shash_pred[:,1], shash_pred[:,2])\n",
    "    shash_cpd[j,:] = shash.rvs(mu_pred,sigma_pred,gamma_pred,np.ones(np.shape(mu_pred)),size=runs)\n",
    "    \n",
    "for i in tqdm(range(0,runs)):\n",
    "    # bnn calculation\n",
    "    bnn_cpd[:,i] = np.reshape(model_bnn.predict(x_val),np.shape(bnn_cpd)[0])\n",
    "     "
   ]
  },
  {
   "cell_type": "markdown",
   "metadata": {},
   "source": [
    "## Plot Results"
   ]
  },
  {
   "cell_type": "code",
   "execution_count": 7,
   "metadata": {
    "jupyter": {
     "source_hidden": true
    },
    "tags": []
   },
   "outputs": [],
   "source": [
    "### for white background...\n",
    "plt.rc('text',usetex=True)\n",
    "plt.rc('font',**{'family':'sans-serif','sans-serif':['Avant Garde']}) \n",
    "plt.rc('savefig',facecolor='white')\n",
    "plt.rc('axes',facecolor='white')\n",
    "plt.rc('axes',labelcolor='dimgrey')\n",
    "plt.rc('axes',labelcolor='dimgrey')\n",
    "plt.rc('xtick',color='dimgrey')\n",
    "plt.rc('ytick',color='dimgrey')\n",
    "################################  \n",
    "################################  \n",
    "def adjust_spines(ax, spines):\n",
    "    for loc, spine in ax.spines.items():\n",
    "        if loc in spines:\n",
    "            spine.set_position(('outward', 5))\n",
    "        else:\n",
    "            spine.set_color('none')  \n",
    "    if 'left' in spines:\n",
    "        ax.yaxis.set_ticks_position('left')\n",
    "    else:\n",
    "        ax.yaxis.set_ticks([])\n",
    "    if 'bottom' in spines:\n",
    "        ax.xaxis.set_ticks_position('bottom')\n",
    "    else:\n",
    "            ax.xaxis.set_ticks([]) "
   ]
  },
  {
   "cell_type": "code",
   "execution_count": 8,
   "metadata": {},
   "outputs": [
    {
     "data": {
      "image/png": "[encoded data removed]",
      "text/plain": [
       "<Figure size 900x600 with 1 Axes>"
      ]
     },
     "metadata": {},
     "output_type": "display_data"
    }
   ],
   "source": [
    "# PLOT RESULTS    \n",
    "sample_index = 5\n",
    "bins = np.arange(-100,110,10)\n",
    "\n",
    "ax = plt.figure()\n",
    "# results for SHASH\n",
    "clr = 'tab:blue'\n",
    "plt.hist(shash_cpd[sample_index,:],\n",
    "         bins=bins,\n",
    "         histtype=u'step',\n",
    "         density=False, \n",
    "         color=clr,\n",
    "         linewidth=2, \n",
    "         label='SHASH',         \n",
    "        )\n",
    "\n",
    "# results for BNN\n",
    "clr = 'orange'\n",
    "plt.hist(bnn_cpd[sample_index,:],\n",
    "         bins=bins,\n",
    "         histtype=u'step',\n",
    "         density=False, \n",
    "         color=clr,\n",
    "         linewidth=2,\n",
    "         label='BNN',\n",
    "        )\n",
    "\n",
    "# truth\n",
    "plt.axvline(x=onehot_val[sample_index,0],color='k',linestyle='--')\n",
    "    \n",
    "plt.legend()\n",
    "\n",
    "ax = plt.gca()\n",
    "plt.xticks(bins[::2],bins[::2])\n",
    "yticks = ax.get_yticks()\n",
    "plt.yticks(yticks.astype(int),yticks.astype(int))\n",
    "\n",
    "plt.show()"
   ]
  },
  {
   "cell_type": "code",
   "execution_count": null,
   "metadata": {},
   "outputs": [],
   "source": []
  }
 ],
 "metadata": {
  "kernelspec": {
   "display_name": "Python 3 (ipykernel)",
   "language": "python",
   "name": "python3"
  },
  "language_info": {
   "codemirror_mode": {
    "name": "ipython",
    "version": 3
   },
   "file_extension": ".py",
   "mimetype": "text/x-python",
   "name": "python",
   "nbconvert_exporter": "python",
   "pygments_lexer": "ipython3",
   "version": "3.9.7"
  }
 },
 "nbformat": 4,
 "nbformat_minor": 4
}
