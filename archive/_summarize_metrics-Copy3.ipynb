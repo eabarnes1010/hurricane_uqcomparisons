{
 "cells": [
  {
   "cell_type": "markdown",
   "metadata": {},
   "source": [
    "# Compute metrics for different runs and plot them\n",
    "##### author: Elizabeth A. Barnes, Randal J. Barnes and Mark DeMaria\n",
    "##### version: v0.1.0\n",
    "##### date: 14 December 2021\n",
    "\n",
    "```\n",
    "conda create --name env-hurr-tfp python=3.9\n",
    "conda activate env-hurr-tfp\n",
    "pip install tensorflow==2.7.0\n",
    "pip install tensorflow-probability==0.15.0\n",
    "pip install --upgrade numpy scipy pandas statsmodels matplotlib seaborn \n",
    "pip install --upgrade palettable progressbar2 tabulate icecream flake8\n",
    "pip install --upgrade keras-tuner sklearn\n",
    "pip install --upgrade jupyterlab black isort jupyterlab_code_formatter\n",
    "pip install silence-tensorflow\n",
    "pip install tqdm\n",
    "```\n",
    "\n",
    "Use the command\n",
    "```python -m pip freeze > requirements.txt```\n",
    "to make a pip installation list."
   ]
  },
  {
   "cell_type": "code",
   "execution_count": 1,
   "metadata": {
    "tags": []
   },
   "outputs": [],
   "source": [
    "import datetime\n",
    "import os\n",
    "import pickle\n",
    "import pprint\n",
    "import time\n",
    "\n",
    "import experiment_settings\n",
    "import matplotlib as mpl\n",
    "import matplotlib.pyplot as plt\n",
    "import numpy as np\n",
    "import tensorflow as tf\n",
    "import shash\n",
    "from build_data import build_hurricane_data\n",
    "from build_model import build_shash_model, build_bnn_model\n",
    "import model_diagnostics\n",
    "from silence_tensorflow import silence_tensorflow\n",
    "import prediction\n",
    "from sklearn.neighbors import KernelDensity\n",
    "import pandas as pd\n",
    "from tqdm import tqdm\n",
    "\n",
    "import warnings\n",
    "warnings.filterwarnings(\"ignore\")\n",
    "\n",
    "silence_tensorflow()\n",
    "dpiFig = 400"
   ]
  },
  {
   "cell_type": "code",
   "execution_count": 2,
   "metadata": {},
   "outputs": [],
   "source": [
    "__author__ = \"Randal J Barnes and Elizabeth A. Barnes\"\n",
    "__version__ = \"17 January 2022\"\n",
    "\n",
    "# EXP_NAME_LIST = (\n",
    "#                  \"intensity8_AL96\",\n",
    "#                  \"intensity9_AL96\",\n",
    "#                  \"intensity10_EPCP96\",\n",
    "#                  \"intensity11_EPCP96\",\n",
    "#                  \"intensity0_AL72\",\n",
    "#                  \"intensity1_AL72\",\n",
    "#                  \"intensity4_EPCP72\",\n",
    "#                  \"intensity5_EPCP72\",\n",
    "#                  \"intensity12_AL48\",\n",
    "#                  \"intensity13_AL48\",    \n",
    "#                  \"intensity2_EPCP48\",\n",
    "#                  \"intensity3_EPCP48\",\n",
    "#                 )\n",
    "# APPEND_NAME = ''\n",
    "\n",
    "EXP_NAME_LIST = (\n",
    "                 \"intensity204_AL72\",\n",
    "                 \"intensity205_AL72\",\n",
    "                 \"intensity202_EPCP72\",\n",
    "                 \"intensity203_EPCP72\",            \n",
    "                 \"intensity206_AL48\",\n",
    "                 \"intensity207_AL48\",\n",
    "                 \"intensity200_EPCP48\",\n",
    "                 \"intensity201_EPCP48\",    \n",
    "                )\n",
    "# APPEND_NAME = '_clusterExtrapolation'\n",
    "APPEND_NAME = '_clusterExtrapolationAllClusters'\n",
    "\n",
    "\n",
    "\n",
    "OVERWRITE_METRICS = False\n",
    "DATA_PATH = \"data/\"\n",
    "MODEL_PATH = \"saved_models/\"\n",
    "METRIC_PATH = \"model_metrics/\"\n",
    "FIGURE_PATH = \"figures/summary_plots/\""
   ]
  },
  {
   "cell_type": "code",
   "execution_count": 3,
   "metadata": {},
   "outputs": [],
   "source": [
    "mpl.rcParams[\"figure.facecolor\"] = \"white\"\n",
    "mpl.rcParams[\"figure.dpi\"] = 150\n",
    "np.warnings.filterwarnings(\"ignore\", category=np.VisibleDeprecationWarning)"
   ]
  },
  {
   "cell_type": "markdown",
   "metadata": {},
   "source": [
    "## Define get_metrics()"
   ]
  },
  {
   "cell_type": "code",
   "execution_count": 4,
   "metadata": {
    "tags": []
   },
   "outputs": [],
   "source": [
    "def get_metrics():\n",
    "    tf.random.set_seed(network_seed)\n",
    "    shash_incs = np.arange(-160,161,1)\n",
    "\n",
    "    if settings[\"uncertainty_type\"] == \"bnn\":       \n",
    "        # loop through runs for bnn calculation    \n",
    "        runs = 5_000\n",
    "        bins_plot = np.linspace(np.min(shash_incs), np.max(shash_incs), 1000)\n",
    "        bnn_cpd = np.zeros((np.shape(x_eval)[0],runs))\n",
    "        bnn_mode = np.zeros((np.shape(x_eval)[0],))\n",
    "\n",
    "        for i in tqdm(range(0,runs)):\n",
    "            bnn_cpd[:,i] = np.reshape(model_bnn.predict(x_eval),np.shape(bnn_cpd)[0])\n",
    "        bnn_mean = np.mean(bnn_cpd,axis=1)\n",
    "        bnn_median = np.median(bnn_cpd,axis=1)\n",
    "\n",
    "        for j in tqdm(range(0,np.shape(bnn_mode)[0])):\n",
    "            kde = KernelDensity(kernel=\"gaussian\", bandwidth=4.).fit(bnn_cpd[j,:].reshape(-1,1))\n",
    "            log_dens = kde.score_samples(bins_plot.reshape(-1,1))\n",
    "            i = np.argmax(log_dens)\n",
    "            bnn_mode[j] = bins_plot[i]\n",
    "\n",
    "        mean_error, median_error, mode_error = model_diagnostics.compute_errors(onehot_eval, bnn_mean, bnn_median, bnn_mode)         \n",
    "        bins, hist_bnn, pit_D, EDp_bnn = model_diagnostics.compute_pit('bnn',onehot_eval, bnn_cpd)\n",
    "        iqr_capture = model_diagnostics.compute_interquartile_capture('bnn',onehot_eval, bnn_cpd)\n",
    "        iqr_error_spearman, iqr_error_pearson = model_diagnostics.compute_iqr_error_corr('bnn',\n",
    "                                                                                          onehot_val=onehot_eval, \n",
    "                                                                                          bnn_cpd=bnn_cpd, \n",
    "                                                                                          pred_median=bnn_median,\n",
    "                                                                                         )\n",
    "        \n",
    "    else:        \n",
    "        shash_cpd = np.zeros((np.shape(x_eval)[0],len(shash_incs)))\n",
    "        shash_mean = np.zeros((np.shape(x_eval)[0],))\n",
    "        shash_med = np.zeros((np.shape(x_eval)[0],))\n",
    "        shash_mode = np.zeros((np.shape(x_eval)[0],))\n",
    "\n",
    "        # loop through samples for shash calculation and get PDF for each sample\n",
    "        for j in tqdm(range(0,np.shape(shash_cpd)[0])):\n",
    "            mu_pred, sigma_pred, gamma_pred, tau_pred = prediction.params( x_eval[np.newaxis,j], model_shash )\n",
    "            shash_cpd[j,:] = shash.prob(shash_incs, mu_pred, sigma_pred, gamma_pred, tau_pred)    \n",
    "            shash_mean[j]  = shash.mean(mu_pred,sigma_pred,gamma_pred,tau_pred)#np.sum(shash_cpd[j,:]*shash_incs)\n",
    "            shash_med[j]   = shash.median(mu_pred,sigma_pred,gamma_pred,tau_pred)\n",
    "\n",
    "            i = np.argmax(shash_cpd[j,:])\n",
    "            shash_mode[j]  = shash_incs[i]\n",
    "\n",
    "        mean_error, median_error, mode_error = model_diagnostics.compute_errors(onehot_eval, shash_mean, shash_med, shash_mode)    \n",
    "        bins, hist_shash, pit_D, EDp_shash = model_diagnostics.compute_pit('shash',onehot_eval, x_val=x_eval,model_shash=model_shash)\n",
    "        iqr_capture = model_diagnostics.compute_interquartile_capture('shash',onehot_eval, x_val=x_eval,model_shash=model_shash)\n",
    "        iqr_error_spearman, iqr_error_pearson = model_diagnostics.compute_iqr_error_corr('shash',\n",
    "                                                                                                onehot_val=onehot_eval,\n",
    "                                                                                                pred_median=shash_med,\n",
    "                                                                                                x_val=x_eval,\n",
    "                                                                                                model_shash=model_shash,\n",
    "                                                                                               )\n",
    "\n",
    "    # by definition Consensus is a correction of zero\n",
    "    cons_error = np.mean(np.abs(0.0 - onehot_eval[:,0]))\n",
    "        \n",
    "    return mean_error,median_error,mode_error,pit_D,iqr_capture,cons_error,iqr_error_spearman,iqr_error_pearson\n"
   ]
  },
  {
   "cell_type": "markdown",
   "metadata": {},
   "source": [
    "## Evaluate the models"
   ]
  },
  {
   "cell_type": "code",
   "execution_count": 5,
   "metadata": {},
   "outputs": [
    {
     "ename": "ValueError",
     "evalue": "do not compute metrics yet",
     "output_type": "error",
     "traceback": [
      "\u001b[0;31m---------------------------------------------------------------------------\u001b[0m",
      "\u001b[0;31mValueError\u001b[0m                                Traceback (most recent call last)",
      "\u001b[0;32m/var/folders/ds/32cnt1m12110f2x86qdfzszh0001zl/T/ipykernel_31820/1187286885.py\u001b[0m in \u001b[0;36m<module>\u001b[0;34m\u001b[0m\n\u001b[0;32m----> 1\u001b[0;31m \u001b[0;32mraise\u001b[0m \u001b[0mValueError\u001b[0m\u001b[0;34m(\u001b[0m\u001b[0;34m'do not compute metrics yet'\u001b[0m\u001b[0;34m)\u001b[0m\u001b[0;34m\u001b[0m\u001b[0;34m\u001b[0m\u001b[0m\n\u001b[0m",
      "\u001b[0;31mValueError\u001b[0m: do not compute metrics yet"
     ]
    }
   ],
   "source": [
    "raise ValueError('do not compute metrics yet')"
   ]
  },
  {
   "cell_type": "code",
   "execution_count": 6,
   "metadata": {
    "tags": []
   },
   "outputs": [
    {
     "name": "stdout",
     "output_type": "stream",
     "text": [
      "'intensity202_EPCP72_shash3_network_seed_444_rng_seed_444'\n"
     ]
    },
    {
     "name": "stderr",
     "output_type": "stream",
     "text": [
      "100%|█████████████████████████████████████████████████████████████████████████████████████████████████████████████████████████████████████████| 512/512 [00:19<00:00, 26.19it/s]\n"
     ]
    },
    {
     "name": "stdout",
     "output_type": "stream",
     "text": [
      "{'cons_error': 15.319141,\n",
      " 'exp_name': 'intensity202_EPCP72',\n",
      " 'iqr_capture': 0.5,\n",
      " 'iqr_error_pearson': 0.2446636979938748,\n",
      " 'iqr_error_pearson_p': 2.0464356479016896e-08,\n",
      " 'iqr_error_spearman': 0.23988848047630493,\n",
      " 'iqr_error_spearman_p': 3.9020142120822236e-08,\n",
      " 'mean_error': 13.779290958394995,\n",
      " 'median_error': 13.943897506251233,\n",
      " 'mode_error': 14.998437518981518,\n",
      " 'network_seed': 444,\n",
      " 'pit_d': 0.019798947655583314,\n",
      " 'rng_seed': 444,\n",
      " 'uncertainty_type': 'shash3'}\n",
      "'intensity203_EPCP72_bnn_network_seed_605_rng_seed_605'\n"
     ]
    },
    {
     "name": "stderr",
     "output_type": "stream",
     "text": [
      "100%|███████████████████████████████████████████████████████████████████████████████████████████████████████████████████████████████████████| 5000/5000 [03:49<00:00, 21.83it/s]\n",
      "100%|█████████████████████████████████████████████████████████████████████████████████████████████████████████████████████████████████████████| 512/512 [00:58<00:00,  8.80it/s]\n"
     ]
    },
    {
     "name": "stdout",
     "output_type": "stream",
     "text": [
      "{'cons_error': 15.026367,\n",
      " 'exp_name': 'intensity203_EPCP72',\n",
      " 'iqr_capture': 0.54296875,\n",
      " 'iqr_error_pearson': 0.20823345397623277,\n",
      " 'iqr_error_pearson_p': 2.009539454357889e-06,\n",
      " 'iqr_error_spearman': 0.15366496649729347,\n",
      " 'iqr_error_spearman_p': 0.0004843090547016457,\n",
      " 'mean_error': 13.756754664947891,\n",
      " 'median_error': 13.741939959829324,\n",
      " 'mode_error': 13.689729368071353,\n",
      " 'network_seed': 605,\n",
      " 'pit_d': 0.015073266704355263,\n",
      " 'rng_seed': 605,\n",
      " 'uncertainty_type': 'bnn'}\n",
      "'intensity203_EPCP72_bnn_network_seed_122_rng_seed_122'\n"
     ]
    },
    {
     "name": "stderr",
     "output_type": "stream",
     "text": [
      "100%|███████████████████████████████████████████████████████████████████████████████████████████████████████████████████████████████████████| 5000/5000 [03:48<00:00, 21.92it/s]\n",
      "100%|█████████████████████████████████████████████████████████████████████████████████████████████████████████████████████████████████████████| 512/512 [00:56<00:00,  9.14it/s]\n"
     ]
    },
    {
     "name": "stdout",
     "output_type": "stream",
     "text": [
      "{'cons_error': 14.800196,\n",
      " 'exp_name': 'intensity203_EPCP72',\n",
      " 'iqr_capture': 0.525390625,\n",
      " 'iqr_error_pearson': 0.20550021529574555,\n",
      " 'iqr_error_pearson_p': 2.749361557570286e-06,\n",
      " 'iqr_error_spearman': 0.1842062347649947,\n",
      " 'iqr_error_spearman_p': 2.7424149573683646e-05,\n",
      " 'mean_error': 13.780872123234968,\n",
      " 'median_error': 13.782060795230791,\n",
      " 'mode_error': 13.79128406064403,\n",
      " 'network_seed': 122,\n",
      " 'pit_d': 0.018171411483770324,\n",
      " 'rng_seed': 122,\n",
      " 'uncertainty_type': 'bnn'}\n",
      "'intensity203_EPCP72_bnn_network_seed_786_rng_seed_786'\n"
     ]
    },
    {
     "name": "stderr",
     "output_type": "stream",
     "text": [
      "100%|███████████████████████████████████████████████████████████████████████████████████████████████████████████████████████████████████████| 5000/5000 [03:34<00:00, 23.34it/s]\n",
      "100%|█████████████████████████████████████████████████████████████████████████████████████████████████████████████████████████████████████████| 512/512 [00:52<00:00,  9.77it/s]\n"
     ]
    },
    {
     "name": "stdout",
     "output_type": "stream",
     "text": [
      "{'cons_error': 15.453905,\n",
      " 'exp_name': 'intensity203_EPCP72',\n",
      " 'iqr_capture': 0.490234375,\n",
      " 'iqr_error_pearson': 0.33590096951646387,\n",
      " 'iqr_error_pearson_p': 5.71626249821481e-15,\n",
      " 'iqr_error_spearman': 0.36811679956168963,\n",
      " 'iqr_error_spearman_p': 7.087607277432127e-18,\n",
      " 'mean_error': 14.248860859672227,\n",
      " 'median_error': 14.24915439121105,\n",
      " 'mode_error': 14.323381581193967,\n",
      " 'network_seed': 786,\n",
      " 'pit_d': 0.01722297475394422,\n",
      " 'rng_seed': 786,\n",
      " 'uncertainty_type': 'bnn'}\n",
      "'intensity203_EPCP72_bnn_network_seed_311_rng_seed_311'\n"
     ]
    },
    {
     "name": "stderr",
     "output_type": "stream",
     "text": [
      "100%|███████████████████████████████████████████████████████████████████████████████████████████████████████████████████████████████████████| 5000/5000 [03:25<00:00, 24.30it/s]\n",
      "100%|█████████████████████████████████████████████████████████████████████████████████████████████████████████████████████████████████████████| 512/512 [00:51<00:00,  9.96it/s]\n"
     ]
    },
    {
     "name": "stdout",
     "output_type": "stream",
     "text": [
      "{'cons_error': 15.702539,\n",
      " 'exp_name': 'intensity203_EPCP72',\n",
      " 'iqr_capture': 0.4296875,\n",
      " 'iqr_error_pearson': 0.23658384647755815,\n",
      " 'iqr_error_pearson_p': 6.050924046102385e-08,\n",
      " 'iqr_error_spearman': 0.20736818144104555,\n",
      " 'iqr_error_spearman_p': 2.220192789055781e-06,\n",
      " 'mean_error': 14.889265196606527,\n",
      " 'median_error': 14.891813125832414,\n",
      " 'mode_error': 15.052263020460561,\n",
      " 'network_seed': 311,\n",
      " 'pit_d': 0.016522098423872346,\n",
      " 'rng_seed': 311,\n",
      " 'uncertainty_type': 'bnn'}\n",
      "'intensity203_EPCP72_bnn_network_seed_888_rng_seed_888'\n"
     ]
    },
    {
     "name": "stderr",
     "output_type": "stream",
     "text": [
      "100%|███████████████████████████████████████████████████████████████████████████████████████████████████████████████████████████████████████| 5000/5000 [03:24<00:00, 24.50it/s]\n",
      "100%|█████████████████████████████████████████████████████████████████████████████████████████████████████████████████████████████████████████| 512/512 [00:53<00:00,  9.64it/s]\n"
     ]
    },
    {
     "name": "stdout",
     "output_type": "stream",
     "text": [
      "{'cons_error': 15.117969,\n",
      " 'exp_name': 'intensity203_EPCP72',\n",
      " 'iqr_capture': 0.544921875,\n",
      " 'iqr_error_pearson': 0.22837075727540607,\n",
      " 'iqr_error_pearson_p': 1.7509900629428867e-07,\n",
      " 'iqr_error_spearman': 0.1555742595644362,\n",
      " 'iqr_error_spearman_p': 0.00041060101597799217,\n",
      " 'mean_error': 13.993915178986217,\n",
      " 'median_error': 13.993812371001695,\n",
      " 'mode_error': 14.116496565077973,\n",
      " 'network_seed': 888,\n",
      " 'pit_d': 0.016429485035010225,\n",
      " 'rng_seed': 888,\n",
      " 'uncertainty_type': 'bnn'}\n",
      "'intensity203_EPCP72_bnn_network_seed_999_rng_seed_999'\n"
     ]
    },
    {
     "name": "stderr",
     "output_type": "stream",
     "text": [
      "100%|███████████████████████████████████████████████████████████████████████████████████████████████████████████████████████████████████████| 5000/5000 [03:23<00:00, 24.61it/s]\n",
      "100%|█████████████████████████████████████████████████████████████████████████████████████████████████████████████████████████████████████████| 512/512 [00:55<00:00,  9.28it/s]\n"
     ]
    },
    {
     "name": "stdout",
     "output_type": "stream",
     "text": [
      "{'cons_error': 14.423046,\n",
      " 'exp_name': 'intensity203_EPCP72',\n",
      " 'iqr_capture': 0.60546875,\n",
      " 'iqr_error_pearson': 0.1200121941747132,\n",
      " 'iqr_error_pearson_p': 0.006552687988697787,\n",
      " 'iqr_error_spearman': 0.10107898527711974,\n",
      " 'iqr_error_spearman_p': 0.022170894812052498,\n",
      " 'mean_error': 13.245899688952068,\n",
      " 'median_error': 13.231235706596635,\n",
      " 'mode_error': 13.416645543530493,\n",
      " 'network_seed': 999,\n",
      " 'pit_d': 0.023287279001232626,\n",
      " 'rng_seed': 999,\n",
      " 'uncertainty_type': 'bnn'}\n",
      "'intensity203_EPCP72_bnn_network_seed_578_rng_seed_578'\n"
     ]
    },
    {
     "name": "stderr",
     "output_type": "stream",
     "text": [
      "100%|███████████████████████████████████████████████████████████████████████████████████████████████████████████████████████████████████████| 5000/5000 [03:22<00:00, 24.67it/s]\n",
      "100%|█████████████████████████████████████████████████████████████████████████████████████████████████████████████████████████████████████████| 512/512 [00:52<00:00,  9.80it/s]\n"
     ]
    },
    {
     "name": "stdout",
     "output_type": "stream",
     "text": [
      "{'cons_error': 14.828516,\n",
      " 'exp_name': 'intensity203_EPCP72',\n",
      " 'iqr_capture': 0.55078125,\n",
      " 'iqr_error_pearson': 0.12074295079588851,\n",
      " 'iqr_error_pearson_p': 0.006229738178276925,\n",
      " 'iqr_error_spearman': 0.0948321860587542,\n",
      " 'iqr_error_spearman_p': 0.031920902138878354,\n",
      " 'mean_error': 13.431959136285176,\n",
      " 'median_error': 13.425396309379721,\n",
      " 'mode_error': 13.513563570123566,\n",
      " 'network_seed': 578,\n",
      " 'pit_d': 0.015934435979977454,\n",
      " 'rng_seed': 578,\n",
      " 'uncertainty_type': 'bnn'}\n",
      "'intensity203_EPCP72_bnn_network_seed_331_rng_seed_331'\n"
     ]
    },
    {
     "name": "stderr",
     "output_type": "stream",
     "text": [
      "100%|███████████████████████████████████████████████████████████████████████████████████████████████████████████████████████████████████████| 5000/5000 [03:20<00:00, 24.96it/s]\n",
      "100%|█████████████████████████████████████████████████████████████████████████████████████████████████████████████████████████████████████████| 512/512 [00:52<00:00,  9.79it/s]\n"
     ]
    },
    {
     "name": "stdout",
     "output_type": "stream",
     "text": [
      "{'cons_error': 14.701757,\n",
      " 'exp_name': 'intensity203_EPCP72',\n",
      " 'iqr_capture': 0.5546875,\n",
      " 'iqr_error_pearson': 0.21409579873918227,\n",
      " 'iqr_error_pearson_p': 1.011435079630659e-06,\n",
      " 'iqr_error_spearman': 0.19084696258339914,\n",
      " 'iqr_error_spearman_p': 1.3748204291709801e-05,\n",
      " 'mean_error': 13.591635743401085,\n",
      " 'median_error': 13.588669999149715,\n",
      " 'mode_error': 13.715787860458232,\n",
      " 'network_seed': 331,\n",
      " 'pit_d': 0.019488233880103786,\n",
      " 'rng_seed': 331,\n",
      " 'uncertainty_type': 'bnn'}\n",
      "'intensity203_EPCP72_bnn_network_seed_908_rng_seed_908'\n"
     ]
    },
    {
     "name": "stderr",
     "output_type": "stream",
     "text": [
      "100%|███████████████████████████████████████████████████████████████████████████████████████████████████████████████████████████████████████| 5000/5000 [03:22<00:00, 24.63it/s]\n",
      "100%|█████████████████████████████████████████████████████████████████████████████████████████████████████████████████████████████████████████| 512/512 [00:52<00:00,  9.73it/s]\n"
     ]
    },
    {
     "name": "stdout",
     "output_type": "stream",
     "text": [
      "{'cons_error': 14.737499,\n",
      " 'exp_name': 'intensity203_EPCP72',\n",
      " 'iqr_capture': 0.5546875,\n",
      " 'iqr_error_pearson': 0.21815303272743225,\n",
      " 'iqr_error_pearson_p': 6.217644811437731e-07,\n",
      " 'iqr_error_spearman': 0.18566536203522505,\n",
      " 'iqr_error_spearman_p': 2.3612134923868702e-05,\n",
      " 'mean_error': 13.520605007407953,\n",
      " 'median_error': 13.521275277234963,\n",
      " 'mode_error': 13.635447167644685,\n",
      " 'network_seed': 908,\n",
      " 'pit_d': 0.019837443633741597,\n",
      " 'rng_seed': 908,\n",
      " 'uncertainty_type': 'bnn'}\n",
      "'intensity203_EPCP72_bnn_network_seed_444_rng_seed_444'\n"
     ]
    },
    {
     "name": "stderr",
     "output_type": "stream",
     "text": [
      "100%|███████████████████████████████████████████████████████████████████████████████████████████████████████████████████████████████████████| 5000/5000 [03:21<00:00, 24.85it/s]\n",
      "100%|█████████████████████████████████████████████████████████████████████████████████████████████████████████████████████████████████████████| 512/512 [00:51<00:00,  9.90it/s]\n"
     ]
    },
    {
     "name": "stdout",
     "output_type": "stream",
     "text": [
      "{'cons_error': 15.319141,\n",
      " 'exp_name': 'intensity203_EPCP72',\n",
      " 'iqr_capture': 0.515625,\n",
      " 'iqr_error_pearson': 0.22605372399278345,\n",
      " 'iqr_error_pearson_p': 2.3462718820999614e-07,\n",
      " 'iqr_error_spearman': 0.19021082958537897,\n",
      " 'iqr_error_spearman_p': 1.4703675977825684e-05,\n",
      " 'mean_error': 14.38724360253348,\n",
      " 'median_error': 14.377311042451765,\n",
      " 'mode_error': 14.335200843456926,\n",
      " 'network_seed': 444,\n",
      " 'pit_d': 0.016545170769177633,\n",
      " 'rng_seed': 444,\n",
      " 'uncertainty_type': 'bnn'}\n",
      "'intensity206_AL48_shash3_network_seed_605_rng_seed_605'\n"
     ]
    },
    {
     "name": "stderr",
     "output_type": "stream",
     "text": [
      "100%|█████████████████████████████████████████████████████████████████████████████████████████████████████████████████████████████████████████| 512/512 [00:18<00:00, 27.89it/s]\n"
     ]
    },
    {
     "name": "stdout",
     "output_type": "stream",
     "text": [
      "{'cons_error': 13.0855465,\n",
      " 'exp_name': 'intensity206_AL48',\n",
      " 'iqr_capture': 0.51171875,\n",
      " 'iqr_error_pearson': 0.3498414853123928,\n",
      " 'iqr_error_pearson_p': 3.4689955403491093e-16,\n",
      " 'iqr_error_spearman': 0.3230509564436205,\n",
      " 'iqr_error_spearman_p': 6.690723122527468e-14,\n",
      " 'mean_error': 11.329467490082607,\n",
      " 'median_error': 11.264040227048099,\n",
      " 'mode_error': 11.829687490942888,\n",
      " 'network_seed': 605,\n",
      " 'pit_d': 0.017917726210704702,\n",
      " 'rng_seed': 605,\n",
      " 'uncertainty_type': 'shash3'}\n",
      "'intensity206_AL48_shash3_network_seed_122_rng_seed_122'\n"
     ]
    },
    {
     "name": "stderr",
     "output_type": "stream",
     "text": [
      "100%|█████████████████████████████████████████████████████████████████████████████████████████████████████████████████████████████████████████| 512/512 [00:18<00:00, 27.42it/s]\n"
     ]
    },
    {
     "name": "stdout",
     "output_type": "stream",
     "text": [
      "{'cons_error': 13.450001,\n",
      " 'exp_name': 'intensity206_AL48',\n",
      " 'iqr_capture': 0.43359375,\n",
      " 'iqr_error_pearson': 0.3499976101408317,\n",
      " 'iqr_error_pearson_p': 3.3591328256721536e-16,\n",
      " 'iqr_error_spearman': 0.34640781105160157,\n",
      " 'iqr_error_spearman_p': 7.008544656505426e-16,\n",
      " 'mean_error': 11.945607648405712,\n",
      " 'median_error': 11.903525315748993,\n",
      " 'mode_error': 12.387500002747402,\n",
      " 'network_seed': 122,\n",
      " 'pit_d': 0.02250420507899086,\n",
      " 'rng_seed': 122,\n",
      " 'uncertainty_type': 'shash3'}\n",
      "'intensity206_AL48_shash3_network_seed_786_rng_seed_786'\n"
     ]
    },
    {
     "name": "stderr",
     "output_type": "stream",
     "text": [
      "100%|█████████████████████████████████████████████████████████████████████████████████████████████████████████████████████████████████████████| 512/512 [00:18<00:00, 27.51it/s]\n"
     ]
    },
    {
     "name": "stdout",
     "output_type": "stream",
     "text": [
      "{'cons_error': 14.532812,\n",
      " 'exp_name': 'intensity206_AL48',\n",
      " 'iqr_capture': 0.5390625,\n",
      " 'iqr_error_pearson': 0.24436365433514423,\n",
      " 'iqr_error_pearson_p': 2.131981584889656e-08,\n",
      " 'iqr_error_spearman': 0.20749719618681406,\n",
      " 'iqr_error_spearman_p': 2.187494666187996e-06,\n",
      " 'mean_error': 13.349565218290081,\n",
      " 'median_error': 13.515857886144659,\n",
      " 'mode_error': 14.53398437492433,\n",
      " 'network_seed': 786,\n",
      " 'pit_d': 0.018276074065972134,\n",
      " 'rng_seed': 786,\n",
      " 'uncertainty_type': 'shash3'}\n",
      "'intensity206_AL48_shash3_network_seed_311_rng_seed_311'\n"
     ]
    },
    {
     "name": "stderr",
     "output_type": "stream",
     "text": [
      "100%|█████████████████████████████████████████████████████████████████████████████████████████████████████████████████████████████████████████| 512/512 [00:18<00:00, 27.71it/s]\n"
     ]
    },
    {
     "name": "stdout",
     "output_type": "stream",
     "text": [
      "{'cons_error': 13.40918,\n",
      " 'exp_name': 'intensity206_AL48',\n",
      " 'iqr_capture': 0.51171875,\n",
      " 'iqr_error_pearson': 0.2166021183075577,\n",
      " 'iqr_error_pearson_p': 7.496925290169702e-07,\n",
      " 'iqr_error_spearman': 0.14567392010276833,\n",
      " 'iqr_error_spearman_p': 0.000946992906044306,\n",
      " 'mean_error': 12.963807369611459,\n",
      " 'median_error': 12.932514955551596,\n",
      " 'mode_error': 13.519335969962412,\n",
      " 'network_seed': 311,\n",
      " 'pit_d': 0.016545170487729167,\n",
      " 'rng_seed': 311,\n",
      " 'uncertainty_type': 'shash3'}\n",
      "'intensity206_AL48_shash3_network_seed_888_rng_seed_888'\n"
     ]
    },
    {
     "name": "stderr",
     "output_type": "stream",
     "text": [
      "100%|█████████████████████████████████████████████████████████████████████████████████████████████████████████████████████████████████████████| 512/512 [00:18<00:00, 27.25it/s]\n"
     ]
    },
    {
     "name": "stdout",
     "output_type": "stream",
     "text": [
      "{'cons_error': 13.818554,\n",
      " 'exp_name': 'intensity206_AL48',\n",
      " 'iqr_capture': 0.494140625,\n",
      " 'iqr_error_pearson': 0.3187958977210737,\n",
      " 'iqr_error_pearson_p': 1.4730379839322464e-13,\n",
      " 'iqr_error_spearman': 0.31222909585607855,\n",
      " 'iqr_error_spearman_p': 4.859307433301028e-13,\n",
      " 'mean_error': 11.699988628941355,\n",
      " 'median_error': 11.655233408993809,\n",
      " 'mode_error': 12.147460959473392,\n",
      " 'network_seed': 888,\n",
      " 'pit_d': 0.011548238771975423,\n",
      " 'rng_seed': 888,\n",
      " 'uncertainty_type': 'shash3'}\n",
      "'intensity206_AL48_shash3_network_seed_999_rng_seed_999'\n"
     ]
    },
    {
     "name": "stderr",
     "output_type": "stream",
     "text": [
      "100%|█████████████████████████████████████████████████████████████████████████████████████████████████████████████████████████████████████████| 512/512 [00:18<00:00, 27.98it/s]\n"
     ]
    },
    {
     "name": "stdout",
     "output_type": "stream",
     "text": [
      "{'cons_error': 13.725195,\n",
      " 'exp_name': 'intensity206_AL48',\n",
      " 'iqr_capture': 0.470703125,\n",
      " 'iqr_error_pearson': 0.3753234643768267,\n",
      " 'iqr_error_pearson_p': 1.4250163427075844e-18,\n",
      " 'iqr_error_spearman': 0.3829687839747771,\n",
      " 'iqr_error_spearman_p': 2.485717258679649e-19,\n",
      " 'mean_error': 12.008751939312788,\n",
      " 'median_error': 11.917908101604553,\n",
      " 'mode_error': 12.261914067930775,\n",
      " 'network_seed': 999,\n",
      " 'pit_d': 0.02179813376247828,\n",
      " 'rng_seed': 999,\n",
      " 'uncertainty_type': 'shash3'}\n",
      "'intensity206_AL48_shash3_network_seed_578_rng_seed_578'\n"
     ]
    },
    {
     "name": "stderr",
     "output_type": "stream",
     "text": [
      "100%|█████████████████████████████████████████████████████████████████████████████████████████████████████████████████████████████████████████| 512/512 [00:18<00:00, 27.56it/s]\n"
     ]
    },
    {
     "name": "stdout",
     "output_type": "stream",
     "text": [
      "{'cons_error': 13.403515,\n",
      " 'exp_name': 'intensity206_AL48',\n",
      " 'iqr_capture': 0.548828125,\n",
      " 'iqr_error_pearson': 0.1391681199152917,\n",
      " 'iqr_error_pearson_p': 0.0015956942046433603,\n",
      " 'iqr_error_spearman': 0.12339317185658209,\n",
      " 'iqr_error_spearman_p': 0.005174955846824752,\n",
      " 'mean_error': 12.829016915609827,\n",
      " 'median_error': 12.746863806707552,\n",
      " 'mode_error': 13.366796890128171,\n",
      " 'network_seed': 578,\n",
      " 'pit_d': 0.01628957813347889,\n",
      " 'rng_seed': 578,\n",
      " 'uncertainty_type': 'shash3'}\n",
      "'intensity206_AL48_shash3_network_seed_331_rng_seed_331'\n"
     ]
    },
    {
     "name": "stderr",
     "output_type": "stream",
     "text": [
      "100%|█████████████████████████████████████████████████████████████████████████████████████████████████████████████████████████████████████████| 512/512 [00:18<00:00, 27.10it/s]\n"
     ]
    },
    {
     "name": "stdout",
     "output_type": "stream",
     "text": [
      "{'cons_error': 13.412695,\n",
      " 'exp_name': 'intensity206_AL48',\n",
      " 'iqr_capture': 0.4453125,\n",
      " 'iqr_error_pearson': 0.36625623437378213,\n",
      " 'iqr_error_pearson_p': 1.0654607641205871e-17,\n",
      " 'iqr_error_spearman': 0.3409951820189744,\n",
      " 'iqr_error_spearman_p': 2.086894400094381e-15,\n",
      " 'mean_error': 11.84371249616379,\n",
      " 'median_error': 11.817196326388512,\n",
      " 'mode_error': 12.461523454985581,\n",
      " 'network_seed': 331,\n",
      " 'pit_d': 0.03251586727316043,\n",
      " 'rng_seed': 331,\n",
      " 'uncertainty_type': 'shash3'}\n",
      "'intensity206_AL48_shash3_network_seed_908_rng_seed_908'\n"
     ]
    },
    {
     "name": "stderr",
     "output_type": "stream",
     "text": [
      "100%|█████████████████████████████████████████████████████████████████████████████████████████████████████████████████████████████████████████| 512/512 [00:18<00:00, 27.18it/s]\n"
     ]
    },
    {
     "name": "stdout",
     "output_type": "stream",
     "text": [
      "{'cons_error': 13.402929,\n",
      " 'exp_name': 'intensity206_AL48',\n",
      " 'iqr_capture': 0.470703125,\n",
      " 'iqr_error_pearson': nan,\n",
      " 'iqr_error_pearson_p': nan,\n",
      " 'iqr_error_spearman': nan,\n",
      " 'iqr_error_spearman_p': nan,\n",
      " 'mean_error': nan,\n",
      " 'median_error': nan,\n",
      " 'mode_error': 16.475585949694505,\n",
      " 'network_seed': 908,\n",
      " 'pit_d': 0.015073266395423364,\n",
      " 'rng_seed': 908,\n",
      " 'uncertainty_type': 'shash3'}\n",
      "'intensity206_AL48_shash3_network_seed_444_rng_seed_444'\n"
     ]
    },
    {
     "name": "stderr",
     "output_type": "stream",
     "text": [
      "100%|█████████████████████████████████████████████████████████████████████████████████████████████████████████████████████████████████████████| 512/512 [00:18<00:00, 27.05it/s]\n"
     ]
    },
    {
     "name": "stdout",
     "output_type": "stream",
     "text": [
      "{'cons_error': 14.137499,\n",
      " 'exp_name': 'intensity206_AL48',\n",
      " 'iqr_capture': 0.55078125,\n",
      " 'iqr_error_pearson': 0.21429502277488838,\n",
      " 'iqr_error_pearson_p': 9.877724785783213e-07,\n",
      " 'iqr_error_spearman': 0.20445520193177008,\n",
      " 'iqr_error_spearman_p': 3.0959939089663117e-06,\n",
      " 'mean_error': 12.45615851940238,\n",
      " 'median_error': 12.442326586140553,\n",
      " 'mode_error': 13.025390654423973,\n",
      " 'network_seed': 444,\n",
      " 'pit_d': 0.015522121954927724,\n",
      " 'rng_seed': 444,\n",
      " 'uncertainty_type': 'shash3'}\n",
      "'intensity207_AL48_bnn_network_seed_605_rng_seed_605'\n"
     ]
    },
    {
     "name": "stderr",
     "output_type": "stream",
     "text": [
      "100%|███████████████████████████████████████████████████████████████████████████████████████████████████████████████████████████████████████| 5000/5000 [03:20<00:00, 24.94it/s]\n",
      "100%|█████████████████████████████████████████████████████████████████████████████████████████████████████████████████████████████████████████| 512/512 [00:49<00:00, 10.32it/s]\n"
     ]
    },
    {
     "name": "stdout",
     "output_type": "stream",
     "text": [
      "{'cons_error': 13.0855465,\n",
      " 'exp_name': 'intensity207_AL48',\n",
      " 'iqr_capture': 0.560546875,\n",
      " 'iqr_error_pearson': 0.274544192820848,\n",
      " 'iqr_error_pearson_p': 2.634975837149265e-10,\n",
      " 'iqr_error_spearman': 0.2490165196095261,\n",
      " 'iqr_error_spearman_p': 1.1229153788587237e-08,\n",
      " 'mean_error': 12.30970707681708,\n",
      " 'median_error': 12.303218517903588,\n",
      " 'mode_error': 12.257172012203458,\n",
      " 'network_seed': 605,\n",
      " 'pit_d': 0.014920647855300218,\n",
      " 'rng_seed': 605,\n",
      " 'uncertainty_type': 'bnn'}\n",
      "'intensity207_AL48_bnn_network_seed_122_rng_seed_122'\n"
     ]
    },
    {
     "name": "stderr",
     "output_type": "stream",
     "text": [
      "100%|███████████████████████████████████████████████████████████████████████████████████████████████████████████████████████████████████████| 5000/5000 [03:22<00:00, 24.65it/s]\n",
      "100%|█████████████████████████████████████████████████████████████████████████████████████████████████████████████████████████████████████████| 512/512 [00:49<00:00, 10.35it/s]\n"
     ]
    },
    {
     "name": "stdout",
     "output_type": "stream",
     "text": [
      "{'cons_error': 13.450001,\n",
      " 'exp_name': 'intensity207_AL48',\n",
      " 'iqr_capture': 0.533203125,\n",
      " 'iqr_error_pearson': 0.2577840299145864,\n",
      " 'iqr_error_pearson_p': 3.2379184701494e-09,\n",
      " 'iqr_error_spearman': 0.27823751015667025,\n",
      " 'iqr_error_spearman_p': 1.4806129741129105e-10,\n",
      " 'mean_error': 12.35895961229891,\n",
      " 'median_error': 12.344975807332958,\n",
      " 'mode_error': 12.30646741094686,\n",
      " 'network_seed': 122,\n",
      " 'pit_d': 0.015571196428120897,\n",
      " 'rng_seed': 122,\n",
      " 'uncertainty_type': 'bnn'}\n",
      "'intensity207_AL48_bnn_network_seed_786_rng_seed_786'\n"
     ]
    },
    {
     "name": "stderr",
     "output_type": "stream",
     "text": [
      "100%|███████████████████████████████████████████████████████████████████████████████████████████████████████████████████████████████████████| 5000/5000 [03:22<00:00, 24.64it/s]\n",
      "100%|█████████████████████████████████████████████████████████████████████████████████████████████████████████████████████████████████████████| 512/512 [00:49<00:00, 10.38it/s]\n"
     ]
    },
    {
     "name": "stdout",
     "output_type": "stream",
     "text": [
      "{'cons_error': 14.532812,\n",
      " 'exp_name': 'intensity207_AL48',\n",
      " 'iqr_capture': 0.501953125,\n",
      " 'iqr_error_pearson': 0.27895744019449203,\n",
      " 'iqr_error_pearson_p': 1.3219270443172463e-10,\n",
      " 'iqr_error_spearman': 0.24683614358384548,\n",
      " 'iqr_error_spearman_p': 1.518891755397865e-08,\n",
      " 'mean_error': 13.252656824135604,\n",
      " 'median_error': 13.248189218604239,\n",
      " 'mode_error': 13.333754466796854,\n",
      " 'network_seed': 786,\n",
      " 'pit_d': 0.02029371126228209,\n",
      " 'rng_seed': 786,\n",
      " 'uncertainty_type': 'bnn'}\n",
      "'intensity207_AL48_bnn_network_seed_311_rng_seed_311'\n"
     ]
    },
    {
     "name": "stderr",
     "output_type": "stream",
     "text": [
      "100%|███████████████████████████████████████████████████████████████████████████████████████████████████████████████████████████████████████| 5000/5000 [03:21<00:00, 24.84it/s]\n",
      "100%|█████████████████████████████████████████████████████████████████████████████████████████████████████████████████████████████████████████| 512/512 [00:49<00:00, 10.36it/s]\n"
     ]
    },
    {
     "name": "stdout",
     "output_type": "stream",
     "text": [
      "{'cons_error': 13.40918,\n",
      " 'exp_name': 'intensity207_AL48',\n",
      " 'iqr_capture': 0.5390625,\n",
      " 'iqr_error_pearson': 0.2834770915218356,\n",
      " 'iqr_error_pearson_p': 6.439422588039813e-11,\n",
      " 'iqr_error_spearman': 0.2691471115002117,\n",
      " 'iqr_error_spearman_p': 6.024061660861727e-10,\n",
      " 'mean_error': 12.359091176297913,\n",
      " 'median_error': 12.368172713831882,\n",
      " 'mode_error': 12.525059275742771,\n",
      " 'network_seed': 311,\n",
      " 'pit_d': 0.016682934768798927,\n",
      " 'rng_seed': 311,\n",
      " 'uncertainty_type': 'bnn'}\n",
      "'intensity207_AL48_bnn_network_seed_888_rng_seed_888'\n"
     ]
    },
    {
     "name": "stderr",
     "output_type": "stream",
     "text": [
      "100%|███████████████████████████████████████████████████████████████████████████████████████████████████████████████████████████████████████| 5000/5000 [03:23<00:00, 24.63it/s]\n",
      "100%|█████████████████████████████████████████████████████████████████████████████████████████████████████████████████████████████████████████| 512/512 [00:49<00:00, 10.28it/s]\n"
     ]
    },
    {
     "name": "stdout",
     "output_type": "stream",
     "text": [
      "{'cons_error': 13.818554,\n",
      " 'exp_name': 'intensity207_AL48',\n",
      " 'iqr_capture': 0.533203125,\n",
      " 'iqr_error_pearson': 0.24130335017189686,\n",
      " 'iqr_error_pearson_p': 3.227411182926921e-08,\n",
      " 'iqr_error_spearman': 0.22821117076366715,\n",
      " 'iqr_error_spearman_p': 1.786819916916379e-07,\n",
      " 'mean_error': 12.678128853464,\n",
      " 'median_error': 12.662061811388412,\n",
      " 'mode_error': 12.68727812864979,\n",
      " 'network_seed': 888,\n",
      " 'pit_d': 0.019012646130684308,\n",
      " 'rng_seed': 888,\n",
      " 'uncertainty_type': 'bnn'}\n",
      "'intensity207_AL48_bnn_network_seed_999_rng_seed_999'\n"
     ]
    },
    {
     "name": "stderr",
     "output_type": "stream",
     "text": [
      "100%|███████████████████████████████████████████████████████████████████████████████████████████████████████████████████████████████████████| 5000/5000 [03:22<00:00, 24.68it/s]\n",
      "100%|█████████████████████████████████████████████████████████████████████████████████████████████████████████████████████████████████████████| 512/512 [00:49<00:00, 10.33it/s]\n"
     ]
    },
    {
     "name": "stdout",
     "output_type": "stream",
     "text": [
      "{'cons_error': 13.725195,\n",
      " 'exp_name': 'intensity207_AL48',\n",
      " 'iqr_capture': 0.568359375,\n",
      " 'iqr_error_pearson': 0.2665235249726369,\n",
      " 'iqr_error_pearson_p': 8.945475519469566e-10,\n",
      " 'iqr_error_spearman': 0.25759577668486283,\n",
      " 'iqr_error_spearman_p': 3.3271746341890667e-09,\n",
      " 'mean_error': 12.265873698917833,\n",
      " 'median_error': 12.265621740138158,\n",
      " 'mode_error': 12.326896242268699,\n",
      " 'network_seed': 999,\n",
      " 'pit_d': 0.02270670567083378,\n",
      " 'rng_seed': 999,\n",
      " 'uncertainty_type': 'bnn'}\n",
      "'intensity207_AL48_bnn_network_seed_578_rng_seed_578'\n"
     ]
    },
    {
     "name": "stderr",
     "output_type": "stream",
     "text": [
      "100%|███████████████████████████████████████████████████████████████████████████████████████████████████████████████████████████████████████| 5000/5000 [03:22<00:00, 24.73it/s]\n",
      "100%|█████████████████████████████████████████████████████████████████████████████████████████████████████████████████████████████████████████| 512/512 [00:49<00:00, 10.35it/s]\n"
     ]
    },
    {
     "name": "stdout",
     "output_type": "stream",
     "text": [
      "{'cons_error': 13.403515,\n",
      " 'exp_name': 'intensity207_AL48',\n",
      " 'iqr_capture': 0.517578125,\n",
      " 'iqr_error_pearson': 0.23290748343127265,\n",
      " 'iqr_error_pearson_p': 9.783698510152186e-08,\n",
      " 'iqr_error_spearman': 0.2573273759455717,\n",
      " 'iqr_error_spearman_p': 3.458572750600609e-09,\n",
      " 'mean_error': 12.613164964986677,\n",
      " 'median_error': 12.60194926405893,\n",
      " 'mode_error': 12.630929382646965,\n",
      " 'network_seed': 578,\n",
      " 'pit_d': 0.016475856803877455,\n",
      " 'rng_seed': 578,\n",
      " 'uncertainty_type': 'bnn'}\n",
      "'intensity207_AL48_bnn_network_seed_331_rng_seed_331'\n"
     ]
    },
    {
     "name": "stderr",
     "output_type": "stream",
     "text": [
      "100%|███████████████████████████████████████████████████████████████████████████████████████████████████████████████████████████████████████| 5000/5000 [03:23<00:00, 24.59it/s]\n",
      "100%|█████████████████████████████████████████████████████████████████████████████████████████████████████████████████████████████████████████| 512/512 [00:49<00:00, 10.33it/s]\n"
     ]
    },
    {
     "name": "stdout",
     "output_type": "stream",
     "text": [
      "{'cons_error': 13.412695,\n",
      " 'exp_name': 'intensity207_AL48',\n",
      " 'iqr_capture': 0.55078125,\n",
      " 'iqr_error_pearson': 0.2583364056130338,\n",
      " 'iqr_error_pearson_p': 2.989230633396839e-09,\n",
      " 'iqr_error_spearman': 0.23723585504858039,\n",
      " 'iqr_error_spearman_p': 5.552021804347833e-08,\n",
      " 'mean_error': 12.276788529689332,\n",
      " 'median_error': 12.28303369472269,\n",
      " 'mode_error': 12.477669685807623,\n",
      " 'network_seed': 331,\n",
      " 'pit_d': 0.017245109417690713,\n",
      " 'rng_seed': 331,\n",
      " 'uncertainty_type': 'bnn'}\n",
      "'intensity207_AL48_bnn_network_seed_908_rng_seed_908'\n"
     ]
    },
    {
     "name": "stderr",
     "output_type": "stream",
     "text": [
      "100%|███████████████████████████████████████████████████████████████████████████████████████████████████████████████████████████████████████| 5000/5000 [03:24<00:00, 24.50it/s]\n",
      "100%|█████████████████████████████████████████████████████████████████████████████████████████████████████████████████████████████████████████| 512/512 [00:48<00:00, 10.58it/s]\n"
     ]
    },
    {
     "name": "stdout",
     "output_type": "stream",
     "text": [
      "{'cons_error': 13.402929,\n",
      " 'exp_name': 'intensity207_AL48',\n",
      " 'iqr_capture': 0.53125,\n",
      " 'iqr_error_pearson': 0.9939248518839312,\n",
      " 'iqr_error_pearson_p': 0.0,\n",
      " 'iqr_error_spearman': 0.3875030756114029,\n",
      " 'iqr_error_spearman_p': 8.632720749168361e-20,\n",
      " 'mean_error': 148509.82490631938,\n",
      " 'median_error': 126650.10294730566,\n",
      " 'mode_error': 16.045283378521077,\n",
      " 'network_seed': 908,\n",
      " 'pit_d': 0.015373959886058147,\n",
      " 'rng_seed': 908,\n",
      " 'uncertainty_type': 'bnn'}\n",
      "'intensity207_AL48_bnn_network_seed_444_rng_seed_444'\n"
     ]
    },
    {
     "name": "stderr",
     "output_type": "stream",
     "text": [
      "100%|███████████████████████████████████████████████████████████████████████████████████████████████████████████████████████████████████████| 5000/5000 [03:23<00:00, 24.58it/s]\n",
      "100%|█████████████████████████████████████████████████████████████████████████████████████████████████████████████████████████████████████████| 512/512 [00:50<00:00, 10.20it/s]\n"
     ]
    },
    {
     "name": "stdout",
     "output_type": "stream",
     "text": [
      "{'cons_error': 14.137499,\n",
      " 'exp_name': 'intensity207_AL48',\n",
      " 'iqr_capture': 0.55859375,\n",
      " 'iqr_error_pearson': 0.24915497292542474,\n",
      " 'iqr_error_pearson_p': 1.1014764896645042e-08,\n",
      " 'iqr_error_spearman': 0.21788721947562972,\n",
      " 'iqr_error_spearman_p': 6.420887816291747e-07,\n",
      " 'mean_error': 12.628282727081555,\n",
      " 'median_error': 12.61975937270472,\n",
      " 'mode_error': 12.606081115825233,\n",
      " 'network_seed': 444,\n",
      " 'pit_d': 0.017810957992465626,\n",
      " 'rng_seed': 444,\n",
      " 'uncertainty_type': 'bnn'}\n",
      "'intensity200_EPCP48_shash3_network_seed_605_rng_seed_605'\n"
     ]
    },
    {
     "name": "stderr",
     "output_type": "stream",
     "text": [
      "100%|█████████████████████████████████████████████████████████████████████████████████████████████████████████████████████████████████████████| 512/512 [00:18<00:00, 27.14it/s]\n"
     ]
    },
    {
     "name": "stdout",
     "output_type": "stream",
     "text": [
      "{'cons_error': 13.0855465,\n",
      " 'exp_name': 'intensity200_EPCP48',\n",
      " 'iqr_capture': 0.51171875,\n",
      " 'iqr_error_pearson': 0.34987220678035524,\n",
      " 'iqr_error_pearson_p': 3.4471018711768053e-16,\n",
      " 'iqr_error_spearman': 0.3232259265458166,\n",
      " 'iqr_error_spearman_p': 6.475346233452334e-14,\n",
      " 'mean_error': 11.329958188347518,\n",
      " 'median_error': 11.264469424961135,\n",
      " 'mode_error': 11.833593740942888,\n",
      " 'network_seed': 605,\n",
      " 'pit_d': 0.017917726210704702,\n",
      " 'rng_seed': 605,\n",
      " 'uncertainty_type': 'shash3'}\n",
      "'intensity200_EPCP48_shash3_network_seed_122_rng_seed_122'\n"
     ]
    },
    {
     "name": "stderr",
     "output_type": "stream",
     "text": [
      "100%|█████████████████████████████████████████████████████████████████████████████████████████████████████████████████████████████████████████| 512/512 [00:18<00:00, 27.72it/s]\n"
     ]
    },
    {
     "name": "stdout",
     "output_type": "stream",
     "text": [
      "{'cons_error': 13.450001,\n",
      " 'exp_name': 'intensity200_EPCP48',\n",
      " 'iqr_capture': 0.43359375,\n",
      " 'iqr_error_pearson': 0.3496379790732083,\n",
      " 'iqr_error_pearson_p': 3.6175144937274854e-16,\n",
      " 'iqr_error_spearman': 0.3462308739886245,\n",
      " 'iqr_error_spearman_p': 7.265488422736383e-16,\n",
      " 'mean_error': 11.946618644811679,\n",
      " 'median_error': 11.904911792080384,\n",
      " 'mode_error': 12.391406252747402,\n",
      " 'network_seed': 122,\n",
      " 'pit_d': 0.02250420507899086,\n",
      " 'rng_seed': 122,\n",
      " 'uncertainty_type': 'shash3'}\n",
      "'intensity200_EPCP48_shash3_network_seed_786_rng_seed_786'\n"
     ]
    },
    {
     "name": "stderr",
     "output_type": "stream",
     "text": [
      "100%|█████████████████████████████████████████████████████████████████████████████████████████████████████████████████████████████████████████| 512/512 [00:18<00:00, 27.08it/s]\n"
     ]
    },
    {
     "name": "stdout",
     "output_type": "stream",
     "text": [
      "{'cons_error': 14.532812,\n",
      " 'exp_name': 'intensity200_EPCP48',\n",
      " 'iqr_capture': 0.5390625,\n",
      " 'iqr_error_pearson': 0.24436365433514423,\n",
      " 'iqr_error_pearson_p': 2.131981584889656e-08,\n",
      " 'iqr_error_spearman': 0.20749719618681406,\n",
      " 'iqr_error_spearman_p': 2.187494666187996e-06,\n",
      " 'mean_error': 13.349565218290081,\n",
      " 'median_error': 13.515857886144659,\n",
      " 'mode_error': 14.53398437492433,\n",
      " 'network_seed': 786,\n",
      " 'pit_d': 0.018276074065972134,\n",
      " 'rng_seed': 786,\n",
      " 'uncertainty_type': 'shash3'}\n",
      "'intensity200_EPCP48_shash3_network_seed_311_rng_seed_311'\n"
     ]
    },
    {
     "name": "stderr",
     "output_type": "stream",
     "text": [
      "100%|█████████████████████████████████████████████████████████████████████████████████████████████████████████████████████████████████████████| 512/512 [00:18<00:00, 27.41it/s]\n"
     ]
    },
    {
     "name": "stdout",
     "output_type": "stream",
     "text": [
      "{'cons_error': 13.40918,\n",
      " 'exp_name': 'intensity200_EPCP48',\n",
      " 'iqr_capture': 0.51171875,\n",
      " 'iqr_error_pearson': 0.2166021183075577,\n",
      " 'iqr_error_pearson_p': 7.496925290169702e-07,\n",
      " 'iqr_error_spearman': 0.14567392010276833,\n",
      " 'iqr_error_spearman_p': 0.000946992906044306,\n",
      " 'mean_error': 12.963807369611459,\n",
      " 'median_error': 12.932514955551596,\n",
      " 'mode_error': 13.519335969962412,\n",
      " 'network_seed': 311,\n",
      " 'pit_d': 0.016545170487729167,\n",
      " 'rng_seed': 311,\n",
      " 'uncertainty_type': 'shash3'}\n",
      "'intensity200_EPCP48_shash3_network_seed_888_rng_seed_888'\n"
     ]
    },
    {
     "name": "stderr",
     "output_type": "stream",
     "text": [
      "100%|█████████████████████████████████████████████████████████████████████████████████████████████████████████████████████████████████████████| 512/512 [00:18<00:00, 27.59it/s]\n"
     ]
    },
    {
     "name": "stdout",
     "output_type": "stream",
     "text": [
      "{'cons_error': 13.818554,\n",
      " 'exp_name': 'intensity200_EPCP48',\n",
      " 'iqr_capture': 0.494140625,\n",
      " 'iqr_error_pearson': 0.3187958977210737,\n",
      " 'iqr_error_pearson_p': 1.4730379839322464e-13,\n",
      " 'iqr_error_spearman': 0.31222909585607855,\n",
      " 'iqr_error_spearman_p': 4.859307433301028e-13,\n",
      " 'mean_error': 11.699988628941355,\n",
      " 'median_error': 11.655233408993809,\n",
      " 'mode_error': 12.147460959473392,\n",
      " 'network_seed': 888,\n",
      " 'pit_d': 0.011548238771975423,\n",
      " 'rng_seed': 888,\n",
      " 'uncertainty_type': 'shash3'}\n",
      "'intensity200_EPCP48_shash3_network_seed_999_rng_seed_999'\n"
     ]
    },
    {
     "name": "stderr",
     "output_type": "stream",
     "text": [
      "100%|█████████████████████████████████████████████████████████████████████████████████████████████████████████████████████████████████████████| 512/512 [00:19<00:00, 26.52it/s]\n"
     ]
    },
    {
     "name": "stdout",
     "output_type": "stream",
     "text": [
      "{'cons_error': 13.725195,\n",
      " 'exp_name': 'intensity200_EPCP48',\n",
      " 'iqr_capture': 0.47265625,\n",
      " 'iqr_error_pearson': 0.3749751064438627,\n",
      " 'iqr_error_pearson_p': 1.5413427478459436e-18,\n",
      " 'iqr_error_spearman': 0.3815616023506254,\n",
      " 'iqr_error_spearman_p': 3.4398755534866396e-19,\n",
      " 'mean_error': 12.024238022073405,\n",
      " 'median_error': 11.932564578048186,\n",
      " 'mode_error': 12.28066406774451,\n",
      " 'network_seed': 999,\n",
      " 'pit_d': 0.022214167303052895,\n",
      " 'rng_seed': 999,\n",
      " 'uncertainty_type': 'shash3'}\n",
      "'intensity200_EPCP48_shash3_network_seed_578_rng_seed_578'\n"
     ]
    },
    {
     "name": "stderr",
     "output_type": "stream",
     "text": [
      "100%|█████████████████████████████████████████████████████████████████████████████████████████████████████████████████████████████████████████| 512/512 [00:18<00:00, 27.83it/s]\n"
     ]
    },
    {
     "name": "stdout",
     "output_type": "stream",
     "text": [
      "{'cons_error': 13.403515,\n",
      " 'exp_name': 'intensity200_EPCP48',\n",
      " 'iqr_capture': 0.548828125,\n",
      " 'iqr_error_pearson': 0.1391681199152917,\n",
      " 'iqr_error_pearson_p': 0.0015956942046433603,\n",
      " 'iqr_error_spearman': 0.12339317185658209,\n",
      " 'iqr_error_spearman_p': 0.005174955846824752,\n",
      " 'mean_error': 12.829016915609827,\n",
      " 'median_error': 12.746863806707552,\n",
      " 'mode_error': 13.366796890128171,\n",
      " 'network_seed': 578,\n",
      " 'pit_d': 0.01628957813347889,\n",
      " 'rng_seed': 578,\n",
      " 'uncertainty_type': 'shash3'}\n",
      "'intensity200_EPCP48_shash3_network_seed_331_rng_seed_331'\n"
     ]
    },
    {
     "name": "stderr",
     "output_type": "stream",
     "text": [
      "100%|█████████████████████████████████████████████████████████████████████████████████████████████████████████████████████████████████████████| 512/512 [00:18<00:00, 27.37it/s]\n"
     ]
    },
    {
     "name": "stdout",
     "output_type": "stream",
     "text": [
      "{'cons_error': 13.412695,\n",
      " 'exp_name': 'intensity200_EPCP48',\n",
      " 'iqr_capture': 0.4453125,\n",
      " 'iqr_error_pearson': 0.36625623437378213,\n",
      " 'iqr_error_pearson_p': 1.0654607641205871e-17,\n",
      " 'iqr_error_spearman': 0.3409951820189744,\n",
      " 'iqr_error_spearman_p': 2.086894400094381e-15,\n",
      " 'mean_error': 11.84371249616379,\n",
      " 'median_error': 11.817196326388512,\n",
      " 'mode_error': 12.461523454985581,\n",
      " 'network_seed': 331,\n",
      " 'pit_d': 0.03251586727316043,\n",
      " 'rng_seed': 331,\n",
      " 'uncertainty_type': 'shash3'}\n",
      "'intensity200_EPCP48_shash3_network_seed_908_rng_seed_908'\n"
     ]
    },
    {
     "name": "stderr",
     "output_type": "stream",
     "text": [
      "100%|█████████████████████████████████████████████████████████████████████████████████████████████████████████████████████████████████████████| 512/512 [00:18<00:00, 27.54it/s]\n"
     ]
    },
    {
     "name": "stdout",
     "output_type": "stream",
     "text": [
      "{'cons_error': 13.402929,\n",
      " 'exp_name': 'intensity200_EPCP48',\n",
      " 'iqr_capture': 0.470703125,\n",
      " 'iqr_error_pearson': nan,\n",
      " 'iqr_error_pearson_p': nan,\n",
      " 'iqr_error_spearman': nan,\n",
      " 'iqr_error_spearman_p': nan,\n",
      " 'mean_error': nan,\n",
      " 'median_error': nan,\n",
      " 'mode_error': 16.475585949694505,\n",
      " 'network_seed': 908,\n",
      " 'pit_d': 0.015073266395423364,\n",
      " 'rng_seed': 908,\n",
      " 'uncertainty_type': 'shash3'}\n",
      "'intensity200_EPCP48_shash3_network_seed_444_rng_seed_444'\n"
     ]
    },
    {
     "name": "stderr",
     "output_type": "stream",
     "text": [
      "100%|█████████████████████████████████████████████████████████████████████████████████████████████████████████████████████████████████████████| 512/512 [00:18<00:00, 27.17it/s]\n"
     ]
    },
    {
     "name": "stdout",
     "output_type": "stream",
     "text": [
      "{'cons_error': 14.137499,\n",
      " 'exp_name': 'intensity200_EPCP48',\n",
      " 'iqr_capture': 0.55078125,\n",
      " 'iqr_error_pearson': 0.21429502277488838,\n",
      " 'iqr_error_pearson_p': 9.877724785783213e-07,\n",
      " 'iqr_error_spearman': 0.20445520193177008,\n",
      " 'iqr_error_spearman_p': 3.0959939089663117e-06,\n",
      " 'mean_error': 12.45615851940238,\n",
      " 'median_error': 12.442326586140553,\n",
      " 'mode_error': 13.025390654423973,\n",
      " 'network_seed': 444,\n",
      " 'pit_d': 0.015522121954927724,\n",
      " 'rng_seed': 444,\n",
      " 'uncertainty_type': 'shash3'}\n",
      "'intensity201_EPCP48_bnn_network_seed_605_rng_seed_605'\n"
     ]
    },
    {
     "name": "stderr",
     "output_type": "stream",
     "text": [
      "100%|███████████████████████████████████████████████████████████████████████████████████████████████████████████████████████████████████████| 5000/5000 [03:22<00:00, 24.64it/s]\n",
      "100%|█████████████████████████████████████████████████████████████████████████████████████████████████████████████████████████████████████████| 512/512 [00:49<00:00, 10.32it/s]\n"
     ]
    },
    {
     "name": "stdout",
     "output_type": "stream",
     "text": [
      "{'cons_error': 13.0855465,\n",
      " 'exp_name': 'intensity201_EPCP48',\n",
      " 'iqr_capture': 0.560546875,\n",
      " 'iqr_error_pearson': 0.274544192820848,\n",
      " 'iqr_error_pearson_p': 2.634975837149265e-10,\n",
      " 'iqr_error_spearman': 0.2490165196095261,\n",
      " 'iqr_error_spearman_p': 1.1229153788587237e-08,\n",
      " 'mean_error': 12.30970707681708,\n",
      " 'median_error': 12.303218517903588,\n",
      " 'mode_error': 12.257172012203458,\n",
      " 'network_seed': 605,\n",
      " 'pit_d': 0.014920647855300218,\n",
      " 'rng_seed': 605,\n",
      " 'uncertainty_type': 'bnn'}\n",
      "'intensity201_EPCP48_bnn_network_seed_122_rng_seed_122'\n"
     ]
    },
    {
     "name": "stderr",
     "output_type": "stream",
     "text": [
      "100%|███████████████████████████████████████████████████████████████████████████████████████████████████████████████████████████████████████| 5000/5000 [03:23<00:00, 24.58it/s]\n",
      "100%|█████████████████████████████████████████████████████████████████████████████████████████████████████████████████████████████████████████| 512/512 [00:49<00:00, 10.35it/s]\n"
     ]
    },
    {
     "name": "stdout",
     "output_type": "stream",
     "text": [
      "{'cons_error': 13.450001,\n",
      " 'exp_name': 'intensity201_EPCP48',\n",
      " 'iqr_capture': 0.533203125,\n",
      " 'iqr_error_pearson': 0.2577840299145864,\n",
      " 'iqr_error_pearson_p': 3.2379184701494e-09,\n",
      " 'iqr_error_spearman': 0.27823751015667025,\n",
      " 'iqr_error_spearman_p': 1.4806129741129105e-10,\n",
      " 'mean_error': 12.35895961229891,\n",
      " 'median_error': 12.344975807332958,\n",
      " 'mode_error': 12.30646741094686,\n",
      " 'network_seed': 122,\n",
      " 'pit_d': 0.015571196428120897,\n",
      " 'rng_seed': 122,\n",
      " 'uncertainty_type': 'bnn'}\n",
      "'intensity201_EPCP48_bnn_network_seed_786_rng_seed_786'\n"
     ]
    },
    {
     "name": "stderr",
     "output_type": "stream",
     "text": [
      "100%|███████████████████████████████████████████████████████████████████████████████████████████████████████████████████████████████████████| 5000/5000 [03:22<00:00, 24.73it/s]\n",
      "100%|█████████████████████████████████████████████████████████████████████████████████████████████████████████████████████████████████████████| 512/512 [00:49<00:00, 10.34it/s]\n"
     ]
    },
    {
     "name": "stdout",
     "output_type": "stream",
     "text": [
      "{'cons_error': 14.532812,\n",
      " 'exp_name': 'intensity201_EPCP48',\n",
      " 'iqr_capture': 0.501953125,\n",
      " 'iqr_error_pearson': 0.27895744019449203,\n",
      " 'iqr_error_pearson_p': 1.3219270443172463e-10,\n",
      " 'iqr_error_spearman': 0.24683614358384548,\n",
      " 'iqr_error_spearman_p': 1.518891755397865e-08,\n",
      " 'mean_error': 13.252656824135604,\n",
      " 'median_error': 13.248189218604239,\n",
      " 'mode_error': 13.333754466796854,\n",
      " 'network_seed': 786,\n",
      " 'pit_d': 0.02029371126228209,\n",
      " 'rng_seed': 786,\n",
      " 'uncertainty_type': 'bnn'}\n",
      "'intensity201_EPCP48_bnn_network_seed_311_rng_seed_311'\n"
     ]
    },
    {
     "name": "stderr",
     "output_type": "stream",
     "text": [
      "100%|███████████████████████████████████████████████████████████████████████████████████████████████████████████████████████████████████████| 5000/5000 [03:23<00:00, 24.53it/s]\n",
      "100%|█████████████████████████████████████████████████████████████████████████████████████████████████████████████████████████████████████████| 512/512 [00:49<00:00, 10.32it/s]\n"
     ]
    },
    {
     "name": "stdout",
     "output_type": "stream",
     "text": [
      "{'cons_error': 13.40918,\n",
      " 'exp_name': 'intensity201_EPCP48',\n",
      " 'iqr_capture': 0.5390625,\n",
      " 'iqr_error_pearson': 0.2834770915218356,\n",
      " 'iqr_error_pearson_p': 6.439422588039813e-11,\n",
      " 'iqr_error_spearman': 0.2691471115002117,\n",
      " 'iqr_error_spearman_p': 6.024061660861727e-10,\n",
      " 'mean_error': 12.359091176297913,\n",
      " 'median_error': 12.368172713831882,\n",
      " 'mode_error': 12.525059275742771,\n",
      " 'network_seed': 311,\n",
      " 'pit_d': 0.016682934768798927,\n",
      " 'rng_seed': 311,\n",
      " 'uncertainty_type': 'bnn'}\n",
      "'intensity201_EPCP48_bnn_network_seed_888_rng_seed_888'\n"
     ]
    },
    {
     "name": "stderr",
     "output_type": "stream",
     "text": [
      "100%|███████████████████████████████████████████████████████████████████████████████████████████████████████████████████████████████████████| 5000/5000 [03:22<00:00, 24.74it/s]\n",
      "100%|█████████████████████████████████████████████████████████████████████████████████████████████████████████████████████████████████████████| 512/512 [00:49<00:00, 10.25it/s]\n"
     ]
    },
    {
     "name": "stdout",
     "output_type": "stream",
     "text": [
      "{'cons_error': 13.818554,\n",
      " 'exp_name': 'intensity201_EPCP48',\n",
      " 'iqr_capture': 0.533203125,\n",
      " 'iqr_error_pearson': 0.24130335017189686,\n",
      " 'iqr_error_pearson_p': 3.227411182926921e-08,\n",
      " 'iqr_error_spearman': 0.22821117076366715,\n",
      " 'iqr_error_spearman_p': 1.786819916916379e-07,\n",
      " 'mean_error': 12.678128853464,\n",
      " 'median_error': 12.662061811388412,\n",
      " 'mode_error': 12.68727812864979,\n",
      " 'network_seed': 888,\n",
      " 'pit_d': 0.019012646130684308,\n",
      " 'rng_seed': 888,\n",
      " 'uncertainty_type': 'bnn'}\n",
      "'intensity201_EPCP48_bnn_network_seed_999_rng_seed_999'\n"
     ]
    },
    {
     "name": "stderr",
     "output_type": "stream",
     "text": [
      "100%|███████████████████████████████████████████████████████████████████████████████████████████████████████████████████████████████████████| 5000/5000 [03:23<00:00, 24.53it/s]\n",
      "100%|█████████████████████████████████████████████████████████████████████████████████████████████████████████████████████████████████████████| 512/512 [00:49<00:00, 10.34it/s]\n"
     ]
    },
    {
     "name": "stdout",
     "output_type": "stream",
     "text": [
      "{'cons_error': 13.725195,\n",
      " 'exp_name': 'intensity201_EPCP48',\n",
      " 'iqr_capture': 0.568359375,\n",
      " 'iqr_error_pearson': 0.2665235249726369,\n",
      " 'iqr_error_pearson_p': 8.945475519469566e-10,\n",
      " 'iqr_error_spearman': 0.25759577668486283,\n",
      " 'iqr_error_spearman_p': 3.3271746341890667e-09,\n",
      " 'mean_error': 12.265873698917833,\n",
      " 'median_error': 12.265621740138158,\n",
      " 'mode_error': 12.326896242268699,\n",
      " 'network_seed': 999,\n",
      " 'pit_d': 0.02270670567083378,\n",
      " 'rng_seed': 999,\n",
      " 'uncertainty_type': 'bnn'}\n",
      "'intensity201_EPCP48_bnn_network_seed_578_rng_seed_578'\n"
     ]
    },
    {
     "name": "stderr",
     "output_type": "stream",
     "text": [
      "100%|███████████████████████████████████████████████████████████████████████████████████████████████████████████████████████████████████████| 5000/5000 [03:23<00:00, 24.55it/s]\n",
      "100%|█████████████████████████████████████████████████████████████████████████████████████████████████████████████████████████████████████████| 512/512 [00:49<00:00, 10.44it/s]\n"
     ]
    },
    {
     "name": "stdout",
     "output_type": "stream",
     "text": [
      "{'cons_error': 13.403515,\n",
      " 'exp_name': 'intensity201_EPCP48',\n",
      " 'iqr_capture': 0.517578125,\n",
      " 'iqr_error_pearson': 0.23290748343127265,\n",
      " 'iqr_error_pearson_p': 9.783698510152186e-08,\n",
      " 'iqr_error_spearman': 0.2573273759455717,\n",
      " 'iqr_error_spearman_p': 3.458572750600609e-09,\n",
      " 'mean_error': 12.613164964986677,\n",
      " 'median_error': 12.60194926405893,\n",
      " 'mode_error': 12.630929382646965,\n",
      " 'network_seed': 578,\n",
      " 'pit_d': 0.016475856803877455,\n",
      " 'rng_seed': 578,\n",
      " 'uncertainty_type': 'bnn'}\n",
      "'intensity201_EPCP48_bnn_network_seed_331_rng_seed_331'\n"
     ]
    },
    {
     "name": "stderr",
     "output_type": "stream",
     "text": [
      "100%|███████████████████████████████████████████████████████████████████████████████████████████████████████████████████████████████████████| 5000/5000 [03:22<00:00, 24.73it/s]\n",
      "100%|█████████████████████████████████████████████████████████████████████████████████████████████████████████████████████████████████████████| 512/512 [00:50<00:00, 10.23it/s]\n"
     ]
    },
    {
     "name": "stdout",
     "output_type": "stream",
     "text": [
      "{'cons_error': 13.412695,\n",
      " 'exp_name': 'intensity201_EPCP48',\n",
      " 'iqr_capture': 0.55078125,\n",
      " 'iqr_error_pearson': 0.2583364056130338,\n",
      " 'iqr_error_pearson_p': 2.989230633396839e-09,\n",
      " 'iqr_error_spearman': 0.23723585504858039,\n",
      " 'iqr_error_spearman_p': 5.552021804347833e-08,\n",
      " 'mean_error': 12.276788529689332,\n",
      " 'median_error': 12.28303369472269,\n",
      " 'mode_error': 12.477669685807623,\n",
      " 'network_seed': 331,\n",
      " 'pit_d': 0.017245109417690713,\n",
      " 'rng_seed': 331,\n",
      " 'uncertainty_type': 'bnn'}\n",
      "'intensity201_EPCP48_bnn_network_seed_908_rng_seed_908'\n"
     ]
    },
    {
     "name": "stderr",
     "output_type": "stream",
     "text": [
      "100%|███████████████████████████████████████████████████████████████████████████████████████████████████████████████████████████████████████| 5000/5000 [03:23<00:00, 24.53it/s]\n",
      "100%|█████████████████████████████████████████████████████████████████████████████████████████████████████████████████████████████████████████| 512/512 [00:48<00:00, 10.60it/s]\n"
     ]
    },
    {
     "name": "stdout",
     "output_type": "stream",
     "text": [
      "{'cons_error': 13.402929,\n",
      " 'exp_name': 'intensity201_EPCP48',\n",
      " 'iqr_capture': 0.53125,\n",
      " 'iqr_error_pearson': 0.9939248518839312,\n",
      " 'iqr_error_pearson_p': 0.0,\n",
      " 'iqr_error_spearman': 0.3875030756114029,\n",
      " 'iqr_error_spearman_p': 8.632720749168361e-20,\n",
      " 'mean_error': 148509.82490631938,\n",
      " 'median_error': 126650.10294730566,\n",
      " 'mode_error': 16.045283378521077,\n",
      " 'network_seed': 908,\n",
      " 'pit_d': 0.015373959886058147,\n",
      " 'rng_seed': 908,\n",
      " 'uncertainty_type': 'bnn'}\n",
      "'intensity201_EPCP48_bnn_network_seed_444_rng_seed_444'\n"
     ]
    },
    {
     "name": "stderr",
     "output_type": "stream",
     "text": [
      "100%|███████████████████████████████████████████████████████████████████████████████████████████████████████████████████████████████████████| 5000/5000 [03:23<00:00, 24.59it/s]\n",
      "100%|█████████████████████████████████████████████████████████████████████████████████████████████████████████████████████████████████████████| 512/512 [00:50<00:00, 10.08it/s]\n"
     ]
    },
    {
     "name": "stdout",
     "output_type": "stream",
     "text": [
      "{'cons_error': 14.137499,\n",
      " 'exp_name': 'intensity201_EPCP48',\n",
      " 'iqr_capture': 0.55859375,\n",
      " 'iqr_error_pearson': 0.24915497292542474,\n",
      " 'iqr_error_pearson_p': 1.1014764896645042e-08,\n",
      " 'iqr_error_spearman': 0.21788721947562972,\n",
      " 'iqr_error_spearman_p': 6.420887816291747e-07,\n",
      " 'mean_error': 12.628282727081555,\n",
      " 'median_error': 12.61975937270472,\n",
      " 'mode_error': 12.606081115825233,\n",
      " 'network_seed': 444,\n",
      " 'pit_d': 0.017810957992465626,\n",
      " 'rng_seed': 444,\n",
      " 'uncertainty_type': 'bnn'}\n"
     ]
    }
   ],
   "source": [
    "import imp\n",
    "imp.reload(model_diagnostics)\n",
    "\n",
    "for exp_name in EXP_NAME_LIST:\n",
    "    settings = experiment_settings.get_settings(exp_name)\n",
    "    RNG_SEED_LIST = np.copy(settings['rng_seed'])\n",
    "\n",
    "    for rng_seed in RNG_SEED_LIST:\n",
    "        settings['rng_seed'] = rng_seed\n",
    "        NETWORK_SEED_LIST = [settings[\"rng_seed\"]]\n",
    "        network_seed = NETWORK_SEED_LIST[0]\n",
    "        tf.random.set_seed(network_seed)  # This sets the global random seed.    \n",
    "\n",
    "        #----------------------------------------------------------------------------------------------------\n",
    "        # get the data\n",
    "        (\n",
    "            x_train,\n",
    "            onehot_train,\n",
    "            x_val,\n",
    "            onehot_val,\n",
    "            x_eval,\n",
    "            onehot_eval,    \n",
    "            data_summary,\n",
    "            df_val,\n",
    "            df_eval,\n",
    "        ) = build_hurricane_data(DATA_PATH, settings, verbose=0)\n",
    "\n",
    "        #----------------------------------------------------------------------------------------------------\n",
    "        # get the model\n",
    "        if settings[\"uncertainty_type\"] == \"bnn\":       \n",
    "            model_name_bnn = (\n",
    "                exp_name + \"_\" + settings[\"uncertainty_type\"] + '_' + f\"network_seed_{network_seed}_rng_seed_{settings['rng_seed']}\"\n",
    "            )\n",
    "            model_bnn = build_bnn_model(\n",
    "                x_train,\n",
    "                onehot_train,\n",
    "                hiddens=settings[\"hiddens\"],\n",
    "                output_shape=onehot_train.shape[1],\n",
    "                ridge_penalty=settings[\"ridge_param\"],\n",
    "                act_fun=settings[\"act_fun\"],\n",
    "            )\n",
    "            try:\n",
    "                model_bnn.load_weights(MODEL_PATH + model_name_bnn + \"_weights.h5\")\n",
    "            except:\n",
    "                print('tf model does not exist. skipping...')\n",
    "                continue\n",
    "            model_name = model_name_bnn\n",
    "\n",
    "        elif settings[\"uncertainty_type\"][:5] == \"shash\": \n",
    "            model_name_shash = (\n",
    "                exp_name + \"_\" + settings[\"uncertainty_type\"] + '_' + f\"network_seed_{network_seed}_rng_seed_{settings['rng_seed']}\"\n",
    "            )\n",
    "            model_shash = build_shash_model(\n",
    "                x_train,\n",
    "                onehot_train,\n",
    "                hiddens=settings[\"hiddens\"],\n",
    "                output_shape=onehot_train.shape[1],\n",
    "                ridge_penalty=settings[\"ridge_param\"],\n",
    "                act_fun=settings[\"act_fun\"],\n",
    "            )\n",
    "            try:\n",
    "                model_shash.load_weights(MODEL_PATH + model_name_shash + \"_weights.h5\")\n",
    "            except:\n",
    "                print('tf model does not exist. skipping...')\n",
    "                continue\n",
    "            model_name = model_name_shash\n",
    "\n",
    "        #----------------------------------------------------------------------------------------------------\n",
    "        # check if the metric filename exists already\n",
    "        if(APPEND_NAME == \"_clusterExtrapolationAllClusters\"):\n",
    "            metric_filename = METRIC_PATH + model_name + '_metrics_allClusters.pkl'\n",
    "        else:\n",
    "            metric_filename = METRIC_PATH + model_name + '_metrics.pkl'  \n",
    "            \n",
    "        if (os.path.exists(metric_filename) and OVERWRITE_METRICS==False):\n",
    "            # print(metric_filename + ' exists. Skipping...')\n",
    "            continue\n",
    "            \n",
    "        # get metrics and put into a dictionary\n",
    "        pprint.pprint(model_name)\n",
    "        \n",
    "        # if running out of cluster comparison, grab only the cluster that was not seen during training\n",
    "        if(settings[\"train_condition\"]=='cluster' and APPEND_NAME != \"_clusterExtrapolationAllClusters\"):\n",
    "            print('grabbing out of sample ' + 'CLUSTER')\n",
    "            i_index = np.where(data_summary[\"cluster_eval\"] == data_summary[\"cluster_out\"])[0]\n",
    "            x_eval = x_eval[i_index,:]\n",
    "            onehot_eval = onehot_eval[i_index,:]\n",
    "            df_eval.iloc[i_index]       \n",
    "        \n",
    "        # compute the metrics\n",
    "        mean_error, median_error, mode_error, pit_D, iqr_capture, cons_error, iqr_error_spearman,iqr_error_pearson = get_metrics()        \n",
    "        d = {'uncertainty_type': settings[\"uncertainty_type\"],\n",
    "             'network_seed': network_seed,\n",
    "             'rng_seed': settings['rng_seed'],\n",
    "             'exp_name': exp_name,\n",
    "             'mean_error': mean_error,\n",
    "             'median_error': median_error,\n",
    "             'mode_error': mode_error,\n",
    "             'cons_error': cons_error,\n",
    "             'pit_d': pit_D,\n",
    "             'iqr_capture': iqr_capture,\n",
    "             'iqr_error_spearman': iqr_error_spearman[0],\n",
    "             'iqr_error_pearson': iqr_error_pearson[0],             \n",
    "             'iqr_error_spearman_p': iqr_error_spearman[1],\n",
    "             'iqr_error_pearson_p': iqr_error_pearson[1],             \n",
    "        }\n",
    "        pprint.pprint(d, width=80)  \n",
    "        df = pd.DataFrame(data=d, index=[0])\n",
    "        df.to_pickle(metric_filename)"
   ]
  },
  {
   "cell_type": "code",
   "execution_count": null,
   "metadata": {},
   "outputs": [],
   "source": [
    "raise ValueError('do not plot yet')"
   ]
  },
  {
   "cell_type": "code",
   "execution_count": null,
   "metadata": {},
   "outputs": [],
   "source": [
    "df_metrics = pd.DataFrame()\n",
    "\n",
    "for exp_name in EXP_NAME_LIST:\n",
    "    settings = experiment_settings.get_settings(exp_name)\n",
    "    RNG_SEED_LIST = np.copy(settings['rng_seed'])\n",
    "    \n",
    "    for rng_seed in RNG_SEED_LIST:\n",
    "        settings['rng_seed'] = rng_seed\n",
    "        NETWORK_SEED_LIST = [settings[\"rng_seed\"]]\n",
    "        network_seed = NETWORK_SEED_LIST[0]\n",
    "    \n",
    "        model_name = (\n",
    "                exp_name + \"_\" + settings[\"uncertainty_type\"] + '_' + f\"network_seed_{network_seed}_rng_seed_{settings['rng_seed']}\"\n",
    "        )\n",
    "        \n",
    "        # load the metric filename\n",
    "        if(APPEND_NAME == \"_clusterExtrapolationAllClusters\"):\n",
    "            metric_filename = METRIC_PATH + model_name + '_metrics_allClusters.pkl'\n",
    "        else:\n",
    "            metric_filename = METRIC_PATH + model_name + '_metrics.pkl'  \n",
    "        if os.path.exists(metric_filename)==False:\n",
    "            print(metric_filename + ' DOES NOT exist. Skipping...')\n",
    "            continue\n",
    "    \n",
    "        # pprint.pprint(model_name)\n",
    "        df = pd.read_pickle(metric_filename)\n",
    "        df['basin_lead'] = exp_name[exp_name.rfind('_')+1:]\n",
    "        df['mean_error_reduction'] = df['cons_error']-df['mean_error']\n",
    "        df['median_error_reduction'] = df['cons_error']-df['median_error']        \n",
    "        df['mode_error_reduction'] = df['cons_error']-df['mode_error']        \n",
    "        df_metrics = pd.concat([df_metrics,df])\n",
    "df_metrics"
   ]
  },
  {
   "cell_type": "code",
   "execution_count": null,
   "metadata": {},
   "outputs": [],
   "source": [
    "# raise ValueError('do not plot yet')"
   ]
  },
  {
   "cell_type": "code",
   "execution_count": null,
   "metadata": {},
   "outputs": [],
   "source": [
    "import seaborn as sns\n",
    "f, axs = plt.subplots(4, 2, figsize=(15,20))\n",
    "axs = axs.flatten()\n",
    "colors = ('#D95980','#284E60')#('#E1A730','#284E60')\n",
    "\n",
    "for imetric, metric in enumerate(('mean_error',\n",
    "                                  'mean_error_reduction',\n",
    "                                  'median_error',\n",
    "                                  'median_error_reduction',                                  \n",
    "                                  'iqr_error_spearman',\n",
    "                                  'iqr_error_pearson',                                  \n",
    "                                  # 'mode_error',\n",
    "                                  # 'mode_error_reduction',                                  \n",
    "                                  'pit_d',\n",
    "                                  'iqr_capture')):\n",
    "    ax = axs[imetric]\n",
    "    g1 = sns.boxplot(x='basin_lead', \n",
    "                     y=metric, \n",
    "                     hue=\"uncertainty_type\",\n",
    "                     data=df_metrics,\n",
    "                     palette=colors,\n",
    "                     boxprops={'alpha':.2,\n",
    "                               'edgecolor': 'white',\n",
    "                              },\n",
    "                     fliersize=0,\n",
    "                     ax=ax)\n",
    "    g2 = sns.swarmplot(x=\"basin_lead\", \n",
    "                       y=metric, \n",
    "                       hue=\"uncertainty_type\",\n",
    "                       palette=colors,\n",
    "                       data=df_metrics, \n",
    "                       dodge=True,\n",
    "                       ax=ax)\n",
    "    \n",
    "    if(metric=='iqr_capture'):\n",
    "        ax.axhline(y=0.5,linewidth=3,linestyle='--',color='gray')\n",
    "        ax.set_ylim(0,1.0)\n",
    "    if(metric=='pit_d'):\n",
    "        ax.set_ylim(0,None)\n",
    "    if(metric.find('reduction') > -1):\n",
    "        ax.axhline(y=0.0,linewidth=3,linestyle='--',color='gray')\n",
    "        ax.set_ylim(-4.,4.)\n",
    "    if(metric.find('reduction') == -1 and metric.find('n_error') > -1):\n",
    "        ax.set_ylim(0.,22.)\n",
    "    if(metric.find('iqr_error')> -1):\n",
    "        ax.set_ylim(-.75,.75)\n",
    "        ax.axhline(y=0.0,linewidth=3,linestyle='--',color='gray')        \n",
    "\n",
    "    \n",
    "    ax.set_title(metric + APPEND_NAME)\n",
    "    ax.legend(fontsize=10,frameon=True)\n",
    "\n",
    "# plt.savefig(FIGURE_PATH + 'comparisonsMetrics' + APPEND_NAME + '.png', dpi=dpiFig)    \n",
    "plt.tight_layout()\n",
    "plt.show()"
   ]
  },
  {
   "cell_type": "code",
   "execution_count": null,
   "metadata": {},
   "outputs": [],
   "source": [
    "# import seaborn as sns\n",
    "# f, axs = plt.subplots(4, 2, figsize=(15,50))\n",
    "# axs = axs.flatten()\n",
    "\n",
    "# for imetric, metric in enumerate(('mean_error',\n",
    "#                                   'mean_improvement',\n",
    "#                                   'median_error',\n",
    "#                                   'median_improvement',                                  \n",
    "#                                   'mode_error',\n",
    "#                                   'mode_improvement',                                  \n",
    "#                                   'pit_d',\n",
    "#                                   'iqr_capture')):\n",
    "#     ax = axs[imetric]\n",
    "#     g1 = sns.boxplot(x='exp_name', \n",
    "#                      y=metric, \n",
    "#                      hue=\"uncertainty_type\",\n",
    "#                      data=df_metrics,\n",
    "#                      boxprops=dict(alpha=.4),\n",
    "#                      ax=ax)\n",
    "#     g2 = sns.swarmplot(x=\"exp_name\", \n",
    "#                        y=metric, \n",
    "#                        hue=\"uncertainty_type\", \n",
    "#                        data=df_metrics, \n",
    "#                        dodge=True,\n",
    "#                        ax=ax)\n",
    "    \n",
    "#     if(metric=='iqr_capture'):\n",
    "#         ax.axhline(y=0.5,linewidth=3,linestyle='--',color='gray')\n",
    "#     if(metric=='pit_d'):\n",
    "#         ax.set_ylim(0,None)\n",
    "#     if(metric.find('improvement') > -1):\n",
    "#         ax.axhline(y=0.0,linewidth=3,linestyle='--',color='gray')\n",
    "    \n",
    "#     ax.set_title(metric)\n",
    "#     ax.legend(fontsize=10,frameon=True)\n",
    "#     ax.set_xticklabels(ax.get_xticklabels(),rotation = 30)\n",
    "\n",
    "# # plt.savefig(FIGURE_PATH + 'comparisonsMetrics.png', dpi=dpiFig)    \n",
    "# plt.tight_layout()\n",
    "# plt.show()"
   ]
  },
  {
   "cell_type": "code",
   "execution_count": null,
   "metadata": {},
   "outputs": [],
   "source": []
  }
 ],
 "metadata": {
  "kernelspec": {
   "display_name": "Python 3 (ipykernel)",
   "language": "python",
   "name": "python3"
  },
  "language_info": {
   "codemirror_mode": {
    "name": "ipython",
    "version": 3
   },
   "file_extension": ".py",
   "mimetype": "text/x-python",
   "name": "python",
   "nbconvert_exporter": "python",
   "pygments_lexer": "ipython3",
   "version": "3.9.7"
  }
 },
 "nbformat": 4,
 "nbformat_minor": 4
}
