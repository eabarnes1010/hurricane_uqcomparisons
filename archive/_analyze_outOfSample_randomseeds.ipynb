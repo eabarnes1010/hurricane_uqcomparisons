{
 "cells": [
  {
   "cell_type": "markdown",
   "metadata": {},
   "source": [
    "# Analyze and plot methods for hurricane forecast uncertainty\n",
    "##### author: Elizabeth A. Barnes, Randal J. Barnes and Mark DeMaria\n",
    "##### version: v0.1.0\n",
    "##### date: 14 December 2021\n",
    "\n",
    "```\n",
    "conda create --name env-hurr-tfp python=3.9\n",
    "conda activate env-hurr-tfp\n",
    "pip install tensorflow==2.7.0\n",
    "pip install tensorflow-probability==0.15.0\n",
    "pip install --upgrade numpy scipy pandas statsmodels matplotlib seaborn \n",
    "pip install --upgrade palettable progressbar2 tabulate icecream flake8\n",
    "pip install --upgrade keras-tuner sklearn\n",
    "pip install --upgrade jupyterlab black isort jupyterlab_code_formatter\n",
    "pip install silence-tensorflow\n",
    "pip install tqdm\n",
    "```\n",
    "\n",
    "Use the command\n",
    "```python -m pip freeze > requirements.txt```\n",
    "to make a pip installation list."
   ]
  },
  {
   "cell_type": "code",
   "execution_count": 1,
   "metadata": {
    "tags": []
   },
   "outputs": [],
   "source": [
    "import datetime\n",
    "import os\n",
    "import pickle\n",
    "import pprint\n",
    "import time\n",
    "\n",
    "import experiment_settings\n",
    "import matplotlib as mpl\n",
    "import matplotlib.pyplot as plt\n",
    "import numpy as np\n",
    "import tensorflow as tf\n",
    "import shash\n",
    "from build_data import build_hurricane_data\n",
    "from build_model import build_shash_model, build_bnn_model\n",
    "from custom_loss import compute_shash_NLL, compute_NLL\n",
    "from custom_metrics import CustomMAE, InterquartileCapture, SignTest\n",
    "from model_diagnostics import plot_history\n",
    "from save_model_run import save_model_run\n",
    "from sklearn import preprocessing\n",
    "from tensorflow.keras import optimizers\n",
    "from training_instrumentation import TrainingInstrumentation\n",
    "from silence_tensorflow import silence_tensorflow\n",
    "import tensorflow_probability as tfp\n",
    "\n",
    "import prediction\n",
    "\n",
    "from tqdm import tqdm\n",
    "\n",
    "silence_tensorflow()\n",
    "dpiFig = 400"
   ]
  },
  {
   "cell_type": "code",
   "execution_count": 2,
   "metadata": {},
   "outputs": [],
   "source": [
    "__author__ = \"Randal J Barnes and Elizabeth A. Barnes\"\n",
    "__version__ = \"14 January 2022\"\n",
    "\n",
    "# EXP_NAME_LIST = (\"intensity2_EPCP48\",\"intensity3_EPCP48\")\n",
    "# EXP_NAME_LIST = (\"intensity104_EPCP48\",\"intensity105_EPCP48\")\n",
    "# EXP_NAME_LIST = (\"intensity106_EPCP48\",\"intensity107_EPCP48\")\n",
    "EXP_NAME_LIST = (\"intensity200_EPCP48\",\"intensity201_EPCP48\")\n",
    "\n",
    "\n",
    "DATA_PATH = \"data/\"\n",
    "MODEL_PATH = \"saved_models/\""
   ]
  },
  {
   "cell_type": "code",
   "execution_count": 3,
   "metadata": {},
   "outputs": [],
   "source": [
    "mpl.rcParams[\"figure.facecolor\"] = \"white\"\n",
    "mpl.rcParams[\"figure.dpi\"] = 150\n",
    "np.warnings.filterwarnings(\"ignore\", category=np.VisibleDeprecationWarning)"
   ]
  },
  {
   "cell_type": "markdown",
   "metadata": {},
   "source": [
    "## Load the models"
   ]
  },
  {
   "cell_type": "code",
   "execution_count": 4,
   "metadata": {
    "tags": []
   },
   "outputs": [
    {
     "name": "stdout",
     "output_type": "stream",
     "text": [
      "605\n",
      "train_condition = cluster\n",
      "'intensity200_EPCP48_shash3_network_seed_605_rng_seed_605'\n"
     ]
    },
    {
     "name": "stderr",
     "output_type": "stream",
     "text": [
      "100%|█████████████████████████████████████████████████████████████████████████| 512/512 [00:19<00:00, 25.94it/s]\n"
     ]
    },
    {
     "ename": "ValueError",
     "evalue": "",
     "output_type": "error",
     "traceback": [
      "\u001b[0;31m---------------------------------------------------------------------------\u001b[0m",
      "\u001b[0;31mValueError\u001b[0m                                Traceback (most recent call last)",
      "\u001b[0;32m/var/folders/ds/32cnt1m12110f2x86qdfzszh0001zl/T/ipykernel_13805/2717993204.py\u001b[0m in \u001b[0;36m<module>\u001b[0;34m\u001b[0m\n\u001b[1;32m     79\u001b[0m \u001b[0;34m\u001b[0m\u001b[0m\n\u001b[1;32m     80\u001b[0m         \u001b[0;31m# save the stats\u001b[0m\u001b[0;34m\u001b[0m\u001b[0;34m\u001b[0m\u001b[0m\n\u001b[0;32m---> 81\u001b[0;31m         \u001b[0;32mraise\u001b[0m \u001b[0mValueError\u001b[0m\u001b[0;34m(\u001b[0m\u001b[0;34m''\u001b[0m\u001b[0;34m)\u001b[0m\u001b[0;34m\u001b[0m\u001b[0;34m\u001b[0m\u001b[0m\n\u001b[0m",
      "\u001b[0;31mValueError\u001b[0m: "
     ]
    }
   ],
   "source": [
    "NETWORK_SEED_LIST = [1701, 5552, 8529, 4440, 2657,]\n",
    "\n",
    "for exp_name in EXP_NAME_LIST:\n",
    "    settings = experiment_settings.get_settings(exp_name)\n",
    "    RNG_SEED_LIST = RNG_SEED_LIST = settings['rng_seed'].copy()    \n",
    "    \n",
    "    for rng_seed in RNG_SEED_LIST:\n",
    "        settings['rng_seed'] = rng_seed\n",
    "        pprint.pprint(settings['rng_seed'], width=80)\n",
    "    \n",
    "    \n",
    "        NETWORK_SEED_LIST = [settings[\"rng_seed\"]]\n",
    "        network_seed = NETWORK_SEED_LIST[0]\n",
    "        tf.random.set_seed(network_seed)  # This sets the global random seed.    \n",
    "\n",
    "        (\n",
    "            x_train,\n",
    "            onehot_train,\n",
    "            x_val,\n",
    "            onehot_val,\n",
    "            x_eval,\n",
    "            onehot_eval,    \n",
    "            data_summary,\n",
    "            df_val,\n",
    "            df_eval,\n",
    "        ) = build_hurricane_data(DATA_PATH, settings, verbose=0)   \n",
    "\n",
    "        if settings[\"uncertainty_type\"] == \"bnn\":       \n",
    "            model_name_bnn = (\n",
    "                exp_name + \"_\" + settings[\"uncertainty_type\"] + '_' + f\"network_seed_{network_seed}_rng_seed_{settings['rng_seed']}\"\n",
    "            )\n",
    "            pprint.pprint(model_name_bnn)\n",
    "\n",
    "            model_bnn = build_bnn_model(\n",
    "                x_train,\n",
    "                onehot_train,\n",
    "                hiddens=settings[\"hiddens\"],\n",
    "                output_shape=onehot_train.shape[1],\n",
    "                ridge_penalty=settings[\"ridge_param\"],\n",
    "                act_fun=settings[\"act_fun\"],\n",
    "            )\n",
    "            model_bnn.load_weights(MODEL_PATH + model_name_bnn + \"_weights.h5\")\n",
    "\n",
    "        elif settings[\"uncertainty_type\"][:5] == \"shash\": \n",
    "            model_name_shash = (\n",
    "                exp_name + \"_\" + settings[\"uncertainty_type\"] + '_' + f\"network_seed_{network_seed}_rng_seed_{settings['rng_seed']}\"\n",
    "            )\n",
    "            pprint.pprint(model_name_shash)\n",
    "\n",
    "            model_shash = build_shash_model(\n",
    "                x_train,\n",
    "                onehot_train,\n",
    "                hiddens=settings[\"hiddens\"],\n",
    "                output_shape=onehot_train.shape[1],\n",
    "                ridge_penalty=settings[\"ridge_param\"],\n",
    "                act_fun=settings[\"act_fun\"],\n",
    "            )\n",
    "            model_shash.load_weights(MODEL_PATH + model_name_shash + \"_weights.h5\")\n",
    "\n",
    "        # make the model predictions\n",
    "        runs = 5_000\n",
    "        tf.random.set_seed(network_seed)\n",
    "\n",
    "        if settings[\"uncertainty_type\"][:5] == \"shash\": \n",
    "            # loop through samples for shash calculation and get PDF for each sample\n",
    "            shash_incs = np.arange(-160,161,1)\n",
    "            shash_cpd = np.zeros((np.shape(x_eval)[0],len(shash_incs)))\n",
    "            shash_med = np.zeros((np.shape(x_eval)[0],))            \n",
    "            for j in tqdm(range(0,np.shape(shash_cpd)[0])):\n",
    "                mu_pred, sigma_pred, gamma_pred, tau_pred = prediction.params( x_eval[np.newaxis,j], model_shash )\n",
    "                shash_cpd[j,:] = shash.prob(shash_incs, mu_pred, sigma_pred, gamma_pred, tau_pred)    \n",
    "                shash_med[j]   = shash.median(mu_pred,sigma_pred,gamma_pred,tau_pred)\n",
    "\n",
    "        elif settings[\"uncertainty_type\"] == \"bnn\":            \n",
    "            # loop through runs for bnn calculation    \n",
    "            bnn_cpd = np.zeros((np.shape(x_eval)[0],runs))            \n",
    "            for i in tqdm(range(0,runs)):\n",
    "                bnn_cpd[:,i] = np.reshape(model_bnn.predict(x_eval),np.shape(bnn_cpd)[0])\n",
    "\n",
    "        # save the stats\n",
    "        raise ValueError('')\n"
   ]
  },
  {
   "cell_type": "code",
   "execution_count": 5,
   "metadata": {},
   "outputs": [
    {
     "data": {
      "text/plain": [
       "(512, 321)"
      ]
     },
     "execution_count": 5,
     "metadata": {},
     "output_type": "execute_result"
    }
   ],
   "source": [
    "np.shape(shash_cpd)"
   ]
  },
  {
   "cell_type": "code",
   "execution_count": 6,
   "metadata": {},
   "outputs": [
    {
     "data": {
      "text/plain": [
       "(512,)"
      ]
     },
     "execution_count": 6,
     "metadata": {},
     "output_type": "execute_result"
    }
   ],
   "source": [
    "np.shape(shash_med)"
   ]
  },
  {
   "cell_type": "markdown",
   "metadata": {},
   "source": [
    "## Model Predictions"
   ]
  },
  {
   "cell_type": "markdown",
   "metadata": {},
   "source": [
    "### Out-of-sample training vs validation"
   ]
  },
  {
   "cell_type": "code",
   "execution_count": null,
   "metadata": {},
   "outputs": [],
   "source": [
    "raise ValueError('here')"
   ]
  },
  {
   "cell_type": "code",
   "execution_count": null,
   "metadata": {},
   "outputs": [],
   "source": [
    "runs = 5_000\n",
    "shash_incs = np.arange(-160,161,1)\n",
    "shash_cpd = np.zeros((np.shape(x_eval)[0],len(shash_incs)))\n",
    "shash_med = np.zeros((np.shape(x_eval)[0],))\n",
    "bnn_cpd = np.zeros((np.shape(x_eval)[0],runs))\n",
    "tf.random.set_seed(network_seed)\n",
    "\n",
    "# loop through samples for shash calculation and get PDF for each sample\n",
    "for j in tqdm(range(0,np.shape(shash_cpd)[0])):\n",
    "    mu_pred, sigma_pred, gamma_pred, tau_pred = prediction.params( x_eval[np.newaxis,j], model_shash )\n",
    "    shash_cpd[j,:] = shash.prob(shash_incs, mu_pred, sigma_pred, gamma_pred, tau_pred)    \n",
    "    shash_med[j]   = shash.median(mu_pred,sigma_pred,gamma_pred,tau_pred)\n",
    "    \n",
    "# loop through runs for bnn calculation    \n",
    "for i in tqdm(range(0,runs)):\n",
    "    bnn_cpd[:,i] = np.reshape(model_bnn.predict(x_eval),np.shape(bnn_cpd)[0])\n",
    "     "
   ]
  },
  {
   "cell_type": "code",
   "execution_count": null,
   "metadata": {},
   "outputs": [],
   "source": [
    "import analysis_plots\n",
    "import imp\n",
    "imp.reload(analysis_plots)\n",
    "\n",
    "f, axs = plt.subplots(2, 2, figsize=(15,10))\n",
    "\n",
    "# plot sample\n",
    "ax = axs[0,0]\n",
    "analysis_plots.plot_sample(ax, onehot_eval, shash_incs, shash_cpd, bnn_cpd)\n",
    "\n",
    "# plot PITS\n",
    "ax = axs[0,1]\n",
    "analysis_plots.plot_pits(ax, x_eval, onehot_eval, model_shash, shash_cpd, bnn_cpd)\n",
    "\n",
    "# plot median vs median\n",
    "ax = axs[1,0]\n",
    "analysis_plots.plot_medians(ax, onehot_eval, shash_cpd, bnn_cpd, shash_med)\n",
    "\n",
    "# plot NLLs\n",
    "ax = axs[1,1]\n",
    "analysis_plots.plot_nlls(ax, x_eval, onehot_eval, model_shash, shash_cpd, bnn_cpd)\n",
    "\n",
    "plt.tight_layout()\n",
    "\n",
    "plt.savefig('figures/prediction_plots/comparisonsPanels_outOfSampleAll_' + model_name_shash + '_' + model_name_bnn + '.png', dpi=dpiFig)    \n",
    "plt.show()"
   ]
  },
  {
   "cell_type": "code",
   "execution_count": null,
   "metadata": {},
   "outputs": [],
   "source": [
    "import analysis_plots\n",
    "import imp\n",
    "imp.reload(analysis_plots)\n",
    "\n",
    "# grab out-of-sample samples\n",
    "if(settings[\"train_condition\"]=='DV12<=15'):\n",
    "    print('grabbing out of sample ' + 'DV12')\n",
    "    i_var = data_summary[\"x_names\"].index('DV12')\n",
    "    i_index = np.where(x_eval[:,i_var]>15)[0] \n",
    "elif(settings[\"train_condition\"]=='VMXC<=90'):\n",
    "    print('grabbing out of sample ' + 'VMXC')\n",
    "    i_var = data_summary[\"x_names\"].index('VMXC')\n",
    "    i_index = np.where(x_eval[:,i_var]>90)[0] \n",
    "elif(settings[\"train_condition\"]=='cluster'):\n",
    "    print('grabbing out of sample ' + 'CLUSTER')\n",
    "    i_index = np.where(data_summary[\"cluster_eval\"] == data_summary[\"cluster_out\"])[0]\n",
    "\n",
    "print('out_of_sample.shape = ' + str(i_index.shape))\n",
    "    \n",
    "f, axs = plt.subplots(2, 2, figsize=(15,10))\n",
    "\n",
    "# plot sample\n",
    "ax = axs[0,0]\n",
    "analysis_plots.plot_sample(ax, onehot_eval[i_index,:], shash_incs, shash_cpd[i_index,:], bnn_cpd[i_index,:])\n",
    "\n",
    "# plot PITS\n",
    "ax = axs[0,1]\n",
    "analysis_plots.plot_pits(ax, x_eval[i_index,:], onehot_eval[i_index,:], model_shash, shash_cpd[i_index,:], bnn_cpd[i_index,:])\n",
    "\n",
    "# plot median vs median\n",
    "ax = axs[1,0]\n",
    "analysis_plots.plot_medians(ax, onehot_eval[i_index,:], shash_cpd[i_index,:], bnn_cpd[i_index,:], shash_med[i_index])\n",
    "\n",
    "# plot NLLs\n",
    "ax = axs[1,1]\n",
    "analysis_plots.plot_nlls(ax, x_eval[i_index,:], onehot_eval[i_index,:], model_shash, shash_cpd[i_index,:], bnn_cpd[i_index,:])\n",
    "\n",
    "plt.tight_layout()\n",
    "\n",
    "plt.savefig('figures/prediction_plots/comparisonsPanels_outOfSample_' + model_name_shash + '_' + model_name_bnn + '.png', dpi=dpiFig)    \n",
    "plt.show()    \n",
    "\n"
   ]
  },
  {
   "cell_type": "code",
   "execution_count": null,
   "metadata": {},
   "outputs": [],
   "source": []
  }
 ],
 "metadata": {
  "kernelspec": {
   "display_name": "Python 3 (ipykernel)",
   "language": "python",
   "name": "python3"
  },
  "language_info": {
   "codemirror_mode": {
    "name": "ipython",
    "version": 3
   },
   "file_extension": ".py",
   "mimetype": "text/x-python",
   "name": "python",
   "nbconvert_exporter": "python",
   "pygments_lexer": "ipython3",
   "version": "3.9.7"
  }
 },
 "nbformat": 4,
 "nbformat_minor": 4
}
