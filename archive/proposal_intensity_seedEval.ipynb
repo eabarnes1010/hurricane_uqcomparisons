{
 "cells": [
  {
   "cell_type": "markdown",
   "metadata": {},
   "source": [
    "# Plot results for predicting hurricane strength (maximum intensity).\n",
    "author: Elizabeth A. Barnes and Randal J. Barnes\n",
    "\n",
    "version: v2.0\n",
    "\n",
    "date: 28 October 2021"
   ]
  },
  {
   "cell_type": "code",
   "execution_count": 1,
   "metadata": {
    "tags": []
   },
   "outputs": [],
   "source": [
    "import datetime\n",
    "import os\n",
    "import pickle\n",
    "import pprint\n",
    "import time\n",
    "\n",
    "import matplotlib as mpl\n",
    "import numpy as np\n",
    "import tensorflow as tf\n",
    "from sklearn import preprocessing\n",
    "from tensorflow.keras import optimizers\n",
    "import matplotlib.pyplot as plt\n",
    "import seaborn as sns\n",
    "import pandas as pd\n",
    "\n",
    "\n",
    "import experiment_settings\n",
    "from build_data import build_hurricane_data\n",
    "import shash\n",
    "from toolbox import custom_round\n",
    "import prediction\n",
    "\n",
    "from silence_tensorflow import silence_tensorflow\n",
    "silence_tensorflow()"
   ]
  },
  {
   "cell_type": "code",
   "execution_count": 2,
   "metadata": {},
   "outputs": [],
   "source": [
    "__author__ = \"Randal J Barnes and Elizabeth A. Barnes\"\n",
    "__version__ = \"28 October 2021\"\n",
    "\n",
    "# EXP_NAME = \"intensity101_ALEPCP72\"\n",
    "# EXP_NAME = \"intensity8_EPCP48\"\n",
    "EXP_NAME = \"intensity7_AL72\"\n",
    "# EXP_NAME = \"intensity5_AL72\"\n",
    "# EXP_NAME = \"intensity6_EPCP48\"\n",
    "\n",
    "\n",
    "DATA_PATH = \"data/\"\n",
    "MODEL_PATH = \"saved_models/\""
   ]
  },
  {
   "cell_type": "code",
   "execution_count": 3,
   "metadata": {},
   "outputs": [
    {
     "name": "stdout",
     "output_type": "stream",
     "text": [
      "{'act_fun': 'relu',\n",
      " 'basin': 'AL',\n",
      " 'batch_size': 64,\n",
      " 'distribution': 'shash3',\n",
      " 'filename': 'nnfit_vlist_intensity_and_track_extended.dat',\n",
      " 'hiddens': [15, 10],\n",
      " 'leadtime': 72,\n",
      " 'learning_rate': 0.0001,\n",
      " 'loss': 'likelihood',\n",
      " 'momentum': 0.9,\n",
      " 'n_epochs': 25000,\n",
      " 'n_test': 0,\n",
      " 'n_val': 300,\n",
      " 'nesterov': True,\n",
      " 'np_seed': 890,\n",
      " 'patience': 300,\n",
      " 'ridge_param': 0.0,\n",
      " 'target': 'intensity',\n",
      " 'undersample': False}\n"
     ]
    }
   ],
   "source": [
    "mpl.rcParams[\"figure.facecolor\"] = \"white\"\n",
    "mpl.rcParams[\"figure.dpi\"] = 150\n",
    "dpiFig = 300.\n",
    "np.warnings.filterwarnings(\"ignore\", category=np.VisibleDeprecationWarning)\n",
    "\n",
    "settings = experiment_settings.get_settings(EXP_NAME)\n",
    "pprint.pprint(settings, width=80)"
   ]
  },
  {
   "cell_type": "markdown",
   "metadata": {},
   "source": [
    "## Build the intensity data tensors."
   ]
  },
  {
   "cell_type": "code",
   "execution_count": 4,
   "metadata": {
    "tags": []
   },
   "outputs": [
    {
     "name": "stdout",
     "output_type": "stream",
     "text": [
      "------------------\n",
      "NP_SEED = 888\n",
      "ann  MAE = 11.232\n",
      "cons MAE = 12.403\n",
      "percent improvement by ANN = 9.44%\n",
      "------------------\n",
      "NP_SEED = 889\n",
      "ann  MAE = 11.294\n",
      "cons MAE = 12.339\n",
      "percent improvement by ANN = 8.47%\n",
      "------------------\n",
      "NP_SEED = 890\n",
      "ann  MAE = 10.965\n",
      "cons MAE = 12.027\n",
      "percent improvement by ANN = 8.83%\n"
     ]
    }
   ],
   "source": [
    "for np_seed in (888,889,890):\n",
    "    \n",
    "    print('------------------')\n",
    "    print('NP_SEED = ' + str(np_seed))\n",
    "    \n",
    "    np.random.seed(np_seed)  \n",
    "    (\n",
    "        x_train,\n",
    "        onehot_train,\n",
    "        x_val,\n",
    "        onehot_val,\n",
    "        data_summary,\n",
    "        df_val,\n",
    "    ) = build_hurricane_data(DATA_PATH, settings, verbose=0)\n",
    "    \n",
    "    MODEL_NAME   = EXP_NAME + \"_\" + f\"network_seed_{np_seed}_numpy_seed_{np_seed}\"\n",
    "    model        = tf.keras.models.load_model(MODEL_PATH + MODEL_NAME + \"_model\", compile=False) \n",
    "    \n",
    "    # make predictions\n",
    "    mu_pred, sigma_pred, gamma_pred, tau_pred = prediction.params(x_val, model)    \n",
    "\n",
    "    # convert y_pred to intensity corrections    \n",
    "    ann_correction  = prediction.percentile_value(mu_pred,sigma_pred,gamma_pred,tau_pred,percentile_frac=.5)\n",
    "    true_correction = df_val['OBDV'].to_numpy()  \n",
    "\n",
    "    # convert to full intensity predictions\n",
    "    cons_intensity  = df_val['VMXC'].to_numpy()\n",
    "    ann_intensity   = cons_intensity + ann_correction\n",
    "    true_intensity  = cons_intensity + true_correction\n",
    "\n",
    "    # covert ann prediction bounds\n",
    "    ann_low_correction  = prediction.percentile_value(mu_pred,sigma_pred,gamma_pred,tau_pred,percentile_frac=.25)\n",
    "    ann_high_correction = prediction.percentile_value(mu_pred,sigma_pred,gamma_pred,tau_pred,percentile_frac=.75)\n",
    "    iqr                 = ann_high_correction - ann_low_correction\n",
    "\n",
    "    ann_low_intensity   = ann_low_correction + cons_intensity\n",
    "    ann_high_intensity  = ann_high_correction + cons_intensity\n",
    "\n",
    "    # compute errors\n",
    "    ann_error  = np.abs(ann_intensity - true_intensity)\n",
    "    cons_error = np.abs(cons_intensity - true_intensity)\n",
    "\n",
    "    ann_mae    = np.mean(ann_error)\n",
    "    cons_mae   = np.mean(cons_error)\n",
    "\n",
    "    print('ann  MAE = ' + str(np.round(ann_mae,3)))\n",
    "    print('cons MAE = ' + str(np.round(cons_mae,3)))          \n",
    "    print('percent improvement by ANN = ' + str(np.round(100.*(cons_mae-ann_mae)/cons_mae,2)) + '%')    "
   ]
  },
  {
   "cell_type": "code",
   "execution_count": null,
   "metadata": {},
   "outputs": [],
   "source": []
  }
 ],
 "metadata": {
  "kernelspec": {
   "display_name": "Python 3 (ipykernel)",
   "language": "python",
   "name": "python3"
  },
  "language_info": {
   "codemirror_mode": {
    "name": "ipython",
    "version": 3
   },
   "file_extension": ".py",
   "mimetype": "text/x-python",
   "name": "python",
   "nbconvert_exporter": "python",
   "pygments_lexer": "ipython3",
   "version": "3.9.7"
  }
 },
 "nbformat": 4,
 "nbformat_minor": 4
}
