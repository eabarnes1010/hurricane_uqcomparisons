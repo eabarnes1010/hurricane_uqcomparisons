{
 "cells": [
  {
   "cell_type": "markdown",
   "metadata": {},
   "source": [
    "# Compute metrics for different runs and plot them\n",
    "##### author: Elizabeth A. Barnes, Randal J. Barnes and Mark DeMaria\n",
    "##### version: v0.1.0\n",
    "##### date: 14 December 2021\n",
    "\n",
    "```\n",
    "conda create --name env-hurr-tfp python=3.9\n",
    "conda activate env-hurr-tfp\n",
    "pip install tensorflow==2.7.0\n",
    "pip install tensorflow-probability==0.15.0\n",
    "pip install --upgrade numpy scipy pandas statsmodels matplotlib seaborn \n",
    "pip install --upgrade palettable progressbar2 tabulate icecream flake8\n",
    "pip install --upgrade keras-tuner sklearn\n",
    "pip install --upgrade jupyterlab black isort jupyterlab_code_formatter\n",
    "pip install silence-tensorflow\n",
    "pip install tqdm\n",
    "```\n",
    "\n",
    "Use the command\n",
    "```python -m pip freeze > requirements.txt```\n",
    "to make a pip installation list."
   ]
  },
  {
   "cell_type": "code",
   "execution_count": 1,
   "metadata": {
    "tags": []
   },
   "outputs": [],
   "source": [
    "import datetime\n",
    "import os\n",
    "import pickle\n",
    "import pprint\n",
    "import time\n",
    "\n",
    "import experiment_settings\n",
    "import matplotlib as mpl\n",
    "import matplotlib.pyplot as plt\n",
    "import numpy as np\n",
    "import tensorflow as tf\n",
    "import shash\n",
    "from build_data import build_hurricane_data\n",
    "from build_model import build_shash_model, build_bnn_model\n",
    "from custom_loss import compute_shash_NLL, compute_NLL\n",
    "from custom_metrics import CustomMAE, InterquartileCapture, SignTest\n",
    "from model_diagnostics import plot_history\n",
    "import model_diagnostics\n",
    "from save_model_run import save_model_run\n",
    "from sklearn import preprocessing\n",
    "from tensorflow.keras import optimizers\n",
    "from training_instrumentation import TrainingInstrumentation\n",
    "from silence_tensorflow import silence_tensorflow\n",
    "import tensorflow_probability as tfp\n",
    "from keras.utils.layer_utils import count_params  \n",
    "import prediction\n",
    "\n",
    "from sklearn.neighbors import KernelDensity\n",
    "\n",
    "from tqdm import tqdm\n",
    "\n",
    "silence_tensorflow()\n",
    "dpiFig = 400"
   ]
  },
  {
   "cell_type": "code",
   "execution_count": 2,
   "metadata": {},
   "outputs": [],
   "source": [
    "__author__ = \"Randal J Barnes and Elizabeth A. Barnes\"\n",
    "__version__ = \"14 January 2022\"\n",
    "\n",
    "EXP_NAME_LIST = (\"intensity0_AL72\",\"intensity1_AL72\")\n",
    "\n",
    "DATA_PATH = \"data/\"\n",
    "MODEL_PATH = \"saved_models/\""
   ]
  },
  {
   "cell_type": "code",
   "execution_count": 3,
   "metadata": {},
   "outputs": [],
   "source": [
    "mpl.rcParams[\"figure.facecolor\"] = \"white\"\n",
    "mpl.rcParams[\"figure.dpi\"] = 150\n",
    "np.warnings.filterwarnings(\"ignore\", category=np.VisibleDeprecationWarning)"
   ]
  },
  {
   "cell_type": "markdown",
   "metadata": {},
   "source": [
    "## Load the models"
   ]
  },
  {
   "cell_type": "code",
   "execution_count": 4,
   "metadata": {
    "tags": []
   },
   "outputs": [
    {
     "name": "stdout",
     "output_type": "stream",
     "text": [
      "settings[\"train_condition\"] is undefined\n",
      "'intensity0_AL72_shash3_network_seed_888_rng_seed_888'\n",
      "settings[\"train_condition\"] is undefined\n",
      "'intensity1_AL72_bnn_network_seed_888_rng_seed_888'\n"
     ]
    },
    {
     "name": "stderr",
     "output_type": "stream",
     "text": [
      "/Users/eabarnes/opt/anaconda3/envs/env-hurr-tfp/lib/python3.9/site-packages/tensorflow_probability/python/layers/util.py:95: UserWarning: `layer.add_variable` is deprecated and will be removed in a future version. Please use `layer.add_weight` method instead.\n",
      "  loc = add_variable_fn(\n",
      "/Users/eabarnes/opt/anaconda3/envs/env-hurr-tfp/lib/python3.9/site-packages/tensorflow_probability/python/layers/util.py:105: UserWarning: `layer.add_variable` is deprecated and will be removed in a future version. Please use `layer.add_weight` method instead.\n",
      "  untransformed_scale = add_variable_fn(\n"
     ]
    }
   ],
   "source": [
    "for exp_name in EXP_NAME_LIST:\n",
    "    settings = experiment_settings.get_settings(exp_name)\n",
    "    # pprint.pprint(settings, width=80)\n",
    "    \n",
    "    NETWORK_SEED_LIST = [settings[\"rng_seed\"]]\n",
    "    network_seed = NETWORK_SEED_LIST[0]\n",
    "    tf.random.set_seed(network_seed)  # This sets the global random seed.    \n",
    "    \n",
    "    (\n",
    "        x_train,\n",
    "        onehot_train,\n",
    "        x_val,\n",
    "        onehot_val,\n",
    "        x_eval,\n",
    "        onehot_eval,    \n",
    "        data_summary,\n",
    "        df_val,\n",
    "        df_eval,\n",
    "    ) = build_hurricane_data(DATA_PATH, settings, verbose=0)  \n",
    "\n",
    "    if settings[\"uncertainty_type\"] == \"bnn\":       \n",
    "        model_name_bnn = (\n",
    "            exp_name + \"_\" + settings[\"uncertainty_type\"] + '_' + f\"network_seed_{network_seed}_rng_seed_{settings['rng_seed']}\"\n",
    "        )\n",
    "        pprint.pprint(model_name_bnn)\n",
    "        \n",
    "        model_bnn = build_bnn_model(\n",
    "            x_train,\n",
    "            onehot_train,\n",
    "            hiddens=settings[\"hiddens\"],\n",
    "            output_shape=onehot_train.shape[1],\n",
    "            ridge_penalty=settings[\"ridge_param\"],\n",
    "            act_fun=settings[\"act_fun\"],\n",
    "        )\n",
    "        model_bnn.load_weights(MODEL_PATH + model_name_bnn + \"_weights.h5\")\n",
    "\n",
    "    elif settings[\"uncertainty_type\"][:5] == \"shash\": \n",
    "        model_name_shash = (\n",
    "            exp_name + \"_\" + settings[\"uncertainty_type\"] + '_' + f\"network_seed_{network_seed}_rng_seed_{settings['rng_seed']}\"\n",
    "        )\n",
    "        pprint.pprint(model_name_shash)\n",
    "        \n",
    "        model_shash = build_shash_model(\n",
    "            x_train,\n",
    "            onehot_train,\n",
    "            hiddens=settings[\"hiddens\"],\n",
    "            output_shape=onehot_train.shape[1],\n",
    "            ridge_penalty=settings[\"ridge_param\"],\n",
    "            act_fun=settings[\"act_fun\"],\n",
    "        )\n",
    "        model_shash.load_weights(MODEL_PATH + model_name_shash + \"_weights.h5\")\n",
    "        \n",
    "    \n"
   ]
  },
  {
   "cell_type": "markdown",
   "metadata": {},
   "source": [
    "## Make Model Predictions"
   ]
  },
  {
   "cell_type": "code",
   "execution_count": 5,
   "metadata": {},
   "outputs": [
    {
     "name": "stderr",
     "output_type": "stream",
     "text": [
      "100%|█████████████████████████████████████████████████████████████████████████| 300/300 [00:12<00:00, 24.54it/s]\n",
      "100%|███████████████████████████████████████████████████████████████████████| 5000/5000 [03:48<00:00, 21.89it/s]\n",
      "  0%|                                                                                   | 0/300 [00:00<?, ?it/s]\n"
     ]
    },
    {
     "ename": "NameError",
     "evalue": "name 'KernelDensity' is not defined",
     "output_type": "error",
     "traceback": [
      "\u001b[0;31m---------------------------------------------------------------------------\u001b[0m",
      "\u001b[0;31mNameError\u001b[0m                                 Traceback (most recent call last)",
      "\u001b[0;32m/var/folders/ds/32cnt1m12110f2x86qdfzszh0001zl/T/ipykernel_15423/803249832.py\u001b[0m in \u001b[0;36m<module>\u001b[0;34m\u001b[0m\n\u001b[1;32m     34\u001b[0m \u001b[0;34m\u001b[0m\u001b[0m\n\u001b[1;32m     35\u001b[0m \u001b[0;32mfor\u001b[0m \u001b[0mj\u001b[0m \u001b[0;32min\u001b[0m \u001b[0mtqdm\u001b[0m\u001b[0;34m(\u001b[0m\u001b[0mrange\u001b[0m\u001b[0;34m(\u001b[0m\u001b[0;36m0\u001b[0m\u001b[0;34m,\u001b[0m\u001b[0mnp\u001b[0m\u001b[0;34m.\u001b[0m\u001b[0mshape\u001b[0m\u001b[0;34m(\u001b[0m\u001b[0mbnn_mode\u001b[0m\u001b[0;34m)\u001b[0m\u001b[0;34m[\u001b[0m\u001b[0;36m0\u001b[0m\u001b[0;34m]\u001b[0m\u001b[0;34m)\u001b[0m\u001b[0;34m)\u001b[0m\u001b[0;34m:\u001b[0m\u001b[0;34m\u001b[0m\u001b[0;34m\u001b[0m\u001b[0m\n\u001b[0;32m---> 36\u001b[0;31m     \u001b[0mkde\u001b[0m \u001b[0;34m=\u001b[0m \u001b[0mKernelDensity\u001b[0m\u001b[0;34m(\u001b[0m\u001b[0mkernel\u001b[0m\u001b[0;34m=\u001b[0m\u001b[0;34m\"gaussian\"\u001b[0m\u001b[0;34m,\u001b[0m \u001b[0mbandwidth\u001b[0m\u001b[0;34m=\u001b[0m\u001b[0;36m4.\u001b[0m\u001b[0;34m)\u001b[0m\u001b[0;34m.\u001b[0m\u001b[0mfit\u001b[0m\u001b[0;34m(\u001b[0m\u001b[0mbnn_cpd\u001b[0m\u001b[0;34m[\u001b[0m\u001b[0mj\u001b[0m\u001b[0;34m,\u001b[0m\u001b[0;34m:\u001b[0m\u001b[0;34m]\u001b[0m\u001b[0;34m.\u001b[0m\u001b[0mreshape\u001b[0m\u001b[0;34m(\u001b[0m\u001b[0;34m-\u001b[0m\u001b[0;36m1\u001b[0m\u001b[0;34m,\u001b[0m\u001b[0;36m1\u001b[0m\u001b[0;34m)\u001b[0m\u001b[0;34m)\u001b[0m\u001b[0;34m\u001b[0m\u001b[0;34m\u001b[0m\u001b[0m\n\u001b[0m\u001b[1;32m     37\u001b[0m     \u001b[0mlog_dens\u001b[0m \u001b[0;34m=\u001b[0m \u001b[0mkde\u001b[0m\u001b[0;34m.\u001b[0m\u001b[0mscore_samples\u001b[0m\u001b[0;34m(\u001b[0m\u001b[0mbins_plot\u001b[0m\u001b[0;34m.\u001b[0m\u001b[0mreshape\u001b[0m\u001b[0;34m(\u001b[0m\u001b[0;34m-\u001b[0m\u001b[0;36m1\u001b[0m\u001b[0;34m,\u001b[0m\u001b[0;36m1\u001b[0m\u001b[0;34m)\u001b[0m\u001b[0;34m)\u001b[0m\u001b[0;34m\u001b[0m\u001b[0;34m\u001b[0m\u001b[0m\n\u001b[1;32m     38\u001b[0m     \u001b[0mi\u001b[0m \u001b[0;34m=\u001b[0m \u001b[0mnp\u001b[0m\u001b[0;34m.\u001b[0m\u001b[0margmax\u001b[0m\u001b[0;34m(\u001b[0m\u001b[0mlog_dens\u001b[0m\u001b[0;34m)\u001b[0m\u001b[0;34m\u001b[0m\u001b[0;34m\u001b[0m\u001b[0m\n",
      "\u001b[0;31mNameError\u001b[0m: name 'KernelDensity' is not defined"
     ]
    }
   ],
   "source": [
    "tf.random.set_seed(network_seed)\n",
    "\n",
    "shash_incs = np.arange(-160,161,1)\n",
    "shash_cpd = np.zeros((np.shape(x_eval)[0],len(shash_incs)))\n",
    "shash_mean = np.zeros((np.shape(x_eval)[0],))\n",
    "shash_med = np.zeros((np.shape(x_eval)[0],))\n",
    "shash_mode = np.zeros((np.shape(x_eval)[0],))\n",
    "\n",
    "# loop through samples for shash calculation and get PDF for each sample\n",
    "for j in tqdm(range(0,np.shape(shash_cpd)[0])):\n",
    "    mu_pred, sigma_pred, gamma_pred, tau_pred = prediction.params( x_eval[np.newaxis,j], model_shash )\n",
    "    shash_cpd[j,:] = shash.prob(shash_incs, mu_pred, sigma_pred, gamma_pred, tau_pred)    \n",
    "    shash_mean[j]  = shash.mean(mu_pred,sigma_pred,gamma_pred,tau_pred)#np.sum(shash_cpd[j,:]*shash_incs)\n",
    "    shash_med[j]   = shash.median(mu_pred,sigma_pred,gamma_pred,tau_pred)\n",
    "    \n",
    "    i = np.argmax(shash_cpd[j,:])\n",
    "    shash_mode[j]  = shash_incs[i]\n",
    "    \n",
    "mean_error_shash, median_error_shash, mode_error_shash = model_diagnostics.compute_errors(onehot_val, shash_mean, shash_med, shash_mode)    \n",
    "bins, hist_shash, D_shash, EDp_shash = model_diagnostics.compute_pit('shash',onehot_val, x_val=x_val,model_shash=model_shash)\n",
    "iqr_capture_shash = model_diagnostics.compute_interquartile_capture('shash',onehot_val, x_val=x_val,model_shash=model_shash)\n",
    "\n",
    "\n",
    "# loop through runs for bnn calculation    \n",
    "runs = 5_000\n",
    "bins_plot = np.linspace(np.min(shash_incs), np.max(shash_incs), 1000)\n",
    "bnn_cpd = np.zeros((np.shape(x_eval)[0],runs))\n",
    "bnn_mode = np.zeros((np.shape(x_eval)[0],))\n",
    "\n",
    "for i in tqdm(range(0,runs)):\n",
    "    bnn_cpd[:,i] = np.reshape(model_bnn.predict(x_eval),np.shape(bnn_cpd)[0])\n",
    "bnn_mean = np.mean(bnn_cpd,axis=1)\n",
    "bnn_median = np.median(bnn_cpd,axis=1)\n",
    "\n",
    "for j in tqdm(range(0,np.shape(bnn_mode)[0])):\n",
    "    kde = KernelDensity(kernel=\"gaussian\", bandwidth=4.).fit(bnn_cpd[j,:].reshape(-1,1))\n",
    "    log_dens = kde.score_samples(bins_plot.reshape(-1,1))\n",
    "    i = np.argmax(log_dens)\n",
    "    bnn_mode[j] = bins_plot[i]\n",
    "    \n",
    "mean_error_bnn, median_error_bnn, mode_error_bnn = model_diagnostics.compute_errors(onehot_val, bnn_mean, bnn_median, bnn_mode)         \n",
    "bins, hist_bnn, D_bnn, EDp_bnn = model_diagnostics.compute_pit('bnn',onehot_val, bnn_cpd)\n",
    "iqr_capture_bnn = model_diagnostics.compute_interquartile_capture('bnn',onehot_val, bnn_cpd)"
   ]
  },
  {
   "cell_type": "code",
   "execution_count": 6,
   "metadata": {},
   "outputs": [
    {
     "name": "stderr",
     "output_type": "stream",
     "text": [
      "100%|█████████████████████████████████████████████████████████████████████████| 300/300 [00:29<00:00, 10.01it/s]\n"
     ]
    }
   ],
   "source": [
    "from sklearn.neighbors import KernelDensity\n",
    "for j in tqdm(range(0,np.shape(bnn_mode)[0])):\n",
    "    kde = KernelDensity(kernel=\"gaussian\", bandwidth=4.).fit(bnn_cpd[j,:].reshape(-1,1))\n",
    "    log_dens = kde.score_samples(bins_plot.reshape(-1,1))\n",
    "    i = np.argmax(log_dens)\n",
    "    bnn_mode[j] = bins_plot[i]\n",
    "    \n",
    "mean_error_bnn, median_error_bnn, mode_error_bnn = model_diagnostics.compute_errors(onehot_val, bnn_mean, bnn_median, bnn_mode)         \n",
    "bins, hist_bnn, D_bnn, EDp_bnn = model_diagnostics.compute_pit('bnn',onehot_val, bnn_cpd)\n",
    "iqr_capture_bnn = model_diagnostics.compute_interquartile_capture('bnn',onehot_val, bnn_cpd)"
   ]
  },
  {
   "cell_type": "code",
   "execution_count": 7,
   "metadata": {},
   "outputs": [
    {
     "name": "stdout",
     "output_type": "stream",
     "text": [
      "11.172096203486126 11.91726674749986\n",
      "11.377947850704192 11.91974970754981\n",
      "12.715666666666666 11.935565231898565\n",
      "0.02494436533259028 0.03555902760825217\n",
      "0.43 0.31666666666666665\n"
     ]
    }
   ],
   "source": [
    "print(mean_error_shash,mean_error_bnn)\n",
    "print(median_error_shash,median_error_bnn)\n",
    "print(mode_error_shash,mode_error_bnn)\n",
    "print(D_shash, D_bnn)\n",
    "print(iqr_capture_shash,iqr_capture_bnn)"
   ]
  },
  {
   "cell_type": "code",
   "execution_count": 8,
   "metadata": {},
   "outputs": [
    {
     "data": {
      "text/plain": [
       "'intensity1_AL72'"
      ]
     },
     "execution_count": 8,
     "metadata": {},
     "output_type": "execute_result"
    }
   ],
   "source": [
    "exp_name"
   ]
  },
  {
   "cell_type": "code",
   "execution_count": 9,
   "metadata": {},
   "outputs": [
    {
     "data": {
      "text/plain": [
       "{'filename': 'nnfit_vlist_intensity_and_track_extended.dat',\n",
       " 'uncertainty_type': 'bnn',\n",
       " 'leadtime': 72,\n",
       " 'basin': 'AL',\n",
       " 'target': 'intensity',\n",
       " 'undersample': False,\n",
       " 'hiddens': [15, 10],\n",
       " 'learning_rate': 0.0001,\n",
       " 'momentum': 0.9,\n",
       " 'nesterov': True,\n",
       " 'batch_size': 64,\n",
       " 'rng_seed': 888,\n",
       " 'act_fun': 'relu',\n",
       " 'n_epochs': 25000,\n",
       " 'patience': 300,\n",
       " 'ridge_param': 0.0,\n",
       " 'n_val': 300,\n",
       " 'n_train': 'max'}"
      ]
     },
     "execution_count": 9,
     "metadata": {},
     "output_type": "execute_result"
    }
   ],
   "source": [
    "settings"
   ]
  },
  {
   "cell_type": "code",
   "execution_count": 10,
   "metadata": {},
   "outputs": [
    {
     "ename": "NameError",
     "evalue": "name 'mean_error' is not defined",
     "output_type": "error",
     "traceback": [
      "\u001b[0;31m---------------------------------------------------------------------------\u001b[0m",
      "\u001b[0;31mNameError\u001b[0m                                 Traceback (most recent call last)",
      "\u001b[0;32m/var/folders/ds/32cnt1m12110f2x86qdfzszh0001zl/T/ipykernel_15423/3249726177.py\u001b[0m in \u001b[0;36m<module>\u001b[0;34m\u001b[0m\n\u001b[1;32m      3\u001b[0m d = {'uncertainty_type': settings[\"uncertainty_type\"],\n\u001b[1;32m      4\u001b[0m      \u001b[0;34m'exp_name'\u001b[0m\u001b[0;34m:\u001b[0m \u001b[0mexp_name\u001b[0m\u001b[0;34m,\u001b[0m\u001b[0;34m\u001b[0m\u001b[0;34m\u001b[0m\u001b[0m\n\u001b[0;32m----> 5\u001b[0;31m      \u001b[0;34m'mean_error'\u001b[0m\u001b[0;34m:\u001b[0m \u001b[0mmean_error\u001b[0m\u001b[0;34m,\u001b[0m\u001b[0;34m\u001b[0m\u001b[0;34m\u001b[0m\u001b[0m\n\u001b[0m\u001b[1;32m      6\u001b[0m      \u001b[0;34m'median_error'\u001b[0m\u001b[0;34m:\u001b[0m \u001b[0mmedian_error\u001b[0m\u001b[0;34m,\u001b[0m\u001b[0;34m\u001b[0m\u001b[0;34m\u001b[0m\u001b[0m\n\u001b[1;32m      7\u001b[0m      \u001b[0;34m'mode_error'\u001b[0m\u001b[0;34m:\u001b[0m \u001b[0mmode_error\u001b[0m\u001b[0;34m,\u001b[0m\u001b[0;34m\u001b[0m\u001b[0;34m\u001b[0m\u001b[0m\n",
      "\u001b[0;31mNameError\u001b[0m: name 'mean_error' is not defined"
     ]
    }
   ],
   "source": [
    "import pandas as pd\n",
    "\n",
    "d = {'uncertainty_type': settings[\"uncertainty_type\"],\n",
    "     'exp_name': exp_name,\n",
    "     'mean_error': mean_error,\n",
    "     'median_error': median_error,\n",
    "     'mode_error': mode_error,\n",
    "     'pit_d': D,\n",
    "     'iqr_capture': iqr_capture,\n",
    "}"
   ]
  },
  {
   "cell_type": "code",
   "execution_count": null,
   "metadata": {},
   "outputs": [],
   "source": [
    "from scipy import stats\n",
    "from sklearn.neighbors import KernelDensity\n",
    "\n",
    "bins = np.arange(np.min(shash_incs),np.max(shash_incs)+1,1)\n",
    "hist = np.histogram(bnn_cpd[40,:],bins)\n",
    "\n",
    "bins_plot = np.linspace(np.min(shash_incs), np.max(shash_incs), 1000)\n",
    "kde = KernelDensity(kernel=\"gaussian\", bandwidth=4.).fit(bnn_cpd[40,:].reshape(-1,1))\n",
    "log_dens = kde.score_samples(bins_plot.reshape(-1,1))\n",
    "i = np.argmax(log_dens)\n",
    "print(bins_plot[i])\n",
    "\n",
    "plt.plot(hist[1][1:],hist[0]/np.sum(hist[0]))\n",
    "plt.plot(bins_plot,np.exp(log_dens))\n",
    "plt.axvline(x=bins_plot[i],color='k')\n"
   ]
  },
  {
   "cell_type": "code",
   "execution_count": null,
   "metadata": {},
   "outputs": [],
   "source": []
  }
 ],
 "metadata": {
  "kernelspec": {
   "display_name": "Python 3 (ipykernel)",
   "language": "python",
   "name": "python3"
  },
  "language_info": {
   "codemirror_mode": {
    "name": "ipython",
    "version": 3
   },
   "file_extension": ".py",
   "mimetype": "text/x-python",
   "name": "python",
   "nbconvert_exporter": "python",
   "pygments_lexer": "ipython3",
   "version": "3.9.7"
  }
 },
 "nbformat": 4,
 "nbformat_minor": 4
}
