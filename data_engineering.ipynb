{
 "cells": [
  {
   "cell_type": "markdown",
   "id": "9ad02321-ca4d-4cff-a255-35abb4b1667d",
   "metadata": {},
   "source": [
    "# DATA DICTIONARY\n",
    "\n",
    "## Storm and forcast data\n",
    "* __ATCF__ : Storm ID, where first 2 letters are the basin ID \n",
    "    * AL Atlantic \n",
    "    * EP eastern north Pacific\n",
    "    * CP central north Pacific\n",
    "* __Name__ : storm name\n",
    "* __Date__ : Starting date of the forecast [YYYY]\n",
    "* __Time__ : Starting time of the forecast [hhmmss]\n",
    "* __ftime(hr)__ : Forecast hour [hr]. The data are included every 12 hr through 168 hours\n",
    "    * One of {12  24  36  48  60  72  84  96 108 120 132 144 156 168}\n",
    "\n",
    "## Storm environmental variables\n",
    "* __DV12__ : previous 12 hr intensity change [kt]\n",
    "* __SLAT__ : storm latitude from the NHC official forecast [deg]\n",
    "* __SSTN__ : surface sea temperature [degC]\n",
    "* __SHDC__ : vertical shear [1/s]\n",
    "* __DTL__ :  distance to land [km]\n",
    "\n",
    "## Intensity specific data\n",
    "* __NCI__ : Number of intensity models included in the consensus (max of 4) [\\#]\n",
    "* __VMXC__ : The max wind of the consensus forecast [kt]\n",
    "* __OBDV__ : The difference in the observed max wind from the consensus max wind in [kt]. _This is what we are trying to predict for intensity._\n",
    "\n",
    "#### Difference between the model predicted intensity and the model consensus intensity.\n",
    "* __DSDV__ : DSHIPS Decay-Statistical Hurricane Intensity Prediction Scheme [kt]\n",
    "    * Statistical-dynamical model based on standard multiple regression techniques.\n",
    "    * Climatology, persistence, environmental atmosphere parameters, oceanic input, and an inland decay component.\n",
    "* __LGDV__ : LGEM Logistic Growth Equation Model [kt]\n",
    "    * Statistical intensity model based on a simplified dynamical prediction framework.\n",
    "    * A subset of SHIPS predictors, ocean heat content, and variability of the environment used to determine growth rate maximum wind coefficient.\n",
    "* __HWDV__ : HWRF Hurricane Weather Research and Forecast system [kt]\n",
    "    * Nested Grid point (13.5-4.5-1.5km)\n",
    "* __AVDV__ : GFS Global Forecast System (FV3-GFS) [kt]\n",
    "    * Finite Volume Cube Sphere (~13km)\n",
    "\n",
    "## Track specifc data\n",
    "* __NCT__ : Number of track models in the consensus (max of 4) [\\#]\n",
    "* __LONC__ : Longitude of the consensus forecast [deg]\n",
    "* __LATC__ : Latitude of the consensus forecast [deg]\n",
    "\n",
    "#### Difference (east-west) between the model predicted track and the track model consensus.\n",
    "* __OBDX__ : east-west difference [km] of the observed storm position minus that of the track model consensus. _This is what we are trying to predict for the east-west displacement._\n",
    "* __AVDX__ : GFS Global Forecast System (FV3-GFS) [km]\n",
    "    * Finite Volume Cube Sphere (~13km)\n",
    "* __EMDX__ : ECMWF European Centre for Medium-Range Weather Forecasts [km]\n",
    "* __EGDX__ : UKMet global model [km]\n",
    "* __HWDX__ : HWRF Hurricane Weather Research and Forecast system [km]\n",
    "    * Nested Grid point (13.5-4.5-1.5km)\n",
    "\n",
    "#### Difference (north-south) between the model predicted track and the track model consensus.\n",
    "* __OBDY__ : north-south difference [km] of the observed storm position minus that of the track model consensus. _This is what we are trying to predict for the east-west displacement._\n",
    "* __AVDY__ : GFS Global Forecast System (FV3-GFS) [km]\n",
    "    * Finite Volume Cube Sphere (~13km)\n",
    "* __EMDY__ : ECMWF European Centre for Medium-Range Weather Forecasts [km]\n",
    "* __EGDY__ : UKMet global model [km]\n",
    "* __HWDY__ : HWRF Hurricane Weather Research and Forecast system [km]\n",
    "    * Nested Grid point (13.5-4.5-1.5km)\n",
    "\n",
    "## Notes\n",
    "* All floating point data given in .1f format.\n",
    "\n",
    "## References\n",
    "* https://www.nhc.noaa.gov/modelsummary.shtml\n",
    "* https://www.ecmwf.int/en/forecasts/charts/latest-tropical-cyclones-forecast\n",
    "* https://yaleclimateconnections.org/2020/08/the-most-reliable-hurricane-models-according-to-their-2019-performance/"
   ]
  },
  {
   "cell_type": "code",
   "execution_count": null,
   "id": "bc555d49-64ad-405e-b886-98bde56e7248",
   "metadata": {},
   "outputs": [],
   "source": [
    "import matplotlib.pyplot as plt\n",
    "import numpy as np\n",
    "import pandas as pd\n",
    "import seaborn as sns\n",
    "\n",
    "__author__ = \"Randal J Barnes and Elizabeth A. Barnes\"\n",
    "__version__ = \"24 October 2021\""
   ]
  },
  {
   "cell_type": "code",
   "execution_count": null,
   "id": "651fa404-3621-407c-89e7-678cef5e68e2",
   "metadata": {},
   "outputs": [],
   "source": [
    "INPUTFILE = \"data/nnfit_vlist_intensity_and_track_extended.dat\"\n",
    "\n",
    "BASIN = \"AL\"\n",
    "LEADTIME = 72\n",
    "MISSING = -9999.0\n",
    "\n",
    "figsize = (15, 15)\n",
    "pd.set_option(\"display.precision\", 2)"
   ]
  },
  {
   "cell_type": "code",
   "execution_count": null,
   "id": "d2e0ff92-d855-414f-8c74-fd2b39a40ee8",
   "metadata": {},
   "outputs": [],
   "source": [
    "df = pd.read_table(INPUTFILE, sep=\"\\s+\")\n",
    "\n",
    "# print(np.unique(df[\"ATCF\"]))\n",
    "# print(np.unique(df[\"ftime(hr)\"]))\n",
    "\n",
    "if BASIN is not None:\n",
    "    df = df[df[\"ATCF\"].str.contains(BASIN)]\n",
    "\n",
    "if LEADTIME is not None:\n",
    "    df = df.loc[df[\"ftime(hr)\"] == LEADTIME]"
   ]
  },
  {
   "cell_type": "code",
   "execution_count": null,
   "id": "6eb6bf5d-b4e8-4969-b989-833ba43475dc",
   "metadata": {},
   "outputs": [],
   "source": [
    "df[\"DX\"].head"
   ]
  },
  {
   "cell_type": "markdown",
   "id": "442a2254-60e1-4f26-b8fc-78c7cc91b0ce",
   "metadata": {},
   "source": [
    "# INTENSITY DATA"
   ]
  },
  {
   "cell_type": "code",
   "execution_count": null,
   "id": "f846d4f4-5c25-4776-94b4-9dcb794bd1d6",
   "metadata": {},
   "outputs": [],
   "source": [
    "# x_names = [\n",
    "# #    \"NCI\",\n",
    "#     \"DSDV\", \"LGDV\", \"HWDV\", \"AVDV\",\n",
    "#     \"VMXC\", \"DV12\", \"SLAT\", \"SSTN\", \"SHDC\", \"DTL\",\n",
    "# ]\n",
    "# y_name = [\"OBDV\"]"
   ]
  },
  {
   "cell_type": "markdown",
   "id": "051ee9d7-ea27-4989-a1ca-e6bd8804a83a",
   "metadata": {},
   "source": [
    "# LONGITUDE DATA"
   ]
  },
  {
   "cell_type": "code",
   "execution_count": null,
   "id": "4d58a103-46b6-404e-bd5f-4b950f858ad7",
   "metadata": {
    "tags": []
   },
   "outputs": [],
   "source": [
    "x_names = [\n",
    "    #    \"NCT\",\n",
    "    \"AVDX\",\n",
    "    \"EMDX\",\n",
    "    \"EGDX\",\n",
    "    \"HWDX\",\n",
    "    \"LONC\",\n",
    "    \"LATC\",\n",
    "    \"VMXC\",\n",
    "    \"DV12\",\n",
    "    \"SHDC\",\n",
    "    \"SSTN\",\n",
    "    \"DTL\",\n",
    "]\n",
    "y_name = [\"OBDX\"]"
   ]
  },
  {
   "cell_type": "markdown",
   "id": "5ff571fc-9004-484f-8b0c-64941945ea0a",
   "metadata": {},
   "source": [
    "# LATITUDE DATA"
   ]
  },
  {
   "cell_type": "code",
   "execution_count": null,
   "id": "5c8ebc0c-ada3-460c-b16c-119afa5be77e",
   "metadata": {},
   "outputs": [],
   "source": [
    "# x_names = [\n",
    "# #    \"NCT\",\n",
    "#     \"AVDY\", \"EMDY\", \"EGDY\", \"HWDY\",\n",
    "#     \"LONC\", \"LATC\",\n",
    "#     \"VMXC\", \"DV12\", \"SHDC\", \"SSTN\", \"DTL\",\n",
    "# ]\n",
    "# y_name = [\"OBDY\"]"
   ]
  },
  {
   "cell_type": "code",
   "execution_count": null,
   "id": "79cefb2b-3689-4a03-a5c2-26853d28a458",
   "metadata": {},
   "outputs": [],
   "source": [
    "names = x_names\n",
    "names.extend(y_name)\n",
    "\n",
    "if MISSING is not None:\n",
    "    data = df.drop(df.index[df[y_name[0]] == MISSING])\n",
    "else:\n",
    "    data = df"
   ]
  },
  {
   "cell_type": "code",
   "execution_count": null,
   "id": "f0085339-0107-490e-9efc-d175ef2d943c",
   "metadata": {},
   "outputs": [],
   "source": [
    "data[names].describe()"
   ]
  },
  {
   "cell_type": "code",
   "execution_count": null,
   "id": "808dd70b-fc2e-47bd-8540-d3f99bc115e7",
   "metadata": {},
   "outputs": [],
   "source": [
    "data[names].hist(bins=20, layout=(4, 4), figsize=figsize)"
   ]
  },
  {
   "cell_type": "code",
   "execution_count": null,
   "id": "93faadd7-095d-4a90-9239-62547c73cf33",
   "metadata": {},
   "outputs": [],
   "source": [
    "plt.figure(figsize=figsize)\n",
    "corr = data[names].corr()\n",
    "sns.heatmap(\n",
    "    corr,\n",
    "    annot=True,\n",
    "    square=True,\n",
    "    fmt=\".2f\",\n",
    "    xticklabels=corr.columns,\n",
    "    yticklabels=corr.columns,\n",
    ")\n",
    "plt.title(\"Correlation Heatmap\")"
   ]
  },
  {
   "cell_type": "code",
   "execution_count": null,
   "id": "4f40e1b9-5de5-462f-b1c5-cbc89796915e",
   "metadata": {},
   "outputs": [],
   "source": [
    "sns.pairplot(\n",
    "    data=data[names], y_vars=y_name, x_vars=x_names[0:3], height=4, kind=\"hist\"\n",
    ")\n",
    "sns.pairplot(\n",
    "    data=data[names], y_vars=y_name, x_vars=x_names[3:6], height=4, kind=\"hist\"\n",
    ")\n",
    "sns.pairplot(\n",
    "    data=data[names], y_vars=y_name, x_vars=x_names[6:9], height=4, kind=\"hist\"\n",
    ")\n",
    "sns.pairplot(data=data[names], y_vars=y_name, x_vars=x_names[9:], height=4, kind=\"hist\")"
   ]
  },
  {
   "cell_type": "code",
   "execution_count": null,
   "id": "96d8ede0-4eb8-4c96-9147-524ce138efa3",
   "metadata": {},
   "outputs": [],
   "source": []
  }
 ],
 "metadata": {
  "kernelspec": {
   "display_name": "Python 3 (ipykernel)",
   "language": "python",
   "name": "python3"
  },
  "language_info": {
   "codemirror_mode": {
    "name": "ipython",
    "version": 3
   },
   "file_extension": ".py",
   "mimetype": "text/x-python",
   "name": "python",
   "nbconvert_exporter": "python",
   "pygments_lexer": "ipython3",
   "version": "3.9.7"
  }
 },
 "nbformat": 4,
 "nbformat_minor": 5
}
