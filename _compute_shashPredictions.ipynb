{
 "cells": [
  {
   "cell_type": "markdown",
   "metadata": {},
   "source": [
    "# Compute metrics for different runs and plot them\n",
    "##### author: Elizabeth A. Barnes, Randal J. Barnes and Mark DeMaria\n",
    "##### version: v0.2.0"
   ]
  },
  {
   "cell_type": "code",
   "execution_count": 1,
   "metadata": {
    "tags": [],
    "pycharm": {
     "name": "#%%\n"
    }
   },
   "outputs": [],
   "source": [
    "import datetime\n",
    "import os\n",
    "import pickle\n",
    "import pprint\n",
    "import time\n",
    "\n",
    "import experiment_settings\n",
    "import matplotlib as mpl\n",
    "import matplotlib.pyplot as plt\n",
    "import numpy as np\n",
    "import tensorflow as tf\n",
    "import shash_tfp\n",
    "from build_data import build_hurricane_data\n",
    "import build_model\n",
    "import model_diagnostics\n",
    "from silence_tensorflow import silence_tensorflow\n",
    "import prediction\n",
    "from sklearn.neighbors import KernelDensity\n",
    "import pandas as pd\n",
    "from tqdm import tqdm\n",
    "import imp\n",
    "\n",
    "import warnings\n",
    "warnings.filterwarnings(\"ignore\")\n",
    "\n",
    "silence_tensorflow()\n",
    "tf.config.set_visible_devices([], \"GPU\")  # turn-off tensorflow-metal if it is on\n",
    "dpiFig = 400\n",
    "\n",
    "mpl.rcParams[\"figure.facecolor\"] = \"white\"\n",
    "mpl.rcParams[\"figure.dpi\"] = 150\n",
    "np.warnings.filterwarnings(\"ignore\", category=np.VisibleDeprecationWarning)"
   ]
  },
  {
   "cell_type": "code",
   "execution_count": 2,
   "metadata": {
    "pycharm": {
     "name": "#%%\n"
    }
   },
   "outputs": [],
   "source": [
    "__author__  = \"Randal J Barnes and Elizabeth A. Barnes\"\n",
    "__version__ = \"16 September 2022\"\n",
    "\n",
    "EXP_NAME_LIST = (\n",
    "                 \"intensity201_AL24\",\n",
    "                 \"intensity202_AL48\",    \n",
    "                 \"intensity203_AL72\",\n",
    "                 \"intensity204_AL96\",    \n",
    "                 \"intensity205_AL120\",\n",
    "\n",
    "                 \"intensity301_EPCP24\",\n",
    "                 \"intensity302_EPCP48\",\n",
    "                 \"intensity303_EPCP72\",\n",
    "                 \"intensity304_EPCP96\",\n",
    "                 \"intensity305_EPCP120\",\n",
    "                 )\n",
    "\n",
    "\n",
    "OVERWRITE_METRICS = False\n",
    "DATA_PATH = \"data/\"\n",
    "MODEL_PATH = \"saved_models/\"\n",
    "METRIC_PATH = \"saved_metrics/\"\n",
    "PREDICTION_PATH = \"saved_predictions/\""
   ]
  },
  {
   "cell_type": "code",
   "execution_count": 3,
   "metadata": {},
   "outputs": [],
   "source": [
    "RI_THRESH_DICT = {24: 30,\n",
    "                  48: 55,\n",
    "                  72: 65,\n",
    "                  96: None,\n",
    "                  120: None,\n",
    "                 }"
   ]
  },
  {
   "cell_type": "markdown",
   "metadata": {
    "tags": [],
    "pycharm": {
     "name": "#%% md\n"
    }
   },
   "source": [
    "## Compute Predictions for ALL of the data"
   ]
  },
  {
   "cell_type": "code",
   "execution_count": null,
   "metadata": {
    "tags": [],
    "pycharm": {
     "name": "#%%\n",
     "is_executing": true
    }
   },
   "outputs": [
    {
     "name": "stdout",
     "output_type": "stream",
     "text": [
      "intensity201_AL24\n",
      "saved_predictions/intensity201_AL24_2013_shash3_network_seed_222_rng_seed_222_allPredictions.csv exists. Skipping...\n",
      "saved_predictions/intensity201_AL24_2013_shash3_network_seed_333_rng_seed_333_allPredictions.csv exists. Skipping...\n",
      "saved_predictions/intensity201_AL24_2013_shash3_network_seed_416_rng_seed_416_allPredictions.csv exists. Skipping...\n",
      "saved_predictions/intensity201_AL24_2013_shash3_network_seed_599_rng_seed_599_allPredictions.csv exists. Skipping...\n",
      "saved_predictions/intensity201_AL24_2013_shash3_network_seed_739_rng_seed_739_allPredictions.csv exists. Skipping...\n",
      "saved_predictions/intensity201_AL24_2014_shash3_network_seed_222_rng_seed_222_allPredictions.csv exists. Skipping...\n",
      "saved_predictions/intensity201_AL24_2014_shash3_network_seed_333_rng_seed_333_allPredictions.csv exists. Skipping...\n",
      "saved_predictions/intensity201_AL24_2014_shash3_network_seed_416_rng_seed_416_allPredictions.csv exists. Skipping...\n",
      "saved_predictions/intensity201_AL24_2014_shash3_network_seed_599_rng_seed_599_allPredictions.csv exists. Skipping...\n",
      "saved_predictions/intensity201_AL24_2014_shash3_network_seed_739_rng_seed_739_allPredictions.csv exists. Skipping...\n",
      "saved_predictions/intensity201_AL24_2015_shash3_network_seed_222_rng_seed_222_allPredictions.csv exists. Skipping...\n",
      "saved_predictions/intensity201_AL24_2015_shash3_network_seed_333_rng_seed_333_allPredictions.csv exists. Skipping...\n",
      "saved_predictions/intensity201_AL24_2015_shash3_network_seed_416_rng_seed_416_allPredictions.csv exists. Skipping...\n",
      "saved_predictions/intensity201_AL24_2015_shash3_network_seed_599_rng_seed_599_allPredictions.csv exists. Skipping...\n",
      "saved_predictions/intensity201_AL24_2015_shash3_network_seed_739_rng_seed_739_allPredictions.csv exists. Skipping...\n",
      "saved_predictions/intensity201_AL24_2016_shash3_network_seed_222_rng_seed_222_allPredictions.csv exists. Skipping...\n",
      "saved_predictions/intensity201_AL24_2016_shash3_network_seed_333_rng_seed_333_allPredictions.csv exists. Skipping...\n",
      "saved_predictions/intensity201_AL24_2016_shash3_network_seed_416_rng_seed_416_allPredictions.csv exists. Skipping...\n",
      "saved_predictions/intensity201_AL24_2016_shash3_network_seed_599_rng_seed_599_allPredictions.csv exists. Skipping...\n",
      "saved_predictions/intensity201_AL24_2016_shash3_network_seed_739_rng_seed_739_allPredictions.csv exists. Skipping...\n",
      "saved_predictions/intensity201_AL24_2017_shash3_network_seed_222_rng_seed_222_allPredictions.csv exists. Skipping...\n",
      "'intensity201_AL24_2017_shash3_network_seed_333_rng_seed_333'\n",
      "'intensity201_AL24_2017_shash3_network_seed_416_rng_seed_416'\n",
      "'intensity201_AL24_2017_shash3_network_seed_599_rng_seed_599'\n",
      "'intensity201_AL24_2017_shash3_network_seed_739_rng_seed_739'\n",
      "'intensity201_AL24_2018_shash3_network_seed_222_rng_seed_222'\n",
      "'intensity201_AL24_2018_shash3_network_seed_333_rng_seed_333'\n",
      "'intensity201_AL24_2018_shash3_network_seed_416_rng_seed_416'\n",
      "'intensity201_AL24_2018_shash3_network_seed_599_rng_seed_599'\n",
      "'intensity201_AL24_2018_shash3_network_seed_739_rng_seed_739'\n",
      "'intensity201_AL24_2019_shash3_network_seed_222_rng_seed_222'\n",
      "'intensity201_AL24_2019_shash3_network_seed_333_rng_seed_333'\n",
      "'intensity201_AL24_2019_shash3_network_seed_416_rng_seed_416'\n",
      "'intensity201_AL24_2019_shash3_network_seed_599_rng_seed_599'\n",
      "'intensity201_AL24_2019_shash3_network_seed_739_rng_seed_739'\n",
      "'intensity201_AL24_2020_shash3_network_seed_222_rng_seed_222'\n",
      "'intensity201_AL24_2020_shash3_network_seed_333_rng_seed_333'\n",
      "'intensity201_AL24_2020_shash3_network_seed_416_rng_seed_416'\n",
      "'intensity201_AL24_2020_shash3_network_seed_599_rng_seed_599'\n",
      "'intensity201_AL24_2020_shash3_network_seed_739_rng_seed_739'\n",
      "'intensity201_AL24_2021_shash3_network_seed_222_rng_seed_222'\n",
      "'intensity201_AL24_2021_shash3_network_seed_333_rng_seed_333'\n",
      "'intensity201_AL24_2021_shash3_network_seed_416_rng_seed_416'\n"
     ]
    }
   ],
   "source": [
    "imp.reload(model_diagnostics)\n",
    "\n",
    "for exp_name in EXP_NAME_LIST:\n",
    "    settings = experiment_settings.get_settings(exp_name)\n",
    "    print(exp_name)\n",
    "\n",
    "    # set testing data\n",
    "    if settings[\"test_condition\"] == \"leave-one-out\":\n",
    "        TESTING_YEARS_LIST = np.arange(2013,2022)\n",
    "    elif settings[\"test_condition\"] == \"years\":\n",
    "        TESTING_YEARS_LIST = (np.copy(settings[\"years_test\"]))\n",
    "    else:\n",
    "        raise NotImplementedError('no such testing condition')\n",
    "        \n",
    "    for testing_years in TESTING_YEARS_LIST:        \n",
    "        # set testing year\n",
    "        settings[\"years_test\"] = (testing_years,)\n",
    "        \n",
    "        \n",
    "        for rng_seed in settings['rng_seed_list']:\n",
    "            settings['rng_seed'] = rng_seed\n",
    "            NETWORK_SEED_LIST = [settings[\"rng_seed\"]]\n",
    "            network_seed = NETWORK_SEED_LIST[0]\n",
    "            tf.random.set_seed(network_seed)  # This sets the global random seed.    \n",
    "\n",
    "            model_name = (\n",
    "                exp_name + \"_\" + \n",
    "                str(testing_years) + '_' +\n",
    "                settings[\"uncertainty_type\"] + '_' + \n",
    "                f\"network_seed_{network_seed}_rng_seed_{settings['rng_seed']}\"\n",
    "            )\n",
    "            #----------------------------------------------------------------------------------------------------\n",
    "            # check if the metric filename exists already\n",
    "            metric_filename = PREDICTION_PATH + model_name + '_allPredictions.csv'\n",
    "            if (os.path.exists(metric_filename) and OVERWRITE_METRICS==False):\n",
    "                print(metric_filename + ' exists. Skipping...')\n",
    "                continue\n",
    "            \n",
    "            #----------------------------------------------------------------------------------------------------\n",
    "            # get the data\n",
    "            (\n",
    "                data_summary,        \n",
    "                x_train,\n",
    "                onehot_train,\n",
    "                x_val,\n",
    "                onehot_val,\n",
    "                x_test,\n",
    "                onehot_test,        \n",
    "                x_valtest,\n",
    "                onehot_valtest,\n",
    "                df_train,\n",
    "                df_val,\n",
    "                df_test,\n",
    "                df_valtest,\n",
    "            ) = build_hurricane_data(DATA_PATH, settings, verbose=0)\n",
    "\n",
    "            #----------------------------------------------------------------------------------------------------\n",
    "            # get the model\n",
    "            # Make, compile, and train the model\n",
    "            tf.keras.backend.clear_session()            \n",
    "            model = build_model.make_model(\n",
    "                settings,\n",
    "                x_train,\n",
    "                onehot_train,\n",
    "                model_compile=False,\n",
    "            )   \n",
    "\n",
    "            #----------------------------------------------------------------------------------------------------\n",
    "            # load the model            \n",
    "            try:\n",
    "                model.load_weights(MODEL_PATH + model_name + \"_weights.h5\")\n",
    "            except:\n",
    "                print(model_name + ': model does not exist. skipping...')\n",
    "                continue\n",
    "\n",
    "\n",
    "            # compute the climatological errors\n",
    "            obs_dev_cons_hist, OBS_DEV_BINS = model_diagnostics.compute_clim_errors(\n",
    "                onehot=np.append(onehot_train[:,0],onehot_val[:,0]), \n",
    "                smooth = True,\n",
    "            )                \n",
    "            \n",
    "            # get metrics and put into a dictionary\n",
    "            pprint.pprint(model_name)\n",
    "\n",
    "            # concatenate all input data together in a consistent order\n",
    "            x_data = np.concatenate([x_train,x_val])\n",
    "            x_data = np.concatenate([x_data,x_test])\n",
    "            # print(np.shape(x_data), len(x_train)+len(x_val)+len(x_test))\n",
    "\n",
    "            # concatenate all output data together in a consistent order\n",
    "            onehot_data = np.concatenate([onehot_train,onehot_val])\n",
    "            onehot_data = np.concatenate([onehot_data,onehot_test])\n",
    "            # print(np.shape(onehot_data), len(onehot_train)+len(onehot_val)+len(onehot_test))\n",
    "\n",
    "            # concatenate all dataframes together in a consistent order\n",
    "            df_data = pd.concat([df_train,df_val])\n",
    "            df_data = pd.concat([df_data,df_test])\n",
    "            # print(np.shape(df_data), len(df_train)+len(df_val)+len(df_test))\n",
    "\n",
    "            # get prediction metrics of interest\n",
    "            SHASH_INCS = np.arange(-160,161,1)\n",
    "            shash_cpd = np.zeros((np.shape(x_data)[0],len(SHASH_INCS)))\n",
    "            shash_mu = np.zeros((np.shape(x_data)[0],))\n",
    "            shash_sigma = np.zeros((np.shape(x_data)[0],))\n",
    "            shash_gamma = np.zeros((np.shape(x_data)[0],))\n",
    "            shash_tau = np.zeros((np.shape(x_data)[0],))\n",
    "            shash_mean = np.zeros((np.shape(x_data)[0],))\n",
    "            shash_med = np.zeros((np.shape(x_data)[0],))\n",
    "            shash_mode = np.zeros((np.shape(x_data)[0],))\n",
    "            shash_25p = np.zeros((np.shape(x_data)[0],))\n",
    "            shash_75p = np.zeros((np.shape(x_data)[0],))\n",
    "            shash_90p = np.zeros((np.shape(x_data)[0],))\n",
    "            shash_pr_ri = np.zeros((np.shape(x_data)[0],))\n",
    "            clim_pr_ri = np.zeros((np.shape(x_data)[0],))\n",
    "\n",
    "\n",
    "            # loop through samples for shash calculation and get PDF for each sample\n",
    "            # for j in tqdm(range(0,np.shape(shash_cpd)[0])):\n",
    "            for j in range(0,np.shape(shash_cpd)[0]):\n",
    "                mu_pred, sigma_pred, gamma_pred, tau_pred = prediction.params( x_data[np.newaxis,j], model )\n",
    "                shash_mu[j]  = mu_pred\n",
    "                shash_sigma[j]  = sigma_pred\n",
    "                shash_gamma[j]  = gamma_pred\n",
    "                shash_tau[j]  = tau_pred\n",
    "\n",
    "                dist = shash_tfp.Shash(mu_pred, sigma_pred, gamma_pred, tau_pred)\n",
    "                shash_cpd[j,:] = dist.prob(SHASH_INCS)\n",
    "                shash_mean[j]  = dist.mean()\n",
    "                shash_med[j]   = dist.median()\n",
    "\n",
    "                shash_25p[j] = dist.quantile(.25)\n",
    "                shash_75p[j] = dist.quantile(.75)\n",
    "                shash_90p[j] = dist.quantile(.9) \n",
    "\n",
    "                i = np.argmax(shash_cpd[j,:])\n",
    "                shash_mode[j]  = SHASH_INCS[i]\n",
    "                \n",
    "                try:\n",
    "                    cons_intensity = df_test[\"VMXC\"][j]\n",
    "                    ri_threshold = df_test[\"VMAX0\"][j] + RI_THRESH_DICT[settings[\"leadtime\"]]\n",
    "                    shash_pr_ri[j] = model_diagnostics.compute_pr_ri(SHASH_INCS+cons_intensity,shash_cpd[j,:], ri_threshold)\n",
    "                    clim_pr_ri[j] = model_diagnostics.compute_pr_ri(OBS_DEV_BINS+cons_intensity,obs_dev_cons_hist, ri_threshold)\n",
    "                except:\n",
    "                    shash_pr_ri[j] = np.nan\n",
    "                    clim_pr_ri[j] = np.nan\n",
    "            \n",
    "\n",
    "            # add predictions to the data_frame\n",
    "            df_predictions = df_data.copy()\n",
    "            df_predictions[\"shash_mu\"] = shash_mu\n",
    "            df_predictions[\"shash_sigma\"] = shash_sigma\n",
    "            df_predictions[\"shash_gamma\"] = shash_gamma\n",
    "            df_predictions[\"shash_tau\"] = shash_tau\n",
    "            df_predictions[\"shash_median\"] = shash_med\n",
    "            df_predictions[\"shash_mean\"] = shash_mean\n",
    "            df_predictions[\"shash_mode\"] = shash_mode\n",
    "            df_predictions[\"shash_25p\"] = shash_25p\n",
    "            df_predictions[\"shash_75p\"] = shash_75p\n",
    "            df_predictions[\"shash_90p\"] = shash_90p\n",
    "            df_predictions[\"shash_pr_ri\"] = shash_pr_ri\n",
    "            df_predictions[\"clim_pr_ri\"] = clim_pr_ri\n",
    "\n",
    "            df_predictions[\"shash_error\"] = shash_med - onehot_data[:,0]\n",
    "            df_predictions[\"cons_error\"] = 0.0 - onehot_data[:,0]\n",
    "            df_predictions[\"shash_improvement\"] = df_predictions[\"cons_error\"].abs() - df_predictions[\"shash_error\"].abs()\n",
    "                \n",
    "            # save the dataframe    \n",
    "            df_predictions.to_csv(metric_filename)"
   ]
  },
  {
   "cell_type": "code",
   "execution_count": null,
   "metadata": {
    "pycharm": {
     "is_executing": true
    }
   },
   "outputs": [],
   "source": [
    "error('here')"
   ]
  },
  {
   "cell_type": "markdown",
   "source": [
    "# Compute predictions for testing only"
   ],
   "metadata": {
    "collapsed": false,
    "pycharm": {
     "name": "#%% md\n"
    }
   }
  },
  {
   "cell_type": "code",
   "execution_count": null,
   "outputs": [],
   "source": [],
   "metadata": {
    "collapsed": false,
    "pycharm": {
     "name": "#%%\n"
    }
   }
  },
  {
   "cell_type": "markdown",
   "metadata": {},
   "source": [
    "## Create one prediction file"
   ]
  },
  {
   "cell_type": "code",
   "execution_count": null,
   "metadata": {
    "pycharm": {
     "is_executing": true
    }
   },
   "outputs": [],
   "source": [
    "df_bestval = pd.read_pickle(PREDICTION_PATH + \"best_shash3_validation_seeds.pickle\")\n",
    "\n",
    "df_bestpred = pd.DataFrame()\n",
    "for exp_name in EXP_NAME_LIST:\n",
    "    settings = experiment_settings.get_settings(exp_name)\n",
    "\n",
    "    # set testing data\n",
    "    if settings[\"test_condition\"] == \"leave-one-out\":\n",
    "        TESTING_YEARS_LIST = np.arange(2013,2022)\n",
    "    elif settings[\"test_condition\"] == \"years\":\n",
    "        TESTING_YEARS_LIST = (np.copy(settings[\"years_test\"]))\n",
    "    else:\n",
    "        raise NotImplementError('no such testing condition')\n",
    "        \n",
    "    for testing_years in TESTING_YEARS_LIST:        \n",
    "        # set testing year\n",
    "        settings[\"years_test\"] = (testing_years,)\n",
    "        \n",
    "        BEST_SEED = None\n",
    "        try:\n",
    "            BEST_SEED = df_bestval[(df_bestval[\"exp_name\"]==exp_name) & (df_bestval[\"testing_years\"] == testing_years)][\"rng_seed\"][0]\n",
    "        except:\n",
    "            print(BEST_SEED)\n",
    "            continue\n",
    "            \n",
    "        for rng_seed in settings['rng_seed_list']:\n",
    "            \n",
    "            if rng_seed !=BEST_SEED:\n",
    "                continue\n",
    "            \n",
    "            settings['rng_seed'] = rng_seed\n",
    "            NETWORK_SEED_LIST = [settings[\"rng_seed\"]]\n",
    "            network_seed = NETWORK_SEED_LIST[0]\n",
    "            tf.random.set_seed(network_seed)  # This sets the global random seed.    \n",
    "            \n",
    "            model_name = (\n",
    "                exp_name + \"_\" + \n",
    "                str(testing_years) + '_' +\n",
    "                settings[\"uncertainty_type\"] + '_' + \n",
    "                f\"network_seed_{network_seed}_rng_seed_{settings['rng_seed']}\"\n",
    "            )\n",
    "            \n",
    "            #----------------------------------------------------------------------------------------------------\n",
    "            # check if the metric filename exists already\n",
    "            metric_filename = PREDICTION_PATH + model_name + '_testingPredictions.csv'              \n",
    "            if (os.path.exists(metric_filename) is False):\n",
    "                continue\n",
    "            pred_data = pd.read_csv(metric_filename)\n",
    "            \n",
    "            df_bestpred = df_bestpred.append(pred_data)\n",
    "            \n",
    "            \n",
    "df_bestpred.to_csv(PREDICTION_PATH + \"shash3_bestValTestingPredictions.csv\")\n",
    "print('number of rows = ' + str(len(df_bestpred)))\n",
    "df_bestpred.head()\n"
   ]
  },
  {
   "cell_type": "code",
   "execution_count": null,
   "metadata": {
    "pycharm": {
     "is_executing": true
    }
   },
   "outputs": [],
   "source": []
  }
 ],
 "metadata": {
  "kernelspec": {
   "display_name": "Python 3 (ipykernel)",
   "language": "python",
   "name": "python3"
  },
  "language_info": {
   "codemirror_mode": {
    "name": "ipython",
    "version": 3
   },
   "file_extension": ".py",
   "mimetype": "text/x-python",
   "name": "python",
   "nbconvert_exporter": "python",
   "pygments_lexer": "ipython3",
   "version": "3.9.12"
  }
 },
 "nbformat": 4,
 "nbformat_minor": 4
}