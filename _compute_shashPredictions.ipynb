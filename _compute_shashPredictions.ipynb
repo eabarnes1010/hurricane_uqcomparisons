{
 "cells": [
  {
   "cell_type": "markdown",
   "metadata": {},
   "source": [
    "# Compute metrics for different runs and plot them\n",
    "##### author: Elizabeth A. Barnes, Randal J. Barnes and Mark DeMaria\n",
    "##### version: v0.2.0"
   ]
  },
  {
   "cell_type": "code",
   "execution_count": 1,
   "metadata": {
    "tags": []
   },
   "outputs": [],
   "source": [
    "import datetime\n",
    "import os\n",
    "import pickle\n",
    "import pprint\n",
    "import time\n",
    "\n",
    "import experiment_settings\n",
    "import matplotlib as mpl\n",
    "import matplotlib.pyplot as plt\n",
    "import numpy as np\n",
    "import tensorflow as tf\n",
    "import shash\n",
    "from build_data import build_hurricane_data\n",
    "import build_model\n",
    "import model_diagnostics\n",
    "from silence_tensorflow import silence_tensorflow\n",
    "import prediction\n",
    "from sklearn.neighbors import KernelDensity\n",
    "import pandas as pd\n",
    "from tqdm import tqdm\n",
    "import imp\n",
    "\n",
    "import warnings\n",
    "warnings.filterwarnings(\"ignore\")\n",
    "\n",
    "silence_tensorflow()\n",
    "dpiFig = 400\n",
    "\n",
    "mpl.rcParams[\"figure.facecolor\"] = \"white\"\n",
    "mpl.rcParams[\"figure.dpi\"] = 150\n",
    "np.warnings.filterwarnings(\"ignore\", category=np.VisibleDeprecationWarning)"
   ]
  },
  {
   "cell_type": "code",
   "execution_count": 2,
   "metadata": {},
   "outputs": [],
   "source": [
    "__author__  = \"Randal J Barnes and Elizabeth A. Barnes\"\n",
    "__version__ = \"18 March 2022\"\n",
    "\n",
    "EXP_NAME_LIST = (\n",
    "                 \"intensity201_AL24\",\n",
    "                 \"intensity202_AL48\",    \n",
    "                 \"intensity203_AL72\",\n",
    "                 \"intensity204_AL96\",    \n",
    "                 \"intensity205_AL120\",    \n",
    "    \n",
    "                 \"intensity301_EPCP24\",\n",
    "                 \"intensity302_EPCP48\",    \n",
    "                 \"intensity303_EPCP72\",\n",
    "                 \"intensity304_EPCP96\",    \n",
    "                 \"intensity305_EPCP120\",        \n",
    "                 )\n",
    "\n",
    "\n",
    "OVERWRITE_METRICS = False\n",
    "DATA_PATH = \"data/\"\n",
    "MODEL_PATH = \"saved_models/\"\n",
    "METRIC_PATH = \"saved_metrics/\"\n",
    "PREDICTION_PATH = \"saved_predictions/\""
   ]
  },
  {
   "cell_type": "code",
   "execution_count": 3,
   "metadata": {},
   "outputs": [],
   "source": [
    "RI_THRESH_DICT = {24: 30,\n",
    "                  48: 55,\n",
    "                  72: 65,\n",
    "                  96: None,\n",
    "                  120: None,\n",
    "                 }"
   ]
  },
  {
   "cell_type": "markdown",
   "metadata": {
    "tags": []
   },
   "source": [
    "## Compute Predictions"
   ]
  },
  {
   "cell_type": "code",
   "execution_count": 4,
   "metadata": {
    "tags": []
   },
   "outputs": [
    {
     "name": "stdout",
     "output_type": "stream",
     "text": [
      "intensity201_AL24\n",
      "intensity202_AL48\n",
      "intensity203_AL72\n",
      "intensity204_AL96\n",
      "intensity205_AL120\n",
      "intensity301_EPCP24\n",
      "'intensity301_EPCP24_2014_shash3_network_seed_333_rng_seed_333'\n"
     ]
    },
    {
     "name": "stderr",
     "output_type": "stream",
     "text": [
      "100%|█████████████████████████████████████████| 448/448 [00:17<00:00, 26.26it/s]\n"
     ]
    },
    {
     "name": "stdout",
     "output_type": "stream",
     "text": [
      "'intensity301_EPCP24_2014_shash3_network_seed_599_rng_seed_599'\n"
     ]
    },
    {
     "name": "stderr",
     "output_type": "stream",
     "text": [
      "100%|█████████████████████████████████████████| 448/448 [00:16<00:00, 26.35it/s]\n"
     ]
    },
    {
     "name": "stdout",
     "output_type": "stream",
     "text": [
      "'intensity301_EPCP24_2015_shash3_network_seed_333_rng_seed_333'\n"
     ]
    },
    {
     "name": "stderr",
     "output_type": "stream",
     "text": [
      "100%|█████████████████████████████████████████| 531/531 [00:20<00:00, 26.35it/s]\n"
     ]
    },
    {
     "name": "stdout",
     "output_type": "stream",
     "text": [
      "'intensity301_EPCP24_2015_shash3_network_seed_599_rng_seed_599'\n"
     ]
    },
    {
     "name": "stderr",
     "output_type": "stream",
     "text": [
      "100%|█████████████████████████████████████████| 531/531 [00:19<00:00, 26.57it/s]\n"
     ]
    },
    {
     "name": "stdout",
     "output_type": "stream",
     "text": [
      "'intensity301_EPCP24_2016_shash3_network_seed_333_rng_seed_333'\n"
     ]
    },
    {
     "name": "stderr",
     "output_type": "stream",
     "text": [
      "100%|█████████████████████████████████████████| 382/382 [00:15<00:00, 25.08it/s]\n"
     ]
    },
    {
     "name": "stdout",
     "output_type": "stream",
     "text": [
      "'intensity301_EPCP24_2016_shash3_network_seed_599_rng_seed_599'\n"
     ]
    },
    {
     "name": "stderr",
     "output_type": "stream",
     "text": [
      "100%|█████████████████████████████████████████| 382/382 [00:16<00:00, 23.20it/s]\n"
     ]
    },
    {
     "name": "stdout",
     "output_type": "stream",
     "text": [
      "'intensity301_EPCP24_2017_shash3_network_seed_333_rng_seed_333'\n"
     ]
    },
    {
     "name": "stderr",
     "output_type": "stream",
     "text": [
      "100%|█████████████████████████████████████████| 242/242 [00:09<00:00, 24.51it/s]\n"
     ]
    },
    {
     "name": "stdout",
     "output_type": "stream",
     "text": [
      "'intensity301_EPCP24_2017_shash3_network_seed_599_rng_seed_599'\n"
     ]
    },
    {
     "name": "stderr",
     "output_type": "stream",
     "text": [
      "100%|█████████████████████████████████████████| 242/242 [00:10<00:00, 23.73it/s]\n"
     ]
    },
    {
     "name": "stdout",
     "output_type": "stream",
     "text": [
      "'intensity301_EPCP24_2018_shash3_network_seed_333_rng_seed_333'\n"
     ]
    },
    {
     "name": "stderr",
     "output_type": "stream",
     "text": [
      "100%|█████████████████████████████████████████| 478/478 [00:20<00:00, 23.72it/s]\n"
     ]
    },
    {
     "name": "stdout",
     "output_type": "stream",
     "text": [
      "'intensity301_EPCP24_2018_shash3_network_seed_599_rng_seed_599'\n"
     ]
    },
    {
     "name": "stderr",
     "output_type": "stream",
     "text": [
      "100%|█████████████████████████████████████████| 478/478 [00:19<00:00, 25.14it/s]\n"
     ]
    },
    {
     "name": "stdout",
     "output_type": "stream",
     "text": [
      "'intensity301_EPCP24_2019_shash3_network_seed_333_rng_seed_333'\n"
     ]
    },
    {
     "name": "stderr",
     "output_type": "stream",
     "text": [
      "100%|█████████████████████████████████████████| 225/225 [00:09<00:00, 24.25it/s]\n"
     ]
    },
    {
     "name": "stdout",
     "output_type": "stream",
     "text": [
      "'intensity301_EPCP24_2019_shash3_network_seed_599_rng_seed_599'\n"
     ]
    },
    {
     "name": "stderr",
     "output_type": "stream",
     "text": [
      "100%|█████████████████████████████████████████| 225/225 [00:08<00:00, 25.01it/s]\n"
     ]
    },
    {
     "name": "stdout",
     "output_type": "stream",
     "text": [
      "'intensity301_EPCP24_2020_shash3_network_seed_333_rng_seed_333'\n"
     ]
    },
    {
     "name": "stderr",
     "output_type": "stream",
     "text": [
      "100%|█████████████████████████████████████████| 178/178 [00:06<00:00, 25.99it/s]\n"
     ]
    },
    {
     "name": "stdout",
     "output_type": "stream",
     "text": [
      "'intensity301_EPCP24_2020_shash3_network_seed_599_rng_seed_599'\n"
     ]
    },
    {
     "name": "stderr",
     "output_type": "stream",
     "text": [
      "100%|█████████████████████████████████████████| 178/178 [00:06<00:00, 26.35it/s]\n"
     ]
    },
    {
     "name": "stdout",
     "output_type": "stream",
     "text": [
      "'intensity301_EPCP24_2021_shash3_network_seed_333_rng_seed_333'\n"
     ]
    },
    {
     "name": "stderr",
     "output_type": "stream",
     "text": [
      "100%|█████████████████████████████████████████| 248/248 [00:09<00:00, 25.56it/s]\n"
     ]
    },
    {
     "name": "stdout",
     "output_type": "stream",
     "text": [
      "'intensity301_EPCP24_2021_shash3_network_seed_599_rng_seed_599'\n"
     ]
    },
    {
     "name": "stderr",
     "output_type": "stream",
     "text": [
      "100%|█████████████████████████████████████████| 248/248 [00:09<00:00, 26.05it/s]\n"
     ]
    },
    {
     "name": "stdout",
     "output_type": "stream",
     "text": [
      "intensity302_EPCP48\n",
      "'intensity302_EPCP48_2013_shash3_network_seed_333_rng_seed_333'\n"
     ]
    },
    {
     "name": "stderr",
     "output_type": "stream",
     "text": [
      "100%|█████████████████████████████████████████| 157/157 [00:06<00:00, 25.10it/s]\n"
     ]
    },
    {
     "name": "stdout",
     "output_type": "stream",
     "text": [
      "'intensity302_EPCP48_2013_shash3_network_seed_599_rng_seed_599'\n"
     ]
    },
    {
     "name": "stderr",
     "output_type": "stream",
     "text": [
      "100%|█████████████████████████████████████████| 157/157 [00:06<00:00, 25.33it/s]\n"
     ]
    },
    {
     "name": "stdout",
     "output_type": "stream",
     "text": [
      "'intensity302_EPCP48_2014_shash3_network_seed_333_rng_seed_333'\n"
     ]
    },
    {
     "name": "stderr",
     "output_type": "stream",
     "text": [
      "100%|█████████████████████████████████████████| 368/368 [00:14<00:00, 25.83it/s]\n"
     ]
    },
    {
     "name": "stdout",
     "output_type": "stream",
     "text": [
      "'intensity302_EPCP48_2014_shash3_network_seed_599_rng_seed_599'\n"
     ]
    },
    {
     "name": "stderr",
     "output_type": "stream",
     "text": [
      "100%|█████████████████████████████████████████| 368/368 [00:14<00:00, 25.83it/s]\n"
     ]
    },
    {
     "name": "stdout",
     "output_type": "stream",
     "text": [
      "'intensity302_EPCP48_2015_shash3_network_seed_333_rng_seed_333'\n"
     ]
    },
    {
     "name": "stderr",
     "output_type": "stream",
     "text": [
      "100%|█████████████████████████████████████████| 431/431 [00:16<00:00, 25.86it/s]\n"
     ]
    },
    {
     "name": "stdout",
     "output_type": "stream",
     "text": [
      "'intensity302_EPCP48_2015_shash3_network_seed_599_rng_seed_599'\n"
     ]
    },
    {
     "name": "stderr",
     "output_type": "stream",
     "text": [
      "100%|█████████████████████████████████████████| 431/431 [00:18<00:00, 23.92it/s]\n"
     ]
    },
    {
     "name": "stdout",
     "output_type": "stream",
     "text": [
      "'intensity302_EPCP48_2016_shash3_network_seed_333_rng_seed_333'\n"
     ]
    },
    {
     "name": "stderr",
     "output_type": "stream",
     "text": [
      "100%|█████████████████████████████████████████| 304/304 [00:11<00:00, 25.97it/s]\n"
     ]
    },
    {
     "name": "stdout",
     "output_type": "stream",
     "text": [
      "'intensity302_EPCP48_2016_shash3_network_seed_599_rng_seed_599'\n"
     ]
    },
    {
     "name": "stderr",
     "output_type": "stream",
     "text": [
      "100%|█████████████████████████████████████████| 304/304 [00:12<00:00, 24.15it/s]\n"
     ]
    },
    {
     "name": "stdout",
     "output_type": "stream",
     "text": [
      "'intensity302_EPCP48_2017_shash3_network_seed_333_rng_seed_333'\n"
     ]
    },
    {
     "name": "stderr",
     "output_type": "stream",
     "text": [
      "100%|█████████████████████████████████████████| 187/187 [00:07<00:00, 26.57it/s]\n"
     ]
    },
    {
     "name": "stdout",
     "output_type": "stream",
     "text": [
      "'intensity302_EPCP48_2017_shash3_network_seed_599_rng_seed_599'\n"
     ]
    },
    {
     "name": "stderr",
     "output_type": "stream",
     "text": [
      "100%|█████████████████████████████████████████| 187/187 [00:07<00:00, 26.37it/s]\n"
     ]
    },
    {
     "name": "stdout",
     "output_type": "stream",
     "text": [
      "'intensity302_EPCP48_2018_shash3_network_seed_333_rng_seed_333'\n"
     ]
    },
    {
     "name": "stderr",
     "output_type": "stream",
     "text": [
      "100%|█████████████████████████████████████████| 391/391 [00:15<00:00, 24.73it/s]\n"
     ]
    },
    {
     "name": "stdout",
     "output_type": "stream",
     "text": [
      "'intensity302_EPCP48_2018_shash3_network_seed_599_rng_seed_599'\n"
     ]
    },
    {
     "name": "stderr",
     "output_type": "stream",
     "text": [
      "100%|█████████████████████████████████████████| 391/391 [00:16<00:00, 24.32it/s]\n"
     ]
    },
    {
     "name": "stdout",
     "output_type": "stream",
     "text": [
      "'intensity302_EPCP48_2019_shash3_network_seed_333_rng_seed_333'\n"
     ]
    },
    {
     "name": "stderr",
     "output_type": "stream",
     "text": [
      "100%|█████████████████████████████████████████| 162/162 [00:06<00:00, 25.15it/s]\n"
     ]
    },
    {
     "name": "stdout",
     "output_type": "stream",
     "text": [
      "'intensity302_EPCP48_2019_shash3_network_seed_599_rng_seed_599'\n"
     ]
    },
    {
     "name": "stderr",
     "output_type": "stream",
     "text": [
      "100%|█████████████████████████████████████████| 162/162 [00:06<00:00, 25.32it/s]\n"
     ]
    },
    {
     "name": "stdout",
     "output_type": "stream",
     "text": [
      "'intensity302_EPCP48_2020_shash3_network_seed_333_rng_seed_333'\n"
     ]
    },
    {
     "name": "stderr",
     "output_type": "stream",
     "text": [
      "100%|█████████████████████████████████████████| 124/124 [00:05<00:00, 23.83it/s]\n"
     ]
    },
    {
     "name": "stdout",
     "output_type": "stream",
     "text": [
      "'intensity302_EPCP48_2020_shash3_network_seed_599_rng_seed_599'\n"
     ]
    },
    {
     "name": "stderr",
     "output_type": "stream",
     "text": [
      "100%|█████████████████████████████████████████| 124/124 [00:04<00:00, 25.16it/s]\n"
     ]
    },
    {
     "name": "stdout",
     "output_type": "stream",
     "text": [
      "'intensity302_EPCP48_2021_shash3_network_seed_333_rng_seed_333'\n"
     ]
    },
    {
     "name": "stderr",
     "output_type": "stream",
     "text": [
      "100%|█████████████████████████████████████████| 170/170 [00:06<00:00, 27.18it/s]\n"
     ]
    },
    {
     "name": "stdout",
     "output_type": "stream",
     "text": [
      "'intensity302_EPCP48_2021_shash3_network_seed_599_rng_seed_599'\n"
     ]
    },
    {
     "name": "stderr",
     "output_type": "stream",
     "text": [
      "100%|█████████████████████████████████████████| 170/170 [00:06<00:00, 27.03it/s]\n"
     ]
    },
    {
     "name": "stdout",
     "output_type": "stream",
     "text": [
      "intensity303_EPCP72\n",
      "'intensity303_EPCP72_2013_shash3_network_seed_333_rng_seed_333'\n"
     ]
    },
    {
     "name": "stderr",
     "output_type": "stream",
     "text": [
      "100%|█████████████████████████████████████████| 111/111 [00:04<00:00, 25.68it/s]\n"
     ]
    },
    {
     "name": "stdout",
     "output_type": "stream",
     "text": [
      "'intensity303_EPCP72_2013_shash3_network_seed_599_rng_seed_599'\n"
     ]
    },
    {
     "name": "stderr",
     "output_type": "stream",
     "text": [
      "100%|█████████████████████████████████████████| 111/111 [00:04<00:00, 26.76it/s]\n"
     ]
    },
    {
     "name": "stdout",
     "output_type": "stream",
     "text": [
      "'intensity303_EPCP72_2014_shash3_network_seed_333_rng_seed_333'\n"
     ]
    },
    {
     "name": "stderr",
     "output_type": "stream",
     "text": [
      "100%|█████████████████████████████████████████| 306/306 [00:11<00:00, 26.87it/s]\n"
     ]
    },
    {
     "name": "stdout",
     "output_type": "stream",
     "text": [
      "'intensity303_EPCP72_2014_shash3_network_seed_599_rng_seed_599'\n"
     ]
    },
    {
     "name": "stderr",
     "output_type": "stream",
     "text": [
      "100%|█████████████████████████████████████████| 306/306 [00:11<00:00, 25.87it/s]\n"
     ]
    },
    {
     "name": "stdout",
     "output_type": "stream",
     "text": [
      "'intensity303_EPCP72_2015_shash3_network_seed_333_rng_seed_333'\n"
     ]
    },
    {
     "name": "stderr",
     "output_type": "stream",
     "text": [
      "100%|█████████████████████████████████████████| 342/342 [00:13<00:00, 24.67it/s]\n"
     ]
    },
    {
     "name": "stdout",
     "output_type": "stream",
     "text": [
      "'intensity303_EPCP72_2015_shash3_network_seed_599_rng_seed_599'\n"
     ]
    },
    {
     "name": "stderr",
     "output_type": "stream",
     "text": [
      "100%|█████████████████████████████████████████| 342/342 [00:15<00:00, 22.20it/s]\n"
     ]
    },
    {
     "name": "stdout",
     "output_type": "stream",
     "text": [
      "'intensity303_EPCP72_2016_shash3_network_seed_333_rng_seed_333'\n"
     ]
    },
    {
     "name": "stderr",
     "output_type": "stream",
     "text": [
      "100%|█████████████████████████████████████████| 232/232 [00:10<00:00, 21.14it/s]\n"
     ]
    },
    {
     "name": "stdout",
     "output_type": "stream",
     "text": [
      "'intensity303_EPCP72_2016_shash3_network_seed_599_rng_seed_599'\n"
     ]
    },
    {
     "name": "stderr",
     "output_type": "stream",
     "text": [
      "100%|█████████████████████████████████████████| 232/232 [00:10<00:00, 21.32it/s]\n"
     ]
    },
    {
     "name": "stdout",
     "output_type": "stream",
     "text": [
      "'intensity303_EPCP72_2017_shash3_network_seed_333_rng_seed_333'\n"
     ]
    },
    {
     "name": "stderr",
     "output_type": "stream",
     "text": [
      "100%|█████████████████████████████████████████| 149/149 [00:07<00:00, 19.90it/s]\n"
     ]
    },
    {
     "name": "stdout",
     "output_type": "stream",
     "text": [
      "'intensity303_EPCP72_2017_shash3_network_seed_599_rng_seed_599'\n"
     ]
    },
    {
     "name": "stderr",
     "output_type": "stream",
     "text": [
      "100%|█████████████████████████████████████████| 149/149 [00:05<00:00, 24.83it/s]\n"
     ]
    },
    {
     "name": "stdout",
     "output_type": "stream",
     "text": [
      "'intensity303_EPCP72_2018_shash3_network_seed_333_rng_seed_333'\n"
     ]
    },
    {
     "name": "stderr",
     "output_type": "stream",
     "text": [
      "100%|█████████████████████████████████████████| 313/313 [00:13<00:00, 23.06it/s]\n"
     ]
    },
    {
     "name": "stdout",
     "output_type": "stream",
     "text": [
      "'intensity303_EPCP72_2018_shash3_network_seed_599_rng_seed_599'\n"
     ]
    },
    {
     "name": "stderr",
     "output_type": "stream",
     "text": [
      "100%|█████████████████████████████████████████| 313/313 [00:12<00:00, 26.05it/s]\n"
     ]
    },
    {
     "name": "stdout",
     "output_type": "stream",
     "text": [
      "'intensity303_EPCP72_2019_shash3_network_seed_333_rng_seed_333'\n"
     ]
    },
    {
     "name": "stderr",
     "output_type": "stream",
     "text": [
      "100%|█████████████████████████████████████████| 117/117 [00:04<00:00, 24.98it/s]\n"
     ]
    },
    {
     "name": "stdout",
     "output_type": "stream",
     "text": [
      "'intensity303_EPCP72_2019_shash3_network_seed_599_rng_seed_599'\n"
     ]
    },
    {
     "name": "stderr",
     "output_type": "stream",
     "text": [
      "100%|█████████████████████████████████████████| 117/117 [00:04<00:00, 25.99it/s]\n"
     ]
    },
    {
     "name": "stdout",
     "output_type": "stream",
     "text": [
      "'intensity303_EPCP72_2020_shash3_network_seed_333_rng_seed_333'\n"
     ]
    },
    {
     "name": "stderr",
     "output_type": "stream",
     "text": [
      "100%|███████████████████████████████████████████| 80/80 [00:03<00:00, 24.31it/s]\n"
     ]
    },
    {
     "name": "stdout",
     "output_type": "stream",
     "text": [
      "'intensity303_EPCP72_2020_shash3_network_seed_599_rng_seed_599'\n"
     ]
    },
    {
     "name": "stderr",
     "output_type": "stream",
     "text": [
      "100%|███████████████████████████████████████████| 80/80 [00:03<00:00, 25.42it/s]\n"
     ]
    },
    {
     "name": "stdout",
     "output_type": "stream",
     "text": [
      "'intensity303_EPCP72_2021_shash3_network_seed_333_rng_seed_333'\n"
     ]
    },
    {
     "name": "stderr",
     "output_type": "stream",
     "text": [
      "100%|█████████████████████████████████████████| 114/114 [00:04<00:00, 23.04it/s]\n"
     ]
    },
    {
     "name": "stdout",
     "output_type": "stream",
     "text": [
      "'intensity303_EPCP72_2021_shash3_network_seed_599_rng_seed_599'\n"
     ]
    },
    {
     "name": "stderr",
     "output_type": "stream",
     "text": [
      "100%|█████████████████████████████████████████| 114/114 [00:04<00:00, 25.48it/s]\n"
     ]
    },
    {
     "name": "stdout",
     "output_type": "stream",
     "text": [
      "intensity304_EPCP96\n",
      "'intensity304_EPCP96_2013_shash3_network_seed_333_rng_seed_333'\n"
     ]
    },
    {
     "name": "stderr",
     "output_type": "stream",
     "text": [
      "100%|███████████████████████████████████████████| 81/81 [00:03<00:00, 25.92it/s]\n"
     ]
    },
    {
     "name": "stdout",
     "output_type": "stream",
     "text": [
      "'intensity304_EPCP96_2013_shash3_network_seed_599_rng_seed_599'\n"
     ]
    },
    {
     "name": "stderr",
     "output_type": "stream",
     "text": [
      "100%|███████████████████████████████████████████| 81/81 [00:02<00:00, 27.12it/s]\n"
     ]
    },
    {
     "name": "stdout",
     "output_type": "stream",
     "text": [
      "'intensity304_EPCP96_2014_shash3_network_seed_333_rng_seed_333'\n"
     ]
    },
    {
     "name": "stderr",
     "output_type": "stream",
     "text": [
      "100%|█████████████████████████████████████████| 249/249 [00:10<00:00, 24.69it/s]\n"
     ]
    },
    {
     "name": "stdout",
     "output_type": "stream",
     "text": [
      "'intensity304_EPCP96_2014_shash3_network_seed_599_rng_seed_599'\n"
     ]
    },
    {
     "name": "stderr",
     "output_type": "stream",
     "text": [
      "100%|█████████████████████████████████████████| 249/249 [00:10<00:00, 24.36it/s]\n"
     ]
    },
    {
     "name": "stdout",
     "output_type": "stream",
     "text": [
      "'intensity304_EPCP96_2015_shash3_network_seed_333_rng_seed_333'\n"
     ]
    },
    {
     "name": "stderr",
     "output_type": "stream",
     "text": [
      "100%|█████████████████████████████████████████| 264/264 [00:10<00:00, 25.09it/s]\n"
     ]
    },
    {
     "name": "stdout",
     "output_type": "stream",
     "text": [
      "'intensity304_EPCP96_2015_shash3_network_seed_599_rng_seed_599'\n"
     ]
    },
    {
     "name": "stderr",
     "output_type": "stream",
     "text": [
      "100%|█████████████████████████████████████████| 264/264 [00:11<00:00, 23.18it/s]\n"
     ]
    },
    {
     "name": "stdout",
     "output_type": "stream",
     "text": [
      "'intensity304_EPCP96_2016_shash3_network_seed_333_rng_seed_333'\n"
     ]
    },
    {
     "name": "stderr",
     "output_type": "stream",
     "text": [
      "100%|█████████████████████████████████████████| 174/174 [00:06<00:00, 25.70it/s]\n"
     ]
    },
    {
     "name": "stdout",
     "output_type": "stream",
     "text": [
      "'intensity304_EPCP96_2016_shash3_network_seed_599_rng_seed_599'\n"
     ]
    },
    {
     "name": "stderr",
     "output_type": "stream",
     "text": [
      "100%|█████████████████████████████████████████| 174/174 [00:06<00:00, 25.92it/s]\n"
     ]
    },
    {
     "name": "stdout",
     "output_type": "stream",
     "text": [
      "'intensity304_EPCP96_2017_shash3_network_seed_333_rng_seed_333'\n"
     ]
    },
    {
     "name": "stderr",
     "output_type": "stream",
     "text": [
      "100%|█████████████████████████████████████████| 116/116 [00:04<00:00, 24.15it/s]\n"
     ]
    },
    {
     "name": "stdout",
     "output_type": "stream",
     "text": [
      "'intensity304_EPCP96_2017_shash3_network_seed_599_rng_seed_599'\n"
     ]
    },
    {
     "name": "stderr",
     "output_type": "stream",
     "text": [
      "100%|█████████████████████████████████████████| 116/116 [00:04<00:00, 24.43it/s]\n"
     ]
    },
    {
     "name": "stdout",
     "output_type": "stream",
     "text": [
      "'intensity304_EPCP96_2018_shash3_network_seed_333_rng_seed_333'\n"
     ]
    },
    {
     "name": "stderr",
     "output_type": "stream",
     "text": [
      "100%|█████████████████████████████████████████| 245/245 [00:10<00:00, 24.18it/s]\n"
     ]
    },
    {
     "name": "stdout",
     "output_type": "stream",
     "text": [
      "'intensity304_EPCP96_2018_shash3_network_seed_599_rng_seed_599'\n"
     ]
    },
    {
     "name": "stderr",
     "output_type": "stream",
     "text": [
      "100%|█████████████████████████████████████████| 245/245 [00:09<00:00, 25.09it/s]\n"
     ]
    },
    {
     "name": "stdout",
     "output_type": "stream",
     "text": [
      "'intensity304_EPCP96_2019_shash3_network_seed_333_rng_seed_333'\n"
     ]
    },
    {
     "name": "stderr",
     "output_type": "stream",
     "text": [
      "100%|███████████████████████████████████████████| 86/86 [00:03<00:00, 25.68it/s]\n"
     ]
    },
    {
     "name": "stdout",
     "output_type": "stream",
     "text": [
      "'intensity304_EPCP96_2019_shash3_network_seed_599_rng_seed_599'\n"
     ]
    },
    {
     "name": "stderr",
     "output_type": "stream",
     "text": [
      "100%|███████████████████████████████████████████| 86/86 [00:03<00:00, 24.45it/s]\n"
     ]
    },
    {
     "name": "stdout",
     "output_type": "stream",
     "text": [
      "'intensity304_EPCP96_2020_shash3_network_seed_333_rng_seed_333'\n"
     ]
    },
    {
     "name": "stderr",
     "output_type": "stream",
     "text": [
      "100%|███████████████████████████████████████████| 46/46 [00:01<00:00, 24.03it/s]\n"
     ]
    },
    {
     "name": "stdout",
     "output_type": "stream",
     "text": [
      "'intensity304_EPCP96_2020_shash3_network_seed_599_rng_seed_599'\n"
     ]
    },
    {
     "name": "stderr",
     "output_type": "stream",
     "text": [
      "100%|███████████████████████████████████████████| 46/46 [00:01<00:00, 25.66it/s]\n"
     ]
    },
    {
     "name": "stdout",
     "output_type": "stream",
     "text": [
      "'intensity304_EPCP96_2021_shash3_network_seed_333_rng_seed_333'\n"
     ]
    },
    {
     "name": "stderr",
     "output_type": "stream",
     "text": [
      "100%|███████████████████████████████████████████| 73/73 [00:03<00:00, 24.27it/s]\n"
     ]
    },
    {
     "name": "stdout",
     "output_type": "stream",
     "text": [
      "'intensity304_EPCP96_2021_shash3_network_seed_599_rng_seed_599'\n"
     ]
    },
    {
     "name": "stderr",
     "output_type": "stream",
     "text": [
      "100%|███████████████████████████████████████████| 73/73 [00:03<00:00, 22.72it/s]\n"
     ]
    },
    {
     "name": "stdout",
     "output_type": "stream",
     "text": [
      "intensity305_EPCP120\n",
      "'intensity305_EPCP120_2013_shash3_network_seed_333_rng_seed_333'\n"
     ]
    },
    {
     "name": "stderr",
     "output_type": "stream",
     "text": [
      "100%|███████████████████████████████████████████| 57/57 [00:02<00:00, 24.06it/s]\n"
     ]
    },
    {
     "name": "stdout",
     "output_type": "stream",
     "text": [
      "'intensity305_EPCP120_2013_shash3_network_seed_599_rng_seed_599'\n"
     ]
    },
    {
     "name": "stderr",
     "output_type": "stream",
     "text": [
      "100%|███████████████████████████████████████████| 57/57 [00:02<00:00, 24.06it/s]\n"
     ]
    },
    {
     "name": "stdout",
     "output_type": "stream",
     "text": [
      "'intensity305_EPCP120_2014_shash3_network_seed_333_rng_seed_333'\n"
     ]
    },
    {
     "name": "stderr",
     "output_type": "stream",
     "text": [
      "100%|█████████████████████████████████████████| 186/186 [00:08<00:00, 21.27it/s]\n"
     ]
    },
    {
     "name": "stdout",
     "output_type": "stream",
     "text": [
      "'intensity305_EPCP120_2014_shash3_network_seed_599_rng_seed_599'\n"
     ]
    },
    {
     "name": "stderr",
     "output_type": "stream",
     "text": [
      "100%|█████████████████████████████████████████| 186/186 [00:07<00:00, 23.42it/s]\n"
     ]
    },
    {
     "name": "stdout",
     "output_type": "stream",
     "text": [
      "'intensity305_EPCP120_2015_shash3_network_seed_333_rng_seed_333'\n"
     ]
    },
    {
     "name": "stderr",
     "output_type": "stream",
     "text": [
      "100%|█████████████████████████████████████████| 208/208 [00:09<00:00, 22.51it/s]\n"
     ]
    },
    {
     "name": "stdout",
     "output_type": "stream",
     "text": [
      "'intensity305_EPCP120_2015_shash3_network_seed_599_rng_seed_599'\n"
     ]
    },
    {
     "name": "stderr",
     "output_type": "stream",
     "text": [
      "100%|█████████████████████████████████████████| 208/208 [00:08<00:00, 23.52it/s]\n"
     ]
    },
    {
     "name": "stdout",
     "output_type": "stream",
     "text": [
      "'intensity305_EPCP120_2016_shash3_network_seed_333_rng_seed_333'\n"
     ]
    },
    {
     "name": "stderr",
     "output_type": "stream",
     "text": [
      "100%|█████████████████████████████████████████| 126/126 [00:05<00:00, 24.61it/s]\n"
     ]
    },
    {
     "name": "stdout",
     "output_type": "stream",
     "text": [
      "'intensity305_EPCP120_2016_shash3_network_seed_599_rng_seed_599'\n"
     ]
    },
    {
     "name": "stderr",
     "output_type": "stream",
     "text": [
      "100%|█████████████████████████████████████████| 126/126 [00:05<00:00, 24.21it/s]\n"
     ]
    },
    {
     "name": "stdout",
     "output_type": "stream",
     "text": [
      "'intensity305_EPCP120_2017_shash3_network_seed_333_rng_seed_333'\n"
     ]
    },
    {
     "name": "stderr",
     "output_type": "stream",
     "text": [
      "100%|███████████████████████████████████████████| 86/86 [00:04<00:00, 20.92it/s]\n"
     ]
    },
    {
     "name": "stdout",
     "output_type": "stream",
     "text": [
      "'intensity305_EPCP120_2017_shash3_network_seed_599_rng_seed_599'\n"
     ]
    },
    {
     "name": "stderr",
     "output_type": "stream",
     "text": [
      "100%|███████████████████████████████████████████| 86/86 [00:03<00:00, 25.08it/s]\n"
     ]
    },
    {
     "name": "stdout",
     "output_type": "stream",
     "text": [
      "'intensity305_EPCP120_2018_shash3_network_seed_333_rng_seed_333'\n"
     ]
    },
    {
     "name": "stderr",
     "output_type": "stream",
     "text": [
      "100%|█████████████████████████████████████████| 195/195 [00:08<00:00, 24.25it/s]\n"
     ]
    },
    {
     "name": "stdout",
     "output_type": "stream",
     "text": [
      "'intensity305_EPCP120_2018_shash3_network_seed_599_rng_seed_599'\n"
     ]
    },
    {
     "name": "stderr",
     "output_type": "stream",
     "text": [
      "100%|█████████████████████████████████████████| 195/195 [00:07<00:00, 24.82it/s]\n"
     ]
    },
    {
     "name": "stdout",
     "output_type": "stream",
     "text": [
      "'intensity305_EPCP120_2019_shash3_network_seed_333_rng_seed_333'\n"
     ]
    },
    {
     "name": "stderr",
     "output_type": "stream",
     "text": [
      "100%|███████████████████████████████████████████| 59/59 [00:02<00:00, 24.90it/s]\n"
     ]
    },
    {
     "name": "stdout",
     "output_type": "stream",
     "text": [
      "'intensity305_EPCP120_2019_shash3_network_seed_599_rng_seed_599'\n"
     ]
    },
    {
     "name": "stderr",
     "output_type": "stream",
     "text": [
      "100%|███████████████████████████████████████████| 59/59 [00:02<00:00, 26.37it/s]\n"
     ]
    },
    {
     "name": "stdout",
     "output_type": "stream",
     "text": [
      "'intensity305_EPCP120_2020_shash3_network_seed_333_rng_seed_333'\n"
     ]
    },
    {
     "name": "stderr",
     "output_type": "stream",
     "text": [
      "100%|███████████████████████████████████████████| 26/26 [00:01<00:00, 24.46it/s]\n"
     ]
    },
    {
     "name": "stdout",
     "output_type": "stream",
     "text": [
      "'intensity305_EPCP120_2020_shash3_network_seed_599_rng_seed_599'\n"
     ]
    },
    {
     "name": "stderr",
     "output_type": "stream",
     "text": [
      "100%|███████████████████████████████████████████| 26/26 [00:01<00:00, 24.40it/s]\n"
     ]
    },
    {
     "name": "stdout",
     "output_type": "stream",
     "text": [
      "'intensity305_EPCP120_2021_shash3_network_seed_333_rng_seed_333'\n"
     ]
    },
    {
     "name": "stderr",
     "output_type": "stream",
     "text": [
      "100%|███████████████████████████████████████████| 50/50 [00:01<00:00, 25.01it/s]\n"
     ]
    },
    {
     "name": "stdout",
     "output_type": "stream",
     "text": [
      "'intensity305_EPCP120_2021_shash3_network_seed_599_rng_seed_599'\n"
     ]
    },
    {
     "name": "stderr",
     "output_type": "stream",
     "text": [
      "100%|███████████████████████████████████████████| 50/50 [00:02<00:00, 21.03it/s]\n"
     ]
    }
   ],
   "source": [
    "imp.reload(model_diagnostics)\n",
    "\n",
    "for exp_name in EXP_NAME_LIST:\n",
    "    settings = experiment_settings.get_settings(exp_name)\n",
    "    print(exp_name)\n",
    "\n",
    "    # set testing data\n",
    "    if settings[\"test_condition\"] == \"leave-one-out\":\n",
    "        TESTING_YEARS_LIST = np.arange(2013,2022)\n",
    "    elif settings[\"test_condition\"] == \"years\":\n",
    "        TESTING_YEARS_LIST = (np.copy(settings[\"years_test\"]))\n",
    "    else:\n",
    "        raise NotImplementError('no such testing condition')\n",
    "        \n",
    "    for testing_years in TESTING_YEARS_LIST:        \n",
    "        # set testing year\n",
    "        settings[\"years_test\"] = (testing_years,)\n",
    "        \n",
    "        \n",
    "        for rng_seed in settings['rng_seed_list']:\n",
    "            settings['rng_seed'] = rng_seed\n",
    "            NETWORK_SEED_LIST = [settings[\"rng_seed\"]]\n",
    "            network_seed = NETWORK_SEED_LIST[0]\n",
    "            tf.random.set_seed(network_seed)  # This sets the global random seed.    \n",
    "\n",
    "            model_name = (\n",
    "                exp_name + \"_\" + \n",
    "                str(testing_years) + '_' +\n",
    "                settings[\"uncertainty_type\"] + '_' + \n",
    "                f\"network_seed_{network_seed}_rng_seed_{settings['rng_seed']}\"\n",
    "            )\n",
    "            #----------------------------------------------------------------------------------------------------\n",
    "            # check if the metric filename exists already\n",
    "            metric_filename = PREDICTION_PATH + model_name + '_testingPredictions.csv'              \n",
    "            if (os.path.exists(metric_filename) and OVERWRITE_METRICS==False):\n",
    "                # print(metric_filename + ' exists. Skipping...')\n",
    "                continue\n",
    "            \n",
    "            #----------------------------------------------------------------------------------------------------\n",
    "            # get the data\n",
    "            (\n",
    "                data_summary,        \n",
    "                x_train,\n",
    "                onehot_train,\n",
    "                x_val,\n",
    "                onehot_val,\n",
    "                x_test,\n",
    "                onehot_test,        \n",
    "                x_valtest,\n",
    "                onehot_valtest,\n",
    "                df_train,\n",
    "                df_val,\n",
    "                df_test,\n",
    "                df_valtest,\n",
    "            ) = build_hurricane_data(DATA_PATH, settings, verbose=0)\n",
    "\n",
    "            #----------------------------------------------------------------------------------------------------\n",
    "            # get the model\n",
    "            # Make, compile, and train the model\n",
    "            tf.keras.backend.clear_session()            \n",
    "            model = build_model.make_model(\n",
    "                settings,\n",
    "                x_train,\n",
    "                onehot_train,\n",
    "                model_compile=False,\n",
    "            )   \n",
    "\n",
    "            #----------------------------------------------------------------------------------------------------\n",
    "            # load the model            \n",
    "            try:\n",
    "                model.load_weights(MODEL_PATH + model_name + \"_weights.h5\")\n",
    "            except:\n",
    "                print(model_name + ': model does not exist. skipping...')\n",
    "                continue\n",
    "\n",
    "\n",
    "            # compute the climatological errors\n",
    "            obs_dev_cons_hist, OBS_DEV_BINS = model_diagnostics.compute_clim_errors(\n",
    "                onehot=np.append(onehot_train[:,0],onehot_val[:,0]), \n",
    "                smooth = True,\n",
    "            )                \n",
    "            \n",
    "            # get metrics and put into a dictionary\n",
    "            pprint.pprint(model_name)\n",
    "            \n",
    "            SHASH_INCS = np.arange(-160,161,1)\n",
    "            shash_cpd = np.zeros((np.shape(x_test)[0],len(SHASH_INCS)))\n",
    "            shash_mean = np.zeros((np.shape(x_test)[0],))\n",
    "            shash_med = np.zeros((np.shape(x_test)[0],))\n",
    "            shash_mode = np.zeros((np.shape(x_test)[0],))\n",
    "            shash_25p = np.zeros((np.shape(x_test)[0],))\n",
    "            shash_75p = np.zeros((np.shape(x_test)[0],))\n",
    "            shash_90p = np.zeros((np.shape(x_test)[0],))\n",
    "            shash_pr_ri = np.zeros((np.shape(x_test)[0],))\n",
    "            clim_pr_ri = np.zeros((np.shape(x_test)[0],))\n",
    "\n",
    "\n",
    "            # loop through samples for shash calculation and get PDF for each sample\n",
    "            for j in tqdm(range(0,np.shape(shash_cpd)[0])):\n",
    "                mu_pred, sigma_pred, gamma_pred, tau_pred = prediction.params( x_test[np.newaxis,j], model )\n",
    "                shash_cpd[j,:] = shash.prob(SHASH_INCS, mu_pred, sigma_pred, gamma_pred, tau_pred)    \n",
    "                shash_mean[j]  = shash.mean(mu_pred,sigma_pred,gamma_pred,tau_pred)\n",
    "                shash_med[j]   = shash.median(mu_pred,sigma_pred,gamma_pred,tau_pred)\n",
    "\n",
    "                shash_25p[j] = shash.quantile(.25,mu_pred,sigma_pred,gamma_pred,tau_pred)\n",
    "                shash_75p[j] = shash.quantile(.75,mu_pred,sigma_pred,gamma_pred,tau_pred)\n",
    "                shash_90p[j] = shash.quantile(.9,mu_pred,sigma_pred,gamma_pred,tau_pred)    \n",
    "\n",
    "                i = np.argmax(shash_cpd[j,:])\n",
    "                shash_mode[j]  = SHASH_INCS[i]\n",
    "                \n",
    "                try:\n",
    "                    cons_intensity = df_test[\"VMXC\"][j]\n",
    "                    ri_threshold = df_test[\"VMAX0\"][j] + RI_THRESH_DICT[settings[\"leadtime\"]]\n",
    "                    shash_pr_ri[j] = model_diagnostics.compute_pr_ri(SHASH_INCS+cons_intensity,shash_cpd[j,:], ri_threshold)\n",
    "                    clim_pr_ri[j] = model_diagnostics.compute_pr_ri(OBS_DEV_BINS+cons_intensity,obs_dev_cons_hist, ri_threshold)\n",
    "                except:\n",
    "                    shash_pr_ri[j] = np.nan\n",
    "                    clim_pr_ri[j] = np.nan\n",
    "            \n",
    "\n",
    "            # add predictions to the data_frame\n",
    "            df_predictions = df_test.copy()                      \n",
    "            df_predictions[\"shash_median\"] = shash_med\n",
    "            df_predictions[\"shash_mean\"] = shash_mean\n",
    "            df_predictions[\"shash_mode\"] = shash_mode\n",
    "            df_predictions[\"shash_25p\"] = shash_25p\n",
    "            df_predictions[\"shash_75p\"] = shash_75p\n",
    "            df_predictions[\"shash_90p\"] = shash_90p\n",
    "            df_predictions[\"shash_pr_ri\"] = shash_pr_ri\n",
    "            df_predictions[\"clim_pr_ri\"] = clim_pr_ri\n",
    "\n",
    "            df_predictions[\"shash_error\"] = shash_med - onehot_test[:,0]\n",
    "            df_predictions[\"cons_error\"] = 0.0 - onehot_test[:,0]\n",
    "            df_predictions[\"shash_improvement\"] = df_predictions[\"cons_error\"].abs() - df_predictions[\"shash_error\"].abs()\n",
    "                \n",
    "            # save the dataframe    \n",
    "            df_predictions.to_csv(metric_filename)"
   ]
  },
  {
   "cell_type": "markdown",
   "metadata": {},
   "source": [
    "## Create one prediction file"
   ]
  },
  {
   "cell_type": "code",
   "execution_count": 5,
   "metadata": {},
   "outputs": [
    {
     "data": {
      "text/html": [
       "<div>\n",
       "<style scoped>\n",
       "    .dataframe tbody tr th:only-of-type {\n",
       "        vertical-align: middle;\n",
       "    }\n",
       "\n",
       "    .dataframe tbody tr th {\n",
       "        vertical-align: top;\n",
       "    }\n",
       "\n",
       "    .dataframe thead th {\n",
       "        text-align: right;\n",
       "    }\n",
       "</style>\n",
       "<table border=\"1\" class=\"dataframe\">\n",
       "  <thead>\n",
       "    <tr style=\"text-align: right;\">\n",
       "      <th></th>\n",
       "      <th>Unnamed: 0</th>\n",
       "      <th>ATCF</th>\n",
       "      <th>Name</th>\n",
       "      <th>year</th>\n",
       "      <th>time</th>\n",
       "      <th>ftime(hr)</th>\n",
       "      <th>VMAX0</th>\n",
       "      <th>NCI</th>\n",
       "      <th>OBDV</th>\n",
       "      <th>DSDV</th>\n",
       "      <th>...</th>\n",
       "      <th>shash_mean</th>\n",
       "      <th>shash_mode</th>\n",
       "      <th>shash_25p</th>\n",
       "      <th>shash_75p</th>\n",
       "      <th>shash_90p</th>\n",
       "      <th>shash_pr_ri</th>\n",
       "      <th>clim_pr_ri</th>\n",
       "      <th>shash_error</th>\n",
       "      <th>cons_error</th>\n",
       "      <th>shash_improvement</th>\n",
       "    </tr>\n",
       "  </thead>\n",
       "  <tbody>\n",
       "    <tr>\n",
       "      <th>0</th>\n",
       "      <td>0</td>\n",
       "      <td>AL05</td>\n",
       "      <td>ERIN</td>\n",
       "      <td>2013</td>\n",
       "      <td>81612</td>\n",
       "      <td>24</td>\n",
       "      <td>35.0</td>\n",
       "      <td>4</td>\n",
       "      <td>1.0</td>\n",
       "      <td>0.0</td>\n",
       "      <td>...</td>\n",
       "      <td>0.754992</td>\n",
       "      <td>-1.0</td>\n",
       "      <td>-3.725732</td>\n",
       "      <td>4.902634</td>\n",
       "      <td>9.252188</td>\n",
       "      <td>0.000017</td>\n",
       "      <td>0.025575</td>\n",
       "      <td>-0.641029</td>\n",
       "      <td>-1.0</td>\n",
       "      <td>0.358971</td>\n",
       "    </tr>\n",
       "    <tr>\n",
       "      <th>1</th>\n",
       "      <td>1</td>\n",
       "      <td>AL05</td>\n",
       "      <td>ERIN</td>\n",
       "      <td>2013</td>\n",
       "      <td>81606</td>\n",
       "      <td>24</td>\n",
       "      <td>35.0</td>\n",
       "      <td>4</td>\n",
       "      <td>3.2</td>\n",
       "      <td>-0.8</td>\n",
       "      <td>...</td>\n",
       "      <td>0.907144</td>\n",
       "      <td>-1.0</td>\n",
       "      <td>-3.765725</td>\n",
       "      <td>5.243041</td>\n",
       "      <td>9.769232</td>\n",
       "      <td>0.000168</td>\n",
       "      <td>0.035885</td>\n",
       "      <td>-2.693504</td>\n",
       "      <td>-3.2</td>\n",
       "      <td>0.506496</td>\n",
       "    </tr>\n",
       "    <tr>\n",
       "      <th>2</th>\n",
       "      <td>2</td>\n",
       "      <td>AL11</td>\n",
       "      <td>JERRY</td>\n",
       "      <td>2013</td>\n",
       "      <td>92906</td>\n",
       "      <td>24</td>\n",
       "      <td>30.0</td>\n",
       "      <td>4</td>\n",
       "      <td>1.5</td>\n",
       "      <td>1.5</td>\n",
       "      <td>...</td>\n",
       "      <td>2.361799</td>\n",
       "      <td>0.0</td>\n",
       "      <td>-2.148037</td>\n",
       "      <td>6.397905</td>\n",
       "      <td>10.907417</td>\n",
       "      <td>0.000776</td>\n",
       "      <td>0.044761</td>\n",
       "      <td>0.298554</td>\n",
       "      <td>-1.5</td>\n",
       "      <td>1.201446</td>\n",
       "    </tr>\n",
       "    <tr>\n",
       "      <th>3</th>\n",
       "      <td>3</td>\n",
       "      <td>AL07</td>\n",
       "      <td>GABRIELL</td>\n",
       "      <td>2013</td>\n",
       "      <td>91206</td>\n",
       "      <td>24</td>\n",
       "      <td>30.0</td>\n",
       "      <td>4</td>\n",
       "      <td>-3.2</td>\n",
       "      <td>0.8</td>\n",
       "      <td>...</td>\n",
       "      <td>2.550008</td>\n",
       "      <td>1.0</td>\n",
       "      <td>-0.647062</td>\n",
       "      <td>5.330517</td>\n",
       "      <td>8.604132</td>\n",
       "      <td>0.000005</td>\n",
       "      <td>0.040121</td>\n",
       "      <td>5.254734</td>\n",
       "      <td>3.2</td>\n",
       "      <td>-2.054734</td>\n",
       "    </tr>\n",
       "    <tr>\n",
       "      <th>4</th>\n",
       "      <td>4</td>\n",
       "      <td>AL13</td>\n",
       "      <td>LORENZO</td>\n",
       "      <td>2013</td>\n",
       "      <td>102212</td>\n",
       "      <td>24</td>\n",
       "      <td>45.0</td>\n",
       "      <td>4</td>\n",
       "      <td>-6.8</td>\n",
       "      <td>2.2</td>\n",
       "      <td>...</td>\n",
       "      <td>-0.593372</td>\n",
       "      <td>-2.0</td>\n",
       "      <td>-5.074547</td>\n",
       "      <td>3.580937</td>\n",
       "      <td>7.905965</td>\n",
       "      <td>0.000039</td>\n",
       "      <td>0.035885</td>\n",
       "      <td>5.841776</td>\n",
       "      <td>6.8</td>\n",
       "      <td>0.958224</td>\n",
       "    </tr>\n",
       "  </tbody>\n",
       "</table>\n",
       "<p>5 rows × 43 columns</p>\n",
       "</div>"
      ],
      "text/plain": [
       "   Unnamed: 0  ATCF      Name  year    time  ftime(hr)  VMAX0  NCI  OBDV  \\\n",
       "0           0  AL05      ERIN  2013   81612         24   35.0    4   1.0   \n",
       "1           1  AL05      ERIN  2013   81606         24   35.0    4   3.2   \n",
       "2           2  AL11     JERRY  2013   92906         24   30.0    4   1.5   \n",
       "3           3  AL07  GABRIELL  2013   91206         24   30.0    4  -3.2   \n",
       "4           4  AL13   LORENZO  2013  102212         24   45.0    4  -6.8   \n",
       "\n",
       "   DSDV  ...  shash_mean  shash_mode  shash_25p  shash_75p  shash_90p  \\\n",
       "0   0.0  ...    0.754992        -1.0  -3.725732   4.902634   9.252188   \n",
       "1  -0.8  ...    0.907144        -1.0  -3.765725   5.243041   9.769232   \n",
       "2   1.5  ...    2.361799         0.0  -2.148037   6.397905  10.907417   \n",
       "3   0.8  ...    2.550008         1.0  -0.647062   5.330517   8.604132   \n",
       "4   2.2  ...   -0.593372        -2.0  -5.074547   3.580937   7.905965   \n",
       "\n",
       "   shash_pr_ri  clim_pr_ri  shash_error  cons_error  shash_improvement  \n",
       "0     0.000017    0.025575    -0.641029        -1.0           0.358971  \n",
       "1     0.000168    0.035885    -2.693504        -3.2           0.506496  \n",
       "2     0.000776    0.044761     0.298554        -1.5           1.201446  \n",
       "3     0.000005    0.040121     5.254734         3.2          -2.054734  \n",
       "4     0.000039    0.035885     5.841776         6.8           0.958224  \n",
       "\n",
       "[5 rows x 43 columns]"
      ]
     },
     "execution_count": 5,
     "metadata": {},
     "output_type": "execute_result"
    }
   ],
   "source": [
    "df_bestval = pd.read_pickle(PREDICTION_PATH + \"best_shash3_validation_seeds.pickle\")\n",
    "\n",
    "df_bestpred = pd.DataFrame()\n",
    "for exp_name in EXP_NAME_LIST:\n",
    "    settings = experiment_settings.get_settings(exp_name)\n",
    "\n",
    "    # set testing data\n",
    "    if settings[\"test_condition\"] == \"leave-one-out\":\n",
    "        TESTING_YEARS_LIST = np.arange(2013,2022)\n",
    "    elif settings[\"test_condition\"] == \"years\":\n",
    "        TESTING_YEARS_LIST = (np.copy(settings[\"years_test\"]))\n",
    "    else:\n",
    "        raise NotImplementError('no such testing condition')\n",
    "        \n",
    "    for testing_years in TESTING_YEARS_LIST:        \n",
    "        # set testing year\n",
    "        settings[\"years_test\"] = (testing_years,)\n",
    "        \n",
    "        BEST_SEED = None\n",
    "        try:\n",
    "            BEST_SEED = df_bestval[(df_bestval[\"exp_name\"]==exp_name) & (df_bestval[\"testing_years\"] == testing_years)][\"rng_seed\"][0]\n",
    "        except:\n",
    "            print(BEST_SEED)\n",
    "            continue\n",
    "            \n",
    "        for rng_seed in settings['rng_seed_list']:\n",
    "            \n",
    "            if rng_seed !=BEST_SEED:\n",
    "                continue\n",
    "            \n",
    "            settings['rng_seed'] = rng_seed\n",
    "            NETWORK_SEED_LIST = [settings[\"rng_seed\"]]\n",
    "            network_seed = NETWORK_SEED_LIST[0]\n",
    "            tf.random.set_seed(network_seed)  # This sets the global random seed.    \n",
    "            \n",
    "            model_name = (\n",
    "                exp_name + \"_\" + \n",
    "                str(testing_years) + '_' +\n",
    "                settings[\"uncertainty_type\"] + '_' + \n",
    "                f\"network_seed_{network_seed}_rng_seed_{settings['rng_seed']}\"\n",
    "            )\n",
    "            \n",
    "            #----------------------------------------------------------------------------------------------------\n",
    "            # check if the metric filename exists already\n",
    "            metric_filename = PREDICTION_PATH + model_name + '_testingPredictions.csv'              \n",
    "            if (os.path.exists(metric_filename) is False):\n",
    "                continue\n",
    "            pred_data = pd.read_csv(metric_filename)\n",
    "            \n",
    "            df_bestpred = df_bestpred.append(pred_data)\n",
    "            \n",
    "            \n",
    "df_bestpred.to_csv(PREDICTION_PATH + \"shash3_bestValTestingPredictions.csv\")\n",
    "df_bestpred.head()"
   ]
  },
  {
   "cell_type": "code",
   "execution_count": null,
   "metadata": {},
   "outputs": [],
   "source": []
  }
 ],
 "metadata": {
  "kernelspec": {
   "display_name": "Python 3 (ipykernel)",
   "language": "python",
   "name": "python3"
  },
  "language_info": {
   "codemirror_mode": {
    "name": "ipython",
    "version": 3
   },
   "file_extension": ".py",
   "mimetype": "text/x-python",
   "name": "python",
   "nbconvert_exporter": "python",
   "pygments_lexer": "ipython3",
   "version": "3.9.9"
  }
 },
 "nbformat": 4,
 "nbformat_minor": 4
}
